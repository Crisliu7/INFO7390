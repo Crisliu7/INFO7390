{
 "cells": [
  {
   "cell_type": "code",
   "execution_count": 1,
   "metadata": {
    "collapsed": false
   },
   "outputs": [
    {
     "name": "stderr",
     "output_type": "stream",
     "text": [
      "Loading required package: Matrix\n",
      "\n",
      "Attaching package: 'arules'\n",
      "\n",
      "The following objects are masked from 'package:base':\n",
      "\n",
      "    abbreviate, write\n",
      "\n"
     ]
    },
    {
     "data": {
      "text/plain": [
       "transactions in sparse format with\n",
       " 48842 transactions (rows) and\n",
       " 101 items (columns)"
      ]
     },
     "metadata": {},
     "output_type": "display_data"
    }
   ],
   "source": [
    "### Needed package, library and dataset\n",
    "#install.packages(\"arules\")\n",
    "library(arules)\n",
    "require(arules)\n",
    "data(\"AdultUCI\")\n",
    "Adult <- AdultUCI[,-c(1,3,5,11,12,13)]\n",
    "Adult = as(Adult,\"transactions\")\n",
    "Adult"
   ]
  },
  {
   "cell_type": "code",
   "execution_count": 2,
   "metadata": {
    "collapsed": false
   },
   "outputs": [
    {
     "name": "stdout",
     "output_type": "stream",
     "text": [
      "    items                               transactionID\n",
      "[1] {workclass=State-gov,                            \n",
      "     education=Bachelors,                            \n",
      "     marital-status=Never-married,                   \n",
      "     occupation=Adm-clerical,                        \n",
      "     relationship=Not-in-family,                     \n",
      "     race=White,                                     \n",
      "     sex=Male,                                       \n",
      "     native-country=United-States,                   \n",
      "     income=small}                                  1\n",
      "[2] {workclass=Self-emp-not-inc,                     \n",
      "     education=Bachelors,                            \n",
      "     marital-status=Married-civ-spouse,              \n",
      "     occupation=Exec-managerial,                     \n",
      "     relationship=Husband,                           \n",
      "     race=White,                                     \n",
      "     sex=Male,                                       \n",
      "     native-country=United-States,                   \n",
      "     income=small}                                  2\n",
      "[3] {workclass=Private,                              \n",
      "     education=HS-grad,                              \n",
      "     marital-status=Divorced,                        \n",
      "     occupation=Handlers-cleaners,                   \n",
      "     relationship=Not-in-family,                     \n",
      "     race=White,                                     \n",
      "     sex=Male,                                       \n",
      "     native-country=United-States,                   \n",
      "     income=small}                                  3\n",
      "[4] {workclass=Private,                              \n",
      "     education=11th,                                 \n",
      "     marital-status=Married-civ-spouse,              \n",
      "     occupation=Handlers-cleaners,                   \n",
      "     relationship=Husband,                           \n",
      "     race=Black,                                     \n",
      "     sex=Male,                                       \n",
      "     native-country=United-States,                   \n",
      "     income=small}                                  4\n",
      "[5] {workclass=Private,                              \n",
      "     education=Bachelors,                            \n",
      "     marital-status=Married-civ-spouse,              \n",
      "     occupation=Prof-specialty,                      \n",
      "     relationship=Wife,                              \n",
      "     race=Black,                                     \n",
      "     sex=Female,                                     \n",
      "     native-country=Cuba,                            \n",
      "     income=small}                                  5\n"
     ]
    },
    {
     "data": {
      "image/png": "[encoded data removed]",
      "text/plain": [
       "plot without title"
      ]
     },
     "metadata": {},
     "output_type": "display_data"
    },
    {
     "data": {
      "image/png": "[encoded data removed]",
      "text/plain": [
       "plot without title"
      ]
     },
     "metadata": {},
     "output_type": "display_data"
    }
   ],
   "source": [
    "#### Association rules\n",
    "inspect(Adult[1:5,]) # First 5 rows\n",
    "itemFrequencyPlot(Adult,support=0.5) # Items having at least support of 0.5\n",
    "itemFrequencyPlot(Adult,topN=5) # Top 5 support items\n"
   ]
  },
  {
   "cell_type": "code",
   "execution_count": 3,
   "metadata": {
    "collapsed": false
   },
   "outputs": [
    {
     "name": "stdout",
     "output_type": "stream",
     "text": [
      "Apriori\n",
      "\n",
      "Parameter specification:\n",
      " confidence minval smax arem  aval originalSupport maxtime support minlen\n",
      "        0.8    0.1    1 none FALSE            TRUE       5     0.1      1\n",
      " maxlen target   ext\n",
      "     10  rules FALSE\n",
      "\n",
      "Algorithmic control:\n",
      " filter tree heap memopt load sort verbose\n",
      "    0.1 TRUE TRUE  FALSE TRUE    2    TRUE\n",
      "\n",
      "Absolute minimum support count: 4884 \n",
      "\n",
      "set item appearances ...[0 item(s)] done [0.00s].\n",
      "set transactions ...[101 item(s), 48842 transaction(s)] done [0.06s].\n",
      "sorting and recoding items ... [23 item(s)] done [0.02s].\n",
      "creating transaction tree ... done [0.08s].\n",
      "checking subsets of size 1 2 3 4 5 6 done [0.02s].\n",
      "writing ... [467 rule(s)] done [0.00s].\n",
      "creating S4 object  ... done [0.01s].\n"
     ]
    },
    {
     "data": {
      "text/plain": [
       "set of 467 rules "
      ]
     },
     "metadata": {},
     "output_type": "display_data"
    },
    {
     "name": "stdout",
     "output_type": "stream",
     "text": [
      "Apriori\n",
      "\n",
      "Parameter specification:\n",
      " confidence minval smax arem  aval originalSupport maxtime support minlen\n",
      "        0.5    0.1    1 none FALSE            TRUE       5     0.5      2\n",
      " maxlen target   ext\n",
      "     10  rules FALSE\n",
      "\n",
      "Algorithmic control:\n",
      " filter tree heap memopt load sort verbose\n",
      "    0.1 TRUE TRUE  FALSE TRUE    2    TRUE\n",
      "\n",
      "Absolute minimum support count: 24421 \n",
      "\n",
      "set item appearances ...[0 item(s)] done [0.00s].\n",
      "set transactions ...[101 item(s), 48842 transaction(s)] done [0.08s].\n",
      "sorting and recoding items ... [5 item(s)] done [0.00s].\n",
      "creating transaction tree ... done [0.06s].\n",
      "checking subsets of size 1 2 3 done [0.00s].\n",
      "writing ... [16 rule(s)] done [0.00s].\n",
      "creating S4 object  ... done [0.00s].\n"
     ]
    },
    {
     "data": {
      "text/plain": [
       "set of 16 rules "
      ]
     },
     "metadata": {},
     "output_type": "display_data"
    },
    {
     "name": "stdout",
     "output_type": "stream",
     "text": [
      "    lhs                               rhs                            support  \n",
      "[1] {sex=Male}                     => {race=White}                   0.5883256\n",
      "[2] {race=White}                   => {sex=Male}                     0.5883256\n",
      "[3] {sex=Male}                     => {native-country=United-States} 0.5983170\n",
      "[4] {native-country=United-States} => {sex=Male}                     0.5983170\n",
      "[5] {workclass=Private}            => {race=White}                   0.5942427\n",
      "    confidence lift     \n",
      "[1] 0.8800919  1.0292957\n",
      "[2] 0.6880657  1.0292957\n",
      "[3] 0.8950383  0.9973412\n",
      "[4] 0.6667047  0.9973412\n",
      "[5] 0.8560137  1.0011355\n"
     ]
    }
   ],
   "source": [
    "### Finding rules\n",
    "\n",
    "r1 <- apriori(Adult) # Primary search for rules\n",
    "r1 \n",
    "r2 <- apriori(Adult, parameter=list(support=0.5, confidence=0.5, minlen=2))\n",
    "r2 # Customized search for rules\n",
    "inspect(r2[1:5]) # First 5 rules"
   ]
  },
  {
   "cell_type": "code",
   "execution_count": 7,
   "metadata": {
    "collapsed": false
   },
   "outputs": [
    {
     "name": "stdout",
     "output_type": "stream",
     "text": [
      "   lhs                               rhs                            support  \n",
      "9  {race=White}                   => {native-country=United-States} 0.7881127\n",
      "10 {native-country=United-States} => {race=White}                   0.7881127\n",
      "7  {workclass=Private}            => {native-country=United-States} 0.6171942\n",
      "8  {native-country=United-States} => {workclass=Private}            0.6171942\n",
      "3  {sex=Male}                     => {native-country=United-States} 0.5983170\n",
      "   confidence lift     \n",
      "9  0.9217231  1.0270761\n",
      "10 0.8781940  1.0270761\n",
      "7  0.8890757  0.9906971\n",
      "8  0.6877396  0.9906971\n",
      "3  0.8950383  0.9973412\n",
      "  lhs                               rhs                              support confidence      lift\n",
      "1 {race=White}                   => {native-country=United-States} 0.7881127  0.9217231 1.0270761\n",
      "2 {race=White,                                                                                   \n",
      "   sex=Male}                     => {native-country=United-States} 0.5415421  0.9204803 1.0256912\n",
      "3 {workclass=Private,                                                                            \n",
      "   race=White}                   => {native-country=United-States} 0.5433848  0.9144157 1.0189334\n",
      "4 {sex=Male,                                                                                     \n",
      "   native-country=United-States} => {race=White}                   0.5415421  0.9051090 1.0585540\n",
      "5 {sex=Male}                     => {native-country=United-States} 0.5983170  0.8950383 0.9973412\n",
      "  lhs                               rhs            support confidence     lift\n",
      "1 {sex=Male,                                                                  \n",
      "   native-country=United-States} => {race=White} 0.5415421  0.9051090 1.058554\n",
      "2 {workclass=Private,                                                         \n",
      "   native-country=United-States} => {race=White} 0.5433848  0.8804113 1.029669\n",
      "3 {sex=Male}                     => {race=White} 0.5883256  0.8800919 1.029296\n",
      "4 {race=White}                   => {sex=Male}   0.5883256  0.6880657 1.029296\n",
      "5 {race=White,                                                                \n",
      "   native-country=United-States} => {sex=Male}   0.5415421  0.6871379 1.027908\n"
     ]
    }
   ],
   "source": [
    "### Sorting rules\n",
    "inspect(sort(r2, by=\"support\")[1:5]) # Sorting rules by support(Top 5)\n",
    "inspect(sort(r2, by=\"confidence\")[1:5]) # Sorting rules by confidence(Top 5)\n",
    "inspect(sort(r2, by=\"lift\")[1:5]) # Sorting rules by lift(Top 5)"
   ]
  },
  {
   "cell_type": "code",
   "execution_count": 8,
   "metadata": {
    "collapsed": false
   },
   "outputs": [
    {
     "name": "stdout",
     "output_type": "stream",
     "text": [
      "   lhs                               rhs                            support  \n",
      "9  {race=White}                   => {native-country=United-States} 0.7881127\n",
      "10 {native-country=United-States} => {race=White}                   0.7881127\n",
      "7  {workclass=Private}            => {native-country=United-States} 0.6171942\n",
      "8  {native-country=United-States} => {workclass=Private}            0.6171942\n",
      "3  {sex=Male}                     => {native-country=United-States} 0.5983170\n",
      "   confidence lift     \n",
      "9  0.9217231  1.0270761\n",
      "10 0.8781940  1.0270761\n",
      "7  0.8890757  0.9906971\n",
      "8  0.6877396  0.9906971\n",
      "3  0.8950383  0.9973412\n",
      "  lhs                               rhs                              support confidence      lift\n",
      "1 {race=White}                   => {native-country=United-States} 0.7881127  0.9217231 1.0270761\n",
      "2 {race=White,                                                                                   \n",
      "   sex=Male}                     => {native-country=United-States} 0.5415421  0.9204803 1.0256912\n",
      "3 {workclass=Private,                                                                            \n",
      "   race=White}                   => {native-country=United-States} 0.5433848  0.9144157 1.0189334\n",
      "4 {sex=Male,                                                                                     \n",
      "   native-country=United-States} => {race=White}                   0.5415421  0.9051090 1.0585540\n",
      "5 {sex=Male}                     => {native-country=United-States} 0.5983170  0.8950383 0.9973412\n",
      "  lhs                               rhs            support confidence     lift\n",
      "1 {sex=Male,                                                                  \n",
      "   native-country=United-States} => {race=White} 0.5415421  0.9051090 1.058554\n",
      "2 {workclass=Private,                                                         \n",
      "   native-country=United-States} => {race=White} 0.5433848  0.8804113 1.029669\n",
      "3 {sex=Male}                     => {race=White} 0.5883256  0.8800919 1.029296\n",
      "4 {race=White}                   => {sex=Male}   0.5883256  0.6880657 1.029296\n",
      "5 {race=White,                                                                \n",
      "   native-country=United-States} => {sex=Male}   0.5415421  0.6871379 1.027908\n"
     ]
    }
   ],
   "source": [
    "### Sorting rules\n",
    "inspect(sort(r2, by=\"support\")[1:5]) # Sorting rules by support(Top 5)\n",
    "inspect(sort(r2, by=\"confidence\")[1:5]) # Sorting rules by confidence(Top 5)\n",
    "inspect(sort(r2, by=\"lift\")[1:5]) # Sorting rules by lift(Top 5)"
   ]
  },
  {
   "cell_type": "code",
   "execution_count": 4,
   "metadata": {
    "collapsed": false
   },
   "outputs": [
    {
     "name": "stdout",
     "output_type": "stream",
     "text": [
      "Apriori\n",
      "\n",
      "Parameter specification:\n",
      " confidence minval smax arem  aval originalSupport maxtime support minlen\n",
      "        0.5    0.1    1 none FALSE            TRUE       5     0.4      2\n",
      " maxlen target   ext\n",
      "     10  rules FALSE\n",
      "\n",
      "Algorithmic control:\n",
      " filter tree heap memopt load sort verbose\n",
      "    0.1 TRUE TRUE  FALSE TRUE    2    TRUE\n",
      "\n",
      "Absolute minimum support count: 19536 \n",
      "\n",
      "set item appearances ...[2 item(s)] done [0.00s].\n",
      "set transactions ...[101 item(s), 48842 transaction(s)] done [0.08s].\n",
      "sorting and recoding items ... [7 item(s)] done [0.00s].\n",
      "creating transaction tree ... done [0.06s].\n",
      "checking subsets of size 1 2 3 4 done [0.00s].\n",
      "writing ... [10 rule(s)] done [0.00s].\n",
      "creating S4 object  ... done [0.01s].\n",
      "    lhs                                    rhs          support confidence     lift\n",
      "[1] {relationship=Husband}              => {sex=Male} 0.4036485  0.9999493 1.495851\n",
      "[2] {marital-status=Married-civ-spouse,                                            \n",
      "     relationship=Husband}              => {sex=Male} 0.4034028  0.9999492 1.495851\n",
      "[3] {marital-status=Married-civ-spouse} => {sex=Male} 0.4074157  0.8891818 1.330151\n",
      "[4] {race=White}                        => {sex=Male} 0.5883256  0.6880657 1.029296\n",
      "[5] {race=White,                                                                   \n",
      "     native-country=United-States}      => {sex=Male} 0.5415421  0.6871379 1.027908\n"
     ]
    },
    {
     "name": "stderr",
     "output_type": "stream",
     "text": [
      "Loading required package: grid\n",
      "Warning message:\n",
      "\"failed to assign NativeSymbolInfo for lhs since lhs is already defined in the 'lazyeval' namespace\"Warning message:\n",
      "\"failed to assign NativeSymbolInfo for rhs since rhs is already defined in the 'lazyeval' namespace\""
     ]
    },
    {
     "data": {
      "image/png": "[encoded data removed]",
      "text/plain": [
       "plot without title"
      ]
     },
     "metadata": {},
     "output_type": "display_data"
    }
   ],
   "source": [
    "### Limit rules\n",
    "r3 <- apriori(Adult,parameter = list(minlen=2, support=0.4, confidence=0.5),\n",
    "                 appearance = list(rhs=c(\"sex=Male\", \"income=small\"),default=\"lhs\"))\n",
    "inspect(sort(r3, by=\"lift\")[1:5])\n",
    "\n",
    "### Plotting rules\n",
    "#install.packages(\"arulesViz\")\n",
    "library(arulesViz)\n",
    "plot(r3)"
   ]
  },
  {
   "cell_type": "code",
   "execution_count": null,
   "metadata": {
    "collapsed": true
   },
   "outputs": [],
   "source": []
  }
 ],
 "metadata": {
  "kernelspec": {
   "display_name": "R",
   "language": "R",
   "name": "ir"
  },
  "language_info": {
   "codemirror_mode": "r",
   "file_extension": ".r",
   "mimetype": "text/x-r-source",
   "name": "R",
   "pygments_lexer": "r",
   "version": "3.2.5"
  }
 },
 "nbformat": 4,
 "nbformat_minor": 0
}
