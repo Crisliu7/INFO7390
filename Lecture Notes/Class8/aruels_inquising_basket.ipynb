{
 "cells": [
  {
   "cell_type": "code",
   "execution_count": 7,
   "metadata": {
    "collapsed": false
   },
   "outputs": [],
   "source": [
    "import Orange  # Needed package\n",
    "import Orange.data"
   ]
  },
  {
   "cell_type": "code",
   "execution_count": 8,
   "metadata": {
    "collapsed": true
   },
   "outputs": [],
   "source": [
    "data = Orange.data.Table(\"inquisition.basket\") # Orange data object for association rules"
   ]
  },
  {
   "cell_type": "code",
   "execution_count": 34,
   "metadata": {
    "collapsed": true
   },
   "outputs": [],
   "source": [
    "rules = Orange.associate.AssociationRulesSparseInducer(data, confidence=.8) # Default support is at least 0.3 \n",
    "                                                                            # and confidence greater than 0.8"
   ]
  },
  {
   "cell_type": "code",
   "execution_count": 35,
   "metadata": {
    "collapsed": false
   },
   "outputs": [
    {
     "name": "stdout",
     "output_type": "stream",
     "text": [
      " supp    conf\n",
      "0.300   1.000   amongst -> our\n",
      "0.300   1.000   efficiency -> ruthless\n",
      "0.300   1.000   ruthless -> efficiency\n",
      "0.300   1.000   efficiency -> ruthless are\n",
      "0.300   1.000   efficiency ruthless -> are\n",
      "0.300   1.000   efficiency are -> ruthless\n",
      "0.300   1.000   ruthless -> efficiency are\n",
      "0.300   1.000   ruthless are -> efficiency\n",
      "0.300   1.000   efficiency -> ruthless are fear\n",
      "0.300   1.000   efficiency ruthless -> are fear\n"
     ]
    }
   ],
   "source": [
    "print \"%5s   %5s\" % (\"supp\", \"conf\") # Customized rules\n",
    "for r in rules[:10]:\n",
    "    print \"%5.3f   %5.3f   %s\" % (r.support, r.confidence, r)"
   ]
  },
  {
   "cell_type": "code",
   "execution_count": 46,
   "metadata": {
    "collapsed": false
   },
   "outputs": [],
   "source": [
    "rules = Orange.associate.AssociationRulesSparseInducer(data, support = 0.5, confidence=0.8) # Support is at least 0.5\n",
    "                                                                                            # and confidence greater than 0.8"
   ]
  },
  {
   "cell_type": "code",
   "execution_count": 48,
   "metadata": {
    "collapsed": false
   },
   "outputs": [
    {
     "name": "stdout",
     "output_type": "stream",
     "text": [
      " supp    conf\n",
      "0.500   1.000   fear -> surprise\n",
      "0.500   1.000   surprise -> fear\n",
      "0.500   1.000   fear -> surprise our\n",
      "0.500   1.000   fear surprise -> our\n",
      "0.500   1.000   fear our -> surprise\n",
      "0.500   1.000   surprise -> fear our\n",
      "0.500   1.000   surprise our -> fear\n",
      "0.500   1.000   fear -> our\n",
      "0.500   1.000   surprise -> our\n"
     ]
    }
   ],
   "source": [
    "print \"%5s   %5s\" % (\"supp\", \"conf\") # Customized rules\n",
    "for r in rules[:10]:\n",
    "    print \"%5.3f   %5.3f   %s\" % (r.support, r.confidence, r)"
   ]
  }
 ],
 "metadata": {
  "kernelspec": {
   "display_name": "Python 2",
   "language": "python",
   "name": "python2"
  },
  "language_info": {
   "codemirror_mode": {
    "name": "ipython",
    "version": 2
   },
   "file_extension": ".py",
   "mimetype": "text/x-python",
   "name": "python",
   "nbconvert_exporter": "python",
   "pygments_lexer": "ipython2",
   "version": "2.7.10"
  }
 },
 "nbformat": 4,
 "nbformat_minor": 0
}
