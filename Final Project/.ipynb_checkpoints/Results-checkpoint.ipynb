{
 "cells": [
  {
   "cell_type": "code",
   "execution_count": null,
   "metadata": {},
   "outputs": [],
   "source": []
  },
  {
   "cell_type": "code",
   "execution_count": null,
   "metadata": {},
   "outputs": [],
   "source": []
  },
  {
   "cell_type": "code",
   "execution_count": null,
   "metadata": {},
   "outputs": [],
   "source": []
  },
  {
   "cell_type": "code",
   "execution_count": 1,
   "metadata": {},
   "outputs": [],
   "source": [
    "no_nlp = \\\n",
    "{\n",
    "    'Group Mean(Brand/Cate)':0.7095, \\\n",
    "    'Group Mean(Brand and Cate)':0.6096, \\\n",
    "    'Group Mean(All four)':0.5785, \\\n",
    "    'random forest':0.6021, \\\n",
    "    'Ridge(sag)':0.7890, \\\n",
    "    'Ridge(lsqr)':0.8132, \\\n",
    "    'Bag of Words(5 epochs)':0.4528, \\\n",
    "    'Bag of Words(10 epochs)':0.4393, \\\n",
    "    'Word Embedding(2D)':0.4393, \\\n",
    "    'TF-IDF(5D)':0.4393\n",
    " }"
   ]
  },
  {
   "cell_type": "code",
   "execution_count": 2,
   "metadata": {},
   "outputs": [
    {
     "data": {
      "text/plain": [
       "{'Bag of Words(10 epochs)': 0.4393,\n",
       " 'Bag of Words(5 epochs)': 0.4528,\n",
       " 'Group Mean(All four)': 0.5785,\n",
       " 'Group Mean(Brand and Cate)': 0.6096,\n",
       " 'Group Mean(Brand/Cate)': 0.7095,\n",
       " 'Ridge(lsqr)': 0.8132,\n",
       " 'Ridge(sag)': 0.789,\n",
       " 'TF-IDF(5D)': 0.4393,\n",
       " 'Word Embedding(2D)': 0.4393,\n",
       " 'random forest': 0.6021}"
      ]
     },
     "execution_count": 2,
     "metadata": {},
     "output_type": "execute_result"
    }
   ],
   "source": [
    "no_nlp"
   ]
  },
  {
   "cell_type": "code",
   "execution_count": null,
   "metadata": {},
   "outputs": [],
   "source": []
  }
 ],
 "metadata": {
  "kernelspec": {
   "display_name": "Python 3",
   "language": "python",
   "name": "python3"
  },
  "language_info": {
   "codemirror_mode": {
    "name": "ipython",
    "version": 3
   },
   "file_extension": ".py",
   "mimetype": "text/x-python",
   "name": "python",
   "nbconvert_exporter": "python",
   "pygments_lexer": "ipython3",
   "version": "3.6.3"
  }
 },
 "nbformat": 4,
 "nbformat_minor": 2
}
