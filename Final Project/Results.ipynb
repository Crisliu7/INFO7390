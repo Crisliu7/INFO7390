{
 "cells": [
  {
   "cell_type": "code",
   "execution_count": 17,
   "metadata": {},
   "outputs": [],
   "source": [
    "no_nlp = \\\n",
    "{\n",
    "    'Group Mean':0.5785, \\\n",
    "    'random forest':0.6021, \\\n",
    "    'Ridge(sag)':0.7891, \\\n",
    "    'Ridge(lsqr)':0.8132\n",
    " }"
   ]
  },
  {
   "cell_type": "code",
   "execution_count": 18,
   "metadata": {},
   "outputs": [
    {
     "data": {
      "text/plain": [
       "{'Group Mean': 0.5785,\n",
       " 'Ridge(lsqr)': 0.8132,\n",
       " 'Ridge(sag)': 0.7891,\n",
       " 'random forest': 0.6021}"
      ]
     },
     "execution_count": 18,
     "metadata": {},
     "output_type": "execute_result"
    }
   ],
   "source": [
    "no_nlp"
   ]
  },
  {
   "cell_type": "code",
   "execution_count": 14,
   "metadata": {},
   "outputs": [],
   "source": [
    "nlp = \\\n",
    "{\n",
    "    'random forest':0.5558, \\\n",
    "    'Ridge(sag)':0.7739, \\\n",
    "    'Bag of Words(5 epochs)':0.4528, \\\n",
    "    'Bag of Words(10 epochs)':0.4393, \\\n",
    "    'Word Embedding(2D)':0.7211, \\\n",
    "    'TF-IDF(2D)':0.6237\n",
    " }"
   ]
  },
  {
   "cell_type": "code",
   "execution_count": 5,
   "metadata": {},
   "outputs": [
    {
     "data": {
      "text/plain": [
       "{'Bag of Words(10 epochs)': 0.4393,\n",
       " 'Bag of Words(5 epochs)': 0.4528,\n",
       " 'Ridge(sag)': 0.7739,\n",
       " 'TF-IDF(5D)': 0.4393,\n",
       " 'Word Embedding(2D)': 0.4393,\n",
       " 'random forest': 0.5558}"
      ]
     },
     "execution_count": 5,
     "metadata": {},
     "output_type": "execute_result"
    }
   ],
   "source": [
    "nlp"
   ]
  },
  {
   "cell_type": "code",
   "execution_count": null,
   "metadata": {},
   "outputs": [],
   "source": []
  }
 ],
 "metadata": {
  "kernelspec": {
   "display_name": "Python 3",
   "language": "python",
   "name": "python3"
  },
  "language_info": {
   "codemirror_mode": {
    "name": "ipython",
    "version": 3
   },
   "file_extension": ".py",
   "mimetype": "text/x-python",
   "name": "python",
   "nbconvert_exporter": "python",
   "pygments_lexer": "ipython3",
   "version": "3.6.3"
  }
 },
 "nbformat": 4,
 "nbformat_minor": 2
}
