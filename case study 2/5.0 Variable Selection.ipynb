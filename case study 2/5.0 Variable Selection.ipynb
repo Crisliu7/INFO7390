{
 "cells": [
  {
   "cell_type": "code",
   "execution_count": 2,
   "metadata": {},
   "outputs": [],
   "source": [
    "library(ggplot2)\n",
    "library(dplyr)\n",
    "library(caret)\n",
    "library(Boruta)"
   ]
  },
  {
   "cell_type": "code",
   "execution_count": 3,
   "metadata": {},
   "outputs": [],
   "source": [
    "setwd(\"~/Documents/INFO7390 Data Science/case study 2\")\n",
    "x <- read.csv(\"./training set/loandata_2.csv\")"
   ]
  },
  {
   "cell_type": "code",
   "execution_count": 4,
   "metadata": {
    "scrolled": false
   },
   "outputs": [
    {
     "name": "stdout",
     "output_type": "stream",
     "text": [
      "'data.frame':\t1524098 obs. of  80 variables:\n",
      " $ loan_amnt                     : int  5000 2500 2400 10000 3000 5000 7000 3000 5600 5375 ...\n",
      " $ funded_amnt                   : int  5000 2500 2400 10000 3000 5000 7000 3000 5600 5375 ...\n",
      " $ funded_amnt_inv               : num  4975 2500 2400 10000 3000 ...\n",
      " $ term                          : Factor w/ 3 levels \"\",\" 36 months\",..: 2 3 2 2 3 2 3 2 3 3 ...\n",
      " $ int_rate                      : Factor w/ 618 levels \"\",\"  5.32%\",\"  5.42%\",..: 118 300 325 219 185 47 325 422 494 185 ...\n",
      " $ installment                   : num  162.9 59.8 84.3 339.3 67.8 ...\n",
      " $ grade                         : Factor w/ 8 levels \"\",\"A\",\"B\",\"C\",..: 3 4 4 4 3 2 4 6 7 3 ...\n",
      " $ sub_grade                     : Factor w/ 36 levels \"\",\"A1\",\"A2\",\"A3\",..: 8 15 16 12 11 5 16 22 28 11 ...\n",
      " $ emp_title                     : Factor w/ 416454 levels \"\",\" \",\" \\tAdv Mtr Proj Fld Rep\",..: 1 312957 1 13427 394061 398589 344730 237369 1 359930 ...\n",
      " $ emp_length                    : Factor w/ 13 levels \"\",\"< 1 year\",..: 4 2 4 4 3 6 11 12 7 2 ...\n",
      " $ home_ownership                : Factor w/ 7 levels \"\",\"ANY\",\"MORTGAGE\",..: 7 7 7 7 7 7 7 7 6 7 ...\n",
      " $ annual_inc                    : num  24000 30000 12252 49200 80000 ...\n",
      " $ verification_status           : Factor w/ 4 levels \"\",\"Not Verified\",..: 4 3 2 3 3 3 2 3 3 4 ...\n",
      " $ issue_d                       : Factor w/ 122 levels \"\",\"Apr-2008\",..: 26 26 26 26 26 26 26 26 26 26 ...\n",
      " $ loan_status                   : Factor w/ 10 levels \"\",\"Charged Off\",..: 7 2 7 7 7 7 7 7 2 2 ...\n",
      " $ purpose                       : Factor w/ 15 levels \"\",\"car\",\"credit_card\",..: 3 2 13 11 11 15 4 2 13 11 ...\n",
      " $ title                         : Factor w/ 63157 levels \"\",\"\\tcredit_card\",..: 10498 4975 52510 50884 50277 42605 36957 7263 24375 6112 ...\n",
      " $ zip_code                      : Factor w/ 950 levels \"\",\"007xx\",\"008xx\",..: 821 301 582 868 923 814 272 851 909 740 ...\n",
      " $ region                        : Factor w/ 52 levels \"\",\"AK\",\"AL\",\"AR\",..: 5 12 16 6 39 5 29 6 6 45 ...\n",
      " $ dti                           : num  27.65 1 8.72 20 17.94 ...\n",
      " $ delinq_2yrs                   : int  0 0 0 0 0 0 0 0 0 0 ...\n",
      " $ earliest_cr_line              : Factor w/ 728 levels \"\",\"Apr-1955\",..: 278 43 598 221 289 601 358 300 48 719 ...\n",
      " $ inq_last_6mths                : int  1 5 2 1 0 3 1 2 2 0 ...\n",
      " $ mths_since_last_delinq        : int  NA NA NA 35 38 NA NA NA NA NA ...\n",
      " $ open_acc                      : int  3 3 2 10 15 9 7 4 11 2 ...\n",
      " $ pub_rec                       : int  0 0 0 0 0 0 0 0 0 0 ...\n",
      " $ revol_util                    : Factor w/ 1400 levels \"\",\"0.01%\",\"0.03%\",..: 1222 1292 1385 482 873 555 1241 1260 614 659 ...\n",
      " $ total_acc                     : int  9 4 10 37 38 12 11 4 13 3 ...\n",
      " $ initial_list_status           : Factor w/ 3 levels \"\",\"f\",\"w\": 2 2 2 2 2 2 2 2 2 2 ...\n",
      " $ out_prncp                     : num  0 0 0 0 0 0 0 0 0 0 ...\n",
      " $ out_prncp_inv                 : num  0 0 0 0 0 0 0 0 0 0 ...\n",
      " $ total_pymnt                   : num  5863 1015 3006 12232 4067 ...\n",
      " $ total_pymnt_inv               : num  5834 1015 3006 12232 4067 ...\n",
      " $ total_rec_prncp               : num  5000 456 2400 10000 3000 ...\n",
      " $ total_rec_int                 : num  863 435 606 2215 1067 ...\n",
      " $ last_pymnt_amnt               : num  171.6 119.7 649.9 357.5 67.3 ...\n",
      " $ next_pymnt_d                  : Factor w/ 103 levels \"\",\"Apr-2008\",..: 1 1 1 1 1 1 1 1 1 1 ...\n",
      " $ last_credit_pull_d            : Factor w/ 126 levels \"\",\"Apr-2009\",..: 115 114 73 9 51 41 125 29 114 31 ...\n",
      " $ tot_cur_bal                   : int  NA NA NA NA NA NA NA NA NA NA ...\n",
      " $ open_acc_6m                   : int  NA NA NA NA NA NA NA NA NA NA ...\n",
      " $ open_act_il                   : int  NA NA NA NA NA NA NA NA NA NA ...\n",
      " $ open_il_12m                   : int  NA NA NA NA NA NA NA NA NA NA ...\n",
      " $ open_il_24m                   : int  NA NA NA NA NA NA NA NA NA NA ...\n",
      " $ mths_since_rcnt_il            : int  NA NA NA NA NA NA NA NA NA NA ...\n",
      " $ il_util                       : int  NA NA NA NA NA NA NA NA NA NA ...\n",
      " $ open_rv_12m                   : int  NA NA NA NA NA NA NA NA NA NA ...\n",
      " $ open_rv_24m                   : int  NA NA NA NA NA NA NA NA NA NA ...\n",
      " $ all_util                      : int  NA NA NA NA NA NA NA NA NA NA ...\n",
      " $ total_rev_hi_lim              : int  NA NA NA NA NA NA NA NA NA NA ...\n",
      " $ inq_fi                        : int  NA NA NA NA NA NA NA NA NA NA ...\n",
      " $ total_cu_tl                   : int  NA NA NA NA NA NA NA NA NA NA ...\n",
      " $ inq_last_12m                  : int  NA NA NA NA NA NA NA NA NA NA ...\n",
      " $ acc_open_past_24mths          : int  NA NA NA NA NA NA NA NA NA NA ...\n",
      " $ avg_cur_bal                   : int  NA NA NA NA NA NA NA NA NA NA ...\n",
      " $ bc_util                       : num  NA NA NA NA NA NA NA NA NA NA ...\n",
      " $ mo_sin_old_il_acct            : int  NA NA NA NA NA NA NA NA NA NA ...\n",
      " $ mo_sin_old_rev_tl_op          : int  NA NA NA NA NA NA NA NA NA NA ...\n",
      " $ mo_sin_rcnt_rev_tl_op         : int  NA NA NA NA NA NA NA NA NA NA ...\n",
      " $ mo_sin_rcnt_tl                : int  NA NA NA NA NA NA NA NA NA NA ...\n",
      " $ mort_acc                      : int  NA NA NA NA NA NA NA NA NA NA ...\n",
      " $ mths_since_recent_bc          : int  NA NA NA NA NA NA NA NA NA NA ...\n",
      " $ mths_since_recent_inq         : int  NA NA NA NA NA NA NA NA NA NA ...\n",
      " $ mths_since_recent_revol_delinq: int  NA NA NA NA NA NA NA NA NA NA ...\n",
      " $ num_accts_ever_120_pd         : int  NA NA NA NA NA NA NA NA NA NA ...\n",
      " $ num_actv_bc_tl                : int  NA NA NA NA NA NA NA NA NA NA ...\n",
      " $ num_actv_rev_tl               : int  NA NA NA NA NA NA NA NA NA NA ...\n",
      " $ num_bc_sats                   : int  NA NA NA NA NA NA NA NA NA NA ...\n",
      " $ num_bc_tl                     : int  NA NA NA NA NA NA NA NA NA NA ...\n",
      " $ num_il_tl                     : int  NA NA NA NA NA NA NA NA NA NA ...\n",
      " $ num_op_rev_tl                 : int  NA NA NA NA NA NA NA NA NA NA ...\n",
      " $ num_rev_accts                 : int  NA NA NA NA NA NA NA NA NA NA ...\n",
      " $ num_rev_tl_bal_gt_0           : int  NA NA NA NA NA NA NA NA NA NA ...\n",
      " $ num_sats                      : int  NA NA NA NA NA NA NA NA NA NA ...\n",
      " $ num_tl_op_past_12m            : int  NA NA NA NA NA NA NA NA NA NA ...\n",
      " $ percent_bc_gt_75              : num  NA NA NA NA NA NA NA NA NA NA ...\n",
      " $ pub_rec_bankruptcies          : int  0 0 0 0 0 0 0 0 0 0 ...\n",
      " $ tot_hi_cred_lim               : int  NA NA NA NA NA NA NA NA NA NA ...\n",
      " $ total_bal_ex_mort             : int  NA NA NA NA NA NA NA NA NA NA ...\n",
      " $ total_bc_limit                : int  NA NA NA NA NA NA NA NA NA NA ...\n",
      " $ total_il_high_credit_limit    : int  NA NA NA NA NA NA NA NA NA NA ...\n"
     ]
    }
   ],
   "source": [
    "str(x)"
   ]
  },
  {
   "cell_type": "code",
   "execution_count": 42,
   "metadata": {},
   "outputs": [],
   "source": [
    "x[x == \"\"] <- NA"
   ]
  },
  {
   "cell_type": "code",
   "execution_count": 43,
   "metadata": {},
   "outputs": [],
   "source": [
    "x <- x[complete.cases(x),]"
   ]
  },
  {
   "cell_type": "code",
   "execution_count": 44,
   "metadata": {},
   "outputs": [],
   "source": [
    "convert <- c(4,5,7:11,13:19,22,27,29,37,38)"
   ]
  },
  {
   "cell_type": "code",
   "execution_count": 45,
   "metadata": {},
   "outputs": [],
   "source": [
    "x[,convert] <- data.frame(apply(x[convert], 2, as.factor))"
   ]
  },
  {
   "cell_type": "code",
   "execution_count": 46,
   "metadata": {},
   "outputs": [
    {
     "data": {
      "text/html": [
       "<ol class=list-inline>\n",
       "\t<li>3429</li>\n",
       "\t<li>80</li>\n",
       "</ol>\n"
      ],
      "text/latex": [
       "\\begin{enumerate*}\n",
       "\\item 3429\n",
       "\\item 80\n",
       "\\end{enumerate*}\n"
      ],
      "text/markdown": [
       "1. 3429\n",
       "2. 80\n",
       "\n",
       "\n"
      ],
      "text/plain": [
       "[1] 3429   80"
      ]
     },
     "metadata": {},
     "output_type": "display_data"
    }
   ],
   "source": [
    "dim(x)"
   ]
  },
  {
   "cell_type": "code",
   "execution_count": 47,
   "metadata": {
    "scrolled": true
   },
   "outputs": [
    {
     "name": "stderr",
     "output_type": "stream",
     "text": [
      " 1. run of importance source...\n",
      " 2. run of importance source...\n",
      " 3. run of importance source...\n",
      " 4. run of importance source...\n",
      " 5. run of importance source...\n",
      " 6. run of importance source...\n",
      " 7. run of importance source...\n",
      " 8. run of importance source...\n",
      " 9. run of importance source...\n",
      " 10. run of importance source...\n",
      " 11. run of importance source...\n",
      " 12. run of importance source...\n",
      " 13. run of importance source...\n",
      "After 13 iterations, +6.6 mins: \n",
      " confirmed 19 attributes: all_util, bc_util, funded_amnt, funded_amnt_inv, grade and 14 more;\n",
      " rejected 29 attributes: delinq_2yrs, earliest_cr_line, emp_length, emp_title, home_ownership and 24 more;\n",
      " still have 31 attributes left.\n",
      "\n",
      " 14. run of importance source...\n",
      " 15. run of importance source...\n",
      " 16. run of importance source...\n",
      " 17. run of importance source...\n",
      " 18. run of importance source...\n",
      "After 18 iterations, +8.6 mins: \n",
      " confirmed 2 attributes: percent_bc_gt_75, revol_util;\n",
      " rejected 4 attributes: loan_status, num_bc_tl, num_sats, open_rv_24m;\n",
      " still have 25 attributes left.\n",
      "\n",
      " 19. run of importance source...\n",
      " 20. run of importance source...\n",
      " 21. run of importance source...\n",
      "After 21 iterations, +9.7 mins: \n",
      " rejected 3 attributes: mo_sin_rcnt_rev_tl_op, mort_acc, region;\n",
      " still have 22 attributes left.\n",
      "\n",
      " 22. run of importance source...\n",
      " 23. run of importance source...\n",
      " 24. run of importance source...\n",
      " 25. run of importance source...\n",
      "After 25 iterations, +11 mins: \n",
      " rejected 1 attribute: avg_cur_bal;\n",
      " still have 21 attributes left.\n",
      "\n",
      " 26. run of importance source...\n",
      " 27. run of importance source...\n",
      " 28. run of importance source...\n",
      "After 28 iterations, +12 mins: \n",
      " confirmed 1 attribute: annual_inc;\n",
      " rejected 2 attributes: acc_open_past_24mths, num_op_rev_tl;\n",
      " still have 18 attributes left.\n",
      "\n",
      " 29. run of importance source...\n",
      " 30. run of importance source...\n",
      " 31. run of importance source...\n",
      "After 31 iterations, +13 mins: \n",
      " rejected 1 attribute: total_acc;\n",
      " still have 17 attributes left.\n",
      "\n",
      " 32. run of importance source...\n",
      " 33. run of importance source...\n",
      " 34. run of importance source...\n",
      "After 34 iterations, +14 mins: \n",
      " rejected 1 attribute: open_il_24m;\n",
      " still have 16 attributes left.\n",
      "\n",
      " 35. run of importance source...\n",
      " 36. run of importance source...\n",
      " 37. run of importance source...\n",
      "After 37 iterations, +15 mins: \n",
      " rejected 1 attribute: title;\n",
      " still have 15 attributes left.\n",
      "\n",
      " 38. run of importance source...\n",
      " 39. run of importance source...\n",
      " 40. run of importance source...\n",
      "After 40 iterations, +17 mins: \n",
      " rejected 1 attribute: initial_list_status;\n",
      " still have 14 attributes left.\n",
      "\n",
      " 41. run of importance source...\n",
      " 42. run of importance source...\n",
      " 43. run of importance source...\n",
      "After 43 iterations, +18 mins: \n",
      " rejected 1 attribute: mths_since_recent_inq;\n",
      " still have 13 attributes left.\n",
      "\n",
      " 44. run of importance source...\n",
      " 45. run of importance source...\n",
      " 46. run of importance source...\n",
      " 47. run of importance source...\n",
      " 48. run of importance source...\n",
      " 49. run of importance source...\n",
      " 50. run of importance source...\n",
      " 51. run of importance source...\n",
      " 52. run of importance source...\n",
      " 53. run of importance source...\n",
      " 54. run of importance source...\n",
      " 55. run of importance source...\n",
      " 56. run of importance source...\n",
      " 57. run of importance source...\n",
      " 58. run of importance source...\n",
      " 59. run of importance source...\n",
      " 60. run of importance source...\n",
      " 61. run of importance source...\n",
      " 62. run of importance source...\n",
      " 63. run of importance source...\n",
      " 64. run of importance source...\n",
      " 65. run of importance source...\n",
      " 66. run of importance source...\n",
      " 67. run of importance source...\n",
      " 68. run of importance source...\n",
      " 69. run of importance source...\n",
      " 70. run of importance source...\n",
      " 71. run of importance source...\n",
      " 72. run of importance source...\n",
      " 73. run of importance source...\n",
      " 74. run of importance source...\n",
      " 75. run of importance source...\n",
      " 76. run of importance source...\n",
      " 77. run of importance source...\n",
      " 78. run of importance source...\n",
      " 79. run of importance source...\n",
      " 80. run of importance source...\n",
      " 81. run of importance source...\n",
      " 82. run of importance source...\n",
      "After 82 iterations, +32 mins: \n",
      " confirmed 2 attributes: dti, inq_last_12m;\n",
      " still have 11 attributes left.\n",
      "\n",
      " 83. run of importance source...\n",
      " 84. run of importance source...\n",
      " 85. run of importance source...\n",
      " 86. run of importance source...\n",
      " 87. run of importance source...\n",
      " 88. run of importance source...\n",
      " 89. run of importance source...\n",
      " 90. run of importance source...\n",
      " 91. run of importance source...\n",
      " 92. run of importance source...\n",
      "After 92 iterations, +35 mins: \n",
      " confirmed 1 attribute: mths_since_rcnt_il;\n",
      " still have 10 attributes left.\n",
      "\n",
      " 93. run of importance source...\n",
      " 94. run of importance source...\n",
      " 95. run of importance source...\n",
      " 96. run of importance source...\n",
      " 97. run of importance source...\n",
      " 98. run of importance source...\n",
      " 99. run of importance source...\n"
     ]
    },
    {
     "name": "stdout",
     "output_type": "stream",
     "text": [
      "Boruta performed 99 iterations in 37.96081 mins.\n",
      " 25 attributes confirmed important: all_util, annual_inc, bc_util, dti,\n",
      "funded_amnt and 20 more;\n",
      " 44 attributes confirmed unimportant: acc_open_past_24mths,\n",
      "avg_cur_bal, delinq_2yrs, earliest_cr_line, emp_length and 39 more;\n",
      " 10 tentative attributes left: il_util, inq_last_6mths,\n",
      "mo_sin_old_rev_tl_op, num_bc_sats, num_tl_op_past_12m and 5 more;\n"
     ]
    }
   ],
   "source": [
    "set.seed(123)\n",
    "boruta.train <- Boruta(int_rate~., data=x, doTrace = 2)\n",
    "print(boruta.train)"
   ]
  },
  {
   "cell_type": "code",
   "execution_count": 142,
   "metadata": {},
   "outputs": [
    {
     "data": {
      "image/png": "[encoded data removed]",
      "text/plain": [
       "plot without title"
      ]
     },
     "metadata": {},
     "output_type": "display_data"
    }
   ],
   "source": [
    "plot(boruta.train, xlim=c(45,82), xlab = \"\", xaxt = \"n\")\n",
    "lz<-lapply(1:ncol(boruta.train$ImpHistory),function(i)\n",
    "    boruta.train$ImpHistory[is.finite(boruta.train$ImpHistory[,i]),i])\n",
    "names(lz) <- colnames(boruta.train$ImpHistory)\n",
    "Labels <- sort(sapply(lz,median))\n",
    "axis(side = 1,las=2,labels = names(Labels),\n",
    "     at = 1:ncol(boruta.train$ImpHistory), cex.axis = 0.7)"
   ]
  },
  {
   "cell_type": "code",
   "execution_count": 75,
   "metadata": {},
   "outputs": [
    {
     "name": "stdout",
     "output_type": "stream",
     "text": [
      " [1] \"loan_amnt\"           \"funded_amnt\"         \"funded_amnt_inv\"    \n",
      " [4] \"term\"                \"installment\"         \"grade\"              \n",
      " [7] \"sub_grade\"           \"annual_inc\"          \"verification_status\"\n",
      "[10] \"dti\"                 \"revol_util\"          \"out_prncp\"          \n",
      "[13] \"out_prncp_inv\"       \"total_pymnt\"         \"total_pymnt_inv\"    \n",
      "[16] \"total_rec_prncp\"     \"total_rec_int\"       \"last_pymnt_amnt\"    \n",
      "[19] \"mths_since_rcnt_il\"  \"all_util\"            \"total_rev_hi_lim\"   \n",
      "[22] \"inq_last_12m\"        \"bc_util\"             \"percent_bc_gt_75\"   \n",
      "[25] \"total_bc_limit\"     \n"
     ]
    }
   ],
   "source": [
    "confirmed.df <- getSelectedAttributes(boruta.train, withTentative = F)\n",
    "print(confirmed.df)"
   ]
  },
  {
   "cell_type": "code",
   "execution_count": 76,
   "metadata": {
    "scrolled": true
   },
   "outputs": [
    {
     "name": "stdout",
     "output_type": "stream",
     "text": [
      "                                   meanImp   medianImp      minImp     maxImp\n",
      "loan_amnt                      10.44148861 10.63684396  7.65394484 13.0198183\n",
      "funded_amnt                    10.38511942 10.52131353  7.49041594 12.0143284\n",
      "funded_amnt_inv                10.71197290 10.86414366  8.11233678 12.9692779\n",
      "term                           11.63932518 11.65205818  9.50394227 13.4926712\n",
      "installment                    13.53139092 13.81627260 10.45099117 15.3911538\n",
      "grade                          45.78487570 46.45809103 37.94472685 50.2476506\n",
      "sub_grade                      55.60831937 56.82440416 40.73313381 62.0381819\n",
      "emp_title                      -0.93041480 -0.70845315 -2.31542137  0.7374412\n",
      "emp_length                     -0.28435484 -0.14842542 -2.47562009  1.3707962\n",
      "home_ownership                  0.83227563  1.07512775 -1.22686443  2.8662064\n",
      "annual_inc                      4.57677631  4.58666858  0.99338849  6.9955475\n",
      "verification_status             9.97159500 10.05462684  6.65055093 12.0946041\n",
      "issue_d                         0.00000000  0.00000000  0.00000000  0.0000000\n",
      "loan_status                     0.93412517  0.78553203 -1.00350534  2.8289603\n",
      "purpose                         2.53733667  2.48183170  0.33228670  5.1346710\n",
      "title                           1.66397019  1.73135820 -0.38170234  3.3474027\n",
      "zip_code                       -0.09575218 -0.34667303 -1.92918398  1.2343151\n",
      "region                          0.30483967  0.07825059 -1.08514859  2.8463476\n",
      "dti                             2.87037914  2.84369640  0.71818308  5.2229199\n",
      "delinq_2yrs                     0.07916582  0.10054369 -1.64904931  1.8887488\n",
      "earliest_cr_line               -0.64802567 -0.72467797 -2.20168718  1.3504764\n",
      "inq_last_6mths                  2.10924469  2.14804222  0.03348023  4.1192189\n",
      "mths_since_last_delinq         -0.26894575 -0.66548502 -1.93913170  2.1603542\n",
      "open_acc                        0.36618406  0.56988417 -1.58658508  1.4588237\n",
      "pub_rec                         0.39857623  0.46479865 -1.91390856  2.0274909\n",
      "revol_util                      4.63774677  4.74345397  2.69877810  6.5453151\n",
      "total_acc                       0.70205012  0.46106394 -1.44151230  3.7570371\n",
      "initial_list_status             1.08982909  1.23331438 -1.20782375  2.9166316\n",
      "out_prncp                      13.81476513 13.93654746 10.43813507 15.6877766\n",
      "out_prncp_inv                  13.70590947 13.89342325 10.75506534 15.7547957\n",
      "total_pymnt                    11.51950740 11.71670147  7.89313833 13.6249474\n",
      "total_pymnt_inv                11.48409834 11.54914297  7.97625446 13.9417585\n",
      "total_rec_prncp                15.14381928 15.39567874 11.18352472 17.7671856\n",
      "total_rec_int                  25.37125385 25.62700992 21.28944343 27.7673320\n",
      "last_pymnt_amnt                13.03872486 13.29953815  9.00424247 15.5064044\n",
      "next_pymnt_d                   -0.07700012  0.00000000 -1.00100150  0.0000000\n",
      "last_credit_pull_d             -0.74324084 -1.00100150 -2.00758472  1.0010015\n",
      "tot_cur_bal                     1.99102180  1.95096966 -1.29645444  4.4654039\n",
      "open_acc_6m                     1.79253889  1.82190617 -0.76548462  4.2844212\n",
      "open_act_il                     0.30496458  0.27924422 -1.28983351  1.5164517\n",
      "open_il_12m                     0.90964639  1.02592433 -0.93520957  2.2923245\n",
      "open_il_24m                     0.89758470  0.72582172 -1.22917466  3.4222282\n",
      "mths_since_rcnt_il              2.65570434  2.61307214 -0.10228492  4.9859810\n",
      "il_util                         2.31594885  2.30210561 -0.42611727  5.0167747\n",
      "open_rv_12m                     0.42802983  0.23994225 -1.43545387  2.5793008\n",
      "open_rv_24m                     0.51115022  0.45703326 -0.92012714  2.6191109\n",
      "all_util                        5.86133681  5.96986621  4.24009268  7.5557031\n",
      "total_rev_hi_lim                7.44326305  7.38922444  4.70424080  9.8785284\n",
      "inq_fi                          0.20383377  0.26923422 -1.51739726  1.6722713\n",
      "total_cu_tl                    -0.20876051 -0.35776995 -1.87390181  1.3396735\n",
      "inq_last_12m                    2.82795487  2.77325588  0.59433389  4.9911317\n",
      "acc_open_past_24mths            1.15343537  1.27085268 -0.85960778  2.8031093\n",
      "avg_cur_bal                     1.23123977  1.15434590 -0.43058252  2.7470908\n",
      "bc_util                         5.52670849  5.47772281  3.51802799  8.1528255\n",
      "mo_sin_old_il_acct              0.08775376 -0.01362295 -1.91372022  2.2247554\n",
      "mo_sin_old_rev_tl_op            2.66467772  2.54341411  0.28376141  5.2396279\n",
      "mo_sin_rcnt_rev_tl_op           1.00790626  0.79978258 -1.06927357  3.8440251\n",
      "mo_sin_rcnt_tl                  0.97529098  0.79498352 -0.43780218  2.2615131\n",
      "mort_acc                        0.02546207  0.04439103 -2.03025970  3.7325103\n",
      "mths_since_recent_bc            0.24619219 -0.21068688 -1.45848564  2.0187035\n",
      "mths_since_recent_inq           1.64703723  1.44049737 -0.28311293  3.7408701\n",
      "mths_since_recent_revol_delinq -0.27607370 -0.23374332 -1.56691920  1.1925337\n",
      "num_accts_ever_120_pd          -0.03382939 -0.40625462 -1.07697338  1.7774201\n",
      "num_actv_bc_tl                  0.54265993  0.74968204 -1.57256597  2.1439623\n",
      "num_actv_rev_tl                 0.36537689  0.30894180 -1.92827707  2.2217895\n",
      "num_bc_sats                     2.00791855  1.96982174 -0.12211896  5.1130425\n",
      "num_bc_tl                       1.00123781  0.82292989 -1.33040327  3.0227794\n",
      "num_il_tl                       0.64125456  0.53412137 -1.24204390  2.0347074\n",
      "num_op_rev_tl                   1.27991369  1.17236328 -0.92173812  4.1130135\n",
      "num_rev_accts                   0.60310640  0.78286481 -0.88167077  1.7796794\n",
      "num_rev_tl_bal_gt_0             0.07357751  0.33204010 -1.70642909  1.5474710\n",
      "num_sats                        0.52207915  0.74495705 -2.44933566  2.5201119\n",
      "num_tl_op_past_12m              2.59462589  2.47971387  0.19452570  5.2814881\n",
      "percent_bc_gt_75                4.17796548  4.17516360  1.60847637  7.2428790\n",
      "pub_rec_bankruptcies           -0.23616405 -0.09884725 -1.62338487  0.8852928\n",
      "tot_hi_cred_lim                 2.86628196  2.76941327  0.42966600  5.5457248\n",
      "total_bal_ex_mort               1.98504472  2.05937749 -0.30797135  4.2783487\n",
      "total_bc_limit                  8.79543190  8.72305209  6.63040108 11.0022487\n",
      "total_il_high_credit_limit      0.23041819  0.46034105 -1.33534402  1.4645187\n",
      "                                 normHits  decision\n",
      "loan_amnt                      1.00000000 Confirmed\n",
      "funded_amnt                    1.00000000 Confirmed\n",
      "funded_amnt_inv                1.00000000 Confirmed\n",
      "term                           1.00000000 Confirmed\n",
      "installment                    1.00000000 Confirmed\n",
      "grade                          1.00000000 Confirmed\n",
      "sub_grade                      1.00000000 Confirmed\n",
      "emp_title                      0.00000000  Rejected\n",
      "emp_length                     0.00000000  Rejected\n",
      "home_ownership                 0.00000000  Rejected\n",
      "annual_inc                     0.95959596 Confirmed\n",
      "verification_status            1.00000000 Confirmed\n",
      "issue_d                        0.00000000  Rejected\n",
      "loan_status                    0.01010101  Rejected\n",
      "purpose                        0.58585859 Tentative\n",
      "title                          0.07070707  Rejected\n",
      "zip_code                       0.00000000  Rejected\n",
      "region                         0.02020202  Rejected\n",
      "dti                            0.73737374 Confirmed\n",
      "delinq_2yrs                    0.00000000  Rejected\n",
      "earliest_cr_line               0.00000000  Rejected\n",
      "inq_last_6mths                 0.45454545 Tentative\n",
      "mths_since_last_delinq         0.00000000  Rejected\n",
      "open_acc                       0.00000000  Rejected\n",
      "pub_rec                        0.00000000  Rejected\n",
      "revol_util                     0.95959596 Confirmed\n",
      "total_acc                      0.05050505  Rejected\n",
      "initial_list_status            0.08080808  Rejected\n",
      "out_prncp                      1.00000000 Confirmed\n",
      "out_prncp_inv                  1.00000000 Confirmed\n",
      "total_pymnt                    1.00000000 Confirmed\n",
      "total_pymnt_inv                1.00000000 Confirmed\n",
      "total_rec_prncp                1.00000000 Confirmed\n",
      "total_rec_int                  1.00000000 Confirmed\n",
      "last_pymnt_amnt                1.00000000 Confirmed\n",
      "next_pymnt_d                   0.00000000  Rejected\n",
      "last_credit_pull_d             0.00000000  Rejected\n",
      "tot_cur_bal                    0.39393939 Tentative\n",
      "open_acc_6m                    0.35353535 Tentative\n",
      "open_act_il                    0.00000000  Rejected\n",
      "open_il_12m                    0.00000000  Rejected\n",
      "open_il_24m                    0.06060606  Rejected\n",
      "mths_since_rcnt_il             0.70707071 Confirmed\n",
      "il_util                        0.47474747 Tentative\n",
      "open_rv_12m                    0.00000000  Rejected\n",
      "open_rv_24m                    0.01010101  Rejected\n",
      "all_util                       1.00000000 Confirmed\n",
      "total_rev_hi_lim               1.00000000 Confirmed\n",
      "inq_fi                         0.00000000  Rejected\n",
      "total_cu_tl                    0.00000000  Rejected\n",
      "inq_last_12m                   0.66666667 Confirmed\n",
      "acc_open_past_24mths           0.04040404  Rejected\n",
      "avg_cur_bal                    0.03030303  Rejected\n",
      "bc_util                        1.00000000 Confirmed\n",
      "mo_sin_old_il_acct             0.00000000  Rejected\n",
      "mo_sin_old_rev_tl_op           0.61616162 Tentative\n",
      "mo_sin_rcnt_rev_tl_op          0.02020202  Rejected\n",
      "mo_sin_rcnt_tl                 0.00000000  Rejected\n",
      "mort_acc                       0.02020202  Rejected\n",
      "mths_since_recent_bc           0.00000000  Rejected\n",
      "mths_since_recent_inq          0.09090909  Rejected\n",
      "mths_since_recent_revol_delinq 0.00000000  Rejected\n",
      "num_accts_ever_120_pd          0.00000000  Rejected\n",
      "num_actv_bc_tl                 0.00000000  Rejected\n",
      "num_actv_rev_tl                0.00000000  Rejected\n",
      "num_bc_sats                    0.39393939 Tentative\n",
      "num_bc_tl                      0.01010101  Rejected\n",
      "num_il_tl                      0.00000000  Rejected\n",
      "num_op_rev_tl                  0.04040404  Rejected\n",
      "num_rev_accts                  0.00000000  Rejected\n",
      "num_rev_tl_bal_gt_0            0.00000000  Rejected\n",
      "num_sats                       0.01010101  Rejected\n",
      "num_tl_op_past_12m             0.55555556 Tentative\n",
      "percent_bc_gt_75               0.95959596 Confirmed\n",
      "pub_rec_bankruptcies           0.00000000  Rejected\n",
      "tot_hi_cred_lim                0.67676768 Tentative\n",
      "total_bal_ex_mort              0.35353535 Tentative\n",
      "total_bc_limit                 1.00000000 Confirmed\n",
      "total_il_high_credit_limit     0.00000000  Rejected\n"
     ]
    }
   ],
   "source": [
    "boruta.df <- attStats(boruta.train)\n",
    "print(boruta.df)"
   ]
  },
  {
   "cell_type": "code",
   "execution_count": 101,
   "metadata": {},
   "outputs": [
    {
     "name": "stdout",
     "output_type": "stream",
     "text": [
      "'data.frame':\t3429 obs. of  25 variables:\n",
      " $ loan_amnt          : int  18000 17475 8000 3600 16800 10500 16000 2500 15700 35000 ...\n",
      " $ funded_amnt        : int  18000 17475 8000 3600 16800 10500 16000 2500 15700 35000 ...\n",
      " $ funded_amnt_inv    : num  18000 17475 8000 3600 16800 ...\n",
      " $ term               : Factor w/ 2 levels \" 36 months\",\" 60 months\": 1 1 1 1 2 1 2 1 2 2 ...\n",
      " $ installment        : num  560 597 261 123 381 ...\n",
      " $ grade              : Factor w/ 7 levels \"A\",\"B\",\"C\",\"D\",..: 1 3 2 3 3 4 3 4 4 3 ...\n",
      " $ sub_grade          : Factor w/ 33 levels \"A1\",\"A2\",\"A3\",..: 4 14 9 14 12 16 14 18 17 11 ...\n",
      " $ annual_inc         : num  75000 39750 45000 55000 118000 ...\n",
      " $ verification_status: Factor w/ 3 levels \"Not Verified\",..: 1 1 1 1 1 2 3 3 1 2 ...\n",
      " $ dti                : num  25.65 23.58 21.23 5.91 34.29 ...\n",
      " $ revol_util         : Factor w/ 909 levels \"0.1%\",\"0.2%\",..: 237 442 259 199 148 703 302 216 573 178 ...\n",
      " $ out_prncp          : num  7483 9172 3648 1684 12096 ...\n",
      " $ out_prncp_inv      : num  7483 9172 3648 1684 12096 ...\n",
      " $ total_pymnt        : num  12257 11408 5471 2577 7976 ...\n",
      " $ total_pymnt_inv    : num  12257 11408 5471 2577 7976 ...\n",
      " $ total_rec_prncp    : num  10517 8303 4352 1916 4704 ...\n",
      " $ total_rec_int      : num  1740 3104 1119 660 3271 ...\n",
      " $ last_pymnt_amnt    : num  560 597 261 123 381 ...\n",
      " $ mths_since_rcnt_il : int  6 18 13 21 13 9 17 2 6 28 ...\n",
      " $ all_util           : int  65 64 49 34 53 82 66 87 88 40 ...\n",
      " $ total_rev_hi_lim   : int  23400 21000 31400 9300 32600 10700 5700 2500 23800 52200 ...\n",
      " $ inq_last_12m       : int  3 3 0 4 1 6 3 5 1 0 ...\n",
      " $ bc_util            : num  38 52.3 79.5 37.2 62.3 77.4 44.6 6.9 87.7 35.6 ...\n",
      " $ percent_bc_gt_75   : num  50 0 100 0 25 50 25 0 75 33.3 ...\n",
      " $ total_bc_limit     : int  20400 21000 5800 2400 12600 10700 5100 700 12300 26800 ...\n"
     ]
    }
   ],
   "source": [
    "select.co <- x[,confirmed.df]\n",
    "str(select.co)"
   ]
  },
  {
   "cell_type": "code",
   "execution_count": 224,
   "metadata": {},
   "outputs": [],
   "source": [
    "co.numeric <- c(1:3,5,8,10,12:25)\n",
    "co.factor <- c(4,6,7,9,11)\n",
    "select.factor <- select[,co.factor]\n",
    "select.numeric <- select[,co.numeric]\n",
    "select.numeric[select.numeric == \"\"] <- NA\n",
    "select.numeric <- select.numeric[complete.cases(select.numeric),]"
   ]
  },
  {
   "cell_type": "code",
   "execution_count": 225,
   "metadata": {},
   "outputs": [],
   "source": [
    "descrCorr = cor(select.numeric)\n",
    "highCorr = findCorrelation(descrCorr, 0.50)\n",
    "select.nocorr = select.numeric[, -highCorr]\n",
    "# findLinearCombos(newdata)"
   ]
  },
  {
   "cell_type": "code",
   "execution_count": 228,
   "metadata": {},
   "outputs": [
    {
     "data": {
      "text/html": [
       "<table>\n",
       "<thead><tr><th scope=col>annual_inc</th><th scope=col>dti</th><th scope=col>last_pymnt_amnt</th><th scope=col>mths_since_rcnt_il</th><th scope=col>all_util</th><th scope=col>total_rev_hi_lim</th><th scope=col>inq_last_12m</th><th scope=col>percent_bc_gt_75</th><th scope=col>term</th><th scope=col>grade</th><th scope=col>sub_grade</th><th scope=col>verification_status</th><th scope=col>revol_util</th></tr></thead>\n",
       "<tbody>\n",
       "</tbody>\n",
       "</table>\n"
      ],
      "text/latex": [
       "\\begin{tabular}{r|lllllllllllll}\n",
       " annual\\_inc & dti & last\\_pymnt\\_amnt & mths\\_since\\_rcnt\\_il & all\\_util & total\\_rev\\_hi\\_lim & inq\\_last\\_12m & percent\\_bc\\_gt\\_75 & term & grade & sub\\_grade & verification\\_status & revol\\_util\\\\\n",
       "\\hline\n",
       "\\end{tabular}\n"
      ],
      "text/markdown": [
       "\n",
       "annual_inc | dti | last_pymnt_amnt | mths_since_rcnt_il | all_util | total_rev_hi_lim | inq_last_12m | percent_bc_gt_75 | term | grade | sub_grade | verification_status | revol_util | \n",
       "||\n",
       "\n",
       "\n"
      ],
      "text/plain": [
       "     annual_inc dti last_pymnt_amnt mths_since_rcnt_il all_util\n",
       "     total_rev_hi_lim inq_last_12m percent_bc_gt_75 term grade sub_grade\n",
       "     verification_status revol_util"
      ]
     },
     "metadata": {},
     "output_type": "display_data"
    }
   ],
   "source": [
    "features <- merge(select.nocorr[0,],select.factor[0,])\n",
    "features"
   ]
  },
  {
   "cell_type": "code",
   "execution_count": 229,
   "metadata": {},
   "outputs": [],
   "source": [
    "write.csv(features,'./training set/features.csv',row.names=FALSE)"
   ]
  }
 ],
 "metadata": {
  "kernelspec": {
   "display_name": "R",
   "language": "R",
   "name": "ir"
  },
  "language_info": {
   "codemirror_mode": "r",
   "file_extension": ".r",
   "mimetype": "text/x-r-source",
   "name": "R",
   "pygments_lexer": "r",
   "version": "3.4.2"
  }
 },
 "nbformat": 4,
 "nbformat_minor": 2
}
