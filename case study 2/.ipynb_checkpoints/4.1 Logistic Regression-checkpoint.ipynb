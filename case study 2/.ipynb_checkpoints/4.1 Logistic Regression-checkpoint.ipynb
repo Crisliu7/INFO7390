{
 "cells": [
  {
   "cell_type": "code",
   "execution_count": 1,
   "metadata": {
    "scrolled": true
   },
   "outputs": [
    {
     "name": "stderr",
     "output_type": "stream",
     "text": [
      "/usr/local/lib/python3.6/site-packages/sklearn/cross_validation.py:41: DeprecationWarning: This module was deprecated in version 0.18 in favor of the model_selection module into which all the refactored classes and functions are moved. Also note that the interface of the new CV iterators are different from that of this module. This module will be removed in 0.20.\n",
      "  \"This module will be removed in 0.20.\", DeprecationWarning)\n"
     ]
    }
   ],
   "source": [
    "import gc\n",
    "import pandas as pd\n",
    "import numpy as np\n",
    "import matplotlib\n",
    "import matplotlib.pyplot as plt\n",
    "from sklearn.linear_model import LogisticRegression\n",
    "from sklearn.cross_validation import train_test_split,cross_val_score\n",
    "from sklearn.metrics import roc_curve,auc\n",
    "from sklearn.metrics import confusion_matrix"
   ]
  },
  {
   "cell_type": "code",
   "execution_count": 2,
   "metadata": {},
   "outputs": [],
   "source": [
    "ts_l = pd.read_csv(\"./training set/ts_label.csv\")"
   ]
  },
  {
   "cell_type": "code",
   "execution_count": 3,
   "metadata": {},
   "outputs": [],
   "source": [
    "X = ts_l.drop(\"target\", axis = 1)\n",
    "y = ts_l[[\"target\"]] "
   ]
  },
  {
   "cell_type": "code",
   "execution_count": 18,
   "metadata": {
    "scrolled": false
   },
   "outputs": [
    {
     "name": "stderr",
     "output_type": "stream",
     "text": [
      "/usr/local/lib/python3.6/site-packages/sklearn/utils/validation.py:547: DataConversionWarning: A column-vector y was passed when a 1d array was expected. Please change the shape of y to (n_samples, ), for example using ravel().\n",
      "  y = column_or_1d(y, warn=True)\n",
      "/usr/local/lib/python3.6/site-packages/sklearn/linear_model/sag.py:326: ConvergenceWarning: The max_iter was reached which means the coef_ did not converge\n",
      "  \"the coef_ did not converge\", ConvergenceWarning)\n"
     ]
    },
    {
     "data": {
      "image/png": "[encoded data removed]",
      "text/plain": [
       "<matplotlib.figure.Figure at 0x10d4a9e10>"
      ]
     },
     "metadata": {},
     "output_type": "display_data"
    }
   ],
   "source": [
    "pred_list = []\n",
    "solver_list = ['sag', 'newton-cg', 'lbfgs', 'liblinear', 'saga']\n",
    "color = ['b','k','r','y','green']\n",
    "for i in range(1):\n",
    "    \n",
    "    # Traing Test Split\n",
    "    X_train, X_test, y_train, y_test = train_test_split(X, y, train_size=0.7)\n",
    "    \n",
    "    #init classifier object \n",
    "    lr = LogisticRegression(solver = solver_list[i], class_weight = \"balanced\", n_jobs = -1)\n",
    "    lr.fit(X_train, y_train)\n",
    "    \n",
    "    # Prediction\n",
    "    pred = lr.predict_proba(X_test)\n",
    "    \n",
    "    pred_list.append(pred)\n",
    "    \n",
    "#     # Transform prediction into label 0 and 1\n",
    "#     pred = []\n",
    "#     for p in prediction:\n",
    "#         if p[1]<0.5:\n",
    "#             pred.append(0)\n",
    "#         else:\n",
    "#             pred.append(1)\n",
    "    \n",
    "    # ROC\n",
    "    false_positive_rate, recall, thresholds = roc_curve(y_test, pred[:,1])\n",
    "    roc_auc=auc(false_positive_rate,recall)\n",
    "    plt.title('Receiver Operating Characteristic')\n",
    "    plt.plot(figsize=(12,18))\n",
    "    plt.plot(false_positive_rate, recall, color[i], label='solver=%s,AUC=%0.2f' % (solver_list[i],roc_auc))\n",
    "    plt.legend(loc='lower right')\n",
    "    plt.plot([0,1],[0,1],'r--')\n",
    "    plt.xlim([0.0,1.0])\n",
    "    plt.ylim([0.0,1.0])\n",
    "    plt.ylabel('Recall')\n",
    "    plt.xlabel('Fall-out')\n",
    "    \n",
    "plt.show()"
   ]
  },
  {
   "cell_type": "code",
   "execution_count": 21,
   "metadata": {},
   "outputs": [],
   "source": [
    "pred = lr.predict(X_test)"
   ]
  },
  {
   "cell_type": "code",
   "execution_count": 22,
   "metadata": {},
   "outputs": [
    {
     "name": "stdout",
     "output_type": "stream",
     "text": [
      "Accuracy： 0.373972668394 [ 0.99387832  0.99390116]\n"
     ]
    }
   ],
   "source": [
    "#predict score\n",
    "scores = cross_val_score(lr,y_test,pred,cv=2,scoring='precision')\n",
    "print ('Accuracy：', np.mean(pred), scores)"
   ]
  },
  {
   "cell_type": "code",
   "execution_count": 23,
   "metadata": {},
   "outputs": [
    {
     "data": {
      "image/png": "[encoded data removed]",
      "text/plain": [
       "<matplotlib.figure.Figure at 0x115592ba8>"
      ]
     },
     "metadata": {},
     "output_type": "display_data"
    }
   ],
   "source": [
    "# Confusion Matrix\n",
    "confusion_matrix=confusion_matrix(y_test,pred)\n",
    "plt.matshow(confusion_matrix)\n",
    "plt.title('confusion matrices')\n",
    "plt.colorbar()\n",
    "plt.ylabel('actual')\n",
    "plt.xlabel('predict')\n",
    "plt.show()"
   ]
  },
  {
   "cell_type": "code",
   "execution_count": null,
   "metadata": {},
   "outputs": [],
   "source": []
  }
 ],
 "metadata": {
  "kernelspec": {
   "display_name": "Python 3",
   "language": "python",
   "name": "python3"
  },
  "language_info": {
   "codemirror_mode": {
    "name": "ipython",
    "version": 3
   },
   "file_extension": ".py",
   "mimetype": "text/x-python",
   "name": "python",
   "nbconvert_exporter": "python",
   "pygments_lexer": "ipython3",
   "version": "3.6.3"
  }
 },
 "nbformat": 4,
 "nbformat_minor": 2
}
