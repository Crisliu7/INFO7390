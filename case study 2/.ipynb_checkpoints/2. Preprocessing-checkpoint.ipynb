{
 "cells": [
  {
   "cell_type": "code",
   "execution_count": 1,
   "metadata": {},
   "outputs": [],
   "source": [
    "import gc\n",
    "import math\n",
    "import numpy as np\n",
    "import pandas as pd\n",
    "import matplotlib\n",
    "import matplotlib.pyplot as plt\n",
    "pd.set_option('display.max_columns', None)"
   ]
  },
  {
   "cell_type": "code",
   "execution_count": 2,
   "metadata": {},
   "outputs": [
    {
     "name": "stderr",
     "output_type": "stream",
     "text": [
      "/Users/CJL-RMBP/Library/Python/3.6/lib/python/site-packages/IPython/core/interactiveshell.py:2728: DtypeWarning: Columns (36) have mixed types. Specify dtype option on import or set low_memory=False.\n",
      "  interactivity=interactivity, compiler=compiler, result=result)\n"
     ]
    },
    {
     "name": "stdout",
     "output_type": "stream",
     "text": [
      "(1524098, 80)\n"
     ]
    }
   ],
   "source": [
    "# Training set\n",
    "ts_i = pd.read_csv('./training set/loandata_2.csv')\n",
    "print(ts_i.shape)"
   ]
  },
  {
   "cell_type": "code",
   "execution_count": 3,
   "metadata": {},
   "outputs": [
    {
     "name": "stdout",
     "output_type": "stream",
     "text": [
      "(14124451, 9)\n"
     ]
    }
   ],
   "source": [
    "ts_r = pd.read_csv('./training set/rejdata.csv')\n",
    "print(ts_r.shape)"
   ]
  },
  {
   "cell_type": "code",
   "execution_count": 4,
   "metadata": {},
   "outputs": [
    {
     "name": "stderr",
     "output_type": "stream",
     "text": [
      "/Users/CJL-RMBP/Library/Python/3.6/lib/python/site-packages/ipykernel_launcher.py:2: SettingWithCopyWarning: \n",
      "A value is trying to be set on a copy of a slice from a DataFrame.\n",
      "Try using .loc[row_indexer,col_indexer] = value instead\n",
      "\n",
      "See the caveats in the documentation: http://pandas.pydata.org/pandas-docs/stable/indexing.html#indexing-view-versus-copy\n",
      "  \n"
     ]
    },
    {
     "data": {
      "text/html": [
       "<div>\n",
       "<style>\n",
       "    .dataframe thead tr:only-child th {\n",
       "        text-align: right;\n",
       "    }\n",
       "\n",
       "    .dataframe thead th {\n",
       "        text-align: left;\n",
       "    }\n",
       "\n",
       "    .dataframe tbody tr th {\n",
       "        vertical-align: top;\n",
       "    }\n",
       "</style>\n",
       "<table border=\"1\" class=\"dataframe\">\n",
       "  <thead>\n",
       "    <tr style=\"text-align: right;\">\n",
       "      <th></th>\n",
       "      <th>loan_amnt</th>\n",
       "      <th>purpose</th>\n",
       "      <th>dti</th>\n",
       "      <th>emp_length</th>\n",
       "      <th>region</th>\n",
       "      <th>target</th>\n",
       "    </tr>\n",
       "  </thead>\n",
       "  <tbody>\n",
       "    <tr>\n",
       "      <th>0</th>\n",
       "      <td>5000.0</td>\n",
       "      <td>credit_card</td>\n",
       "      <td>27.65</td>\n",
       "      <td>10+ years</td>\n",
       "      <td>AZ</td>\n",
       "      <td>1</td>\n",
       "    </tr>\n",
       "    <tr>\n",
       "      <th>1</th>\n",
       "      <td>2500.0</td>\n",
       "      <td>car</td>\n",
       "      <td>1.00</td>\n",
       "      <td>&lt; 1 year</td>\n",
       "      <td>GA</td>\n",
       "      <td>1</td>\n",
       "    </tr>\n",
       "    <tr>\n",
       "      <th>2</th>\n",
       "      <td>2400.0</td>\n",
       "      <td>small_business</td>\n",
       "      <td>8.72</td>\n",
       "      <td>10+ years</td>\n",
       "      <td>IL</td>\n",
       "      <td>1</td>\n",
       "    </tr>\n",
       "    <tr>\n",
       "      <th>3</th>\n",
       "      <td>10000.0</td>\n",
       "      <td>other</td>\n",
       "      <td>20.00</td>\n",
       "      <td>10+ years</td>\n",
       "      <td>CA</td>\n",
       "      <td>1</td>\n",
       "    </tr>\n",
       "    <tr>\n",
       "      <th>4</th>\n",
       "      <td>3000.0</td>\n",
       "      <td>other</td>\n",
       "      <td>17.94</td>\n",
       "      <td>1 year</td>\n",
       "      <td>OR</td>\n",
       "      <td>1</td>\n",
       "    </tr>\n",
       "  </tbody>\n",
       "</table>\n",
       "</div>"
      ],
      "text/plain": [
       "   loan_amnt         purpose    dti emp_length region  target\n",
       "0     5000.0     credit_card  27.65  10+ years     AZ       1\n",
       "1     2500.0             car   1.00   < 1 year     GA       1\n",
       "2     2400.0  small_business   8.72  10+ years     IL       1\n",
       "3    10000.0           other  20.00  10+ years     CA       1\n",
       "4     3000.0           other  17.94     1 year     OR       1"
      ]
     },
     "execution_count": 4,
     "metadata": {},
     "output_type": "execute_result"
    }
   ],
   "source": [
    "i_select = ts_i[['loan_amnt','purpose','dti','emp_length','region']]\n",
    "i_select['target'] = 1\n",
    "i_select.head()"
   ]
  },
  {
   "cell_type": "code",
   "execution_count": 5,
   "metadata": {},
   "outputs": [
    {
     "name": "stderr",
     "output_type": "stream",
     "text": [
      "/Users/CJL-RMBP/Library/Python/3.6/lib/python/site-packages/ipykernel_launcher.py:3: SettingWithCopyWarning: \n",
      "A value is trying to be set on a copy of a slice from a DataFrame.\n",
      "Try using .loc[row_indexer,col_indexer] = value instead\n",
      "\n",
      "See the caveats in the documentation: http://pandas.pydata.org/pandas-docs/stable/indexing.html#indexing-view-versus-copy\n",
      "  This is separate from the ipykernel package so we can avoid doing imports until\n"
     ]
    },
    {
     "data": {
      "text/html": [
       "<div>\n",
       "<style>\n",
       "    .dataframe thead tr:only-child th {\n",
       "        text-align: right;\n",
       "    }\n",
       "\n",
       "    .dataframe thead th {\n",
       "        text-align: left;\n",
       "    }\n",
       "\n",
       "    .dataframe tbody tr th {\n",
       "        vertical-align: top;\n",
       "    }\n",
       "</style>\n",
       "<table border=\"1\" class=\"dataframe\">\n",
       "  <thead>\n",
       "    <tr style=\"text-align: right;\">\n",
       "      <th></th>\n",
       "      <th>loan_amnt</th>\n",
       "      <th>purpose</th>\n",
       "      <th>dti</th>\n",
       "      <th>emp_length</th>\n",
       "      <th>region</th>\n",
       "      <th>target</th>\n",
       "    </tr>\n",
       "  </thead>\n",
       "  <tbody>\n",
       "    <tr>\n",
       "      <th>0</th>\n",
       "      <td>1000.0</td>\n",
       "      <td>Wedding Covered but No Honeymoon</td>\n",
       "      <td>10%</td>\n",
       "      <td>4 years</td>\n",
       "      <td>NM</td>\n",
       "      <td>0</td>\n",
       "    </tr>\n",
       "    <tr>\n",
       "      <th>1</th>\n",
       "      <td>1000.0</td>\n",
       "      <td>Consolidating Debt</td>\n",
       "      <td>10%</td>\n",
       "      <td>&lt; 1 year</td>\n",
       "      <td>MA</td>\n",
       "      <td>0</td>\n",
       "    </tr>\n",
       "    <tr>\n",
       "      <th>2</th>\n",
       "      <td>11000.0</td>\n",
       "      <td>Want to consolidate my debt</td>\n",
       "      <td>10%</td>\n",
       "      <td>1 year</td>\n",
       "      <td>MD</td>\n",
       "      <td>0</td>\n",
       "    </tr>\n",
       "    <tr>\n",
       "      <th>3</th>\n",
       "      <td>6000.0</td>\n",
       "      <td>waksman</td>\n",
       "      <td>38.64%</td>\n",
       "      <td>&lt; 1 year</td>\n",
       "      <td>MA</td>\n",
       "      <td>0</td>\n",
       "    </tr>\n",
       "    <tr>\n",
       "      <th>4</th>\n",
       "      <td>1500.0</td>\n",
       "      <td>mdrigo</td>\n",
       "      <td>9.43%</td>\n",
       "      <td>&lt; 1 year</td>\n",
       "      <td>MD</td>\n",
       "      <td>0</td>\n",
       "    </tr>\n",
       "  </tbody>\n",
       "</table>\n",
       "</div>"
      ],
      "text/plain": [
       "   loan_amnt                           purpose     dti emp_length region  \\\n",
       "0     1000.0  Wedding Covered but No Honeymoon     10%    4 years     NM   \n",
       "1     1000.0                Consolidating Debt     10%   < 1 year     MA   \n",
       "2    11000.0       Want to consolidate my debt     10%     1 year     MD   \n",
       "3     6000.0                           waksman  38.64%   < 1 year     MA   \n",
       "4     1500.0                            mdrigo   9.43%   < 1 year     MD   \n",
       "\n",
       "   target  \n",
       "0       0  \n",
       "1       0  \n",
       "2       0  \n",
       "3       0  \n",
       "4       0  "
      ]
     },
     "execution_count": 5,
     "metadata": {},
     "output_type": "execute_result"
    }
   ],
   "source": [
    "r_select = ts_r[['Amount Requested','Loan Title','Debt-To-Income Ratio','Employment Length','State']]\n",
    "r_select.columns = ['loan_amnt','purpose','dti','emp_length','region']\n",
    "r_select['target'] = 0\n",
    "r_select.head()"
   ]
  },
  {
   "cell_type": "code",
   "execution_count": 6,
   "metadata": {},
   "outputs": [
    {
     "data": {
      "text/plain": [
       "169"
      ]
     },
     "execution_count": 6,
     "metadata": {},
     "output_type": "execute_result"
    }
   ],
   "source": [
    "import gc\n",
    "del ts_i\n",
    "del ts_r\n",
    "gc.collect()"
   ]
  },
  {
   "cell_type": "code",
   "execution_count": 7,
   "metadata": {},
   "outputs": [
    {
     "name": "stdout",
     "output_type": "stream",
     "text": [
      "(15648549, 6)\n"
     ]
    }
   ],
   "source": [
    "ts = pd.concat([i_select,r_select])\n",
    "print(ts.shape)\n",
    "del i_select\n",
    "del r_select"
   ]
  },
  {
   "cell_type": "code",
   "execution_count": 8,
   "metadata": {},
   "outputs": [
    {
     "data": {
      "text/html": [
       "<div>\n",
       "<style>\n",
       "    .dataframe thead tr:only-child th {\n",
       "        text-align: right;\n",
       "    }\n",
       "\n",
       "    .dataframe thead th {\n",
       "        text-align: left;\n",
       "    }\n",
       "\n",
       "    .dataframe tbody tr th {\n",
       "        vertical-align: top;\n",
       "    }\n",
       "</style>\n",
       "<table border=\"1\" class=\"dataframe\">\n",
       "  <thead>\n",
       "    <tr style=\"text-align: right;\">\n",
       "      <th></th>\n",
       "      <th>loan_amnt</th>\n",
       "      <th>purpose</th>\n",
       "      <th>dti</th>\n",
       "      <th>emp_length</th>\n",
       "      <th>region</th>\n",
       "      <th>target</th>\n",
       "    </tr>\n",
       "  </thead>\n",
       "  <tbody>\n",
       "    <tr>\n",
       "      <th>0</th>\n",
       "      <td>5000.0</td>\n",
       "      <td>credit_card</td>\n",
       "      <td>27.65</td>\n",
       "      <td>10+ years</td>\n",
       "      <td>AZ</td>\n",
       "      <td>1</td>\n",
       "    </tr>\n",
       "    <tr>\n",
       "      <th>1</th>\n",
       "      <td>2500.0</td>\n",
       "      <td>car</td>\n",
       "      <td>1</td>\n",
       "      <td>&lt; 1 year</td>\n",
       "      <td>GA</td>\n",
       "      <td>1</td>\n",
       "    </tr>\n",
       "    <tr>\n",
       "      <th>2</th>\n",
       "      <td>2400.0</td>\n",
       "      <td>small_business</td>\n",
       "      <td>8.72</td>\n",
       "      <td>10+ years</td>\n",
       "      <td>IL</td>\n",
       "      <td>1</td>\n",
       "    </tr>\n",
       "    <tr>\n",
       "      <th>3</th>\n",
       "      <td>10000.0</td>\n",
       "      <td>other</td>\n",
       "      <td>20</td>\n",
       "      <td>10+ years</td>\n",
       "      <td>CA</td>\n",
       "      <td>1</td>\n",
       "    </tr>\n",
       "    <tr>\n",
       "      <th>4</th>\n",
       "      <td>3000.0</td>\n",
       "      <td>other</td>\n",
       "      <td>17.94</td>\n",
       "      <td>1 year</td>\n",
       "      <td>OR</td>\n",
       "      <td>1</td>\n",
       "    </tr>\n",
       "  </tbody>\n",
       "</table>\n",
       "</div>"
      ],
      "text/plain": [
       "   loan_amnt         purpose    dti emp_length region  target\n",
       "0     5000.0     credit_card  27.65  10+ years     AZ       1\n",
       "1     2500.0             car      1   < 1 year     GA       1\n",
       "2     2400.0  small_business   8.72  10+ years     IL       1\n",
       "3    10000.0           other     20  10+ years     CA       1\n",
       "4     3000.0           other  17.94     1 year     OR       1"
      ]
     },
     "execution_count": 8,
     "metadata": {},
     "output_type": "execute_result"
    }
   ],
   "source": [
    "ts.head()"
   ]
  },
  {
   "cell_type": "code",
   "execution_count": 9,
   "metadata": {},
   "outputs": [
    {
     "data": {
      "text/plain": [
       "Debt Consolidation       7485178\n",
       "Other                    2110814\n",
       "Credit Card              1949436\n",
       "Home Improvement         1104722\n",
       "Business                  616732\n",
       "Car                       601011\n",
       "Major Purchase            527297\n",
       "Moving and Relocation     423361\n",
       "Medical Expenses          417496\n",
       "Vacation                  201292\n",
       "WRONG                     149553\n",
       "Renewable Energy           30685\n",
       "Wedding                    20669\n",
       "Personal                    5472\n",
       "Education                   4831\n",
       "Name: purpose, dtype: int64"
      ]
     },
     "execution_count": 9,
     "metadata": {},
     "output_type": "execute_result"
    }
   ],
   "source": [
    "# Preprocessing of 'Purpose'\n",
    "rej = []\n",
    "for i in ts['purpose']:\n",
    "    if (i == 'debt_consolidation') | (i == 'Debt consolidation') | \\\n",
    "       (i == 'Debt Consolidation Loan') | (i == 'debt consolidation') | \\\n",
    "        (i == 'Consolidation') | (i == 'consolidation') | \\\n",
    "        (i == 'consolidate') | (i == 'Consolidation Loan') | \\\n",
    "        (i == 'Debt Consolidation'):\n",
    "        rej.append('Debt Consolidation')\n",
    "    elif (i == 'other') | \\\n",
    "         (i == 'Other'):\n",
    "        rej.append('Other')\n",
    "    elif (i == 'credit_card') | (i == 'Credit card refinancing') | \\\n",
    "         (i == 'Credit Card Refinance ') | (i == 'Credit Card Loan') | \\\n",
    "         (i == 'Credit Card Consolidation') | (i == 'credit card refinance') | \\\n",
    "         (i == 'Credit Card Payoff') | \\\n",
    "         (i == 'Credit Card'):\n",
    "        rej.append('Credit Card')\n",
    "    elif (i == 'Business Loan') | (i == 'Business Line Of Credit') | \\\n",
    "         (i == 'Small Business Loan') | (i == 'business') | \\\n",
    "         (i == 'small_business') | (i == 'small_business') |\\\n",
    "         (i == 'Business'):\n",
    "        rej.append('Business')\n",
    "    elif (i == 'vacation') | \\\n",
    "         (i == 'Vacation'):\n",
    "        rej.append('Vacation')\n",
    "    elif (i == 'home_improvement') | (i == 'house') | \\\n",
    "         (i == 'Home buying') | (i == 'home improvement') | \\\n",
    "         (i == 'Home improvement') | (i == 'Home Improvement Loan') | \\\n",
    "         (i == 'Home Improvement') :\n",
    "        rej.append('Home Improvement')\n",
    "    elif (i == 'car') | (i == 'Car financing') | \\\n",
    "         (i == 'Car'):\n",
    "        rej.append('Car')\n",
    "    elif (i == 'medical') | \\\n",
    "         (i == 'Medical expenses'):\n",
    "        rej.append('Medical Expenses')\n",
    "    elif (i == 'Major purchase') | (i == 'major_purchase'):\n",
    "        rej.append('Major Purchase')\n",
    "    elif (i == 'wedding') | (i == 'Wedding'):\n",
    "        rej.append('Wedding')\n",
    "    elif (i == 'Green lona') | (i == 'renewable_energy'):\n",
    "        rej.append('Renewable Energy')\n",
    "    elif (i == 'Personal') | (i == 'Personal loan') | \\\n",
    "         (i == 'personal') | (i == 'personal loan') | \\\n",
    "         (i == 'Personal Loan'):\n",
    "        rej.append('Personal')\n",
    "    elif (i == 'School') | (i == 'student loan') | \\\n",
    "         (i == 'Student Loan') | (i == 'Educational') | \\\n",
    "         (i == 'School Loan') | (i == 'educational') |\\\n",
    "         (i == 'Education'):\n",
    "        rej.append('Education')\n",
    "    elif (i == 'moving') | \\\n",
    "         (i == 'Moving and relocation'):\n",
    "        rej.append('Moving and Relocation')\n",
    "    elif (i == ' '):\n",
    "        rej.append('WRONG')\n",
    "    else: rej.append('WRONG')\n",
    "ts['purpose'] = rej\n",
    "ts['purpose'].value_counts()"
   ]
  },
  {
   "cell_type": "code",
   "execution_count": 10,
   "metadata": {},
   "outputs": [
    {
     "data": {
      "text/plain": [
       "0.5    11122099\n",
       "5       1919187\n",
       "10       776833\n",
       "0        607783\n",
       "2        242484\n",
       "1        209003\n",
       "3        208714\n",
       "4        154227\n",
       "6        113973\n",
       "8        105158\n",
       "7        102534\n",
       "9         86533\n",
       "0            21\n",
       "Name: emp_length, dtype: int64"
      ]
     },
     "execution_count": 10,
     "metadata": {},
     "output_type": "execute_result"
    }
   ],
   "source": [
    "# Preprocessing of 'emp_length'\n",
    "ts['emp_length'] = ts['emp_length'].fillna(0)\n",
    "year = []\n",
    "for i in ts['emp_length']:\n",
    "    i = str(i)\n",
    "    temp = i.split(' y')\n",
    "    if temp[0] == '10+':\n",
    "        year.append(10)\n",
    "    elif temp[0] == '< 1':\n",
    "        year.append(0.5)\n",
    "    elif temp[0] == 'n/a': \n",
    "        year.append(0)\n",
    "    else: year.append(temp[0].rstrip())\n",
    "ts['emp_length'] = year\n",
    "ts['emp_length'].value_counts()"
   ]
  },
  {
   "cell_type": "code",
   "execution_count": 11,
   "metadata": {
    "collapsed": true
   },
   "outputs": [
    {
     "data": {
      "text/plain": [
       "0.0000        1563309\n",
       "1.0000         126153\n",
       "99.9900         52663\n",
       "0.0120          17188\n",
       "0.0150          14867\n",
       "0.0100          14632\n",
       "0.0200          13312\n",
       "0.0300          12795\n",
       "0.0240          11365\n",
       "0.0060          10538\n",
       "0.0075          10099\n",
       "0.0250           9573\n",
       "0.0600           9495\n",
       "0.0086           9152\n",
       "0.0125           8468\n",
       "0.0360           8033\n",
       "0.1200           7548\n",
       "0.0480           7402\n",
       "0.0067           7155\n",
       "0.0050           7126\n",
       "0.0720           6694\n",
       "0.0960           6530\n",
       "0.0400           6437\n",
       "0.0840           6407\n",
       "0.1440           6346\n",
       "0.0167           6290\n",
       "0.0180           6264\n",
       "0.1080           6249\n",
       "0.1680           6231\n",
       "0.1800           6224\n",
       "               ...   \n",
       "6.6770              1\n",
       "6.1284              1\n",
       "6.2018              1\n",
       "6.6087              1\n",
       "23844.0000          1\n",
       "13.3720             1\n",
       "5.8868              1\n",
       "5.9257              1\n",
       "6.0698              1\n",
       "6.4105              1\n",
       "18.2414             1\n",
       "3.4575              1\n",
       "19.9187             1\n",
       "14.0946             1\n",
       "419.4333            1\n",
       "17.0360             1\n",
       "36.5238             1\n",
       "416.0667            1\n",
       "7.1744              1\n",
       "5.8919              1\n",
       "20.1284             1\n",
       "6.6980              1\n",
       "12.6768             1\n",
       "3.4175              1\n",
       "47.0083             1\n",
       "4.1432              1\n",
       "7.3990              1\n",
       "479.6500            1\n",
       "10.9015             1\n",
       "5.0413              1\n",
       "Name: dti, Length: 96680, dtype: int64"
      ]
     },
     "execution_count": 11,
     "metadata": {},
     "output_type": "execute_result"
    }
   ],
   "source": [
    "# Preprocessing of 'dti'\n",
    "import re\n",
    "ts['dti'] = ts['dti'].fillna(0)\n",
    "dti = []\n",
    "for i in ts['dti']:\n",
    "    i = str(i)\n",
    "    if re.search('%', i):\n",
    "        temp = float(i.rstrip('%'))/100\n",
    "        if temp < 0:\n",
    "            temp = 0\n",
    "        dti.append(temp)\n",
    "    else: \n",
    "        temp = float(i)\n",
    "        if temp < 0:\n",
    "            temp = 0\n",
    "        dti.append(temp)\n",
    "ts['dti'] = dti\n",
    "ts['dti'].value_counts()"
   ]
  },
  {
   "cell_type": "code",
   "execution_count": 12,
   "metadata": {},
   "outputs": [
    {
     "data": {
      "image/png": "[encoded data removed]",
      "text/plain": [
       "<matplotlib.figure.Figure at 0x117c8e908>"
      ]
     },
     "metadata": {},
     "output_type": "display_data"
    }
   ],
   "source": [
    "f, ax = plt.subplots(figsize=(6,3))\n",
    "ax.set_title(\"Box of 'Debt-to-income Ratio'\")\n",
    "color = dict(boxes='DarkGreen', whiskers='DarkOrange', medians='DarkBlue', caps='Gray')\n",
    "ts['dti'].plot.box(color=color, sym='r+')\n",
    "plt.show()"
   ]
  },
  {
   "cell_type": "code",
   "execution_count": 13,
   "metadata": {},
   "outputs": [],
   "source": [
    "# Outliers\n",
    "co = ts['dti'].loc[(ts['dti']>50)]\n",
    "# Replace\n",
    "ts['dti'] = ts[['dti']].replace(co.values, 50)"
   ]
  },
  {
   "cell_type": "code",
   "execution_count": 14,
   "metadata": {},
   "outputs": [
    {
     "data": {
      "image/png": "[encoded data removed]",
      "text/plain": [
       "<matplotlib.figure.Figure at 0x23db27e48>"
      ]
     },
     "metadata": {},
     "output_type": "display_data"
    }
   ],
   "source": [
    "f, ax = plt.subplots(figsize=(6,3))\n",
    "ax.set_title(\"Box of 'Debt-to-income Ratio'\")\n",
    "color = dict(boxes='DarkGreen', whiskers='DarkOrange', medians='DarkBlue', caps='Gray')\n",
    "ts['dti'].plot.box(color=color, sym='r+')\n",
    "plt.show()"
   ]
  },
  {
   "cell_type": "code",
   "execution_count": 15,
   "metadata": {},
   "outputs": [],
   "source": [
    "# Missing Values"
   ]
  },
  {
   "cell_type": "code",
   "execution_count": 16,
   "metadata": {},
   "outputs": [
    {
     "data": {
      "text/plain": [
       "CA    1939813\n",
       "TX    1376483\n",
       "FL    1195732\n",
       "NY    1192821\n",
       "PA     593523\n",
       "GA     583615\n",
       "IL     578395\n",
       "OH     564281\n",
       "NJ     499200\n",
       "NC     485249\n",
       "VA     434404\n",
       "MI     423008\n",
       "MD     336722\n",
       "AZ     329356\n",
       "MA     321785\n",
       "TN     307329\n",
       "WA     286761\n",
       "IN     277257\n",
       "MO     274639\n",
       "CO     274031\n",
       "AL     273377\n",
       "SC     250128\n",
       "LA     236427\n",
       "MN     211728\n",
       "WI     206532\n",
       "CT     196784\n",
       "KY     196412\n",
       "NV     192572\n",
       "OK     171057\n",
       "AR     161831\n",
       "OR     160500\n",
       "MS     132912\n",
       "KS     130845\n",
       "UT     101261\n",
       "NM      92072\n",
       "HI      90452\n",
       "NH      67722\n",
       "RI      64736\n",
       "WV      51724\n",
       "DE      51220\n",
       "NE      49875\n",
       "MT      41037\n",
       "AK      36862\n",
       "ME      32912\n",
       "SD      32518\n",
       "DC      32224\n",
       "VT      30454\n",
       "WY      30085\n",
       "ID      26808\n",
       "ND      20875\n",
       "IA        160\n",
       "Name: region, dtype: int64"
      ]
     },
     "execution_count": 16,
     "metadata": {},
     "output_type": "execute_result"
    }
   ],
   "source": [
    "ts['region'].value_counts()"
   ]
  },
  {
   "cell_type": "code",
   "execution_count": 17,
   "metadata": {},
   "outputs": [],
   "source": [
    "ts['region'] = ts['region'].fillna('CA')\n",
    "ts['purpose'] = ts['purpose'].fillna('WRONG')"
   ]
  },
  {
   "cell_type": "code",
   "execution_count": 18,
   "metadata": {},
   "outputs": [],
   "source": [
    "ts['loan_amnt'] = ts['loan_amnt'].fillna(ts['loan_amnt'].mean())"
   ]
  },
  {
   "cell_type": "code",
   "execution_count": 19,
   "metadata": {},
   "outputs": [
    {
     "data": {
      "text/html": [
       "<div>\n",
       "<style>\n",
       "    .dataframe thead tr:only-child th {\n",
       "        text-align: right;\n",
       "    }\n",
       "\n",
       "    .dataframe thead th {\n",
       "        text-align: left;\n",
       "    }\n",
       "\n",
       "    .dataframe tbody tr th {\n",
       "        vertical-align: top;\n",
       "    }\n",
       "</style>\n",
       "<table border=\"1\" class=\"dataframe\">\n",
       "  <thead>\n",
       "    <tr style=\"text-align: right;\">\n",
       "      <th></th>\n",
       "      <th>column_name</th>\n",
       "      <th>no_missing</th>\n",
       "      <th>missing_ratio</th>\n",
       "    </tr>\n",
       "  </thead>\n",
       "  <tbody>\n",
       "    <tr>\n",
       "      <th>0</th>\n",
       "      <td>loan_amnt</td>\n",
       "      <td>0</td>\n",
       "      <td>0.0</td>\n",
       "    </tr>\n",
       "    <tr>\n",
       "      <th>1</th>\n",
       "      <td>purpose</td>\n",
       "      <td>0</td>\n",
       "      <td>0.0</td>\n",
       "    </tr>\n",
       "    <tr>\n",
       "      <th>2</th>\n",
       "      <td>dti</td>\n",
       "      <td>0</td>\n",
       "      <td>0.0</td>\n",
       "    </tr>\n",
       "    <tr>\n",
       "      <th>3</th>\n",
       "      <td>emp_length</td>\n",
       "      <td>0</td>\n",
       "      <td>0.0</td>\n",
       "    </tr>\n",
       "    <tr>\n",
       "      <th>4</th>\n",
       "      <td>region</td>\n",
       "      <td>0</td>\n",
       "      <td>0.0</td>\n",
       "    </tr>\n",
       "    <tr>\n",
       "      <th>5</th>\n",
       "      <td>target</td>\n",
       "      <td>0</td>\n",
       "      <td>0.0</td>\n",
       "    </tr>\n",
       "  </tbody>\n",
       "</table>\n",
       "</div>"
      ],
      "text/plain": [
       "  column_name  no_missing  missing_ratio\n",
       "0   loan_amnt           0            0.0\n",
       "1     purpose           0            0.0\n",
       "2         dti           0            0.0\n",
       "3  emp_length           0            0.0\n",
       "4      region           0            0.0\n",
       "5      target           0            0.0"
      ]
     },
     "execution_count": 19,
     "metadata": {},
     "output_type": "execute_result"
    }
   ],
   "source": [
    "ts_mv = ts.isnull().sum(axis=0).reset_index()\n",
    "ts_mv.columns = ['column_name', 'no_missing']\n",
    "ts_mv['missing_ratio'] = ts_mv['no_missing'] / ts.shape[0]\n",
    "ts_mv.sort_values(by='no_missing',ascending=True, inplace=True)\n",
    "ts_mv"
   ]
  },
  {
   "cell_type": "code",
   "execution_count": 20,
   "metadata": {},
   "outputs": [],
   "source": [
    "# c = r_select['purpose'].value_counts().reset_index()\n",
    "# c.columns = ['purpose_name', 'no']\n",
    "# c.sort_values(by='no',ascending=True)"
   ]
  },
  {
   "cell_type": "code",
   "execution_count": 21,
   "metadata": {},
   "outputs": [],
   "source": [
    "# iss = []\n",
    "# for i in ts['purpose']:\n",
    "#     if (i == 'debt_consolidation') | (i == 'Debt consolidation') | \\\n",
    "#        (i == 'Debt Consolidation Loan') | (i == 'debt consolidation') | \\\n",
    "#         (i == 'Consolidation') | (i == 'consolidation') | \\\n",
    "#         (i == 'consolidate') | (i == 'Consolidation Loan') | \\\n",
    "#         (i == 'Debt Consolidation'):\n",
    "#         iss.append('Debt Consolidation')\n",
    "#     elif (i == 'other') | \\\n",
    "#          (i == 'Other'):\n",
    "#         iss.append('Other')\n",
    "#     elif (i == 'credit_card') | (i == 'Credit card refinancing') | \\\n",
    "#          (i == 'Credit Card Refinance ') | (i == 'Credit Card Loan') | \\\n",
    "#          (i == 'Credit Card Consolidation') | (i == 'credit card refinance') | \\\n",
    "#          (i == 'Credit Card Payoff') | \\\n",
    "#          (i == 'Credit Card'):\n",
    "#         iss.append('Credit Card')\n",
    "#     elif (i == 'Business Loan') | (i == 'Business Line Of Credit') | \\\n",
    "#          (i == 'Small Business Loan') | (i == 'business') | \\\n",
    "#          (i == 'small_business') | (i == 'small_business') |\\\n",
    "#          (i == 'Business'):\n",
    "#         iss.append('Business')\n",
    "#     elif (i == 'vacation') | \\\n",
    "#          (i == 'Vacation'):\n",
    "#         iss.append('Vacation')\n",
    "#     elif (i == 'home_improvement') | (i == 'house') | \\\n",
    "#          (i == 'Home buying') | (i == 'home improvement') | \\\n",
    "#          (i == 'Home improvement') | (i == 'Home Improvement Loan') | \\\n",
    "#          (i == 'Home Improvement') :\n",
    "#         iss.append('Home Improvement')\n",
    "#     elif (i == 'car') | (i == 'Car financing') | \\\n",
    "#          (i == 'Car'):\n",
    "#         iss.append('Car')\n",
    "#     elif (i == 'medical') | \\\n",
    "#          (i == 'Medical expenses'):\n",
    "#         iss.append('Medical Expenses')\n",
    "#     elif (i == 'Major purchase') | (i == 'major_purchase'):\n",
    "#         iss.append('Major Purchase')\n",
    "#     elif (i == 'wedding') | (i == 'Wedding'):\n",
    "#         iss.append('Wedding')\n",
    "#     elif (i == 'Green lona') | (i == 'renewable_energy'):\n",
    "#         iss.append('Renewable Energy')\n",
    "#     elif (i == 'Personal') | (i == 'Personal loan') | \\\n",
    "#          (i == 'personal') | (i == 'personal loan') | \\\n",
    "#          (i == 'Personal Loan'):\n",
    "#         iss.append('Personal')\n",
    "#     elif (i == 'School') | (i == 'student loan') | \\\n",
    "#          (i == 'Student Loan') | (i == 'Educational') | \\\n",
    "#          (i == 'School Loan') | (i == 'educational') |\\\n",
    "#          (i == 'Education'):\n",
    "#         iss.append('Education')\n",
    "#     elif (i == 'moving') | \\\n",
    "#          (i == 'Moving and relocation'):\n",
    "#         iss.append('Moving and Relocation')\n",
    "#     elif (i == ' '):\n",
    "#         iss.append('WRONG')\n",
    "#     else: iss.append(i)\n",
    "# ts['purpose'] = iss\n",
    "# ts['purpose'].value_counts()"
   ]
  },
  {
   "cell_type": "code",
   "execution_count": 22,
   "metadata": {},
   "outputs": [],
   "source": [
    "# year = []\n",
    "# for i in r_select['emp_length']:\n",
    "#     i = str(i)\n",
    "#     temp = i.split('y')\n",
    "#     if temp[0] == '10+':\n",
    "#         year.append(10)\n",
    "#     elif temp[0] == '< 1':\n",
    "#         year.append(0.5)\n",
    "#     elif temp[0] == 'n/a': \n",
    "#         year.append(0)\n",
    "#     else: year.append(temp[0].rstrip())\n",
    "# r_select['emp_length'] = year\n",
    "# r_select['emp_length'].value_counts()"
   ]
  },
  {
   "cell_type": "code",
   "execution_count": 23,
   "metadata": {},
   "outputs": [
    {
     "data": {
      "text/plain": [
       "5429"
      ]
     },
     "execution_count": 23,
     "metadata": {},
     "output_type": "execute_result"
    }
   ],
   "source": [
    "del rej\n",
    "del year\n",
    "del dti\n",
    "del ts_mv\n",
    "gc.collect()"
   ]
  },
  {
   "cell_type": "code",
   "execution_count": 25,
   "metadata": {},
   "outputs": [],
   "source": [
    "ts.to_csv('./training set/ts_raw.csv',index=None)"
   ]
  },
  {
   "cell_type": "code",
   "execution_count": null,
   "metadata": {},
   "outputs": [],
   "source": []
  },
  {
   "cell_type": "code",
   "execution_count": 26,
   "metadata": {},
   "outputs": [
    {
     "data": {
      "text/html": [
       "<div>\n",
       "<style>\n",
       "    .dataframe thead tr:only-child th {\n",
       "        text-align: right;\n",
       "    }\n",
       "\n",
       "    .dataframe thead th {\n",
       "        text-align: left;\n",
       "    }\n",
       "\n",
       "    .dataframe tbody tr th {\n",
       "        vertical-align: top;\n",
       "    }\n",
       "</style>\n",
       "<table border=\"1\" class=\"dataframe\">\n",
       "  <thead>\n",
       "    <tr style=\"text-align: right;\">\n",
       "      <th></th>\n",
       "      <th>column_name</th>\n",
       "      <th>no_missing</th>\n",
       "      <th>missing_ratio</th>\n",
       "    </tr>\n",
       "  </thead>\n",
       "  <tbody>\n",
       "    <tr>\n",
       "      <th>0</th>\n",
       "      <td>loan_amnt</td>\n",
       "      <td>0</td>\n",
       "      <td>0.0</td>\n",
       "    </tr>\n",
       "    <tr>\n",
       "      <th>1</th>\n",
       "      <td>purpose</td>\n",
       "      <td>0</td>\n",
       "      <td>0.0</td>\n",
       "    </tr>\n",
       "    <tr>\n",
       "      <th>2</th>\n",
       "      <td>dti</td>\n",
       "      <td>0</td>\n",
       "      <td>0.0</td>\n",
       "    </tr>\n",
       "    <tr>\n",
       "      <th>3</th>\n",
       "      <td>emp_length</td>\n",
       "      <td>0</td>\n",
       "      <td>0.0</td>\n",
       "    </tr>\n",
       "    <tr>\n",
       "      <th>4</th>\n",
       "      <td>region</td>\n",
       "      <td>0</td>\n",
       "      <td>0.0</td>\n",
       "    </tr>\n",
       "    <tr>\n",
       "      <th>5</th>\n",
       "      <td>target</td>\n",
       "      <td>0</td>\n",
       "      <td>0.0</td>\n",
       "    </tr>\n",
       "  </tbody>\n",
       "</table>\n",
       "</div>"
      ],
      "text/plain": [
       "  column_name  no_missing  missing_ratio\n",
       "0   loan_amnt           0            0.0\n",
       "1     purpose           0            0.0\n",
       "2         dti           0            0.0\n",
       "3  emp_length           0            0.0\n",
       "4      region           0            0.0\n",
       "5      target           0            0.0"
      ]
     },
     "execution_count": 26,
     "metadata": {},
     "output_type": "execute_result"
    }
   ],
   "source": [
    "ts_mv = ts.isnull().sum(axis=0).reset_index()\n",
    "ts_mv.columns = ['column_name', 'no_missing']\n",
    "ts_mv['missing_ratio'] = ts_mv['no_missing'] / ts.shape[0]\n",
    "ts_mv.sort_values(by='no_missing',ascending=True, inplace=True)\n",
    "ts_mv"
   ]
  },
  {
   "cell_type": "code",
   "execution_count": 27,
   "metadata": {},
   "outputs": [
    {
     "name": "stdout",
     "output_type": "stream",
     "text": [
      "(15648549, 6)\n"
     ]
    }
   ],
   "source": [
    "print(ts.shape)"
   ]
  },
  {
   "cell_type": "code",
   "execution_count": 28,
   "metadata": {},
   "outputs": [],
   "source": [
    "a = ts.dropna(axis=0,how='any')"
   ]
  },
  {
   "cell_type": "code",
   "execution_count": 29,
   "metadata": {},
   "outputs": [
    {
     "name": "stdout",
     "output_type": "stream",
     "text": [
      "(15648549, 6)\n"
     ]
    }
   ],
   "source": [
    "print(a.shape)"
   ]
  },
  {
   "cell_type": "code",
   "execution_count": 30,
   "metadata": {},
   "outputs": [
    {
     "name": "stderr",
     "output_type": "stream",
     "text": [
      "/usr/local/lib/python3.6/site-packages/sklearn/cross_validation.py:41: DeprecationWarning: This module was deprecated in version 0.18 in favor of the model_selection module into which all the refactored classes and functions are moved. Also note that the interface of the new CV iterators are different from that of this module. This module will be removed in 0.20.\n",
      "  \"This module will be removed in 0.20.\", DeprecationWarning)\n"
     ]
    }
   ],
   "source": [
    "from sklearn.cross_validation import train_test_split\n",
    "a_train, a_test = train_test_split(a, train_size=0.7)"
   ]
  },
  {
   "cell_type": "code",
   "execution_count": 31,
   "metadata": {},
   "outputs": [
    {
     "data": {
      "text/plain": [
       "12"
      ]
     },
     "execution_count": 31,
     "metadata": {},
     "output_type": "execute_result"
    }
   ],
   "source": [
    "del ts\n",
    "del a\n",
    "gc.collect()"
   ]
  },
  {
   "cell_type": "code",
   "execution_count": 32,
   "metadata": {},
   "outputs": [],
   "source": [
    "a_test.to_csv('./training set/clustering.csv',index=None)"
   ]
  },
  {
   "cell_type": "code",
   "execution_count": 33,
   "metadata": {},
   "outputs": [
    {
     "data": {
      "text/plain": [
       "(4694565, 6)"
      ]
     },
     "execution_count": 33,
     "metadata": {},
     "output_type": "execute_result"
    }
   ],
   "source": [
    "a_test.shape"
   ]
  },
  {
   "cell_type": "code",
   "execution_count": null,
   "metadata": {},
   "outputs": [],
   "source": []
  },
  {
   "cell_type": "code",
   "execution_count": null,
   "metadata": {},
   "outputs": [],
   "source": []
  }
 ],
 "metadata": {
  "kernelspec": {
   "display_name": "Python 3",
   "language": "python",
   "name": "python3"
  },
  "language_info": {
   "codemirror_mode": {
    "name": "ipython",
    "version": 3
   },
   "file_extension": ".py",
   "mimetype": "text/x-python",
   "name": "python",
   "nbconvert_exporter": "python",
   "pygments_lexer": "ipython3",
   "version": "3.6.3"
  }
 },
 "nbformat": 4,
 "nbformat_minor": 2
}
