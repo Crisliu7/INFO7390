{
 "cells": [
  {
   "cell_type": "code",
   "execution_count": 1,
   "metadata": {},
   "outputs": [
    {
     "name": "stderr",
     "output_type": "stream",
     "text": [
      "/usr/local/lib/python3.6/site-packages/sklearn/cross_validation.py:41: DeprecationWarning: This module was deprecated in version 0.18 in favor of the model_selection module into which all the refactored classes and functions are moved. Also note that the interface of the new CV iterators are different from that of this module. This module will be removed in 0.20.\n",
      "  \"This module will be removed in 0.20.\", DeprecationWarning)\n"
     ]
    }
   ],
   "source": [
    "import gc\n",
    "import pandas as pd\n",
    "import numpy as np\n",
    "import matplotlib\n",
    "import matplotlib.pyplot as plt\n",
    "from sklearn.neural_network import MLPClassifier\n",
    "from sklearn.cross_validation import train_test_split,cross_val_score\n",
    "from sklearn.metrics import roc_curve,auc\n",
    "from sklearn.metrics import confusion_matrix"
   ]
  },
  {
   "cell_type": "code",
   "execution_count": 2,
   "metadata": {
    "collapsed": true
   },
   "outputs": [
    {
     "ename": "ValueError",
     "evalue": "labels ['traget'] not contained in axis",
     "output_type": "error",
     "traceback": [
      "\u001b[0;31m---------------------------------------------------------------------------\u001b[0m",
      "\u001b[0;31mValueError\u001b[0m                                Traceback (most recent call last)",
      "\u001b[0;32m<ipython-input-2-f8b622159b40>\u001b[0m in \u001b[0;36m<module>\u001b[0;34m()\u001b[0m\n\u001b[1;32m      1\u001b[0m \u001b[0mloandata\u001b[0m \u001b[0;34m=\u001b[0m \u001b[0mpd\u001b[0m\u001b[0;34m.\u001b[0m\u001b[0mread_csv\u001b[0m\u001b[0;34m(\u001b[0m\u001b[0;34m\"./training set/ts_label.csv\"\u001b[0m\u001b[0;34m)\u001b[0m\u001b[0;34m\u001b[0m\u001b[0m\n\u001b[0;32m----> 2\u001b[0;31m \u001b[0mX\u001b[0m \u001b[0;34m=\u001b[0m \u001b[0mloandata\u001b[0m\u001b[0;34m.\u001b[0m\u001b[0mdrop\u001b[0m\u001b[0;34m(\u001b[0m\u001b[0;34m\"traget\"\u001b[0m\u001b[0;34m,\u001b[0m \u001b[0maxis\u001b[0m \u001b[0;34m=\u001b[0m \u001b[0;36m1\u001b[0m\u001b[0;34m)\u001b[0m\u001b[0;34m\u001b[0m\u001b[0m\n\u001b[0m\u001b[1;32m      3\u001b[0m \u001b[0my\u001b[0m \u001b[0;34m=\u001b[0m \u001b[0mloandata\u001b[0m\u001b[0;34m[\u001b[0m\u001b[0;34m[\u001b[0m\u001b[0;34m\"target\"\u001b[0m\u001b[0;34m]\u001b[0m\u001b[0;34m]\u001b[0m\u001b[0;34m\u001b[0m\u001b[0m\n\u001b[1;32m      4\u001b[0m \u001b[0mX_train\u001b[0m\u001b[0;34m,\u001b[0m \u001b[0mX_test\u001b[0m\u001b[0;34m,\u001b[0m \u001b[0my_train\u001b[0m\u001b[0;34m,\u001b[0m \u001b[0my_test\u001b[0m \u001b[0;34m=\u001b[0m \u001b[0mtrain_test_split\u001b[0m\u001b[0;34m(\u001b[0m\u001b[0mX\u001b[0m\u001b[0;34m,\u001b[0m \u001b[0my\u001b[0m\u001b[0;34m,\u001b[0m \u001b[0mtrain_size\u001b[0m\u001b[0;34m=\u001b[0m\u001b[0;36m0.7\u001b[0m\u001b[0;34m)\u001b[0m\u001b[0;34m\u001b[0m\u001b[0m\n",
      "\u001b[0;32m/usr/local/lib/python3.6/site-packages/pandas/core/generic.py\u001b[0m in \u001b[0;36mdrop\u001b[0;34m(self, labels, axis, level, inplace, errors)\u001b[0m\n\u001b[1;32m   2159\u001b[0m                 \u001b[0mnew_axis\u001b[0m \u001b[0;34m=\u001b[0m \u001b[0maxis\u001b[0m\u001b[0;34m.\u001b[0m\u001b[0mdrop\u001b[0m\u001b[0;34m(\u001b[0m\u001b[0mlabels\u001b[0m\u001b[0;34m,\u001b[0m \u001b[0mlevel\u001b[0m\u001b[0;34m=\u001b[0m\u001b[0mlevel\u001b[0m\u001b[0;34m,\u001b[0m \u001b[0merrors\u001b[0m\u001b[0;34m=\u001b[0m\u001b[0merrors\u001b[0m\u001b[0;34m)\u001b[0m\u001b[0;34m\u001b[0m\u001b[0m\n\u001b[1;32m   2160\u001b[0m             \u001b[0;32melse\u001b[0m\u001b[0;34m:\u001b[0m\u001b[0;34m\u001b[0m\u001b[0m\n\u001b[0;32m-> 2161\u001b[0;31m                 \u001b[0mnew_axis\u001b[0m \u001b[0;34m=\u001b[0m \u001b[0maxis\u001b[0m\u001b[0;34m.\u001b[0m\u001b[0mdrop\u001b[0m\u001b[0;34m(\u001b[0m\u001b[0mlabels\u001b[0m\u001b[0;34m,\u001b[0m \u001b[0merrors\u001b[0m\u001b[0;34m=\u001b[0m\u001b[0merrors\u001b[0m\u001b[0;34m)\u001b[0m\u001b[0;34m\u001b[0m\u001b[0m\n\u001b[0m\u001b[1;32m   2162\u001b[0m             \u001b[0mdropped\u001b[0m \u001b[0;34m=\u001b[0m \u001b[0mself\u001b[0m\u001b[0;34m.\u001b[0m\u001b[0mreindex\u001b[0m\u001b[0;34m(\u001b[0m\u001b[0;34m**\u001b[0m\u001b[0;34m{\u001b[0m\u001b[0maxis_name\u001b[0m\u001b[0;34m:\u001b[0m \u001b[0mnew_axis\u001b[0m\u001b[0;34m}\u001b[0m\u001b[0;34m)\u001b[0m\u001b[0;34m\u001b[0m\u001b[0m\n\u001b[1;32m   2163\u001b[0m             \u001b[0;32mtry\u001b[0m\u001b[0;34m:\u001b[0m\u001b[0;34m\u001b[0m\u001b[0m\n",
      "\u001b[0;32m/usr/local/lib/python3.6/site-packages/pandas/core/indexes/base.py\u001b[0m in \u001b[0;36mdrop\u001b[0;34m(self, labels, errors)\u001b[0m\n\u001b[1;32m   3622\u001b[0m             \u001b[0;32mif\u001b[0m \u001b[0merrors\u001b[0m \u001b[0;34m!=\u001b[0m \u001b[0;34m'ignore'\u001b[0m\u001b[0;34m:\u001b[0m\u001b[0;34m\u001b[0m\u001b[0m\n\u001b[1;32m   3623\u001b[0m                 raise ValueError('labels %s not contained in axis' %\n\u001b[0;32m-> 3624\u001b[0;31m                                  labels[mask])\n\u001b[0m\u001b[1;32m   3625\u001b[0m             \u001b[0mindexer\u001b[0m \u001b[0;34m=\u001b[0m \u001b[0mindexer\u001b[0m\u001b[0;34m[\u001b[0m\u001b[0;34m~\u001b[0m\u001b[0mmask\u001b[0m\u001b[0;34m]\u001b[0m\u001b[0;34m\u001b[0m\u001b[0m\n\u001b[1;32m   3626\u001b[0m         \u001b[0;32mreturn\u001b[0m \u001b[0mself\u001b[0m\u001b[0;34m.\u001b[0m\u001b[0mdelete\u001b[0m\u001b[0;34m(\u001b[0m\u001b[0mindexer\u001b[0m\u001b[0;34m)\u001b[0m\u001b[0;34m\u001b[0m\u001b[0m\n",
      "\u001b[0;31mValueError\u001b[0m: labels ['traget'] not contained in axis"
     ]
    }
   ],
   "source": [
    "loandata = pd.read_csv(\"./training set/ts_label.csv\")\n"
   ]
  },
  {
   "cell_type": "code",
   "execution_count": 31,
   "metadata": {},
   "outputs": [],
   "source": [
    "X = loandata.drop(\"target\", axis = 1)\n",
    "y = loandata[[\"target\"]] \n",
    "X_train, X_test, y_train, y_test = train_test_split(X, y, train_size=0.5)"
   ]
  },
  {
   "cell_type": "code",
   "execution_count": 38,
   "metadata": {},
   "outputs": [],
   "source": [
    "#init classifier\n",
    "mlp = MLPClassifier(hidden_layer_sizes=(10,), alpha=1e-4,\\\n",
    "                    solver='sgd', verbose=True, tol=1e-4, random_state=1,\\\n",
    "                    learning_rate_init=.1,)"
   ]
  },
  {
   "cell_type": "code",
   "execution_count": 35,
   "metadata": {
    "scrolled": false
   },
   "outputs": [
    {
     "name": "stderr",
     "output_type": "stream",
     "text": [
      "/usr/local/lib/python3.6/site-packages/sklearn/neural_network/multilayer_perceptron.py:912: DataConversionWarning: A column-vector y was passed when a 1d array was expected. Please change the shape of y to (n_samples, ), for example using ravel().\n",
      "  y = column_or_1d(y, warn=True)\n"
     ]
    },
    {
     "name": "stdout",
     "output_type": "stream",
     "text": [
      "Iteration 1, loss = 24983.09224419\n",
      "Iteration 2, loss = 24033.78002792\n",
      "Iteration 3, loss = 23111.65420799\n",
      "Iteration 4, loss = 22224.90888993\n",
      "Iteration 5, loss = 21372.18658726\n",
      "Iteration 6, loss = 20552.18189001\n",
      "Iteration 7, loss = 19763.63947641\n",
      "Iteration 8, loss = 19005.35218488\n",
      "Iteration 9, loss = 18276.15917193\n",
      "Iteration 10, loss = 17574.94414850\n",
      "Iteration 11, loss = 16900.63362421\n",
      "Iteration 12, loss = 16252.19533662\n",
      "Iteration 13, loss = 15628.63659244\n",
      "Iteration 14, loss = 15029.00281336\n",
      "Iteration 15, loss = 14452.37603328\n",
      "Iteration 16, loss = 13897.87350837\n",
      "Iteration 17, loss = 13364.64636435\n",
      "Iteration 18, loss = 12851.87830807\n",
      "Iteration 19, loss = 12358.78434641\n",
      "Iteration 20, loss = 11884.60962305\n",
      "Iteration 21, loss = 11428.62822521\n",
      "Iteration 22, loss = 10990.14211817\n",
      "Iteration 23, loss = 10568.48002373\n",
      "Iteration 24, loss = 10162.99644144\n",
      "Iteration 25, loss = 9773.07061815\n",
      "Iteration 26, loss = 9398.10562818\n",
      "Iteration 27, loss = 9037.52746188\n",
      "Iteration 28, loss = 8690.78410022\n",
      "Iteration 29, loss = 8357.34473306\n",
      "Iteration 30, loss = 8036.69889890\n",
      "Iteration 31, loss = 7728.35575116\n",
      "Iteration 32, loss = 7431.84323830\n",
      "Iteration 33, loss = 7146.70744226\n",
      "Iteration 34, loss = 6872.51184798\n",
      "Iteration 35, loss = 6608.83670759\n",
      "Iteration 36, loss = 6355.27837026\n",
      "Iteration 37, loss = 6111.44865955\n",
      "Iteration 38, loss = 5876.97430617\n",
      "Iteration 39, loss = 5651.49636690\n",
      "Iteration 40, loss = 5434.66965995\n",
      "Iteration 41, loss = 5226.16224575\n",
      "Iteration 42, loss = 5025.65493719\n",
      "Iteration 43, loss = 4832.84077388\n",
      "Iteration 44, loss = 4647.42458360\n",
      "Iteration 45, loss = 4469.12252023\n",
      "Iteration 46, loss = 4297.66162806\n",
      "Iteration 47, loss = 4132.77940810\n",
      "Iteration 48, loss = 3974.22346462\n",
      "Iteration 49, loss = 3821.75105886\n",
      "Iteration 50, loss = 3675.12878879\n",
      "Iteration 51, loss = 3534.13216887\n",
      "Iteration 52, loss = 3398.66561042\n",
      "Iteration 53, loss = 3268.28356908\n",
      "Iteration 54, loss = 3142.89696257\n",
      "Iteration 55, loss = 3022.32124253\n",
      "Iteration 56, loss = 2906.37181530\n",
      "Iteration 57, loss = 2794.87118645\n",
      "Iteration 58, loss = 2687.64867073\n",
      "Iteration 59, loss = 2584.54010548\n",
      "Iteration 60, loss = 2485.38764578\n",
      "Iteration 61, loss = 2390.03951589\n",
      "Iteration 62, loss = 2298.34974342\n",
      "Iteration 63, loss = 2210.17796316\n",
      "Iteration 64, loss = 2125.38918978\n",
      "Iteration 65, loss = 2043.85362539\n",
      "Iteration 66, loss = 1965.44645883\n",
      "Iteration 67, loss = 1890.04764598\n",
      "Iteration 68, loss = 1817.54176890\n",
      "Iteration 69, loss = 1747.81782603\n",
      "Iteration 70, loss = 1680.76908492\n",
      "Iteration 71, loss = 1616.29289275\n",
      "Iteration 72, loss = 1554.29055346\n",
      "Iteration 73, loss = 1494.66713823\n",
      "Iteration 74, loss = 1437.33138918\n",
      "Iteration 75, loss = 1382.19551268\n",
      "Iteration 76, loss = 1329.17512022\n",
      "Iteration 77, loss = 1278.18903346\n",
      "Iteration 78, loss = 1229.15919934\n",
      "Iteration 79, loss = 1182.01057125\n",
      "Iteration 80, loss = 1136.67095316\n",
      "Iteration 81, loss = 1093.07094399\n",
      "Iteration 82, loss = 1051.14380210\n",
      "Iteration 83, loss = 1010.82533783\n",
      "Iteration 84, loss = 972.05382570\n",
      "Iteration 85, loss = 934.76991773\n",
      "Iteration 86, loss = 898.91652931\n",
      "Iteration 87, loss = 864.43878947\n",
      "Iteration 88, loss = 831.28389694\n",
      "Iteration 89, loss = 799.40111455\n",
      "Iteration 90, loss = 768.74161422\n",
      "Iteration 91, loss = 739.25846829\n",
      "Iteration 92, loss = 710.90655369\n",
      "Iteration 93, loss = 683.64245358\n",
      "Iteration 94, loss = 657.42442538\n",
      "Iteration 95, loss = 632.21235549\n",
      "Iteration 96, loss = 608.06311591\n",
      "Iteration 97, loss = 584.80268133\n",
      "Iteration 98, loss = 562.37699459\n",
      "Iteration 99, loss = 540.81173636\n",
      "Iteration 100, loss = 520.07390248\n",
      "Iteration 101, loss = 500.13174992\n",
      "Iteration 102, loss = 480.95473448\n",
      "Iteration 103, loss = 462.51352630\n",
      "Iteration 104, loss = 444.77987995\n",
      "Iteration 105, loss = 427.72663018\n",
      "Iteration 106, loss = 411.32769223\n",
      "Iteration 107, loss = 395.55795759\n",
      "Iteration 108, loss = 380.39328378\n",
      "Iteration 109, loss = 365.81045379\n",
      "Iteration 110, loss = 351.78713725\n",
      "Iteration 111, loss = 338.30188492\n",
      "Iteration 112, loss = 325.33403697\n",
      "Iteration 113, loss = 312.86374658\n",
      "Iteration 114, loss = 300.87190822\n",
      "Iteration 115, loss = 289.34018921\n",
      "Iteration 116, loss = 278.25092414\n",
      "Iteration 117, loss = 267.58713565\n",
      "Iteration 118, loss = 257.33249603\n",
      "Iteration 119, loss = 247.47131715\n",
      "Iteration 120, loss = 237.98849058\n",
      "Iteration 121, loss = 228.86950338\n",
      "Iteration 122, loss = 220.10039929\n",
      "Iteration 123, loss = 211.67549607\n",
      "Iteration 124, loss = 203.58550426\n",
      "Iteration 125, loss = 195.78651167\n",
      "Iteration 126, loss = 188.28675376\n",
      "Iteration 127, loss = 181.07475386\n",
      "Iteration 128, loss = 174.13945468\n",
      "Iteration 129, loss = 167.47025526\n",
      "Iteration 130, loss = 161.05694892\n",
      "Iteration 131, loss = 154.88970606\n",
      "Iteration 132, loss = 148.95908661\n",
      "Iteration 133, loss = 143.32920694\n",
      "Iteration 134, loss = 137.90238336\n",
      "Iteration 135, loss = 132.62354363\n",
      "Iteration 136, loss = 127.54724937\n",
      "Iteration 137, loss = 122.66572394\n",
      "Iteration 138, loss = 117.97148746\n",
      "Iteration 139, loss = 113.45736611\n",
      "Iteration 140, loss = 109.11644792\n",
      "Iteration 141, loss = 104.94207589\n",
      "Iteration 142, loss = 100.92787685\n",
      "Iteration 143, loss = 97.06768559\n",
      "Iteration 144, loss = 93.35560931\n",
      "Iteration 145, loss = 89.78596360\n",
      "Iteration 146, loss = 86.35327468\n",
      "Iteration 147, loss = 83.05229149\n",
      "Iteration 148, loss = 79.87796529\n",
      "Iteration 149, loss = 76.82543115\n",
      "Iteration 150, loss = 73.89002055\n",
      "Iteration 151, loss = 71.06723364\n",
      "Iteration 152, loss = 68.35275469\n",
      "Iteration 153, loss = 65.74242852\n",
      "Iteration 154, loss = 63.23225460\n",
      "Iteration 155, loss = 60.81838591\n",
      "Iteration 156, loss = 58.49713758\n",
      "Iteration 157, loss = 56.26495961\n",
      "Iteration 158, loss = 54.11841823\n",
      "Iteration 159, loss = 52.05424088\n",
      "Iteration 160, loss = 50.06925152\n",
      "Iteration 161, loss = 48.16044049\n",
      "Iteration 162, loss = 46.32485313\n",
      "Iteration 163, loss = 44.55969622\n",
      "Iteration 164, loss = 42.86227514\n",
      "Iteration 165, loss = 41.22997200\n",
      "Iteration 166, loss = 39.66030433\n",
      "Iteration 167, loss = 38.15085706\n",
      "Iteration 168, loss = 36.69933176\n",
      "Iteration 169, loss = 35.30348685\n",
      "Iteration 170, loss = 33.96120808\n",
      "Iteration 171, loss = 32.67042764\n",
      "Iteration 172, loss = 31.42916757\n",
      "Iteration 173, loss = 30.23553687\n",
      "Iteration 174, loss = 29.08770865\n",
      "Iteration 175, loss = 27.98392122\n",
      "Iteration 176, loss = 26.92247520\n",
      "Iteration 177, loss = 25.90175755\n",
      "Iteration 178, loss = 24.92021404\n",
      "Iteration 179, loss = 23.97631914\n",
      "Iteration 180, loss = 23.06864560\n",
      "Iteration 181, loss = 22.19579552\n",
      "Iteration 182, loss = 21.35643414\n",
      "Iteration 183, loss = 20.54928255\n",
      "Iteration 184, loss = 19.77309638\n",
      "Iteration 185, loss = 19.02669426\n",
      "Iteration 186, loss = 18.30892613\n",
      "Iteration 187, loss = 17.61869627\n",
      "Iteration 188, loss = 16.95495311\n",
      "Iteration 189, loss = 16.31667221\n",
      "Iteration 190, loss = 15.70288764\n",
      "Iteration 191, loss = 15.11265236\n",
      "Iteration 192, loss = 14.54506139\n",
      "Iteration 193, loss = 13.99925302\n",
      "Iteration 194, loss = 13.47437966\n",
      "Iteration 195, loss = 12.96964049\n",
      "Iteration 196, loss = 12.48427652\n",
      "Iteration 197, loss = 12.01753111\n",
      "Iteration 198, loss = 11.56869669\n",
      "Iteration 199, loss = 11.13708165\n",
      "Iteration 200, loss = 10.72202328\n"
     ]
    },
    {
     "name": "stderr",
     "output_type": "stream",
     "text": [
      "/usr/local/lib/python3.6/site-packages/sklearn/neural_network/multilayer_perceptron.py:564: ConvergenceWarning: Stochastic Optimizer: Maximum iterations (200) reached and the optimization hasn't converged yet.\n",
      "  % self.max_iter, ConvergenceWarning)\n"
     ]
    },
    {
     "data": {
      "text/plain": [
       "MLPClassifier(activation='relu', alpha=0.0001, batch_size='auto', beta_1=0.9,\n",
       "       beta_2=0.999, early_stopping=False, epsilon=1e-08,\n",
       "       hidden_layer_sizes=(10,), learning_rate='constant',\n",
       "       learning_rate_init=0.1, max_iter=200, momentum=0.9,\n",
       "       nesterovs_momentum=True, power_t=0.5, random_state=1, shuffle=True,\n",
       "       solver='sgd', tol=0.01, validation_fraction=0.1, verbose=True,\n",
       "       warm_start=False)"
      ]
     },
     "execution_count": 35,
     "metadata": {},
     "output_type": "execute_result"
    }
   ],
   "source": [
    "#train\n",
    "mlp.fit(X_train, y_train)"
   ]
  },
  {
   "cell_type": "code",
   "execution_count": 36,
   "metadata": {},
   "outputs": [],
   "source": [
    "predictions = mlp.predict_proba(X_test)"
   ]
  },
  {
   "cell_type": "code",
   "execution_count": 37,
   "metadata": {},
   "outputs": [
    {
     "data": {
      "image/png": "[encoded data removed]",
      "text/plain": [
       "<matplotlib.figure.Figure at 0x111e92cc0>"
      ]
     },
     "metadata": {},
     "output_type": "display_data"
    }
   ],
   "source": [
    "#roc\n",
    "false_positive_rate, recall, thresholds = roc_curve(y_test, predictions[:,1])\n",
    "roc_auc=auc(false_positive_rate,recall)\n",
    "plt.title('Receiver Operating Characteristic')\n",
    "plt.plot(false_positive_rate, recall, 'b', label='AUC = %0.2f' % roc_auc)\n",
    "plt.legend(loc='lower right')\n",
    "plt.plot([0,1],[0,1],'r--')\n",
    "plt.xlim([0.0,1.0])\n",
    "plt.ylim([0.0,1.0])\n",
    "plt.ylabel('Recall')\n",
    "plt.xlabel('Fall-out')\n",
    "plt.show()"
   ]
  },
  {
   "cell_type": "code",
   "execution_count": 12,
   "metadata": {
    "collapsed": true
   },
   "outputs": [
    {
     "ename": "IndexError",
     "evalue": "too many indices for array",
     "output_type": "error",
     "traceback": [
      "\u001b[0;31m---------------------------------------------------------------------------\u001b[0m",
      "\u001b[0;31mIndexError\u001b[0m                                Traceback (most recent call last)",
      "\u001b[0;32m<ipython-input-12-f0461b623500>\u001b[0m in \u001b[0;36m<module>\u001b[0;34m()\u001b[0m\n\u001b[1;32m      1\u001b[0m \u001b[0;34m\u001b[0m\u001b[0m\n\u001b[1;32m      2\u001b[0m \u001b[0;31m#score = clf.score(X_test, y_test)\u001b[0m\u001b[0;34m\u001b[0m\u001b[0;34m\u001b[0m\u001b[0m\n\u001b[0;32m----> 3\u001b[0;31m \u001b[0mscores\u001b[0m \u001b[0;34m=\u001b[0m \u001b[0mcross_val_score\u001b[0m\u001b[0;34m(\u001b[0m\u001b[0mmlp\u001b[0m\u001b[0;34m,\u001b[0m\u001b[0mX_test\u001b[0m\u001b[0;34m,\u001b[0m\u001b[0my_test\u001b[0m\u001b[0;34m,\u001b[0m\u001b[0mcv\u001b[0m\u001b[0;34m=\u001b[0m\u001b[0;36m5\u001b[0m\u001b[0;34m,\u001b[0m\u001b[0mscoring\u001b[0m\u001b[0;34m=\u001b[0m\u001b[0;34m'precision'\u001b[0m\u001b[0;34m)\u001b[0m\u001b[0;34m\u001b[0m\u001b[0m\n\u001b[0m\u001b[1;32m      4\u001b[0m \u001b[0mprint\u001b[0m \u001b[0;34m(\u001b[0m\u001b[0;34m'Accuracy：'\u001b[0m\u001b[0;34m,\u001b[0m \u001b[0mnp\u001b[0m\u001b[0;34m.\u001b[0m\u001b[0mmean\u001b[0m\u001b[0;34m(\u001b[0m\u001b[0mscores\u001b[0m\u001b[0;34m)\u001b[0m\u001b[0;34m,\u001b[0m \u001b[0mpredictions\u001b[0m\u001b[0;34m)\u001b[0m\u001b[0;34m\u001b[0m\u001b[0m\n",
      "\u001b[0;32m/usr/local/lib/python3.6/site-packages/sklearn/cross_validation.py\u001b[0m in \u001b[0;36mcross_val_score\u001b[0;34m(estimator, X, y, scoring, cv, n_jobs, verbose, fit_params, pre_dispatch)\u001b[0m\n\u001b[1;32m   1570\u001b[0m     \u001b[0mX\u001b[0m\u001b[0;34m,\u001b[0m \u001b[0my\u001b[0m \u001b[0;34m=\u001b[0m \u001b[0mindexable\u001b[0m\u001b[0;34m(\u001b[0m\u001b[0mX\u001b[0m\u001b[0;34m,\u001b[0m \u001b[0my\u001b[0m\u001b[0;34m)\u001b[0m\u001b[0;34m\u001b[0m\u001b[0m\n\u001b[1;32m   1571\u001b[0m \u001b[0;34m\u001b[0m\u001b[0m\n\u001b[0;32m-> 1572\u001b[0;31m     \u001b[0mcv\u001b[0m \u001b[0;34m=\u001b[0m \u001b[0mcheck_cv\u001b[0m\u001b[0;34m(\u001b[0m\u001b[0mcv\u001b[0m\u001b[0;34m,\u001b[0m \u001b[0mX\u001b[0m\u001b[0;34m,\u001b[0m \u001b[0my\u001b[0m\u001b[0;34m,\u001b[0m \u001b[0mclassifier\u001b[0m\u001b[0;34m=\u001b[0m\u001b[0mis_classifier\u001b[0m\u001b[0;34m(\u001b[0m\u001b[0mestimator\u001b[0m\u001b[0;34m)\u001b[0m\u001b[0;34m)\u001b[0m\u001b[0;34m\u001b[0m\u001b[0m\n\u001b[0m\u001b[1;32m   1573\u001b[0m     \u001b[0mscorer\u001b[0m \u001b[0;34m=\u001b[0m \u001b[0mcheck_scoring\u001b[0m\u001b[0;34m(\u001b[0m\u001b[0mestimator\u001b[0m\u001b[0;34m,\u001b[0m \u001b[0mscoring\u001b[0m\u001b[0;34m=\u001b[0m\u001b[0mscoring\u001b[0m\u001b[0;34m)\u001b[0m\u001b[0;34m\u001b[0m\u001b[0m\n\u001b[1;32m   1574\u001b[0m     \u001b[0;31m# We clone the estimator to make sure that all the folds are\u001b[0m\u001b[0;34m\u001b[0m\u001b[0;34m\u001b[0m\u001b[0m\n",
      "\u001b[0;32m/usr/local/lib/python3.6/site-packages/sklearn/cross_validation.py\u001b[0m in \u001b[0;36mcheck_cv\u001b[0;34m(cv, X, y, classifier)\u001b[0m\n\u001b[1;32m   1833\u001b[0m         \u001b[0;32mif\u001b[0m \u001b[0mclassifier\u001b[0m\u001b[0;34m:\u001b[0m\u001b[0;34m\u001b[0m\u001b[0m\n\u001b[1;32m   1834\u001b[0m             \u001b[0;32mif\u001b[0m \u001b[0mtype_of_target\u001b[0m\u001b[0;34m(\u001b[0m\u001b[0my\u001b[0m\u001b[0;34m)\u001b[0m \u001b[0;32min\u001b[0m \u001b[0;34m[\u001b[0m\u001b[0;34m'binary'\u001b[0m\u001b[0;34m,\u001b[0m \u001b[0;34m'multiclass'\u001b[0m\u001b[0;34m]\u001b[0m\u001b[0;34m:\u001b[0m\u001b[0;34m\u001b[0m\u001b[0m\n\u001b[0;32m-> 1835\u001b[0;31m                 \u001b[0mcv\u001b[0m \u001b[0;34m=\u001b[0m \u001b[0mStratifiedKFold\u001b[0m\u001b[0;34m(\u001b[0m\u001b[0my\u001b[0m\u001b[0;34m,\u001b[0m \u001b[0mcv\u001b[0m\u001b[0;34m)\u001b[0m\u001b[0;34m\u001b[0m\u001b[0m\n\u001b[0m\u001b[1;32m   1836\u001b[0m             \u001b[0;32melse\u001b[0m\u001b[0;34m:\u001b[0m\u001b[0;34m\u001b[0m\u001b[0m\n\u001b[1;32m   1837\u001b[0m                 \u001b[0mcv\u001b[0m \u001b[0;34m=\u001b[0m \u001b[0mKFold\u001b[0m\u001b[0;34m(\u001b[0m\u001b[0m_num_samples\u001b[0m\u001b[0;34m(\u001b[0m\u001b[0my\u001b[0m\u001b[0;34m)\u001b[0m\u001b[0;34m,\u001b[0m \u001b[0mcv\u001b[0m\u001b[0;34m)\u001b[0m\u001b[0;34m\u001b[0m\u001b[0m\n",
      "\u001b[0;32m/usr/local/lib/python3.6/site-packages/sklearn/cross_validation.py\u001b[0m in \u001b[0;36m__init__\u001b[0;34m(self, y, n_folds, shuffle, random_state)\u001b[0m\n\u001b[1;32m    568\u001b[0m         \u001b[0;32mfor\u001b[0m \u001b[0mtest_fold_idx\u001b[0m\u001b[0;34m,\u001b[0m \u001b[0mper_label_splits\u001b[0m \u001b[0;32min\u001b[0m \u001b[0menumerate\u001b[0m\u001b[0;34m(\u001b[0m\u001b[0mzip\u001b[0m\u001b[0;34m(\u001b[0m\u001b[0;34m*\u001b[0m\u001b[0mper_label_cvs\u001b[0m\u001b[0;34m)\u001b[0m\u001b[0;34m)\u001b[0m\u001b[0;34m:\u001b[0m\u001b[0;34m\u001b[0m\u001b[0m\n\u001b[1;32m    569\u001b[0m             \u001b[0;32mfor\u001b[0m \u001b[0mlabel\u001b[0m\u001b[0;34m,\u001b[0m \u001b[0;34m(\u001b[0m\u001b[0m_\u001b[0m\u001b[0;34m,\u001b[0m \u001b[0mtest_split\u001b[0m\u001b[0;34m)\u001b[0m \u001b[0;32min\u001b[0m \u001b[0mzip\u001b[0m\u001b[0;34m(\u001b[0m\u001b[0munique_labels\u001b[0m\u001b[0;34m,\u001b[0m \u001b[0mper_label_splits\u001b[0m\u001b[0;34m)\u001b[0m\u001b[0;34m:\u001b[0m\u001b[0;34m\u001b[0m\u001b[0m\n\u001b[0;32m--> 570\u001b[0;31m                 \u001b[0mlabel_test_folds\u001b[0m \u001b[0;34m=\u001b[0m \u001b[0mtest_folds\u001b[0m\u001b[0;34m[\u001b[0m\u001b[0my\u001b[0m \u001b[0;34m==\u001b[0m \u001b[0mlabel\u001b[0m\u001b[0;34m]\u001b[0m\u001b[0;34m\u001b[0m\u001b[0m\n\u001b[0m\u001b[1;32m    571\u001b[0m                 \u001b[0;31m# the test split can be too big because we used\u001b[0m\u001b[0;34m\u001b[0m\u001b[0;34m\u001b[0m\u001b[0m\n\u001b[1;32m    572\u001b[0m                 \u001b[0;31m# KFold(max(c, self.n_folds), self.n_folds) instead of\u001b[0m\u001b[0;34m\u001b[0m\u001b[0;34m\u001b[0m\u001b[0m\n",
      "\u001b[0;31mIndexError\u001b[0m: too many indices for array"
     ]
    }
   ],
   "source": [
    "\n",
    "#score = clf.score(X_test, y_test)\n",
    "scores = cross_val_score(mlp,X_test,y_test,cv=5,scoring='precision')\n",
    "print ('Accuracy：', np.mean(scores), predictions)"
   ]
  },
  {
   "cell_type": "code",
   "execution_count": null,
   "metadata": {},
   "outputs": [],
   "source": [
    "#confusion matrix\n",
    "confusion_matrix=confusion_matrix(y_test,predictions)\n",
    "plt.matshow(confusion_matrix)\n",
    "plt.title('confusion matrices')\n",
    "plt.colorbar()\n",
    "plt.ylabel('actual')\n",
    "plt.xlabel('predict')\n",
    "plt.show()"
   ]
  }
 ],
 "metadata": {
  "kernelspec": {
   "display_name": "Python 3",
   "language": "python",
   "name": "python3"
  },
  "language_info": {
   "codemirror_mode": {
    "name": "ipython",
    "version": 3
   },
   "file_extension": ".py",
   "mimetype": "text/x-python",
   "name": "python",
   "nbconvert_exporter": "python",
   "pygments_lexer": "ipython3",
   "version": "3.6.3"
  }
 },
 "nbformat": 4,
 "nbformat_minor": 2
}
