{
 "cells": [
  {
   "cell_type": "code",
   "execution_count": 1,
   "metadata": {},
   "outputs": [],
   "source": [
    "import gc\n",
    "import pandas as pd\n",
    "import numpy as np\n",
    "from sklearn import preprocessing, decomposition\n",
    "pd.set_option('display.max_columns', None)\n",
    "pd.set_option('display.max_rows', None)"
   ]
  },
  {
   "cell_type": "markdown",
   "metadata": {},
   "source": [
    "# Label Encoding"
   ]
  },
  {
   "cell_type": "code",
   "execution_count": 2,
   "metadata": {},
   "outputs": [],
   "source": [
    "ts = pd.read_csv('./training set/ts_raw.csv')"
   ]
  },
  {
   "cell_type": "code",
   "execution_count": 3,
   "metadata": {},
   "outputs": [],
   "source": [
    "# Label Encoding for 'region'\n",
    "state_code=[\"AK\", \"AL\", \"AR\", \"AZ\", \"CA\", \"CO\", \"CT\", \"DC\", \"DE\", \"FL\", \"GA\", \"HI\",\\\n",
    "             \"IA\", \"ID\", \"IL\", \"IN\", \"KS\", \"KY\", \"LA\", \"MA\", \"MD\", \"ME\", \"MI\", \"MN\",\\\n",
    "             \"MO\", \"MS\",  \"MT\", \"NC\", \"ND\", \"NE\", \"NH\", \"NJ\", \"NM\", \"NV\", \"NY\", \"OH\",\\\n",
    "             \"OK\", \"OR\", \"PA\", \"PR\", \"RI\", \"SC\", \"SD\", \"TN\", \"TX\", \"UT\", \"VA\", \"VT\",\\\n",
    "             \"WA\", \"WI\", \"WV\", \"WY\"]\n",
    "le_s = preprocessing.LabelEncoder()\n",
    "le_s.fit(state_code)\n",
    "ts['region'] = le_s.transform(ts['region'])"
   ]
  },
  {
   "cell_type": "code",
   "execution_count": 4,
   "metadata": {},
   "outputs": [],
   "source": [
    "# Label Encoding for 'purpose'\n",
    "purpose_code=['Debt Consolidation','Other','Credit Card',\\\n",
    "            'Home Improvement','Business','Car','Major Purchase',\\\n",
    "            'Moving and Relocation','Medical Expenses','Vacation',\\\n",
    "            'Renewable Energy','Wedding','Personal','Education',\"WRONG\"]\n",
    "le_p = preprocessing.LabelEncoder()\n",
    "le_p.fit(purpose_code)\n",
    "ts['purpose'] = le_p.transform(ts['purpose'])"
   ]
  },
  {
   "cell_type": "code",
   "execution_count": 5,
   "metadata": {},
   "outputs": [
    {
     "data": {
      "text/html": [
       "<div>\n",
       "<style>\n",
       "    .dataframe thead tr:only-child th {\n",
       "        text-align: right;\n",
       "    }\n",
       "\n",
       "    .dataframe thead th {\n",
       "        text-align: left;\n",
       "    }\n",
       "\n",
       "    .dataframe tbody tr th {\n",
       "        vertical-align: top;\n",
       "    }\n",
       "</style>\n",
       "<table border=\"1\" class=\"dataframe\">\n",
       "  <thead>\n",
       "    <tr style=\"text-align: right;\">\n",
       "      <th></th>\n",
       "      <th>loan_amnt</th>\n",
       "      <th>purpose</th>\n",
       "      <th>dti</th>\n",
       "      <th>emp_length</th>\n",
       "      <th>region</th>\n",
       "      <th>target</th>\n",
       "    </tr>\n",
       "  </thead>\n",
       "  <tbody>\n",
       "    <tr>\n",
       "      <th>0</th>\n",
       "      <td>5000.0</td>\n",
       "      <td>2</td>\n",
       "      <td>27.65</td>\n",
       "      <td>10.0</td>\n",
       "      <td>3</td>\n",
       "      <td>1</td>\n",
       "    </tr>\n",
       "    <tr>\n",
       "      <th>1</th>\n",
       "      <td>2500.0</td>\n",
       "      <td>1</td>\n",
       "      <td>1.00</td>\n",
       "      <td>0.5</td>\n",
       "      <td>10</td>\n",
       "      <td>1</td>\n",
       "    </tr>\n",
       "    <tr>\n",
       "      <th>2</th>\n",
       "      <td>2400.0</td>\n",
       "      <td>0</td>\n",
       "      <td>8.72</td>\n",
       "      <td>10.0</td>\n",
       "      <td>14</td>\n",
       "      <td>1</td>\n",
       "    </tr>\n",
       "    <tr>\n",
       "      <th>3</th>\n",
       "      <td>10000.0</td>\n",
       "      <td>9</td>\n",
       "      <td>20.00</td>\n",
       "      <td>10.0</td>\n",
       "      <td>4</td>\n",
       "      <td>1</td>\n",
       "    </tr>\n",
       "    <tr>\n",
       "      <th>4</th>\n",
       "      <td>3000.0</td>\n",
       "      <td>9</td>\n",
       "      <td>17.94</td>\n",
       "      <td>1.0</td>\n",
       "      <td>37</td>\n",
       "      <td>1</td>\n",
       "    </tr>\n",
       "  </tbody>\n",
       "</table>\n",
       "</div>"
      ],
      "text/plain": [
       "   loan_amnt  purpose    dti  emp_length  region  target\n",
       "0     5000.0        2  27.65        10.0       3       1\n",
       "1     2500.0        1   1.00         0.5      10       1\n",
       "2     2400.0        0   8.72        10.0      14       1\n",
       "3    10000.0        9  20.00        10.0       4       1\n",
       "4     3000.0        9  17.94         1.0      37       1"
      ]
     },
     "execution_count": 5,
     "metadata": {},
     "output_type": "execute_result"
    }
   ],
   "source": [
    "ts.head()"
   ]
  },
  {
   "cell_type": "code",
   "execution_count": 6,
   "metadata": {},
   "outputs": [],
   "source": [
    "ts.to_csv('./training set/ts_label.csv',index=None)"
   ]
  },
  {
   "cell_type": "code",
   "execution_count": 7,
   "metadata": {},
   "outputs": [
    {
     "data": {
      "text/plain": [
       "153"
      ]
     },
     "execution_count": 7,
     "metadata": {},
     "output_type": "execute_result"
    }
   ],
   "source": [
    "del ts\n",
    "del le_s\n",
    "del le_p\n",
    "gc.collect()"
   ]
  },
  {
   "cell_type": "markdown",
   "metadata": {},
   "source": [
    "# Binary Encoding"
   ]
  },
  {
   "cell_type": "code",
   "execution_count": null,
   "metadata": {},
   "outputs": [
    {
     "name": "stdout",
     "output_type": "stream",
     "text": [
      "(15648549, 6)\n"
     ]
    }
   ],
   "source": [
    "ts = pd.read_csv('./training set/ts_raw.csv')\n",
    "print(ts.shape)"
   ]
  },
  {
   "cell_type": "code",
   "execution_count": null,
   "metadata": {},
   "outputs": [],
   "source": [
    "# Binary Encoding for 'region'\n",
    "lb_s = preprocessing.LabelBinarizer()\n",
    "lb_s.fit(state_code)\n",
    "lb_region = lb_s.transform(ts['region'])"
   ]
  },
  {
   "cell_type": "code",
   "execution_count": null,
   "metadata": {},
   "outputs": [],
   "source": [
    "a = pd.DataFrame(lb_region,columns=state_code)\n",
    "a.head()"
   ]
  },
  {
   "cell_type": "code",
   "execution_count": null,
   "metadata": {},
   "outputs": [],
   "source": [
    "# Binary Encoding for 'purpose'\n",
    "lb_p = preprocessing.LabelBinarizer()\n",
    "lb_p.fit(purpose_code)\n",
    "lb_purpose = lb_p.transform(ts['purpose'])"
   ]
  },
  {
   "cell_type": "code",
   "execution_count": null,
   "metadata": {},
   "outputs": [],
   "source": [
    "b = pd.DataFrame(lb_purpose,columns=purpose_code)\n",
    "b.head()"
   ]
  },
  {
   "cell_type": "code",
   "execution_count": null,
   "metadata": {},
   "outputs": [],
   "source": [
    "# Form the new training set\n",
    "ts = pd.concat([ts,a,b],axis=1)\n",
    "del a\n",
    "del b\n",
    "del lb_s\n",
    "del lb_p\n",
    "gc.collect()"
   ]
  },
  {
   "cell_type": "code",
   "execution_count": null,
   "metadata": {},
   "outputs": [],
   "source": [
    "ts = ts.drop(['purpose','region'],axis=1)\n",
    "print(ts.shape)\n",
    "ts.head()"
   ]
  },
  {
   "cell_type": "code",
   "execution_count": null,
   "metadata": {},
   "outputs": [],
   "source": [
    "# PCA to transform sparse matrix into dense trainging set\n",
    "pca = decomposition.PCA(n_components=10)\n",
    "pca.fit(ts.drop('target',axis=1))"
   ]
  },
  {
   "cell_type": "code",
   "execution_count": null,
   "metadata": {},
   "outputs": [],
   "source": [
    "target = ts['target']\n",
    "pca.components_\n",
    "# ts = pca.transform(ts.drop('target',axis=1))"
   ]
  },
  {
   "cell_type": "code",
   "execution_count": 20,
   "metadata": {},
   "outputs": [
    {
     "data": {
      "text/html": [
       "<div>\n",
       "<style>\n",
       "    .dataframe thead tr:only-child th {\n",
       "        text-align: right;\n",
       "    }\n",
       "\n",
       "    .dataframe thead th {\n",
       "        text-align: left;\n",
       "    }\n",
       "\n",
       "    .dataframe tbody tr th {\n",
       "        vertical-align: top;\n",
       "    }\n",
       "</style>\n",
       "<table border=\"1\" class=\"dataframe\">\n",
       "  <thead>\n",
       "    <tr style=\"text-align: right;\">\n",
       "      <th></th>\n",
       "      <th>0</th>\n",
       "      <th>1</th>\n",
       "      <th>2</th>\n",
       "      <th>3</th>\n",
       "      <th>4</th>\n",
       "      <th>5</th>\n",
       "      <th>6</th>\n",
       "      <th>7</th>\n",
       "      <th>8</th>\n",
       "      <th>9</th>\n",
       "    </tr>\n",
       "  </thead>\n",
       "  <tbody>\n",
       "    <tr>\n",
       "      <th>0</th>\n",
       "      <td>-8531.103432</td>\n",
       "      <td>26.412300</td>\n",
       "      <td>-4.208113</td>\n",
       "      <td>0.644649</td>\n",
       "      <td>-0.584831</td>\n",
       "      <td>0.293955</td>\n",
       "      <td>0.050284</td>\n",
       "      <td>-0.023059</td>\n",
       "      <td>-0.047573</td>\n",
       "      <td>-0.034558</td>\n",
       "    </tr>\n",
       "    <tr>\n",
       "      <th>1</th>\n",
       "      <td>-11031.103771</td>\n",
       "      <td>-1.363519</td>\n",
       "      <td>1.046172</td>\n",
       "      <td>0.385198</td>\n",
       "      <td>-0.083695</td>\n",
       "      <td>-0.290251</td>\n",
       "      <td>-0.534818</td>\n",
       "      <td>0.783438</td>\n",
       "      <td>-0.115223</td>\n",
       "      <td>-0.158897</td>\n",
       "    </tr>\n",
       "    <tr>\n",
       "      <th>2</th>\n",
       "      <td>-11131.103649</td>\n",
       "      <td>7.737913</td>\n",
       "      <td>-7.136833</td>\n",
       "      <td>0.319264</td>\n",
       "      <td>0.036634</td>\n",
       "      <td>-0.299519</td>\n",
       "      <td>-0.545911</td>\n",
       "      <td>-0.544710</td>\n",
       "      <td>-0.613754</td>\n",
       "      <td>-0.363240</td>\n",
       "    </tr>\n",
       "    <tr>\n",
       "      <th>3</th>\n",
       "      <td>-3531.103525</td>\n",
       "      <td>18.788688</td>\n",
       "      <td>-5.381524</td>\n",
       "      <td>0.629449</td>\n",
       "      <td>0.813786</td>\n",
       "      <td>0.245420</td>\n",
       "      <td>0.052374</td>\n",
       "      <td>0.004515</td>\n",
       "      <td>-0.010116</td>\n",
       "      <td>-0.001277</td>\n",
       "    </tr>\n",
       "    <tr>\n",
       "      <th>4</th>\n",
       "      <td>-10531.103575</td>\n",
       "      <td>15.440784</td>\n",
       "      <td>3.181493</td>\n",
       "      <td>0.720851</td>\n",
       "      <td>0.727019</td>\n",
       "      <td>0.256855</td>\n",
       "      <td>0.073229</td>\n",
       "      <td>0.006980</td>\n",
       "      <td>-0.017730</td>\n",
       "      <td>-0.018635</td>\n",
       "    </tr>\n",
       "  </tbody>\n",
       "</table>\n",
       "</div>"
      ],
      "text/plain": [
       "              0          1         2         3         4         5         6  \\\n",
       "0  -8531.103432  26.412300 -4.208113  0.644649 -0.584831  0.293955  0.050284   \n",
       "1 -11031.103771  -1.363519  1.046172  0.385198 -0.083695 -0.290251 -0.534818   \n",
       "2 -11131.103649   7.737913 -7.136833  0.319264  0.036634 -0.299519 -0.545911   \n",
       "3  -3531.103525  18.788688 -5.381524  0.629449  0.813786  0.245420  0.052374   \n",
       "4 -10531.103575  15.440784  3.181493  0.720851  0.727019  0.256855  0.073229   \n",
       "\n",
       "          7         8         9  \n",
       "0 -0.023059 -0.047573 -0.034558  \n",
       "1  0.783438 -0.115223 -0.158897  \n",
       "2 -0.544710 -0.613754 -0.363240  \n",
       "3  0.004515 -0.010116 -0.001277  \n",
       "4  0.006980 -0.017730 -0.018635  "
      ]
     },
     "execution_count": 20,
     "metadata": {},
     "output_type": "execute_result"
    }
   ],
   "source": [
    "ts = pd.DataFrame(ts)\n",
    "ts.head()"
   ]
  },
  {
   "cell_type": "code",
   "execution_count": null,
   "metadata": {},
   "outputs": [],
   "source": [
    "del pca\n",
    "gc.collect()"
   ]
  },
  {
   "cell_type": "code",
   "execution_count": null,
   "metadata": {},
   "outputs": [],
   "source": [
    "ts.to_csv('ts_bin.csv',index=None)"
   ]
  },
  {
   "cell_type": "markdown",
   "metadata": {},
   "source": [
    "# One-hot Encoding"
   ]
  },
  {
   "cell_type": "code",
   "execution_count": null,
   "metadata": {},
   "outputs": [],
   "source": [
    "ts = pd.read_csv('clssification_ts.csv')"
   ]
  },
  {
   "cell_type": "code",
   "execution_count": null,
   "metadata": {},
   "outputs": [],
   "source": [
    "# One-hot Encoding for 'region'\n",
    "lb_s = preprocessing.LabelBinarizer()\n",
    "lb_s.fit(state_code)\n",
    "lb_region = lb_s.transform(ts['region'])"
   ]
  },
  {
   "cell_type": "code",
   "execution_count": null,
   "metadata": {},
   "outputs": [],
   "source": [
    "lb_p = preprocessing.LabelBinarizer()\n",
    "lb_p.fit(state_code)\n",
    "lb_purpose = lb_p.transform(ts['purpose'])"
   ]
  }
 ],
 "metadata": {
  "kernelspec": {
   "display_name": "Python 3",
   "language": "python",
   "name": "python3"
  },
  "language_info": {
   "codemirror_mode": {
    "name": "ipython",
    "version": 3
   },
   "file_extension": ".py",
   "mimetype": "text/x-python",
   "name": "python",
   "nbconvert_exporter": "python",
   "pygments_lexer": "ipython3",
   "version": "3.6.3"
  }
 },
 "nbformat": 4,
 "nbformat_minor": 2
}
