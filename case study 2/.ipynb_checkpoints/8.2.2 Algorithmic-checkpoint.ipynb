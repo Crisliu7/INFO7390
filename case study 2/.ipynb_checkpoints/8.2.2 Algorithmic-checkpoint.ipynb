{
 "cells": [
  {
   "cell_type": "code",
   "execution_count": null,
   "metadata": {},
   "outputs": [],
   "source": [
    "library(dplyr)\n",
    "library(caret)\n",
    "library(ModelMetrics)\n",
    "library(randomForest)"
   ]
  },
  {
   "cell_type": "code",
   "execution_count": null,
   "metadata": {},
   "outputs": [],
   "source": [
    "setwd(\"~/Documents/INFO7390 Data Science/case study 2\")\n",
    "f <- read.csv(\"./training set/features.csv\")\n",
    "ts <- read.csv(\"./training set/loandata_2.csv\")"
   ]
  },
  {
   "cell_type": "code",
   "execution_count": null,
   "metadata": {},
   "outputs": [],
   "source": [
    "# Data\n",
    "co <- c(names(f),'int_rate')\n",
    "x <- ts[,co]"
   ]
  },
  {
   "cell_type": "code",
   "execution_count": null,
   "metadata": {},
   "outputs": [],
   "source": [
    "# Missing value\n",
    "x[x == \"\"] <- NA\n",
    "x <- x[complete.cases(x),]"
   ]
  },
  {
   "cell_type": "code",
   "execution_count": null,
   "metadata": {},
   "outputs": [],
   "source": [
    "# Pre\n",
    "x[,9:12] <- data.frame(apply(x[,9:12], 2, as.factor))\n",
    "# Change factor into numeric\n",
    "for (i in 9:12)\n",
    "    x[,i] <- as.numeric(x[,i])\n",
    "x[,13:14] <- data.frame(lapply(x[,13:14], function(x) as.numeric(sub(\"%\", \"\", x))/100))"
   ]
  },
  {
   "cell_type": "code",
   "execution_count": null,
   "metadata": {},
   "outputs": [],
   "source": [
    "# LR\n",
    "x.lm <- lm(int_rate~.,data=x)"
   ]
  },
  {
   "cell_type": "code",
   "execution_count": null,
   "metadata": {},
   "outputs": [],
   "source": [
    "summary(x.lm)\n",
    "plot(x.lm)"
   ]
  }
 ],
 "metadata": {
  "kernelspec": {
   "display_name": "R",
   "language": "R",
   "name": "ir"
  },
  "language_info": {
   "codemirror_mode": "r",
   "file_extension": ".r",
   "mimetype": "text/x-r-source",
   "name": "R",
   "pygments_lexer": "r",
   "version": "3.4.2"
  }
 },
 "nbformat": 4,
 "nbformat_minor": 2
}
