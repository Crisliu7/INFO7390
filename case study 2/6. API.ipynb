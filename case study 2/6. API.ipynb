{
 "cells": [
  {
   "cell_type": "code",
   "execution_count": 13,
   "metadata": {},
   "outputs": [],
   "source": [
    "import urllib # urllib.request for Python 3.X\n",
    "import json"
   ]
  },
  {
   "cell_type": "code",
   "execution_count": 3,
   "metadata": {},
   "outputs": [],
   "source": [
    "data = {\n",
    "    \"Inputs\": {\n",
    "        \"input1\":\n",
    "        [\n",
    "            {\n",
    "                \"loan_amnt\": 1,\n",
    "                \"purpose\": 1,\n",
    "                \"dti\": 1,\n",
    "                \"emp_length\": 1,\n",
    "                \"region\": 1,\n",
    "                \"target\": 1\n",
    "            }\n",
    "        ],\n",
    "    },\n",
    "    \"GlobalParameters\":  {}\n",
    "}"
   ]
  },
  {
   "cell_type": "markdown",
   "metadata": {},
   "source": [
    "# Classification"
   ]
  },
  {
   "cell_type": "code",
   "execution_count": 15,
   "metadata": {},
   "outputs": [
    {
     "name": "stdout",
     "output_type": "stream",
     "text": [
      "b'{\"Results\":{\"output1\":[{\"loan_amnt\":\"1\",\"purpose\":\"1\",\"dti\":\"1\",\"emp_length\":\"1\",\"region\":\"1\",\"target\":\"1\",\"Scored Labels\":\"0\",\"Scored Probabilities\":\"0.0228590965270996\"}]}}'\n"
     ]
    }
   ],
   "source": [
    "body = str.encode(json.dumps(data))\n",
    "\n",
    "# Replace this with the URI and API Key for your web service\n",
    "url = 'https://ussouthcentral.services.azureml.net/workspaces/b46604e14d72456b9f08b7f8b86e340e/services/967413ff89ca4cf7a6244200c0164934/execute?api-version=2.0&format=swagger'\n",
    "api_key = 'AFSFqlRhQs0NDy/IQD6ggjxURHngUICk33XvZCgscj4vjOB9+qNUcIkRdYfqSMYdnpfUuak0DC3pV+QBxZtBqA=='\n",
    "headers = {'Content-Type':'application/json', 'Authorization':('Bearer '+ api_key)}\n",
    "\n",
    "# \"urllib.request.Request(uri, body, headers)\" for Python 3.X\n",
    "req = urllib.request.Request(url, body, headers)\n",
    "\n",
    "try:\n",
    "    # \"urllib.request.urlopen(req)\" for Python 3.X\n",
    "    response = urllib.request.urlopen(req)\n",
    "\n",
    "    result = response.read()\n",
    "    print(result)\n",
    "# \"urllib.error.HTTPError as error\" for Python 3.X\n",
    "except urllib2.HTTPError as error: \n",
    "    print(\"The request failed with status code: \" + str(error.code))\n",
    "\n",
    "    # Print the headers - they include the requert ID and the timestamp, which are useful for debugging the failure\n",
    "    print(error.info())\n",
    "    print(json.loads(error.read())) "
   ]
  },
  {
   "cell_type": "code",
   "execution_count": 30,
   "metadata": {},
   "outputs": [
    {
     "data": {
      "text/plain": [
       "'{\"Results\":{\"output1\":[{\"loan_amnt\":\"1\",\"purpose\":\"1\",\"dti\":\"1\",\"emp_length\":\"1\",\"region\":\"1\",\"target\":\"1\",\"Scored Labels\":\"0\",\"Scored Probabilities\":\"0.0228590965270996\"}]}}'"
      ]
     },
     "execution_count": 30,
     "metadata": {},
     "output_type": "execute_result"
    }
   ],
   "source": [
    "result.decode()"
   ]
  },
  {
   "cell_type": "markdown",
   "metadata": {},
   "source": [
    "# Prediction"
   ]
  },
  {
   "cell_type": "code",
   "execution_count": 40,
   "metadata": {},
   "outputs": [
    {
     "name": "stdout",
     "output_type": "stream",
     "text": [
      "b'{\"Results\":{\"output1\":[{\"annual_inc\":\"30000\",\"dti\":\"12\",\"last_pymnt_amnt\":\"105\",\"mths_since_rcnt_il\":\"12\",\"all_util\":\"38\",\"total_rev_hi_lim\":\"29700\",\"inq_last_12m\":\"5\",\"percent_bc_gt_75\":\"50\",\"term\":\"1\",\"grade\":\"2\",\"sub_grade\":\"3\",\"verification_status\":\"1\",\"revol_util\":\"0.009\",\"int_rate\":\"1\",\"Scored Labels\":\"0.00100524783908432\"}]}}'\n"
     ]
    }
   ],
   "source": [
    "data2 = {\n",
    "  \"Inputs\": {\n",
    "    \"input1\": [\n",
    "      {\n",
    "        \"annual_inc\": 30000,\n",
    "        \"dti\": 12,\n",
    "        \"last_pymnt_amnt\": 105,\n",
    "        \"mths_since_rcnt_il\": 12,\n",
    "        \"all_util\": 38,\n",
    "        \"total_rev_hi_lim\": 29700,\n",
    "        \"inq_last_12m\": 5,\n",
    "        \"percent_bc_gt_75\": 50,\n",
    "        \"term\": 1,\n",
    "        \"grade\": 2,\n",
    "        \"sub_grade\": 3,\n",
    "        \"verification_status\": 1,\n",
    "        \"revol_util\": 0.009,\n",
    "        \"int_rate\": 1\n",
    "      }\n",
    "    ]\n",
    "  },\n",
    "  \"GlobalParameters\": {}\n",
    "}\n",
    "\n",
    "body = str.encode(json.dumps(data2))\n",
    "\n",
    "# Replace this with the URI and API Key for your web service\n",
    "url = 'https://ussouthcentral.services.azureml.net/workspaces/b46604e14d72456b9f08b7f8b86e340e/services/efc6e61586d3459a9ffad73590bd7ee3/execute?api-version=2.0&format=swagger'\n",
    "api_key = 'IjohT0QNKQx8ACyYNxMqbwju+GZDXda4AkzXIUywyg05byZ2UzpFbvolodO4ROMHnxp+9bONTK6Yg9+vDPimfw=='\n",
    "headers = {'Content-Type':'application/json', 'Authorization':('Bearer '+ api_key)}\n",
    "\n",
    "# \"urllib.request.Request(uri, body, headers)\" for Python 3.X\n",
    "req = urllib.request.Request(url, body, headers)\n",
    "\n",
    "try:\n",
    "    # \"urllib.request.urlopen(req)\" for Python 3.X\n",
    "    response = urllib.request.urlopen(req)\n",
    "\n",
    "    result = response.read()\n",
    "    print(result)\n",
    "# \"urllib.error.HTTPError as error\" for Python 3.X\n",
    "except urllib.request.HTTPError as error: \n",
    "    print(\"The request failed with status code: \" + str(error.code))\n",
    "\n",
    "    # Print the headers - they include the requert ID and the timestamp, which are useful for debugging the failure\n",
    "    print(error.info())\n",
    "    print(json.loads(error.read())) "
   ]
  },
  {
   "cell_type": "code",
   "execution_count": null,
   "metadata": {},
   "outputs": [],
   "source": []
  }
 ],
 "metadata": {
  "kernelspec": {
   "display_name": "Python 3",
   "language": "python",
   "name": "python3"
  },
  "language_info": {
   "codemirror_mode": {
    "name": "ipython",
    "version": 3
   },
   "file_extension": ".py",
   "mimetype": "text/x-python",
   "name": "python",
   "nbconvert_exporter": "python",
   "pygments_lexer": "ipython3",
   "version": "3.6.3"
  }
 },
 "nbformat": 4,
 "nbformat_minor": 2
}
