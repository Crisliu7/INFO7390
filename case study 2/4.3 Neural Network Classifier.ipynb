{
 "cells": [
  {
   "cell_type": "code",
   "execution_count": 1,
   "metadata": {
    "scrolled": true
   },
   "outputs": [
    {
     "name": "stderr",
     "output_type": "stream",
     "text": [
      "/usr/local/lib/python3.6/site-packages/sklearn/cross_validation.py:41: DeprecationWarning: This module was deprecated in version 0.18 in favor of the model_selection module into which all the refactored classes and functions are moved. Also note that the interface of the new CV iterators are different from that of this module. This module will be removed in 0.20.\n",
      "  \"This module will be removed in 0.20.\", DeprecationWarning)\n"
     ]
    }
   ],
   "source": [
    "import gc\n",
    "import pandas as pd\n",
    "import numpy as np\n",
    "import matplotlib\n",
    "import matplotlib.pyplot as plt\n",
    "from sklearn.neural_network import MLPClassifier\n",
    "from sklearn.cross_validation import train_test_split,cross_val_score\n",
    "from sklearn.metrics import roc_curve,auc\n",
    "from sklearn.metrics import confusion_matrix"
   ]
  },
  {
   "cell_type": "code",
   "execution_count": 2,
   "metadata": {},
   "outputs": [],
   "source": [
    "loandata = pd.read_csv(\"./training set/ts_label.csv\")\n"
   ]
  },
  {
   "cell_type": "code",
   "execution_count": 3,
   "metadata": {},
   "outputs": [],
   "source": [
    "X = loandata.drop(\"target\", axis = 1)\n",
    "y = loandata[[\"target\"]] \n",
    "X_train, X_test, y_train, y_test = train_test_split(X, y, train_size=0.5)"
   ]
  },
  {
   "cell_type": "code",
   "execution_count": 4,
   "metadata": {},
   "outputs": [],
   "source": [
    "#init classifier\n",
    "mlp = MLPClassifier(hidden_layer_sizes=(2,10,10), alpha=1e-4,\\\n",
    "                    solver='sgd', verbose=True, tol=1e-4, random_state=1,\\\n",
    "                    learning_rate_init=.1,)"
   ]
  },
  {
   "cell_type": "code",
   "execution_count": 5,
   "metadata": {
    "scrolled": true
   },
   "outputs": [
    {
     "name": "stderr",
     "output_type": "stream",
     "text": [
      "/usr/local/lib/python3.6/site-packages/sklearn/neural_network/multilayer_perceptron.py:912: DataConversionWarning: A column-vector y was passed when a 1d array was expected. Please change the shape of y to (n_samples, ), for example using ravel().\n",
      "  y = column_or_1d(y, warn=True)\n"
     ]
    },
    {
     "name": "stdout",
     "output_type": "stream",
     "text": [
      "Iteration 1, loss = 12.19222192\n",
      "Iteration 2, loss = 11.74005205\n",
      "Iteration 3, loss = 11.30186669\n",
      "Iteration 4, loss = 10.88048885\n",
      "Iteration 5, loss = 10.47528116\n",
      "Iteration 6, loss = 10.08561820\n",
      "Iteration 7, loss = 9.71090730\n",
      "Iteration 8, loss = 9.35057679\n",
      "Iteration 9, loss = 9.00407032\n",
      "Iteration 10, loss = 8.67085465\n",
      "Iteration 11, loss = 8.35042393\n",
      "Iteration 12, loss = 8.04229399\n",
      "Iteration 13, loss = 7.74597896\n",
      "Iteration 14, loss = 7.46103523\n",
      "Iteration 15, loss = 7.18702558\n",
      "Iteration 16, loss = 6.92352579\n",
      "Iteration 17, loss = 6.67013930\n",
      "Iteration 18, loss = 6.42648187\n",
      "Iteration 19, loss = 6.19216573\n",
      "Iteration 20, loss = 5.96684373\n",
      "Iteration 21, loss = 5.75016121\n",
      "Iteration 22, loss = 5.54179931\n",
      "Iteration 23, loss = 5.34142477\n",
      "Iteration 24, loss = 5.14874612\n",
      "Iteration 25, loss = 4.96345183\n",
      "Iteration 26, loss = 4.78526679\n",
      "Iteration 27, loss = 4.61392467\n",
      "Iteration 28, loss = 4.44915558\n",
      "Iteration 29, loss = 4.29070566\n",
      "Iteration 30, loss = 4.13833799\n",
      "Iteration 31, loss = 3.99181485\n",
      "Iteration 32, loss = 3.85091757\n",
      "Iteration 33, loss = 3.71542359\n",
      "Iteration 34, loss = 3.58512189\n",
      "Iteration 35, loss = 3.45982846\n",
      "Iteration 36, loss = 3.33933578\n",
      "Iteration 37, loss = 3.22347349\n",
      "Iteration 38, loss = 3.11204754\n",
      "Iteration 39, loss = 3.00490316\n",
      "Iteration 40, loss = 2.90186637\n",
      "Iteration 41, loss = 2.80278583\n",
      "Iteration 42, loss = 2.70750771\n",
      "Iteration 43, loss = 2.61588666\n",
      "Iteration 44, loss = 2.52777931\n",
      "Iteration 45, loss = 2.44304377\n",
      "Iteration 46, loss = 2.36156739\n",
      "Iteration 47, loss = 2.28321701\n",
      "Iteration 48, loss = 2.20787249\n",
      "Iteration 49, loss = 2.13542454\n",
      "Iteration 50, loss = 2.06574414\n",
      "Iteration 51, loss = 1.99874683\n",
      "Iteration 52, loss = 1.93431801\n",
      "Iteration 53, loss = 1.87235790\n",
      "Iteration 54, loss = 1.81277589\n",
      "Iteration 55, loss = 1.75548224\n",
      "Iteration 56, loss = 1.70038753\n",
      "Iteration 57, loss = 1.64739874\n",
      "Iteration 58, loss = 1.59645023\n",
      "Iteration 59, loss = 1.54745844\n",
      "Iteration 60, loss = 1.50034354\n",
      "Iteration 61, loss = 1.45503822\n",
      "Iteration 62, loss = 1.41146645\n",
      "Iteration 63, loss = 1.36957333\n",
      "Iteration 64, loss = 1.32928350\n",
      "Iteration 65, loss = 1.29053266\n",
      "Iteration 66, loss = 1.25327974\n",
      "Iteration 67, loss = 1.21744813\n",
      "Iteration 68, loss = 1.18300242\n",
      "Iteration 69, loss = 1.14986650\n",
      "Iteration 70, loss = 1.11800441\n",
      "Iteration 71, loss = 1.08736757\n",
      "Iteration 72, loss = 1.05790559\n",
      "Iteration 73, loss = 1.02958458\n",
      "Iteration 74, loss = 1.00233679\n",
      "Iteration 75, loss = 0.97613473\n",
      "Iteration 76, loss = 0.95093746\n",
      "Iteration 77, loss = 0.92671286\n",
      "Iteration 78, loss = 0.90341523\n",
      "Iteration 79, loss = 0.88101017\n",
      "Iteration 80, loss = 0.85946703\n",
      "Iteration 81, loss = 0.83875026\n",
      "Iteration 82, loss = 0.81882176\n",
      "Iteration 83, loss = 0.79966587\n",
      "Iteration 84, loss = 0.78124370\n",
      "Iteration 85, loss = 0.76352836\n",
      "Iteration 86, loss = 0.74649443\n",
      "Iteration 87, loss = 0.73011018\n",
      "Iteration 88, loss = 0.71435576\n",
      "Iteration 89, loss = 0.69920762\n",
      "Iteration 90, loss = 0.68462999\n",
      "Iteration 91, loss = 0.67062597\n",
      "Iteration 92, loss = 0.65715317\n",
      "Iteration 93, loss = 0.64419400\n",
      "Iteration 94, loss = 0.63174446\n",
      "Iteration 95, loss = 0.61976141\n",
      "Iteration 96, loss = 0.60823347\n",
      "Iteration 97, loss = 0.59715844\n",
      "Iteration 98, loss = 0.58650282\n",
      "Iteration 99, loss = 0.57626006\n",
      "Iteration 100, loss = 0.56640875\n",
      "Iteration 101, loss = 0.55693675\n",
      "Iteration 102, loss = 0.54782864\n",
      "Iteration 103, loss = 0.53906179\n",
      "Iteration 104, loss = 0.53063932\n",
      "Iteration 105, loss = 0.52254616\n",
      "Iteration 106, loss = 0.51475307\n",
      "Iteration 107, loss = 0.50726271\n",
      "Iteration 108, loss = 0.50004657\n",
      "Iteration 109, loss = 0.49313084\n",
      "Iteration 110, loss = 0.48646593\n",
      "Iteration 111, loss = 0.48005476\n",
      "Iteration 112, loss = 0.47389810\n",
      "Iteration 113, loss = 0.46797091\n",
      "Iteration 114, loss = 0.46228182\n",
      "Iteration 115, loss = 0.45680013\n",
      "Iteration 116, loss = 0.45152952\n",
      "Iteration 117, loss = 0.44646918\n",
      "Iteration 118, loss = 0.44159975\n",
      "Iteration 119, loss = 0.43690702\n",
      "Iteration 120, loss = 0.43240458\n",
      "Iteration 121, loss = 0.42807457\n",
      "Iteration 122, loss = 0.42391032\n",
      "Iteration 123, loss = 0.41990298\n",
      "Iteration 124, loss = 0.41604839\n",
      "Iteration 125, loss = 0.41234239\n",
      "Iteration 126, loss = 0.40878516\n",
      "Iteration 127, loss = 0.40535909\n",
      "Iteration 128, loss = 0.40206208\n",
      "Iteration 129, loss = 0.39889822\n",
      "Iteration 130, loss = 0.39584639\n",
      "Iteration 131, loss = 0.39291883\n",
      "Iteration 132, loss = 0.39010556\n",
      "Iteration 133, loss = 0.38739061\n",
      "Iteration 134, loss = 0.38479161\n",
      "Iteration 135, loss = 0.38228030\n",
      "Iteration 136, loss = 0.37987603\n",
      "Iteration 137, loss = 0.37755860\n",
      "Iteration 138, loss = 0.37533210\n",
      "Iteration 139, loss = 0.37318538\n",
      "Iteration 140, loss = 0.37112988\n",
      "Iteration 141, loss = 0.36914630\n",
      "Iteration 142, loss = 0.36724060\n",
      "Iteration 143, loss = 0.36541126\n",
      "Iteration 144, loss = 0.36364709\n",
      "Iteration 145, loss = 0.36195337\n",
      "Iteration 146, loss = 0.36032857\n",
      "Iteration 147, loss = 0.35875899\n",
      "Iteration 148, loss = 0.35725394\n",
      "Iteration 149, loss = 0.35580782\n",
      "Iteration 150, loss = 0.35441218\n",
      "Iteration 151, loss = 0.35306898\n",
      "Iteration 152, loss = 0.35178340\n",
      "Iteration 153, loss = 0.35053797\n",
      "Iteration 154, loss = 0.34934921\n",
      "Iteration 155, loss = 0.34821174\n",
      "Iteration 156, loss = 0.34710534\n",
      "Iteration 157, loss = 0.34604849\n",
      "Iteration 158, loss = 0.34502445\n",
      "Iteration 159, loss = 0.34404831\n",
      "Iteration 160, loss = 0.34311110\n",
      "Iteration 161, loss = 0.34220102\n",
      "Iteration 162, loss = 0.34133367\n",
      "Iteration 163, loss = 0.34048755\n",
      "Iteration 164, loss = 0.33969223\n",
      "Iteration 165, loss = 0.33891098\n",
      "Iteration 166, loss = 0.33816407\n",
      "Iteration 167, loss = 0.33744907\n",
      "Iteration 168, loss = 0.33676788\n",
      "Iteration 169, loss = 0.33609948\n",
      "Iteration 170, loss = 0.33546093\n",
      "Iteration 171, loss = 0.33485086\n",
      "Iteration 172, loss = 0.33426721\n",
      "Iteration 173, loss = 0.33369837\n",
      "Iteration 174, loss = 0.33315593\n",
      "Iteration 175, loss = 0.33262382\n",
      "Iteration 176, loss = 0.33212622\n",
      "Iteration 177, loss = 0.33163713\n",
      "Iteration 178, loss = 0.33117273\n",
      "Iteration 179, loss = 0.33072421\n",
      "Iteration 180, loss = 0.33029453\n",
      "Iteration 181, loss = 0.32988238\n",
      "Iteration 182, loss = 0.32947612\n",
      "Iteration 183, loss = 0.32909318\n",
      "Iteration 184, loss = 0.32873220\n",
      "Iteration 185, loss = 0.32837899\n",
      "Iteration 186, loss = 0.32803370\n",
      "Iteration 187, loss = 0.32770577\n",
      "Iteration 188, loss = 0.32739100\n",
      "Iteration 189, loss = 0.32709125\n",
      "Iteration 190, loss = 0.32680593\n",
      "Iteration 191, loss = 0.32652460\n",
      "Iteration 192, loss = 0.32625615\n",
      "Iteration 193, loss = 0.32600028\n",
      "Iteration 194, loss = 0.32575300\n",
      "Iteration 195, loss = 0.32550736\n",
      "Iteration 196, loss = 0.32527560\n",
      "Iteration 197, loss = 0.32505504\n",
      "Iteration 198, loss = 0.32484326\n",
      "Iteration 199, loss = 0.32463801\n",
      "Iteration 200, loss = 0.32444214\n"
     ]
    },
    {
     "name": "stderr",
     "output_type": "stream",
     "text": [
      "/usr/local/lib/python3.6/site-packages/sklearn/neural_network/multilayer_perceptron.py:564: ConvergenceWarning: Stochastic Optimizer: Maximum iterations (200) reached and the optimization hasn't converged yet.\n",
      "  % self.max_iter, ConvergenceWarning)\n"
     ]
    },
    {
     "data": {
      "text/plain": [
       "MLPClassifier(activation='relu', alpha=0.0001, batch_size='auto', beta_1=0.9,\n",
       "       beta_2=0.999, early_stopping=False, epsilon=1e-08,\n",
       "       hidden_layer_sizes=(2, 10, 10), learning_rate='constant',\n",
       "       learning_rate_init=0.1, max_iter=200, momentum=0.9,\n",
       "       nesterovs_momentum=True, power_t=0.5, random_state=1, shuffle=True,\n",
       "       solver='sgd', tol=0.0001, validation_fraction=0.1, verbose=True,\n",
       "       warm_start=False)"
      ]
     },
     "execution_count": 5,
     "metadata": {},
     "output_type": "execute_result"
    }
   ],
   "source": [
    "#train\n",
    "mlp.fit(X_train, y_train)"
   ]
  },
  {
   "cell_type": "code",
   "execution_count": 14,
   "metadata": {},
   "outputs": [],
   "source": [
    "predictions = mlp.predict(X_test)"
   ]
  },
  {
   "cell_type": "code",
   "execution_count": 9,
   "metadata": {},
   "outputs": [
    {
     "data": {
      "image/png": "[encoded data removed]",
      "text/plain": [
       "<matplotlib.figure.Figure at 0x10d307438>"
      ]
     },
     "metadata": {},
     "output_type": "display_data"
    }
   ],
   "source": [
    "#roc\n",
    "false_positive_rate, recall, thresholds = roc_curve(y_test, predictions)\n",
    "roc_auc=auc(false_positive_rate,recall)\n",
    "plt.title('Receiver Operating Characteristic')\n",
    "plt.plot(false_positive_rate, recall, 'b', label='AUC = %0.2f' % roc_auc)\n",
    "plt.legend(loc='lower right')\n",
    "plt.plot([0,1],[0,1],'r--')\n",
    "plt.xlim([0.0,1.0])\n",
    "plt.ylim([0.0,1.0])\n",
    "plt.ylabel('Recall')\n",
    "plt.xlabel('Fall-out')\n",
    "plt.show()"
   ]
  },
  {
   "cell_type": "code",
   "execution_count": 18,
   "metadata": {},
   "outputs": [
    {
     "name": "stdout",
     "output_type": "stream",
     "text": [
      "Iteration 1, loss = 0.00010470\n",
      "Iteration 2, loss = 0.00000700\n",
      "Iteration 3, loss = 0.00000676\n",
      "Iteration 4, loss = 0.00000662\n",
      "Training loss did not improve more than tol=0.000100 for two consecutive epochs. Stopping.\n",
      "Iteration 1, loss = 0.00010470\n",
      "Iteration 2, loss = 0.00000700\n",
      "Iteration 3, loss = 0.00000676\n",
      "Iteration 4, loss = 0.00000662\n",
      "Training loss did not improve more than tol=0.000100 for two consecutive epochs. Stopping.\n",
      "Accuracy： 0.0 [ 0.  0.]\n"
     ]
    }
   ],
   "source": [
    "#score = clf.score(X_test, y_test)\n",
    "scores = cross_val_score(mlp,y_test,predictions,cv=2,scoring='precision')\n",
    "print ('Accuracy：', np.mean(predictions), scores)"
   ]
  },
  {
   "cell_type": "code",
   "execution_count": 19,
   "metadata": {},
   "outputs": [
    {
     "data": {
      "image/png": "[encoded data removed]",
      "text/plain": [
       "<matplotlib.figure.Figure at 0x10d307080>"
      ]
     },
     "metadata": {},
     "output_type": "display_data"
    }
   ],
   "source": [
    "#confusion matrix\n",
    "confusion_matrix=confusion_matrix(y_test,predictions)\n",
    "plt.matshow(confusion_matrix)\n",
    "plt.title('confusion matrices')\n",
    "plt.colorbar()\n",
    "plt.ylabel('actual')\n",
    "plt.xlabel('predict')\n",
    "plt.show()"
   ]
  },
  {
   "cell_type": "code",
   "execution_count": null,
   "metadata": {},
   "outputs": [],
   "source": []
  }
 ],
 "metadata": {
  "kernelspec": {
   "display_name": "Python 3",
   "language": "python",
   "name": "python3"
  },
  "language_info": {
   "codemirror_mode": {
    "name": "ipython",
    "version": 3
   },
   "file_extension": ".py",
   "mimetype": "text/x-python",
   "name": "python",
   "nbconvert_exporter": "python",
   "pygments_lexer": "ipython3",
   "version": "3.6.3"
  }
 },
 "nbformat": 4,
 "nbformat_minor": 2
}
