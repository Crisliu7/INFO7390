{
 "cells": [
  {
   "cell_type": "code",
   "execution_count": 4,
   "metadata": {},
   "outputs": [],
   "source": [
    "f <- read.csv(\"./training set/features.csv\")\n",
    "ts <- read.csv(\"./training set/loandata_2.csv\")\n",
    "co <- c(names(f),'int_rate')\n"
   ]
  },
  {
   "cell_type": "code",
   "execution_count": 6,
   "metadata": {},
   "outputs": [
    {
     "data": {
      "text/html": [
       "30482"
      ],
      "text/latex": [
       "30482"
      ],
      "text/markdown": [
       "30482"
      ],
      "text/plain": [
       "[1] 30482"
      ]
     },
     "metadata": {},
     "output_type": "display_data"
    }
   ],
   "source": [
    "library(readr)\n",
    "set.seed(1)\n",
    "sub<-sample(1:nrow(ts),round(nrow(ts)*1/50))\n",
    "length(sub)\n",
    "x <- ts[sub,co]\n",
    "write.csv(x, \"./training set/features_2.csv\", row.names=FALSE)"
   ]
  },
  {
   "cell_type": "code",
   "execution_count": 8,
   "metadata": {},
   "outputs": [],
   "source": [
    "# Missing value\n",
    "x[x == \"\"] <- NA\n",
    "x <- x[complete.cases(x),]\n",
    "# Pre\n",
    "x[,9:12] <- data.frame(apply(x[,9:12], 2, as.factor))\n",
    "# Change factor into numeric\n",
    "for (i in 9:12)\n",
    "    x[,i] <- as.numeric(x[,i])\n",
    "x[,13:14] <- data.frame(lapply(x[,13:14], function(x) as.numeric(sub(\"%\", \"\", x))/100))\n",
    "# Outliers\n",
    "out_inc <- which(x[,1] > 1e6)\n",
    "x[out_inc,1] <- NA\n",
    "out_dti <- which((x[,2]>20)|(x[,2]<0))\n",
    "x[out_dti,2] <- NA\n",
    "out_pay <- which(x[,3]>20000)\n",
    "x[out_pay,3] <- NA\n",
    "out_mon <- which(x[,4]>24)\n",
    "x[out_mon,4] <- NA\n",
    "out_rev <- which(x[,6]>100000)\n",
    "x[out_rev,6] <- NA\n",
    "x <- x[complete.cases(x),]"
   ]
  },
  {
   "cell_type": "code",
   "execution_count": null,
   "metadata": {},
   "outputs": [],
   "source": []
  }
 ],
 "metadata": {
  "kernelspec": {
   "display_name": "R",
   "language": "R",
   "name": "ir"
  },
  "language_info": {
   "codemirror_mode": "r",
   "file_extension": ".r",
   "mimetype": "text/x-r-source",
   "name": "R",
   "pygments_lexer": "r",
   "version": "3.4.2"
  }
 },
 "nbformat": 4,
 "nbformat_minor": 2
}
