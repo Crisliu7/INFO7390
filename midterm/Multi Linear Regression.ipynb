{
 "cells": [
  {
   "cell_type": "code",
   "execution_count": 2,
   "metadata": {},
   "outputs": [
    {
     "name": "stderr",
     "output_type": "stream",
     "text": [
      "/usr/local/lib/python3.6/site-packages/sklearn/cross_validation.py:41: DeprecationWarning: This module was deprecated in version 0.18 in favor of the model_selection module into which all the refactored classes and functions are moved. Also note that the interface of the new CV iterators are different from that of this module. This module will be removed in 0.20.\n",
      "  \"This module will be removed in 0.20.\", DeprecationWarning)\n"
     ]
    }
   ],
   "source": [
    "import math\n",
    "import numpy as np\n",
    "import pandas as pd\n",
    "import matplotlib\n",
    "import matplotlib.pyplot as plt\n",
    "from sklearn import metrics\n",
    "from sklearn.cross_validation import train_test_split\n",
    "from sklearn.linear_model import LinearRegression\n",
    "pd.set_option('display.max_columns', None)\n",
    "from sklearn.model_selection import cross_validate"
   ]
  },
  {
   "cell_type": "code",
   "execution_count": 3,
   "metadata": {},
   "outputs": [
    {
     "data": {
      "text/html": [
       "<div>\n",
       "<style>\n",
       "    .dataframe thead tr:only-child th {\n",
       "        text-align: right;\n",
       "    }\n",
       "\n",
       "    .dataframe thead th {\n",
       "        text-align: left;\n",
       "    }\n",
       "\n",
       "    .dataframe tbody tr th {\n",
       "        vertical-align: top;\n",
       "    }\n",
       "</style>\n",
       "<table border=\"1\" class=\"dataframe\">\n",
       "  <thead>\n",
       "    <tr style=\"text-align: right;\">\n",
       "      <th></th>\n",
       "      <th>Zestimate</th>\n",
       "      <th>finishedsquarefeet12</th>\n",
       "      <th>lotsizesquarefeet</th>\n",
       "      <th>taxamount</th>\n",
       "      <th>longitude</th>\n",
       "      <th>latitude</th>\n",
       "      <th>regionidzip</th>\n",
       "      <th>yearbuilt</th>\n",
       "      <th>month</th>\n",
       "    </tr>\n",
       "  </thead>\n",
       "  <tbody>\n",
       "    <tr>\n",
       "      <th>0</th>\n",
       "      <td>10279.844084</td>\n",
       "      <td>1684.0</td>\n",
       "      <td>7528.0</td>\n",
       "      <td>6735.880000</td>\n",
       "      <td>-118.488536</td>\n",
       "      <td>34.280990</td>\n",
       "      <td>96370.0</td>\n",
       "      <td>1959.0</td>\n",
       "      <td>1</td>\n",
       "    </tr>\n",
       "    <tr>\n",
       "      <th>1</th>\n",
       "      <td>8450.157608</td>\n",
       "      <td>2263.0</td>\n",
       "      <td>3643.0</td>\n",
       "      <td>10153.020000</td>\n",
       "      <td>-117.677556</td>\n",
       "      <td>33.668120</td>\n",
       "      <td>96962.0</td>\n",
       "      <td>2014.0</td>\n",
       "      <td>1</td>\n",
       "    </tr>\n",
       "    <tr>\n",
       "      <th>2</th>\n",
       "      <td>9960.079893</td>\n",
       "      <td>2217.0</td>\n",
       "      <td>11423.0</td>\n",
       "      <td>5984.582647</td>\n",
       "      <td>-118.175032</td>\n",
       "      <td>34.136312</td>\n",
       "      <td>96293.0</td>\n",
       "      <td>1940.0</td>\n",
       "      <td>1</td>\n",
       "    </tr>\n",
       "    <tr>\n",
       "      <th>3</th>\n",
       "      <td>10220.393562</td>\n",
       "      <td>839.0</td>\n",
       "      <td>70859.0</td>\n",
       "      <td>3048.740000</td>\n",
       "      <td>-118.309000</td>\n",
       "      <td>33.755800</td>\n",
       "      <td>96222.0</td>\n",
       "      <td>1987.0</td>\n",
       "      <td>1</td>\n",
       "    </tr>\n",
       "    <tr>\n",
       "      <th>4</th>\n",
       "      <td>9950.124792</td>\n",
       "      <td>2283.0</td>\n",
       "      <td>6000.0</td>\n",
       "      <td>5488.960000</td>\n",
       "      <td>-117.700234</td>\n",
       "      <td>33.485643</td>\n",
       "      <td>96961.0</td>\n",
       "      <td>1981.0</td>\n",
       "      <td>1</td>\n",
       "    </tr>\n",
       "  </tbody>\n",
       "</table>\n",
       "</div>"
      ],
      "text/plain": [
       "      Zestimate  finishedsquarefeet12  lotsizesquarefeet     taxamount  \\\n",
       "0  10279.844084                1684.0             7528.0   6735.880000   \n",
       "1   8450.157608                2263.0             3643.0  10153.020000   \n",
       "2   9960.079893                2217.0            11423.0   5984.582647   \n",
       "3  10220.393562                 839.0            70859.0   3048.740000   \n",
       "4   9950.124792                2283.0             6000.0   5488.960000   \n",
       "\n",
       "    longitude   latitude  regionidzip  yearbuilt  month  \n",
       "0 -118.488536  34.280990      96370.0     1959.0      1  \n",
       "1 -117.677556  33.668120      96962.0     2014.0      1  \n",
       "2 -118.175032  34.136312      96293.0     1940.0      1  \n",
       "3 -118.309000  33.755800      96222.0     1987.0      1  \n",
       "4 -117.700234  33.485643      96961.0     1981.0      1  "
      ]
     },
     "execution_count": 3,
     "metadata": {},
     "output_type": "execute_result"
    }
   ],
   "source": [
    "# Training set\n",
    "ts_i = pd.read_csv('./Data/features_inter.csv')\n",
    "ts_u = pd.read_csv('./Data/features_union.csv')\n",
    "ts_i = ts_i.drop(['parcelid','logerror'],axis=1)\n",
    "ts_u = ts_u.drop(['parcelid','logerror'],axis=1)\n",
    "ts_i.head()"
   ]
  },
  {
   "cell_type": "code",
   "execution_count": 18,
   "metadata": {},
   "outputs": [],
   "source": [
    "# lr.score(X_test, y_test, sample_weight=1/y_test)\n",
    "def mae_loss(t,p):\n",
    "    sum = 0\n",
    "    for i in range(t.shape[0]):\n",
    "        sum += abs(t[i]-p[i])\n",
    "    return sum/t.shape[0]\n",
    "\n",
    "# mape = metrics.make_scorer(mape_loss, greater_is_better=False)\n",
    "\n",
    "def metric_lr(X_train, y_train, X_test, y_test, model, cri):\n",
    "    print(\"Intercept %s:\" % model.intercept_)\n",
    "    print(\"Coefficients %s:\" % model.coef_)\n",
    "    fit_time = 0\n",
    "    score_time = 0\n",
    "    test_score = 0\n",
    "    train_score = 0\n",
    "    result = cross_validate(model, X_test, y_test, scoring=cri)\n",
    "    for i in range(3):\n",
    "        fit_time += result['fit_time'][i]\n",
    "        score_time += result['score_time'][i]\n",
    "        test_score += result['test_score'][i]\n",
    "        train_score += result['train_score'][i]\n",
    "    pred = model.predict(X_test)\n",
    "    m = mae_loss(y_test, pred)\n",
    "    return [fit_time/3, score_time/3, test_score/3, train_score/3, m]\n",
    "#     print(\"R Squared: %s\" % model.score(X_test, y_test))\n",
    "#     print(\"Mean Squared Error: %s\" % metrics.mean_squared_error(y_test, y_pred))\n",
    "#     print(\"Root MSE: %s\" % np.sqrt(metrics.mean_squared_error(y_test, y_pred)))\n",
    "#     print(\"Mean Absolute Percent Error: %.2f%%\" % mape(y_test.reset_index()['logerror'], y_pred))"
   ]
  },
  {
   "cell_type": "code",
   "execution_count": 19,
   "metadata": {
    "scrolled": false
   },
   "outputs": [
    {
     "name": "stdout",
     "output_type": "stream",
     "text": [
      "Model 1:\n",
      "(115563, 8)\n",
      "(115563, 1)\n",
      "(49528, 8)\n",
      "(49528, 1)\n",
      "Intercept [ 8822.3812855]:\n",
      "Coefficients [[  5.81057132e-02   3.46486771e-05  -1.11592183e-02  -1.47637792e+01\n",
      "   -6.92008048e+01  -2.93355658e-04   9.14331076e-01   3.09873655e+00]]:\n",
      "[0.015625317891438801, 0.0013093153635660808, -386840.46862024564, -386557.96720264177, array([ 428.86898277])]\n",
      "****************************\n",
      "Model 2:\n",
      "(115563, 11)\n",
      "(115563, 1)\n",
      "(49528, 11)\n",
      "(49528, 1)\n",
      "Intercept [ 5893.01290428]:\n",
      "Coefficients [[  5.21593482e-02   4.55847236e-05  -1.14961291e-02  -1.53456301e+01\n",
      "   -6.65813277e+01  -5.78860164e-04   9.85808834e-01   3.67878026e+00\n",
      "    7.38861220e+00   4.41142129e-11  -5.51157410e+00]]:\n",
      "[0.023503383000691731, 0.0023166338602701821, -393563.80644127243, -382733.37962931441, array([ 428.65606308])]\n",
      "****************************\n",
      "   fit_time  score_time     test_score    train_score              MAE\n",
      "0  0.015625    0.001309 -386840.468620 -386557.967203  [428.868982766]\n",
      "1  0.023503    0.002317 -393563.806441 -382733.379629  [428.656063082]\n"
     ]
    }
   ],
   "source": [
    "# Multi-Linear Regression with MRE\n",
    "ts_list = [ts_i,ts_u]\n",
    "model_list = []\n",
    "frames = []\n",
    "for i in range(2):\n",
    "    print(\"Model %d:\" % (i+1))\n",
    "    ts = ts_list[i]\n",
    "    y = ts[['Zestimate']]\n",
    "    X = ts.drop('Zestimate',axis=1)\n",
    "    \n",
    "    # Split data with 0.75\n",
    "    X_train, X_test, y_train, y_test = train_test_split(X, y, train_size=0.7)\n",
    "    print (X_train.shape)\n",
    "    print (y_train.shape)\n",
    "    print (X_test.shape)\n",
    "    print (y_test.shape)\n",
    "    \n",
    "    lr = LinearRegression(normalize=True)\n",
    "    lr.fit(X_train, y_train)\n",
    "    model_list.append(lr)\n",
    "    metric = metric_lr(X_train, np.array(y_train), X_test, np.array(y_test), lr, 'neg_mean_squared_error')\n",
    "    print(metric)\n",
    "    result = pd.DataFrame.from_items([(i,metric)], \\\n",
    "                                     orient='index', \\\n",
    "                                     columns=['fit_time','score_time','test_score','train_score','MAE'])\n",
    "    frames.append(result)\n",
    "    print(\"****************************\")\n",
    "m = pd.concat(frames)\n",
    "print(m)"
   ]
  },
  {
   "cell_type": "code",
   "execution_count": 20,
   "metadata": {},
   "outputs": [],
   "source": [
    "best = model_list[1]\n",
    "pred = best.predict(X_test)\n",
    "error = pred - y_test"
   ]
  },
  {
   "cell_type": "code",
   "execution_count": 21,
   "metadata": {
    "scrolled": false
   },
   "outputs": [
    {
     "data": {
      "image/png": "[encoded data removed]",
      "text/plain": [
       "<matplotlib.figure.Figure at 0x151e9cc18>"
      ]
     },
     "metadata": {},
     "output_type": "display_data"
    },
    {
     "data": {
      "image/png": "[encoded data removed]",
      "text/plain": [
       "<matplotlib.figure.Figure at 0x152707cf8>"
      ]
     },
     "metadata": {},
     "output_type": "display_data"
    }
   ],
   "source": [
    "ind = np.arange(error.shape[0])\n",
    "width = 0.9\n",
    "fig, ax = plt.subplots(figsize=(12,18))\n",
    "rects = ax.barh(ind, error.values, color='blue')\n",
    "ax.set_xlabel(\"House\")\n",
    "ax.set_xlabel(\"Error\")\n",
    "ax.set_title(\"Errors of Predictions\")\n",
    "plt.show()"
   ]
  },
  {
   "cell_type": "code",
   "execution_count": 22,
   "metadata": {
    "scrolled": true
   },
   "outputs": [
    {
     "data": {
      "image/png": "[encoded data removed]",
      "text/plain": [
       "<matplotlib.figure.Figure at 0x187b37cc0>"
      ]
     },
     "metadata": {},
     "output_type": "display_data"
    }
   ],
   "source": [
    "f, ax = plt.subplots(figsize=(12,18))\n",
    "f.tight_layout()\n",
    "rects = ax.hist(error.values, bins=100, color='blue')\n",
    "ax.set_xlabel(\"Number of missing values\")\n",
    "ax.set_xlabel(\"Properties\")\n",
    "ax.set_title(\"Number of missing values according to each property\")\n",
    "plt.show()"
   ]
  },
  {
   "cell_type": "code",
   "execution_count": null,
   "metadata": {},
   "outputs": [],
   "source": [
    "f, ax = plt.subplots()\n",
    "ax.scatter(y_test, pred)\n",
    "ax.plot([y_test.min(), y_test.max()], [y_test.min(), y_test.max()], 'k--', lw=4)\n",
    "ax.set_xlabel('True Value')\n",
    "ax.set_ylabel('Prediction')\n",
    "plt.show()"
   ]
  },
  {
   "cell_type": "code",
   "execution_count": 110,
   "metadata": {},
   "outputs": [],
   "source": [
    "# # Multi-Linear Regression with MAPE\n",
    "# frames = []\n",
    "# for i in range(5):\n",
    "#     print(\"Round %d:\" % (i+1))\n",
    "#     lr = LinearRegression(normalize=True)\n",
    "#     lr.fit(X_train, y_train)\n",
    "#     metrics = metric_lr(X_train, y_train, X_test, y_test, lr, mape)\n",
    "#     print(metrics)\n",
    "#     result = pd.DataFrame.from_items([(i,metrics)], \\\n",
    "#                                      orient='index', \\\n",
    "#                                      columns=['fit_time','score_time','test_score','train_score'])\n",
    "#     frames.append(result)\n",
    "#     print(\"****************************\")\n",
    "# m = pd.concat(frames)\n",
    "# print(m)"
   ]
  },
  {
   "cell_type": "code",
   "execution_count": 308,
   "metadata": {},
   "outputs": [],
   "source": [
    "# from sklearn import datasets\n",
    "# boston = datasets.load_boston()\n",
    "# def df2skdata(df):\n",
    "#     i = 0\n",
    "#     skdata = []\n",
    "#     for row in range(df.shape[0]):\n",
    "#         j = 0\n",
    "#         for co in range(df.shape[1]):\n",
    "#             r = []\n",
    "#             r.append(df.ix[i,j])\n",
    "#         skdata.append(r)\n",
    "#     return skdata"
   ]
  },
  {
   "cell_type": "code",
   "execution_count": null,
   "metadata": {},
   "outputs": [],
   "source": []
  },
  {
   "cell_type": "code",
   "execution_count": null,
   "metadata": {},
   "outputs": [],
   "source": []
  },
  {
   "cell_type": "code",
   "execution_count": null,
   "metadata": {},
   "outputs": [],
   "source": []
  }
 ],
 "metadata": {
  "kernelspec": {
   "display_name": "Python 3",
   "language": "python",
   "name": "python3"
  },
  "language_info": {
   "codemirror_mode": {
    "name": "ipython",
    "version": 3
   },
   "file_extension": ".py",
   "mimetype": "text/x-python",
   "name": "python",
   "nbconvert_exporter": "python",
   "pygments_lexer": "ipython3",
   "version": "3.6.0"
  }
 },
 "nbformat": 4,
 "nbformat_minor": 2
}
