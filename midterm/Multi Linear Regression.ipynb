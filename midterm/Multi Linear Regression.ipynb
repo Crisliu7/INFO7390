{
 "cells": [
  {
   "cell_type": "code",
   "execution_count": 89,
   "metadata": {},
   "outputs": [],
   "source": [
    "import math\n",
    "import numpy as np\n",
    "import pandas as pd\n",
    "import matplotlib\n",
    "import matplotlib.pyplot as plt\n",
    "from sklearn import metrics\n",
    "from sklearn.cross_validation import train_test_split\n",
    "from sklearn.linear_model import LinearRegression\n",
    "pd.set_option('display.max_columns', None)\n",
    "from sklearn.model_selection import cross_validate"
   ]
  },
  {
   "cell_type": "code",
   "execution_count": 104,
   "metadata": {},
   "outputs": [
    {
     "name": "stdout",
     "output_type": "stream",
     "text": [
      "(115563, 9)\n",
      "(115563, 1)\n",
      "(49528, 9)\n",
      "(49528, 1)\n",
      "0.6999957599142291\n"
     ]
    }
   ],
   "source": [
    "# Training set\n",
    "ts = pd.read_csv('features.csv')\n",
    "ts['longitude'] = ts['longitude']/1000\n",
    "ts['latitude'] = ts['latitude']/1000\n",
    "ts['logerror'] = ts['logerror'].apply(lambda x: (math.exp(x)*10))\n",
    "y = ts[['logerror']]\n",
    "X = ts[['calculatedfinishedsquarefeet','lotsizesquarefeet',\\\n",
    "        'bedroomcnt','longitude','latitude','taxamount',\\\n",
    "        'regionidzip','month','yearbuilt']]\n",
    "# Split data with 0.75\n",
    "X_train, X_test, y_train, y_test = train_test_split(X, y, train_size=0.7)\n",
    "print (X_train.shape)\n",
    "print (y_train.shape)\n",
    "print (X_test.shape)\n",
    "print (y_test.shape)\n",
    "print (X_train.shape[0]/(X_train.shape[0]+X_test.shape[0]))"
   ]
  },
  {
   "cell_type": "code",
   "execution_count": null,
   "metadata": {},
   "outputs": [],
   "source": []
  },
  {
   "cell_type": "code",
   "execution_count": null,
   "metadata": {},
   "outputs": [],
   "source": []
  },
  {
   "cell_type": "code",
   "execution_count": 107,
   "metadata": {},
   "outputs": [],
   "source": [
    "# lr.score(X_test, y_test, sample_weight=1/y_test)\n",
    "def mape_loss(t,p):\n",
    "    sum = 0\n",
    "    for i in range(t.shape[0]):\n",
    "        sum += abs((t[i]-p[i])/t[i])\n",
    "    return sum/t.shape[0]\n",
    "\n",
    "mape = metrics.make_scorer(mape_loss, greater_is_better=False)\n",
    "\n",
    "def metric_lr(X_train, y_train, X_test, y_test, model, cri):\n",
    "    print(\"Intercept %s:\" % model.intercept_)\n",
    "    print(\"Coefficients %s:\" % model.coef_)\n",
    "    fit_time = 0\n",
    "    score_time = 0\n",
    "    test_score = 0\n",
    "    train_score = 0\n",
    "    result = cross_validate(model, X_test, y_test, scoring=cri)\n",
    "    for i in range(3):\n",
    "        fit_time += result['fit_time'][i]\n",
    "        score_time += result['score_time'][i]\n",
    "        test_score += result['test_score'][i]\n",
    "        train_score += result['train_score'][i]\n",
    "    pred = model.predict(X_test)\n",
    "    m = mape_loss(y_test, pred)\n",
    "    return [fit_time/3, score_time/3, test_score/3, train_score/3, m]\n",
    "#     print(\"R Squared: %s\" % model.score(X_test, y_test))\n",
    "#     print(\"Mean Squared Error: %s\" % metrics.mean_squared_error(y_test, y_pred))\n",
    "#     print(\"Root MSE: %s\" % np.sqrt(metrics.mean_squared_error(y_test, y_pred)))\n",
    "#     print(\"Mean Absolute Percent Error: %.2f%%\" % mape(y_test.reset_index()['logerror'], y_pred))"
   ]
  },
  {
   "cell_type": "code",
   "execution_count": 109,
   "metadata": {
    "scrolled": false
   },
   "outputs": [
    {
     "name": "stdout",
     "output_type": "stream",
     "text": [
      "Round 1:\n",
      "Intercept [ 7.6762999]:\n",
      "Coefficients [[  4.37437700e-05   4.31573674e-08   1.66877317e-02  -2.36797220e-05\n",
      "   -8.08341201e-05  -8.07621716e-06  -3.79139296e-07   2.87768784e-03\n",
      "    1.15102059e-03]]:\n",
      "[0.011924346288045248, 0.0013284683227539062, -0.38456364605773224, -0.38418380141144431, array([ 0.04330424])]\n",
      "****************************\n",
      "Round 2:\n",
      "Intercept [ 7.6762999]:\n",
      "Coefficients [[  4.37437700e-05   4.31573674e-08   1.66877317e-02  -2.36797220e-05\n",
      "   -8.08341201e-05  -8.07621716e-06  -3.79139296e-07   2.87768784e-03\n",
      "    1.15102059e-03]]:\n",
      "[0.013404210408528646, 0.0012015501658121746, -0.38456364605773224, -0.38418380141144431, array([ 0.04330424])]\n",
      "****************************\n",
      "Round 3:\n",
      "Intercept [ 7.6762999]:\n",
      "Coefficients [[  4.37437700e-05   4.31573674e-08   1.66877317e-02  -2.36797220e-05\n",
      "   -8.08341201e-05  -8.07621716e-06  -3.79139296e-07   2.87768784e-03\n",
      "    1.15102059e-03]]:\n",
      "[0.013487021128336588, 0.001282056172688802, -0.38456364605773224, -0.38418380141144431, array([ 0.04330424])]\n",
      "****************************\n",
      "Round 4:\n",
      "Intercept [ 7.6762999]:\n",
      "Coefficients [[  4.37437700e-05   4.31573674e-08   1.66877317e-02  -2.36797220e-05\n",
      "   -8.08341201e-05  -8.07621716e-06  -3.79139296e-07   2.87768784e-03\n",
      "    1.15102059e-03]]:\n",
      "[0.011756658554077148, 0.001037279764811198, -0.38456364605773224, -0.38418380141144431, array([ 0.04330424])]\n",
      "****************************\n",
      "Round 5:\n",
      "Intercept [ 7.6762999]:\n",
      "Coefficients [[  4.37437700e-05   4.31573674e-08   1.66877317e-02  -2.36797220e-05\n",
      "   -8.08341201e-05  -8.07621716e-06  -3.79139296e-07   2.87768784e-03\n",
      "    1.15102059e-03]]:\n",
      "[0.025840997695922852, 0.0028622945149739585, -0.38456364605773224, -0.38418380141144431, array([ 0.04330424])]\n",
      "****************************\n",
      "   fit_time  score_time  test_score  train_score               MAPE\n",
      "0  0.011924    0.001328   -0.384564    -0.384184  [0.0433042398674]\n",
      "1  0.013404    0.001202   -0.384564    -0.384184  [0.0433042398674]\n",
      "2  0.013487    0.001282   -0.384564    -0.384184  [0.0433042398674]\n",
      "3  0.011757    0.001037   -0.384564    -0.384184  [0.0433042398674]\n",
      "4  0.025841    0.002862   -0.384564    -0.384184  [0.0433042398674]\n"
     ]
    }
   ],
   "source": [
    "# Multi-Linear Regression with MRE\n",
    "frames = []\n",
    "for i in range(5):\n",
    "    print(\"Round %d:\" % (i+1))\n",
    "    lr = LinearRegression(normalize=True)\n",
    "    lr.fit(X_train, y_train)\n",
    "    metric = metric_lr(X_train, np.array(y_train), X_test, np.array(y_test), lr, 'neg_mean_squared_error')\n",
    "    print(metric)\n",
    "    result = pd.DataFrame.from_items([(i,metric)], \\\n",
    "                                     orient='index', \\\n",
    "                                     columns=['fit_time','score_time','test_score','train_score','MAPE'])\n",
    "    frames.append(result)\n",
    "    print(\"****************************\")\n",
    "m = pd.concat(frames)\n",
    "print(m)"
   ]
  },
  {
   "cell_type": "code",
   "execution_count": null,
   "metadata": {},
   "outputs": [],
   "source": []
  },
  {
   "cell_type": "code",
   "execution_count": 110,
   "metadata": {},
   "outputs": [],
   "source": [
    "# # Multi-Linear Regression with MAPE\n",
    "# frames = []\n",
    "# for i in range(5):\n",
    "#     print(\"Round %d:\" % (i+1))\n",
    "#     lr = LinearRegression(normalize=True)\n",
    "#     lr.fit(X_train, y_train)\n",
    "#     metrics = metric_lr(X_train, y_train, X_test, y_test, lr, mape)\n",
    "#     print(metrics)\n",
    "#     result = pd.DataFrame.from_items([(i,metrics)], \\\n",
    "#                                      orient='index', \\\n",
    "#                                      columns=['fit_time','score_time','test_score','train_score'])\n",
    "#     frames.append(result)\n",
    "#     print(\"****************************\")\n",
    "# m = pd.concat(frames)\n",
    "# print(m)"
   ]
  },
  {
   "cell_type": "code",
   "execution_count": 308,
   "metadata": {},
   "outputs": [],
   "source": [
    "# from sklearn import datasets\n",
    "# boston = datasets.load_boston()\n",
    "# def df2skdata(df):\n",
    "#     i = 0\n",
    "#     skdata = []\n",
    "#     for row in range(df.shape[0]):\n",
    "#         j = 0\n",
    "#         for co in range(df.shape[1]):\n",
    "#             r = []\n",
    "#             r.append(df.ix[i,j])\n",
    "#         skdata.append(r)\n",
    "#     return skdata"
   ]
  },
  {
   "cell_type": "code",
   "execution_count": 57,
   "metadata": {},
   "outputs": [
    {
     "data": {
      "image/png": "[encoded data removed]",
      "text/plain": [
       "<matplotlib.figure.Figure at 0x1192117f0>"
      ]
     },
     "metadata": {},
     "output_type": "display_data"
    }
   ],
   "source": [
    "ind = np.arange(error.shape[0])\n",
    "width = 0.9\n",
    "fig, ax = plt.subplots(figsize=(12,18))\n",
    "rects = ax.barh(ind, error.values, color='blue')\n",
    "ax.set_xlabel(\"Number of missing values\")\n",
    "ax.set_xlabel(\"Properties\")\n",
    "ax.set_title(\"Number of missing values according to each property\")\n",
    "plt.show()"
   ]
  },
  {
   "cell_type": "code",
   "execution_count": 60,
   "metadata": {},
   "outputs": [
    {
     "data": {
      "image/png": "[encoded data removed]",
      "text/plain": [
       "<matplotlib.figure.Figure at 0x14f5265c0>"
      ]
     },
     "metadata": {},
     "output_type": "display_data"
    }
   ],
   "source": [
    "f, ax = plt.subplots(figsize=(12,18))\n",
    "f.tight_layout()\n",
    "rects = ax.hist(error.values, bins=100, color='blue')\n",
    "ax.set_xlabel(\"Number of missing values\")\n",
    "ax.set_xlabel(\"Properties\")\n",
    "ax.set_title(\"Number of missing values according to each property\")\n",
    "plt.show()"
   ]
  },
  {
   "cell_type": "code",
   "execution_count": null,
   "metadata": {},
   "outputs": [],
   "source": []
  },
  {
   "cell_type": "code",
   "execution_count": null,
   "metadata": {},
   "outputs": [],
   "source": []
  },
  {
   "cell_type": "code",
   "execution_count": 61,
   "metadata": {},
   "outputs": [
    {
     "data": {
      "image/png": "[encoded data removed]",
      "text/plain": [
       "<matplotlib.figure.Figure at 0x150caaef0>"
      ]
     },
     "metadata": {},
     "output_type": "display_data"
    }
   ],
   "source": [
    "f, ax = plt.subplots()\n",
    "ax.scatter(y_test, y_pred)\n",
    "ax.plot([y_test.min(), y_test.max()], [y_test.min(), y_test.max()], 'k--', lw=4)\n",
    "ax.set_xlabel('True Value')\n",
    "ax.set_ylabel('Prediction')\n",
    "plt.show()"
   ]
  },
  {
   "cell_type": "code",
   "execution_count": null,
   "metadata": {},
   "outputs": [],
   "source": []
  }
 ],
 "metadata": {
  "kernelspec": {
   "display_name": "Python 3",
   "language": "python",
   "name": "python3"
  },
  "language_info": {
   "codemirror_mode": {
    "name": "ipython",
    "version": 3
   },
   "file_extension": ".py",
   "mimetype": "text/x-python",
   "name": "python",
   "nbconvert_exporter": "python",
   "pygments_lexer": "ipython3",
   "version": "3.6.0"
  }
 },
 "nbformat": 4,
 "nbformat_minor": 2
}
