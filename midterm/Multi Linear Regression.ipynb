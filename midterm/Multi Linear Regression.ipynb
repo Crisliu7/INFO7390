{
 "cells": [
  {
   "cell_type": "code",
   "execution_count": 1,
   "metadata": {},
   "outputs": [
    {
     "name": "stderr",
     "output_type": "stream",
     "text": [
      "/usr/local/lib/python3.6/site-packages/sklearn/cross_validation.py:41: DeprecationWarning: This module was deprecated in version 0.18 in favor of the model_selection module into which all the refactored classes and functions are moved. Also note that the interface of the new CV iterators are different from that of this module. This module will be removed in 0.20.\n",
      "  \"This module will be removed in 0.20.\", DeprecationWarning)\n"
     ]
    }
   ],
   "source": [
    "import math\n",
    "import numpy as np\n",
    "import pandas as pd\n",
    "import matplotlib\n",
    "import matplotlib.pyplot as plt\n",
    "from sklearn import metrics\n",
    "from sklearn.cross_validation import train_test_split\n",
    "from sklearn.linear_model import LinearRegression\n",
    "pd.set_option('display.max_columns', None)\n",
    "from sklearn.model_selection import cross_validate"
   ]
  },
  {
   "cell_type": "code",
   "execution_count": 2,
   "metadata": {},
   "outputs": [
    {
     "data": {
      "text/html": [
       "<div>\n",
       "<style>\n",
       "    .dataframe thead tr:only-child th {\n",
       "        text-align: right;\n",
       "    }\n",
       "\n",
       "    .dataframe thead th {\n",
       "        text-align: left;\n",
       "    }\n",
       "\n",
       "    .dataframe tbody tr th {\n",
       "        vertical-align: top;\n",
       "    }\n",
       "</style>\n",
       "<table border=\"1\" class=\"dataframe\">\n",
       "  <thead>\n",
       "    <tr style=\"text-align: right;\">\n",
       "      <th></th>\n",
       "      <th>logerror</th>\n",
       "      <th>finishedsquarefeet12</th>\n",
       "      <th>lotsizesquarefeet</th>\n",
       "      <th>taxamount</th>\n",
       "      <th>longitude</th>\n",
       "      <th>latitude</th>\n",
       "      <th>regionidzip</th>\n",
       "      <th>yearbuilt</th>\n",
       "      <th>month</th>\n",
       "    </tr>\n",
       "  </thead>\n",
       "  <tbody>\n",
       "    <tr>\n",
       "      <th>0</th>\n",
       "      <td>0.0276</td>\n",
       "      <td>1684.0</td>\n",
       "      <td>7528.0</td>\n",
       "      <td>6735.880000</td>\n",
       "      <td>-118.488536</td>\n",
       "      <td>34.280990</td>\n",
       "      <td>96370.0</td>\n",
       "      <td>1959.0</td>\n",
       "      <td>1</td>\n",
       "    </tr>\n",
       "    <tr>\n",
       "      <th>1</th>\n",
       "      <td>-0.1684</td>\n",
       "      <td>2263.0</td>\n",
       "      <td>3643.0</td>\n",
       "      <td>10153.020000</td>\n",
       "      <td>-117.677556</td>\n",
       "      <td>33.668120</td>\n",
       "      <td>96962.0</td>\n",
       "      <td>2014.0</td>\n",
       "      <td>1</td>\n",
       "    </tr>\n",
       "    <tr>\n",
       "      <th>2</th>\n",
       "      <td>-0.0040</td>\n",
       "      <td>2217.0</td>\n",
       "      <td>11423.0</td>\n",
       "      <td>5984.582647</td>\n",
       "      <td>-118.175032</td>\n",
       "      <td>34.136312</td>\n",
       "      <td>96293.0</td>\n",
       "      <td>1940.0</td>\n",
       "      <td>1</td>\n",
       "    </tr>\n",
       "    <tr>\n",
       "      <th>3</th>\n",
       "      <td>0.0218</td>\n",
       "      <td>839.0</td>\n",
       "      <td>70859.0</td>\n",
       "      <td>3048.740000</td>\n",
       "      <td>-118.309000</td>\n",
       "      <td>33.755800</td>\n",
       "      <td>96222.0</td>\n",
       "      <td>1987.0</td>\n",
       "      <td>1</td>\n",
       "    </tr>\n",
       "    <tr>\n",
       "      <th>4</th>\n",
       "      <td>-0.0050</td>\n",
       "      <td>2283.0</td>\n",
       "      <td>6000.0</td>\n",
       "      <td>5488.960000</td>\n",
       "      <td>-117.700234</td>\n",
       "      <td>33.485643</td>\n",
       "      <td>96961.0</td>\n",
       "      <td>1981.0</td>\n",
       "      <td>1</td>\n",
       "    </tr>\n",
       "  </tbody>\n",
       "</table>\n",
       "</div>"
      ],
      "text/plain": [
       "   logerror  finishedsquarefeet12  lotsizesquarefeet     taxamount  \\\n",
       "0    0.0276                1684.0             7528.0   6735.880000   \n",
       "1   -0.1684                2263.0             3643.0  10153.020000   \n",
       "2   -0.0040                2217.0            11423.0   5984.582647   \n",
       "3    0.0218                 839.0            70859.0   3048.740000   \n",
       "4   -0.0050                2283.0             6000.0   5488.960000   \n",
       "\n",
       "    longitude   latitude  regionidzip  yearbuilt  month  \n",
       "0 -118.488536  34.280990      96370.0     1959.0      1  \n",
       "1 -117.677556  33.668120      96962.0     2014.0      1  \n",
       "2 -118.175032  34.136312      96293.0     1940.0      1  \n",
       "3 -118.309000  33.755800      96222.0     1987.0      1  \n",
       "4 -117.700234  33.485643      96961.0     1981.0      1  "
      ]
     },
     "execution_count": 2,
     "metadata": {},
     "output_type": "execute_result"
    }
   ],
   "source": [
    "# Training set\n",
    "ts_i = pd.read_csv('./Data/features_inter.csv')\n",
    "ts_u = pd.read_csv('./Data/features_union.csv')\n",
    "ts_i = ts_i.drop(['parcelid'],axis=1)\n",
    "ts_u = ts_u.drop(['parcelid'],axis=1)\n",
    "ts_i.head()"
   ]
  },
  {
   "cell_type": "code",
   "execution_count": 3,
   "metadata": {},
   "outputs": [],
   "source": [
    "# lr.score(X_test, y_test, sample_weight=1/y_test)\n",
    "def mae_loss(t,p):\n",
    "    sum = 0\n",
    "    for i in range(t.shape[0]):\n",
    "        sum += abs(t[i]-p[i])\n",
    "    return sum/t.shape[0]\n",
    "\n",
    "# mape = metrics.make_scorer(mape_loss, greater_is_better=False)\n",
    "\n",
    "def metric_lr(X_train, y_train, X_test, y_test, model, cri):\n",
    "    print(\"Intercept %s:\" % model.intercept_)\n",
    "    print(\"Coefficients %s:\" % model.coef_)\n",
    "    fit_time = 0\n",
    "    score_time = 0\n",
    "    test_score = 0\n",
    "    train_score = 0\n",
    "    result = cross_validate(model, X_test, y_test, scoring=cri)\n",
    "    for i in range(3):\n",
    "        fit_time += result['fit_time'][i]\n",
    "        score_time += result['score_time'][i]\n",
    "        test_score += result['test_score'][i]\n",
    "        train_score += result['train_score'][i]\n",
    "    pred = model.predict(X_test)\n",
    "    m = mae_loss(y_test, pred)\n",
    "    return [fit_time/3, score_time/3, test_score/3, train_score/3, m]\n",
    "#     print(\"R Squared: %s\" % model.score(X_test, y_test))\n",
    "#     print(\"Mean Squared Error: %s\" % metrics.mean_squared_error(y_test, y_pred))\n",
    "#     print(\"Root MSE: %s\" % np.sqrt(metrics.mean_squared_error(y_test, y_pred)))\n",
    "#     print(\"Mean Absolute Percent Error: %.2f%%\" % mape(y_test.reset_index()['logerror'], y_pred))"
   ]
  },
  {
   "cell_type": "code",
   "execution_count": 4,
   "metadata": {
    "scrolled": false
   },
   "outputs": [
    {
     "name": "stdout",
     "output_type": "stream",
     "text": [
      "Model 1:\n",
      "(115563, 8)\n",
      "(115563, 1)\n",
      "(49528, 8)\n",
      "(49528, 1)\n",
      "Intercept [-0.16393437]:\n",
      "Coefficients [[  5.67431129e-06   2.48556930e-09  -1.14103041e-06  -1.66120662e-03\n",
      "   -7.55432780e-03   7.82867981e-09   1.12017828e-04   3.58318112e-04]]:\n"
     ]
    },
    {
     "name": "stderr",
     "output_type": "stream",
     "text": [
      "/usr/local/lib/python3.6/site-packages/scipy/linalg/basic.py:1018: RuntimeWarning: internal gelsd driver lwork query error, required iwork dimension not returned. This is likely the result of LAPACK bug 0038, fixed in LAPACK 3.2.2 (released July 21, 2010). Falling back to 'gelss' driver.\n",
      "  warnings.warn(mesg, RuntimeWarning)\n"
     ]
    },
    {
     "name": "stdout",
     "output_type": "stream",
     "text": [
      "[0.01188500722249349, 0.0011696815490722656, -0.0039239151129654487, -0.0039207370693552747, array([ 0.04298383])]\n",
      "****************************\n",
      "Model 2:\n",
      "(115563, 11)\n",
      "(115563, 1)\n",
      "(49528, 11)\n",
      "(49528, 1)\n",
      "Intercept [-0.27397278]:\n",
      "Coefficients [[  5.03004196e-06   4.05155947e-09  -1.10860465e-06  -2.17231496e-03\n",
      "   -7.79118248e-03   1.04900219e-08   1.25459667e-04   3.60986823e-04\n",
      "    7.51436297e-04   5.25170575e-16  -5.06510026e-04]]:\n",
      "[0.01460107167561849, 0.0014639695485432942, -0.0039757312970825397, -0.0039068641380428414, array([ 0.04296686])]\n",
      "****************************\n",
      "   fit_time  score_time  test_score  train_score                MAE\n",
      "0  0.011885    0.001170   -0.003924    -0.003921   [0.042983832709]\n",
      "1  0.014601    0.001464   -0.003976    -0.003907  [0.0429668570523]\n"
     ]
    }
   ],
   "source": [
    "# Multi-Linear Regression with MRE\n",
    "ts_list = [ts_i,ts_u]\n",
    "model_list = []\n",
    "frames = []\n",
    "for i in range(2):\n",
    "    print(\"Model %d:\" % (i+1))\n",
    "    ts = ts_list[i]\n",
    "    y = ts[['logerror']]\n",
    "    X = ts.drop('logerror',axis=1)\n",
    "    \n",
    "    # Split data with 0.75\n",
    "    X_train, X_test, y_train, y_test = train_test_split(X, y, train_size=0.7)\n",
    "    print (X_train.shape)\n",
    "    print (y_train.shape)\n",
    "    print (X_test.shape)\n",
    "    print (y_test.shape)\n",
    "    \n",
    "    lr = LinearRegression(normalize=True)\n",
    "    lr.fit(X_train, y_train)\n",
    "    model_list.append(lr)\n",
    "    metric = metric_lr(X_train, np.array(y_train), X_test, np.array(y_test), lr, 'neg_mean_squared_error')\n",
    "    print(metric)\n",
    "    result = pd.DataFrame.from_items([(i,metric)], \\\n",
    "                                     orient='index', \\\n",
    "                                     columns=['fit_time','score_time','test_score','train_score','MAE'])\n",
    "    frames.append(result)\n",
    "    print(\"****************************\")\n",
    "m = pd.concat(frames)\n",
    "print(m)"
   ]
  },
  {
   "cell_type": "code",
   "execution_count": 5,
   "metadata": {},
   "outputs": [],
   "source": [
    "best = model_list[1]\n",
    "X_train, X_test, y_train, y_test = train_test_split(X, y, train_size=0.7)\n",
    "pred = best.predict(X_test)\n",
    "error = pred - y_test"
   ]
  },
  {
   "cell_type": "code",
   "execution_count": 6,
   "metadata": {
    "scrolled": false
   },
   "outputs": [
    {
     "data": {
      "image/png": "[encoded data removed]",
      "text/plain": [
       "<matplotlib.figure.Figure at 0x106a12d30>"
      ]
     },
     "metadata": {},
     "output_type": "display_data"
    }
   ],
   "source": [
    "ind = np.arange(error.shape[0])\n",
    "width = 0.9\n",
    "fig, ax = plt.subplots(figsize=(12,18))\n",
    "rects = ax.barh(ind, error.values, color='blue')\n",
    "ax.set_xlabel(\"House\")\n",
    "ax.set_xlabel(\"Error\")\n",
    "ax.set_title(\"Errors of Predictions\")\n",
    "plt.show()"
   ]
  },
  {
   "cell_type": "code",
   "execution_count": 7,
   "metadata": {
    "scrolled": true
   },
   "outputs": [
    {
     "data": {
      "image/png": "[encoded data removed]",
      "text/plain": [
       "<matplotlib.figure.Figure at 0x106a12a58>"
      ]
     },
     "metadata": {},
     "output_type": "display_data"
    }
   ],
   "source": [
    "f, ax = plt.subplots(figsize=(12,18))\n",
    "f.tight_layout()\n",
    "rects = ax.hist(error.values, bins=100, color='blue')\n",
    "ax.set_xlabel(\"Number of missing values\")\n",
    "ax.set_xlabel(\"Properties\")\n",
    "ax.set_title(\"Number of missing values according to each property\")\n",
    "plt.show()"
   ]
  },
  {
   "cell_type": "code",
   "execution_count": 8,
   "metadata": {},
   "outputs": [
    {
     "data": {
      "image/png": "[encoded data removed]",
      "text/plain": [
       "<matplotlib.figure.Figure at 0x116876d68>"
      ]
     },
     "metadata": {},
     "output_type": "display_data"
    }
   ],
   "source": [
    "f, ax = plt.subplots()\n",
    "ax.scatter(y_test, pred)\n",
    "ax.plot([y_test.min(), y_test.max()], [y_test.min(), y_test.max()], 'k--', lw=4)\n",
    "ax.set_xlabel('True Value')\n",
    "ax.set_ylabel('Prediction')\n",
    "plt.show()"
   ]
  },
  {
   "cell_type": "code",
   "execution_count": 110,
   "metadata": {},
   "outputs": [],
   "source": [
    "# # Multi-Linear Regression with MAPE\n",
    "# frames = []\n",
    "# for i in range(5):\n",
    "#     print(\"Round %d:\" % (i+1))\n",
    "#     lr = LinearRegression(normalize=True)\n",
    "#     lr.fit(X_train, y_train)\n",
    "#     metrics = metric_lr(X_train, y_train, X_test, y_test, lr, mape)\n",
    "#     print(metrics)\n",
    "#     result = pd.DataFrame.from_items([(i,metrics)], \\\n",
    "#                                      orient='index', \\\n",
    "#                                      columns=['fit_time','score_time','test_score','train_score'])\n",
    "#     frames.append(result)\n",
    "#     print(\"****************************\")\n",
    "# m = pd.concat(frames)\n",
    "# print(m)"
   ]
  },
  {
   "cell_type": "code",
   "execution_count": 308,
   "metadata": {},
   "outputs": [],
   "source": [
    "# from sklearn import datasets\n",
    "# boston = datasets.load_boston()\n",
    "# def df2skdata(df):\n",
    "#     i = 0\n",
    "#     skdata = []\n",
    "#     for row in range(df.shape[0]):\n",
    "#         j = 0\n",
    "#         for co in range(df.shape[1]):\n",
    "#             r = []\n",
    "#             r.append(df.ix[i,j])\n",
    "#         skdata.append(r)\n",
    "#     return skdata"
   ]
  },
  {
   "cell_type": "code",
   "execution_count": null,
   "metadata": {},
   "outputs": [],
   "source": []
  },
  {
   "cell_type": "code",
   "execution_count": null,
   "metadata": {},
   "outputs": [],
   "source": []
  },
  {
   "cell_type": "code",
   "execution_count": null,
   "metadata": {},
   "outputs": [],
   "source": []
  }
 ],
 "metadata": {
  "kernelspec": {
   "display_name": "Python 3",
   "language": "python",
   "name": "python3"
  },
  "language_info": {
   "codemirror_mode": {
    "name": "ipython",
    "version": 3
   },
   "file_extension": ".py",
   "mimetype": "text/x-python",
   "name": "python",
   "nbconvert_exporter": "python",
   "pygments_lexer": "ipython3",
   "version": "3.6.3"
  }
 },
 "nbformat": 4,
 "nbformat_minor": 2
}
