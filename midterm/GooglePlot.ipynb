{
 "cells": [
  {
   "cell_type": "code",
   "execution_count": 3,
   "metadata": {},
   "outputs": [],
   "source": [
    "import math\n",
    "import numpy as np\n",
    "import pandas as pd\n",
    "import matplotlib\n",
    "import matplotlib.pyplot as p\n",
    "from matplotlib import pyplot as plt\n",
    "from sklearn.neighbors import KDTree\n",
    "from scipy.stats.stats import pearsonr\n",
    "from scipy.stats import rankdata"
   ]
  },
  {
   "cell_type": "code",
   "execution_count": 16,
   "metadata": {},
   "outputs": [],
   "source": [
    "def get_pde(train,bw):\n",
    "    x = train['longitude'].values\n",
    "    y = train['latitude'].values\n",
    "    xy = np.vstack([x,y])\n",
    "    X = np.transpose(xy)\n",
    "    tree = KDTree(X,leaf_size = 20 )     \n",
    "    parcelDensity = tree.kernel_density(X, h=bw,kernel='gaussian',rtol=0.00001)\n",
    "    return parcelDensity"
   ]
  },
  {
   "cell_type": "code",
   "execution_count": 34,
   "metadata": {},
   "outputs": [],
   "source": [
    "lo = ([34.374072,-119.475416],[34.373735,-119.475265],[34.365693,-119.448392], [34.365241999999995,-119.447944],\\\n",
    "      [34.365292,-119.447865],[34.365981,-119.447353],[34.364364,-119.44701], [34.364076000000004,-119.446093], \\\n",
    "        [34.363913000000004,-119.446994], [34.363299,-119.445901],[34.5,-119.4])"
   ]
  },
  {
   "cell_type": "code",
   "execution_count": 39,
   "metadata": {
    "scrolled": true
   },
   "outputs": [
    {
     "data": {
      "text/html": [
       "<div style=\"width:100%;\"><div style=\"position:relative;width:100%;height:0;padding-bottom:60%;\"><iframe src=\"data:text/html;charset=utf-8;base64,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\" style=\"position:absolute;width:100%;height:100%;left:0;top:0;border:none !important;\" allowfullscreen webkitallowfullscreen mozallowfullscreen></iframe></div></div>"
      ],
      "text/plain": [
       "<folium.folium.Map at 0x10f773dd8>"
      ]
     },
     "execution_count": 39,
     "metadata": {},
     "output_type": "execute_result"
    }
   ],
   "source": [
    "# ts = pd.read_csv(\"./Data/features_inter.csv\")\n",
    "# lon = ts['longitude']\n",
    "# lat = ts['latitude']\n",
    "# lon = [-119.475416,-119.475265,-119.448392, -119.447944,\\\n",
    "#        -119.447865, -119.447353, -119.44701, -119.446093, \\\n",
    "#        -119.446994, -119.445901]\n",
    "# lat = [34.374072,34.373735,34.365693,\\\n",
    "#        34.365241999999995, 34.365292 , \\\n",
    "#        34.365981, 34.364364,34.364076000000004,\\\n",
    "#        34.363913000000004,34.363299]\n",
    "# # tree = KDTree(lon,leaf_size = 20 )     \n",
    "# # parcelDensity = tree.kernel_density(lon, h=bw,kernel='gaussian',rtol=0.00001)\n",
    "# plt.figure(figsize=(14,14))\n",
    "# plt.axis(\"off\")\n",
    "# plt.title(\"Gaussian Parcel Density Estimate\")\n",
    "# # plt.axis([-121, -117.5, 30, 35.5])\n",
    "# plt.scatter(lon, lat, c='r',marker='o',cmap='inferno', s=30, alpha=0.5,edgecolor='')\n",
    "# # plt.scatter(-119, 34.5, c='k',marker='x',cmap='inferno', s=30, alpha=0.5,edgecolor='')\n",
    "# plt.show()\n",
    "import folium\n",
    "map10 = folium.Map(location=lo[-1], zoom_start=9)\n",
    "for l in lo:\n",
    "    folium.Marker(location=l).add_to(map10)\n",
    "map10"
   ]
  },
  {
   "cell_type": "code",
   "execution_count": null,
   "metadata": {},
   "outputs": [],
   "source": [
    "# train['longitude'].values -118\n",
    "# train['latitude'].values 35"
   ]
  }
 ],
 "metadata": {
  "kernelspec": {
   "display_name": "Python 3",
   "language": "python",
   "name": "python3"
  },
  "language_info": {
   "codemirror_mode": {
    "name": "ipython",
    "version": 3
   },
   "file_extension": ".py",
   "mimetype": "text/x-python",
   "name": "python",
   "nbconvert_exporter": "python",
   "pygments_lexer": "ipython3",
   "version": "3.6.0"
  }
 },
 "nbformat": 4,
 "nbformat_minor": 2
}
