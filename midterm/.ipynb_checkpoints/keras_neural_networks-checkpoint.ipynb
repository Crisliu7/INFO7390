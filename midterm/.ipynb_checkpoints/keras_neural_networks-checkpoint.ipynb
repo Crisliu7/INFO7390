{
 "cells": [
  {
   "cell_type": "code",
   "execution_count": 64,
   "metadata": {},
   "outputs": [],
   "source": [
    "from sklearn.neural_network import MLPClassifier\n",
    "import pandas as pd \n",
    "import numpy as np\n",
    "import keras\n",
    "from keras.models import Sequential\n",
    "from keras.layers import Dense\n",
    "from keras.layers import Dropout, BatchNormalization\n",
    "from keras.wrappers.scikit_learn import KerasRegressor\n",
    "from sklearn.model_selection import cross_val_score\n",
    "from sklearn.model_selection import KFold\n",
    "from sklearn.preprocessing import StandardScaler\n",
    "from sklearn.pipeline import Pipeline\n",
    "from sklearn.preprocessing import LabelEncoder"
   ]
  },
  {
   "cell_type": "code",
   "execution_count": 65,
   "metadata": {},
   "outputs": [],
   "source": [
    "#read csv file\n",
    "df = pd.read_csv(\"./Data/features_inter.csv\")"
   ]
  },
  {
   "cell_type": "code",
   "execution_count": 66,
   "metadata": {},
   "outputs": [
    {
     "data": {
      "text/plain": [
       "0    10279.844084\n",
       "1     8450.157608\n",
       "2     9960.079893\n",
       "3    10220.393562\n",
       "4     9950.124792\n",
       "Name: Zestimate, dtype: float64"
      ]
     },
     "execution_count": 66,
     "metadata": {},
     "output_type": "execute_result"
    }
   ],
   "source": [
    "#define pending data and target\n",
    "y = df[\"Zestimate\"]\n",
    "X = df.drop([\"logerror\",'Zestimate','parcelid'], axis = 1)\n",
    "y.head()"
   ]
  },
  {
   "cell_type": "code",
   "execution_count": 82,
   "metadata": {},
   "outputs": [
    {
     "data": {
      "text/plain": [
       "165091"
      ]
     },
     "execution_count": 82,
     "metadata": {},
     "output_type": "execute_result"
    }
   ],
   "source": [
    "# Standardize features\n",
    "scaler = StandardScaler()\n",
    "X = scaler.fit_transform(X)\n",
    "lenthX = len(X)\n",
    "lenthX"
   ]
  },
  {
   "cell_type": "code",
   "execution_count": 68,
   "metadata": {},
   "outputs": [
    {
     "name": "stdout",
     "output_type": "stream",
     "text": [
      "(?, 165091)\n",
      "Tensor(\"dense_27/BiasAdd:0\", shape=(?, 165091), dtype=float32)\n"
     ]
    }
   ],
   "source": [
    "from keras.layers import Input, Dense\n",
    "p = Input(shape=(165091,))\n",
    "print(p.shape)\n",
    "z = Dense(165091)(p)\n",
    "print(z)"
   ]
  },
  {
   "cell_type": "code",
   "execution_count": null,
   "metadata": {},
   "outputs": [],
   "source": [
    "#setup neural network\n",
    "seq = Sequential()\n",
    "seq.add(Dense(units = 40 , kernel_initializer = 'random_normal', use_bias = True, bias_initializer='ones', activation = 'relu', input_dim = 8))\n",
    "seq.add(Dropout(.1))\n",
    "\n",
    "seq.add(Dense(units = 20 , kernel_initializer = 'random_normal', use_bias = True, bias_initializer='ones', activation = 'relu'))\n",
    "seq.add(Dropout(.1))\n",
    "seq.add(BatchNormalization())\n",
    "\n",
    "seq.add(Dense(units = 10 , kernel_initializer = 'random_normal', use_bias = True, bias_initializer='ones', activation = 'relu'))\n",
    "seq.add(Dropout(.1))\n",
    "seq.add(BatchNormalization())\n",
    "\n",
    "seq.add(Dense(1, kernel_initializer='normal'))\n",
    "\n",
    "adam = keras.optimizers.Adam(lr=0.001, beta_1=0.9, beta_2=0.999, epsilon=1e-08, decay=0.0)\n",
    "seq.compile(optimizer=adam, loss='mean_squared_error', metrics=['accuracy', 'mae'])"
   ]
  },
  {
   "cell_type": "code",
   "execution_count": null,
   "metadata": {
    "scrolled": false
   },
   "outputs": [
    {
     "name": "stdout",
     "output_type": "stream",
     "text": [
      "Epoch 1/30\n"
     ]
    }
   ],
   "source": [
    "seq.fit(np.array(X), y, batch_size=32, epochs=30, verbose=2, \\\n",
    "        callbacks=None, validation_split=0.0, validation_data=None, \\\n",
    "        shuffle=True, class_weight=None, sample_weight=None, initial_epoch=0)"
   ]
  },
  {
   "cell_type": "code",
   "execution_count": 38,
   "metadata": {},
   "outputs": [],
   "source": [
    "#predict\n",
    "#Y = test"
   ]
  },
  {
   "cell_type": "code",
   "execution_count": null,
   "metadata": {},
   "outputs": [],
   "source": []
  }
 ],
 "metadata": {
  "kernelspec": {
   "display_name": "Python 3",
   "language": "python",
   "name": "python3"
  },
  "language_info": {
   "codemirror_mode": {
    "name": "ipython",
    "version": 3
   },
   "file_extension": ".py",
   "mimetype": "text/x-python",
   "name": "python",
   "nbconvert_exporter": "python",
   "pygments_lexer": "ipython3",
   "version": "3.6.0"
  }
 },
 "nbformat": 4,
 "nbformat_minor": 2
}
