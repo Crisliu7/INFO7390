{
 "cells": [
  {
   "cell_type": "code",
   "execution_count": 13,
   "metadata": {},
   "outputs": [],
   "source": [
    "import math\n",
    "import numpy as np\n",
    "import pandas as pd\n",
    "import matplotlib\n",
    "import matplotlib.pyplot as plt\n",
    "import sklearn\n",
    "from sklearn import metrics\n",
    "from sklearn.cross_validation import train_test_split\n",
    "from sklearn.model_selection import cross_validate\n",
    "from sklearn.neural_network import MLPRegressor\n",
    "pd.set_option('display.max_columns', None)"
   ]
  },
  {
   "cell_type": "code",
   "execution_count": 5,
   "metadata": {},
   "outputs": [
    {
     "data": {
      "text/html": [
       "<div>\n",
       "<style>\n",
       "    .dataframe thead tr:only-child th {\n",
       "        text-align: right;\n",
       "    }\n",
       "\n",
       "    .dataframe thead th {\n",
       "        text-align: left;\n",
       "    }\n",
       "\n",
       "    .dataframe tbody tr th {\n",
       "        vertical-align: top;\n",
       "    }\n",
       "</style>\n",
       "<table border=\"1\" class=\"dataframe\">\n",
       "  <thead>\n",
       "    <tr style=\"text-align: right;\">\n",
       "      <th></th>\n",
       "      <th>Zestimate</th>\n",
       "      <th>finishedsquarefeet12</th>\n",
       "      <th>lotsizesquarefeet</th>\n",
       "      <th>taxamount</th>\n",
       "      <th>longitude</th>\n",
       "      <th>latitude</th>\n",
       "      <th>regionidzip</th>\n",
       "      <th>yearbuilt</th>\n",
       "      <th>month</th>\n",
       "    </tr>\n",
       "  </thead>\n",
       "  <tbody>\n",
       "    <tr>\n",
       "      <th>0</th>\n",
       "      <td>10279.844084</td>\n",
       "      <td>1684.0</td>\n",
       "      <td>7528.0</td>\n",
       "      <td>6735.880000</td>\n",
       "      <td>-118.488536</td>\n",
       "      <td>34.280990</td>\n",
       "      <td>96370.0</td>\n",
       "      <td>1959.0</td>\n",
       "      <td>1</td>\n",
       "    </tr>\n",
       "    <tr>\n",
       "      <th>1</th>\n",
       "      <td>8450.157608</td>\n",
       "      <td>2263.0</td>\n",
       "      <td>3643.0</td>\n",
       "      <td>10153.020000</td>\n",
       "      <td>-117.677556</td>\n",
       "      <td>33.668120</td>\n",
       "      <td>96962.0</td>\n",
       "      <td>2014.0</td>\n",
       "      <td>1</td>\n",
       "    </tr>\n",
       "    <tr>\n",
       "      <th>2</th>\n",
       "      <td>9960.079893</td>\n",
       "      <td>2217.0</td>\n",
       "      <td>11423.0</td>\n",
       "      <td>5984.582647</td>\n",
       "      <td>-118.175032</td>\n",
       "      <td>34.136312</td>\n",
       "      <td>96293.0</td>\n",
       "      <td>1940.0</td>\n",
       "      <td>1</td>\n",
       "    </tr>\n",
       "    <tr>\n",
       "      <th>3</th>\n",
       "      <td>10220.393562</td>\n",
       "      <td>839.0</td>\n",
       "      <td>70859.0</td>\n",
       "      <td>3048.740000</td>\n",
       "      <td>-118.309000</td>\n",
       "      <td>33.755800</td>\n",
       "      <td>96222.0</td>\n",
       "      <td>1987.0</td>\n",
       "      <td>1</td>\n",
       "    </tr>\n",
       "    <tr>\n",
       "      <th>4</th>\n",
       "      <td>9950.124792</td>\n",
       "      <td>2283.0</td>\n",
       "      <td>6000.0</td>\n",
       "      <td>5488.960000</td>\n",
       "      <td>-117.700234</td>\n",
       "      <td>33.485643</td>\n",
       "      <td>96961.0</td>\n",
       "      <td>1981.0</td>\n",
       "      <td>1</td>\n",
       "    </tr>\n",
       "  </tbody>\n",
       "</table>\n",
       "</div>"
      ],
      "text/plain": [
       "      Zestimate  finishedsquarefeet12  lotsizesquarefeet     taxamount  \\\n",
       "0  10279.844084                1684.0             7528.0   6735.880000   \n",
       "1   8450.157608                2263.0             3643.0  10153.020000   \n",
       "2   9960.079893                2217.0            11423.0   5984.582647   \n",
       "3  10220.393562                 839.0            70859.0   3048.740000   \n",
       "4   9950.124792                2283.0             6000.0   5488.960000   \n",
       "\n",
       "    longitude   latitude  regionidzip  yearbuilt  month  \n",
       "0 -118.488536  34.280990      96370.0     1959.0      1  \n",
       "1 -117.677556  33.668120      96962.0     2014.0      1  \n",
       "2 -118.175032  34.136312      96293.0     1940.0      1  \n",
       "3 -118.309000  33.755800      96222.0     1987.0      1  \n",
       "4 -117.700234  33.485643      96961.0     1981.0      1  "
      ]
     },
     "execution_count": 5,
     "metadata": {},
     "output_type": "execute_result"
    }
   ],
   "source": [
    "# Training set\n",
    "ts_i = pd.read_csv('./Data/features_inter.csv')\n",
    "ts_u = pd.read_csv('./Data/features_union.csv')\n",
    "ts_i = ts_i.drop(['parcelid','logerror'],axis=1)\n",
    "ts_u = ts_u.drop(['parcelid','logerror'],axis=1)\n",
    "ts_i.head()"
   ]
  },
  {
   "cell_type": "code",
   "execution_count": 16,
   "metadata": {},
   "outputs": [],
   "source": [
    "def mae_loss(t,p):\n",
    "    sum = 0\n",
    "    for i in range(t.shape[0]):\n",
    "        sum += abs(t[i]-p[i])\n",
    "    return sum/t.shape[0]\n",
    "def metric_nn(X_train, y_train, X_test, y_test, model, cri):\n",
    "    print(model)\n",
    "    fit_time = 0\n",
    "    score_time = 0\n",
    "    test_score = 0\n",
    "    train_score = 0\n",
    "    result = cross_validate(model, X_test, y_test, scoring=cri)\n",
    "    for i in range(3):\n",
    "        fit_time += result['fit_time'][i]\n",
    "        score_time += result['score_time'][i]\n",
    "        test_score += result['test_score'][i]\n",
    "        train_score += result['train_score'][i]\n",
    "    pred = model.predict(X_test)\n",
    "    m = mae_loss(y_test, pred)\n",
    "    return [fit_time/3, score_time/3, test_score/3, train_score/3, m]"
   ]
  },
  {
   "cell_type": "code",
   "execution_count": 17,
   "metadata": {
    "scrolled": false
   },
   "outputs": [
    {
     "name": "stdout",
     "output_type": "stream",
     "text": [
      "Round 1:\n",
      "(115563, 8)\n",
      "(115563, 1)\n",
      "(49528, 8)\n",
      "(49528, 1)\n"
     ]
    },
    {
     "name": "stderr",
     "output_type": "stream",
     "text": [
      "/usr/local/lib/python3.6/site-packages/sklearn/neural_network/multilayer_perceptron.py:1306: DataConversionWarning: A column-vector y was passed when a 1d array was expected. Please change the shape of y to (n_samples, ), for example using ravel().\n",
      "  y = column_or_1d(y, warn=True)\n"
     ]
    },
    {
     "name": "stdout",
     "output_type": "stream",
     "text": [
      "MLPRegressor(activation='relu', alpha=0.0001, batch_size='auto', beta_1=0.9,\n",
      "       beta_2=0.999, early_stopping=False, epsilon=1e-08,\n",
      "       hidden_layer_sizes=(1,), learning_rate='constant',\n",
      "       learning_rate_init=0.001, max_iter=200, momentum=0.9,\n",
      "       nesterovs_momentum=True, power_t=0.5, random_state=None,\n",
      "       shuffle=True, solver='adam', tol=0.0001, validation_fraction=0.1,\n",
      "       verbose=False, warm_start=False)\n"
     ]
    },
    {
     "name": "stderr",
     "output_type": "stream",
     "text": [
      "/usr/local/lib/python3.6/site-packages/sklearn/neural_network/multilayer_perceptron.py:1306: DataConversionWarning: A column-vector y was passed when a 1d array was expected. Please change the shape of y to (n_samples, ), for example using ravel().\n",
      "  y = column_or_1d(y, warn=True)\n",
      "/usr/local/lib/python3.6/site-packages/sklearn/neural_network/multilayer_perceptron.py:1306: DataConversionWarning: A column-vector y was passed when a 1d array was expected. Please change the shape of y to (n_samples, ), for example using ravel().\n",
      "  y = column_or_1d(y, warn=True)\n",
      "/usr/local/lib/python3.6/site-packages/sklearn/neural_network/multilayer_perceptron.py:564: ConvergenceWarning: Stochastic Optimizer: Maximum iterations (200) reached and the optimization hasn't converged yet.\n",
      "  % self.max_iter, ConvergenceWarning)\n",
      "/usr/local/lib/python3.6/site-packages/sklearn/neural_network/multilayer_perceptron.py:1306: DataConversionWarning: A column-vector y was passed when a 1d array was expected. Please change the shape of y to (n_samples, ), for example using ravel().\n",
      "  y = column_or_1d(y, warn=True)\n",
      "/usr/local/lib/python3.6/site-packages/sklearn/neural_network/multilayer_perceptron.py:564: ConvergenceWarning: Stochastic Optimizer: Maximum iterations (200) reached and the optimization hasn't converged yet.\n",
      "  % self.max_iter, ConvergenceWarning)\n"
     ]
    },
    {
     "name": "stdout",
     "output_type": "stream",
     "text": [
      "[6.6098514397939043, 0.0026144981384277344, -67382723.44209376, -67359925.257269695, array([ 440.31180861])]\n",
      "****************************\n",
      "Round 2:\n",
      "(115563, 8)\n",
      "(115563, 1)\n",
      "(49528, 8)\n",
      "(49528, 1)\n",
      "MLPRegressor(activation='relu', alpha=0.0002, batch_size='auto', beta_1=0.9,\n",
      "       beta_2=0.999, early_stopping=False, epsilon=1e-08,\n",
      "       hidden_layer_sizes=(2,), learning_rate='constant',\n",
      "       learning_rate_init=0.001, max_iter=200, momentum=0.9,\n",
      "       nesterovs_momentum=True, power_t=0.5, random_state=None,\n",
      "       shuffle=True, solver='adam', tol=0.0001, validation_fraction=0.1,\n",
      "       verbose=False, warm_start=False)\n"
     ]
    },
    {
     "name": "stderr",
     "output_type": "stream",
     "text": [
      "/usr/local/lib/python3.6/site-packages/sklearn/neural_network/multilayer_perceptron.py:1306: DataConversionWarning: A column-vector y was passed when a 1d array was expected. Please change the shape of y to (n_samples, ), for example using ravel().\n",
      "  y = column_or_1d(y, warn=True)\n",
      "/usr/local/lib/python3.6/site-packages/sklearn/neural_network/multilayer_perceptron.py:564: ConvergenceWarning: Stochastic Optimizer: Maximum iterations (200) reached and the optimization hasn't converged yet.\n",
      "  % self.max_iter, ConvergenceWarning)\n",
      "/usr/local/lib/python3.6/site-packages/sklearn/neural_network/multilayer_perceptron.py:1306: DataConversionWarning: A column-vector y was passed when a 1d array was expected. Please change the shape of y to (n_samples, ), for example using ravel().\n",
      "  y = column_or_1d(y, warn=True)\n",
      "/usr/local/lib/python3.6/site-packages/sklearn/neural_network/multilayer_perceptron.py:1306: DataConversionWarning: A column-vector y was passed when a 1d array was expected. Please change the shape of y to (n_samples, ), for example using ravel().\n",
      "  y = column_or_1d(y, warn=True)\n"
     ]
    },
    {
     "name": "stdout",
     "output_type": "stream",
     "text": [
      "[4.4839030106862383, 0.0033987363179524741, -537433.41715800157, -535929.39071687509, array([ 437.63389631])]\n",
      "****************************\n",
      "Round 3:\n",
      "(115563, 8)\n",
      "(115563, 1)\n",
      "(49528, 8)\n",
      "(49528, 1)\n"
     ]
    },
    {
     "name": "stderr",
     "output_type": "stream",
     "text": [
      "/usr/local/lib/python3.6/site-packages/sklearn/neural_network/multilayer_perceptron.py:564: ConvergenceWarning: Stochastic Optimizer: Maximum iterations (200) reached and the optimization hasn't converged yet.\n",
      "  % self.max_iter, ConvergenceWarning)\n",
      "/usr/local/lib/python3.6/site-packages/sklearn/neural_network/multilayer_perceptron.py:1306: DataConversionWarning: A column-vector y was passed when a 1d array was expected. Please change the shape of y to (n_samples, ), for example using ravel().\n",
      "  y = column_or_1d(y, warn=True)\n"
     ]
    },
    {
     "name": "stdout",
     "output_type": "stream",
     "text": [
      "MLPRegressor(activation='relu', alpha=0.00030000000000000003,\n",
      "       batch_size='auto', beta_1=0.9, beta_2=0.999, early_stopping=False,\n",
      "       epsilon=1e-08, hidden_layer_sizes=(3,), learning_rate='constant',\n",
      "       learning_rate_init=0.001, max_iter=200, momentum=0.9,\n",
      "       nesterovs_momentum=True, power_t=0.5, random_state=None,\n",
      "       shuffle=True, solver='adam', tol=0.0001, validation_fraction=0.1,\n",
      "       verbose=False, warm_start=False)\n"
     ]
    },
    {
     "name": "stderr",
     "output_type": "stream",
     "text": [
      "/usr/local/lib/python3.6/site-packages/sklearn/neural_network/multilayer_perceptron.py:1306: DataConversionWarning: A column-vector y was passed when a 1d array was expected. Please change the shape of y to (n_samples, ), for example using ravel().\n",
      "  y = column_or_1d(y, warn=True)\n",
      "/usr/local/lib/python3.6/site-packages/sklearn/neural_network/multilayer_perceptron.py:1306: DataConversionWarning: A column-vector y was passed when a 1d array was expected. Please change the shape of y to (n_samples, ), for example using ravel().\n",
      "  y = column_or_1d(y, warn=True)\n"
     ]
    },
    {
     "name": "stdout",
     "output_type": "stream",
     "text": [
      "[3.7690618832906089, 0.006112416585286458, -509933.80009407533, -538642.7630242632, array([ 9938.34831224])]\n",
      "****************************\n",
      "Round 4:\n",
      "(115563, 8)\n",
      "(115563, 1)\n",
      "(49528, 8)\n",
      "(49528, 1)\n",
      "MLPRegressor(activation='relu', alpha=0.0004, batch_size='auto', beta_1=0.9,\n",
      "       beta_2=0.999, early_stopping=False, epsilon=1e-08,\n",
      "       hidden_layer_sizes=(4,), learning_rate='constant',\n",
      "       learning_rate_init=0.001, max_iter=200, momentum=0.9,\n",
      "       nesterovs_momentum=True, power_t=0.5, random_state=None,\n",
      "       shuffle=True, solver='adam', tol=0.0001, validation_fraction=0.1,\n",
      "       verbose=False, warm_start=False)\n"
     ]
    },
    {
     "name": "stderr",
     "output_type": "stream",
     "text": [
      "/usr/local/lib/python3.6/site-packages/sklearn/neural_network/multilayer_perceptron.py:1306: DataConversionWarning: A column-vector y was passed when a 1d array was expected. Please change the shape of y to (n_samples, ), for example using ravel().\n",
      "  y = column_or_1d(y, warn=True)\n",
      "/usr/local/lib/python3.6/site-packages/sklearn/neural_network/multilayer_perceptron.py:1306: DataConversionWarning: A column-vector y was passed when a 1d array was expected. Please change the shape of y to (n_samples, ), for example using ravel().\n",
      "  y = column_or_1d(y, warn=True)\n",
      "/usr/local/lib/python3.6/site-packages/sklearn/neural_network/multilayer_perceptron.py:1306: DataConversionWarning: A column-vector y was passed when a 1d array was expected. Please change the shape of y to (n_samples, ), for example using ravel().\n",
      "  y = column_or_1d(y, warn=True)\n"
     ]
    },
    {
     "name": "stdout",
     "output_type": "stream",
     "text": [
      "[1.4052825768788655, 0.0049804051717122393, -641932.12777159456, -660830.21930887213, array([ 433.12077938])]\n",
      "****************************\n",
      "Round 5:\n",
      "(115563, 8)\n",
      "(115563, 1)\n",
      "(49528, 8)\n",
      "(49528, 1)\n",
      "MLPRegressor(activation='relu', alpha=0.0005, batch_size='auto', beta_1=0.9,\n",
      "       beta_2=0.999, early_stopping=False, epsilon=1e-08,\n",
      "       hidden_layer_sizes=(5,), learning_rate='constant',\n",
      "       learning_rate_init=0.001, max_iter=200, momentum=0.9,\n",
      "       nesterovs_momentum=True, power_t=0.5, random_state=None,\n",
      "       shuffle=True, solver='adam', tol=0.0001, validation_fraction=0.1,\n",
      "       verbose=False, warm_start=False)\n"
     ]
    },
    {
     "name": "stderr",
     "output_type": "stream",
     "text": [
      "/usr/local/lib/python3.6/site-packages/sklearn/neural_network/multilayer_perceptron.py:1306: DataConversionWarning: A column-vector y was passed when a 1d array was expected. Please change the shape of y to (n_samples, ), for example using ravel().\n",
      "  y = column_or_1d(y, warn=True)\n",
      "/usr/local/lib/python3.6/site-packages/sklearn/neural_network/multilayer_perceptron.py:1306: DataConversionWarning: A column-vector y was passed when a 1d array was expected. Please change the shape of y to (n_samples, ), for example using ravel().\n",
      "  y = column_or_1d(y, warn=True)\n",
      "/usr/local/lib/python3.6/site-packages/sklearn/neural_network/multilayer_perceptron.py:1306: DataConversionWarning: A column-vector y was passed when a 1d array was expected. Please change the shape of y to (n_samples, ), for example using ravel().\n",
      "  y = column_or_1d(y, warn=True)\n"
     ]
    },
    {
     "name": "stdout",
     "output_type": "stream",
     "text": [
      "[1.4886713822682698, 0.0037016073862711587, -493172.48899036768, -491086.07010265737, array([ 439.04272838])]\n",
      "****************************\n",
      "Round 6:\n",
      "(115563, 8)\n",
      "(115563, 1)\n",
      "(49528, 8)\n",
      "(49528, 1)\n",
      "MLPRegressor(activation='relu', alpha=0.0006000000000000001,\n",
      "       batch_size='auto', beta_1=0.9, beta_2=0.999, early_stopping=False,\n",
      "       epsilon=1e-08, hidden_layer_sizes=(6,), learning_rate='constant',\n",
      "       learning_rate_init=0.001, max_iter=200, momentum=0.9,\n",
      "       nesterovs_momentum=True, power_t=0.5, random_state=None,\n",
      "       shuffle=True, solver='adam', tol=0.0001, validation_fraction=0.1,\n",
      "       verbose=False, warm_start=False)\n"
     ]
    },
    {
     "name": "stderr",
     "output_type": "stream",
     "text": [
      "/usr/local/lib/python3.6/site-packages/sklearn/neural_network/multilayer_perceptron.py:1306: DataConversionWarning: A column-vector y was passed when a 1d array was expected. Please change the shape of y to (n_samples, ), for example using ravel().\n",
      "  y = column_or_1d(y, warn=True)\n",
      "/usr/local/lib/python3.6/site-packages/sklearn/neural_network/multilayer_perceptron.py:1306: DataConversionWarning: A column-vector y was passed when a 1d array was expected. Please change the shape of y to (n_samples, ), for example using ravel().\n",
      "  y = column_or_1d(y, warn=True)\n",
      "/usr/local/lib/python3.6/site-packages/sklearn/neural_network/multilayer_perceptron.py:1306: DataConversionWarning: A column-vector y was passed when a 1d array was expected. Please change the shape of y to (n_samples, ), for example using ravel().\n",
      "  y = column_or_1d(y, warn=True)\n"
     ]
    },
    {
     "name": "stdout",
     "output_type": "stream",
     "text": [
      "[2.0651841958363852, 0.0044103463490804034, -522723.06665775878, -523613.5546378757, array([ 458.55258461])]\n",
      "****************************\n",
      "Round 7:\n",
      "(115563, 8)\n",
      "(115563, 1)\n",
      "(49528, 8)\n",
      "(49528, 1)\n",
      "MLPRegressor(activation='relu', alpha=0.0007, batch_size='auto', beta_1=0.9,\n",
      "       beta_2=0.999, early_stopping=False, epsilon=1e-08,\n",
      "       hidden_layer_sizes=(7,), learning_rate='constant',\n",
      "       learning_rate_init=0.001, max_iter=200, momentum=0.9,\n",
      "       nesterovs_momentum=True, power_t=0.5, random_state=None,\n",
      "       shuffle=True, solver='adam', tol=0.0001, validation_fraction=0.1,\n",
      "       verbose=False, warm_start=False)\n"
     ]
    },
    {
     "name": "stderr",
     "output_type": "stream",
     "text": [
      "/usr/local/lib/python3.6/site-packages/sklearn/neural_network/multilayer_perceptron.py:1306: DataConversionWarning: A column-vector y was passed when a 1d array was expected. Please change the shape of y to (n_samples, ), for example using ravel().\n",
      "  y = column_or_1d(y, warn=True)\n",
      "/usr/local/lib/python3.6/site-packages/sklearn/neural_network/multilayer_perceptron.py:1306: DataConversionWarning: A column-vector y was passed when a 1d array was expected. Please change the shape of y to (n_samples, ), for example using ravel().\n",
      "  y = column_or_1d(y, warn=True)\n",
      "/usr/local/lib/python3.6/site-packages/sklearn/neural_network/multilayer_perceptron.py:1306: DataConversionWarning: A column-vector y was passed when a 1d array was expected. Please change the shape of y to (n_samples, ), for example using ravel().\n",
      "  y = column_or_1d(y, warn=True)\n"
     ]
    },
    {
     "name": "stdout",
     "output_type": "stream",
     "text": [
      "[2.387449343999227, 0.0049444039662679034, -537541.38712823449, -520573.18852811906, array([ 466.48203689])]\n",
      "****************************\n",
      "Round 8:\n",
      "(115563, 8)\n",
      "(115563, 1)\n",
      "(49528, 8)\n",
      "(49528, 1)\n",
      "MLPRegressor(activation='relu', alpha=0.0008, batch_size='auto', beta_1=0.9,\n",
      "       beta_2=0.999, early_stopping=False, epsilon=1e-08,\n",
      "       hidden_layer_sizes=(8,), learning_rate='constant',\n",
      "       learning_rate_init=0.001, max_iter=200, momentum=0.9,\n",
      "       nesterovs_momentum=True, power_t=0.5, random_state=None,\n",
      "       shuffle=True, solver='adam', tol=0.0001, validation_fraction=0.1,\n",
      "       verbose=False, warm_start=False)\n"
     ]
    },
    {
     "name": "stderr",
     "output_type": "stream",
     "text": [
      "/usr/local/lib/python3.6/site-packages/sklearn/neural_network/multilayer_perceptron.py:1306: DataConversionWarning: A column-vector y was passed when a 1d array was expected. Please change the shape of y to (n_samples, ), for example using ravel().\n",
      "  y = column_or_1d(y, warn=True)\n",
      "/usr/local/lib/python3.6/site-packages/sklearn/neural_network/multilayer_perceptron.py:1306: DataConversionWarning: A column-vector y was passed when a 1d array was expected. Please change the shape of y to (n_samples, ), for example using ravel().\n",
      "  y = column_or_1d(y, warn=True)\n",
      "/usr/local/lib/python3.6/site-packages/sklearn/neural_network/multilayer_perceptron.py:1306: DataConversionWarning: A column-vector y was passed when a 1d array was expected. Please change the shape of y to (n_samples, ), for example using ravel().\n",
      "  y = column_or_1d(y, warn=True)\n"
     ]
    },
    {
     "name": "stdout",
     "output_type": "stream",
     "text": [
      "[1.7579286893208821, 0.006642659505208333, -534438.5349400104, -502920.09093957511, array([ 481.96103895])]\n",
      "****************************\n",
      "Round 9:\n",
      "(115563, 8)\n",
      "(115563, 1)\n",
      "(49528, 8)\n",
      "(49528, 1)\n",
      "MLPRegressor(activation='relu', alpha=0.0009000000000000001,\n",
      "       batch_size='auto', beta_1=0.9, beta_2=0.999, early_stopping=False,\n",
      "       epsilon=1e-08, hidden_layer_sizes=(9,), learning_rate='constant',\n",
      "       learning_rate_init=0.001, max_iter=200, momentum=0.9,\n",
      "       nesterovs_momentum=True, power_t=0.5, random_state=None,\n",
      "       shuffle=True, solver='adam', tol=0.0001, validation_fraction=0.1,\n",
      "       verbose=False, warm_start=False)\n"
     ]
    },
    {
     "name": "stderr",
     "output_type": "stream",
     "text": [
      "/usr/local/lib/python3.6/site-packages/sklearn/neural_network/multilayer_perceptron.py:1306: DataConversionWarning: A column-vector y was passed when a 1d array was expected. Please change the shape of y to (n_samples, ), for example using ravel().\n",
      "  y = column_or_1d(y, warn=True)\n",
      "/usr/local/lib/python3.6/site-packages/sklearn/neural_network/multilayer_perceptron.py:1306: DataConversionWarning: A column-vector y was passed when a 1d array was expected. Please change the shape of y to (n_samples, ), for example using ravel().\n",
      "  y = column_or_1d(y, warn=True)\n",
      "/usr/local/lib/python3.6/site-packages/sklearn/neural_network/multilayer_perceptron.py:1306: DataConversionWarning: A column-vector y was passed when a 1d array was expected. Please change the shape of y to (n_samples, ), for example using ravel().\n",
      "  y = column_or_1d(y, warn=True)\n"
     ]
    },
    {
     "name": "stdout",
     "output_type": "stream",
     "text": [
      "[1.4297706286112468, 0.0048585732777913409, -475281.99574735574, -476237.38432891708, array([ 486.05578203])]\n",
      "****************************\n",
      "Round 10:\n",
      "(115563, 8)\n",
      "(115563, 1)\n",
      "(49528, 8)\n",
      "(49528, 1)\n",
      "MLPRegressor(activation='relu', alpha=0.001, batch_size='auto', beta_1=0.9,\n",
      "       beta_2=0.999, early_stopping=False, epsilon=1e-08,\n",
      "       hidden_layer_sizes=(10,), learning_rate='constant',\n",
      "       learning_rate_init=0.001, max_iter=200, momentum=0.9,\n",
      "       nesterovs_momentum=True, power_t=0.5, random_state=None,\n",
      "       shuffle=True, solver='adam', tol=0.0001, validation_fraction=0.1,\n",
      "       verbose=False, warm_start=False)\n"
     ]
    },
    {
     "name": "stderr",
     "output_type": "stream",
     "text": [
      "/usr/local/lib/python3.6/site-packages/sklearn/neural_network/multilayer_perceptron.py:1306: DataConversionWarning: A column-vector y was passed when a 1d array was expected. Please change the shape of y to (n_samples, ), for example using ravel().\n",
      "  y = column_or_1d(y, warn=True)\n",
      "/usr/local/lib/python3.6/site-packages/sklearn/neural_network/multilayer_perceptron.py:1306: DataConversionWarning: A column-vector y was passed when a 1d array was expected. Please change the shape of y to (n_samples, ), for example using ravel().\n",
      "  y = column_or_1d(y, warn=True)\n",
      "/usr/local/lib/python3.6/site-packages/sklearn/neural_network/multilayer_perceptron.py:1306: DataConversionWarning: A column-vector y was passed when a 1d array was expected. Please change the shape of y to (n_samples, ), for example using ravel().\n",
      "  y = column_or_1d(y, warn=True)\n"
     ]
    },
    {
     "name": "stdout",
     "output_type": "stream",
     "text": [
      "[1.9713506698608398, 0.0048342545827229815, -520132.53931584122, -543615.25588774926, array([ 479.92017094])]\n",
      "****************************\n",
      "Round 11:\n",
      "(115563, 8)\n",
      "(115563, 1)\n",
      "(49528, 8)\n",
      "(49528, 1)\n",
      "MLPRegressor(activation='relu', alpha=0.0011, batch_size='auto', beta_1=0.9,\n",
      "       beta_2=0.999, early_stopping=False, epsilon=1e-08,\n",
      "       hidden_layer_sizes=(11,), learning_rate='constant',\n",
      "       learning_rate_init=0.001, max_iter=200, momentum=0.9,\n",
      "       nesterovs_momentum=True, power_t=0.5, random_state=None,\n",
      "       shuffle=True, solver='adam', tol=0.0001, validation_fraction=0.1,\n",
      "       verbose=False, warm_start=False)\n"
     ]
    },
    {
     "name": "stderr",
     "output_type": "stream",
     "text": [
      "/usr/local/lib/python3.6/site-packages/sklearn/neural_network/multilayer_perceptron.py:1306: DataConversionWarning: A column-vector y was passed when a 1d array was expected. Please change the shape of y to (n_samples, ), for example using ravel().\n",
      "  y = column_or_1d(y, warn=True)\n",
      "/usr/local/lib/python3.6/site-packages/sklearn/neural_network/multilayer_perceptron.py:1306: DataConversionWarning: A column-vector y was passed when a 1d array was expected. Please change the shape of y to (n_samples, ), for example using ravel().\n",
      "  y = column_or_1d(y, warn=True)\n",
      "/usr/local/lib/python3.6/site-packages/sklearn/neural_network/multilayer_perceptron.py:1306: DataConversionWarning: A column-vector y was passed when a 1d array was expected. Please change the shape of y to (n_samples, ), for example using ravel().\n",
      "  y = column_or_1d(y, warn=True)\n"
     ]
    },
    {
     "name": "stdout",
     "output_type": "stream",
     "text": [
      "[1.2367546558380127, 0.0046021938323974609, -564121.01701830607, -557755.19860123715, array([ 440.86917269])]\n",
      "****************************\n",
      "Round 12:\n",
      "(115563, 8)\n",
      "(115563, 1)\n",
      "(49528, 8)\n",
      "(49528, 1)\n",
      "MLPRegressor(activation='relu', alpha=0.0012000000000000001,\n",
      "       batch_size='auto', beta_1=0.9, beta_2=0.999, early_stopping=False,\n",
      "       epsilon=1e-08, hidden_layer_sizes=(12,), learning_rate='constant',\n",
      "       learning_rate_init=0.001, max_iter=200, momentum=0.9,\n",
      "       nesterovs_momentum=True, power_t=0.5, random_state=None,\n",
      "       shuffle=True, solver='adam', tol=0.0001, validation_fraction=0.1,\n",
      "       verbose=False, warm_start=False)\n"
     ]
    },
    {
     "name": "stderr",
     "output_type": "stream",
     "text": [
      "/usr/local/lib/python3.6/site-packages/sklearn/neural_network/multilayer_perceptron.py:1306: DataConversionWarning: A column-vector y was passed when a 1d array was expected. Please change the shape of y to (n_samples, ), for example using ravel().\n",
      "  y = column_or_1d(y, warn=True)\n",
      "/usr/local/lib/python3.6/site-packages/sklearn/neural_network/multilayer_perceptron.py:1306: DataConversionWarning: A column-vector y was passed when a 1d array was expected. Please change the shape of y to (n_samples, ), for example using ravel().\n",
      "  y = column_or_1d(y, warn=True)\n",
      "/usr/local/lib/python3.6/site-packages/sklearn/neural_network/multilayer_perceptron.py:1306: DataConversionWarning: A column-vector y was passed when a 1d array was expected. Please change the shape of y to (n_samples, ), for example using ravel().\n",
      "  y = column_or_1d(y, warn=True)\n"
     ]
    },
    {
     "name": "stdout",
     "output_type": "stream",
     "text": [
      "[2.4651663303375244, 0.00484466552734375, -546589.00092646491, -536958.94700040936, array([ 482.25371909])]\n",
      "****************************\n",
      "Round 13:\n",
      "(115563, 8)\n",
      "(115563, 1)\n",
      "(49528, 8)\n",
      "(49528, 1)\n",
      "MLPRegressor(activation='relu', alpha=0.0013000000000000002,\n",
      "       batch_size='auto', beta_1=0.9, beta_2=0.999, early_stopping=False,\n",
      "       epsilon=1e-08, hidden_layer_sizes=(13,), learning_rate='constant',\n",
      "       learning_rate_init=0.001, max_iter=200, momentum=0.9,\n",
      "       nesterovs_momentum=True, power_t=0.5, random_state=None,\n",
      "       shuffle=True, solver='adam', tol=0.0001, validation_fraction=0.1,\n",
      "       verbose=False, warm_start=False)\n"
     ]
    },
    {
     "name": "stderr",
     "output_type": "stream",
     "text": [
      "/usr/local/lib/python3.6/site-packages/sklearn/neural_network/multilayer_perceptron.py:1306: DataConversionWarning: A column-vector y was passed when a 1d array was expected. Please change the shape of y to (n_samples, ), for example using ravel().\n",
      "  y = column_or_1d(y, warn=True)\n",
      "/usr/local/lib/python3.6/site-packages/sklearn/neural_network/multilayer_perceptron.py:1306: DataConversionWarning: A column-vector y was passed when a 1d array was expected. Please change the shape of y to (n_samples, ), for example using ravel().\n",
      "  y = column_or_1d(y, warn=True)\n",
      "/usr/local/lib/python3.6/site-packages/sklearn/neural_network/multilayer_perceptron.py:1306: DataConversionWarning: A column-vector y was passed when a 1d array was expected. Please change the shape of y to (n_samples, ), for example using ravel().\n",
      "  y = column_or_1d(y, warn=True)\n"
     ]
    },
    {
     "name": "stdout",
     "output_type": "stream",
     "text": [
      "[1.0537692705790203, 0.005956013997395833, -598293.1318047907, -620560.9712316948, array([ 437.98482505])]\n",
      "****************************\n",
      "Round 14:\n",
      "(115563, 8)\n",
      "(115563, 1)\n",
      "(49528, 8)\n",
      "(49528, 1)\n",
      "MLPRegressor(activation='relu', alpha=0.0014, batch_size='auto', beta_1=0.9,\n",
      "       beta_2=0.999, early_stopping=False, epsilon=1e-08,\n",
      "       hidden_layer_sizes=(14,), learning_rate='constant',\n",
      "       learning_rate_init=0.001, max_iter=200, momentum=0.9,\n",
      "       nesterovs_momentum=True, power_t=0.5, random_state=None,\n",
      "       shuffle=True, solver='adam', tol=0.0001, validation_fraction=0.1,\n",
      "       verbose=False, warm_start=False)\n"
     ]
    },
    {
     "name": "stderr",
     "output_type": "stream",
     "text": [
      "/usr/local/lib/python3.6/site-packages/sklearn/neural_network/multilayer_perceptron.py:1306: DataConversionWarning: A column-vector y was passed when a 1d array was expected. Please change the shape of y to (n_samples, ), for example using ravel().\n",
      "  y = column_or_1d(y, warn=True)\n",
      "/usr/local/lib/python3.6/site-packages/sklearn/neural_network/multilayer_perceptron.py:1306: DataConversionWarning: A column-vector y was passed when a 1d array was expected. Please change the shape of y to (n_samples, ), for example using ravel().\n",
      "  y = column_or_1d(y, warn=True)\n",
      "/usr/local/lib/python3.6/site-packages/sklearn/neural_network/multilayer_perceptron.py:1306: DataConversionWarning: A column-vector y was passed when a 1d array was expected. Please change the shape of y to (n_samples, ), for example using ravel().\n",
      "  y = column_or_1d(y, warn=True)\n"
     ]
    },
    {
     "name": "stdout",
     "output_type": "stream",
     "text": [
      "[0.5780282815297445, 0.0058933099110921221, -622610.57000341755, -577261.42585802078, array([ 450.15978339])]\n",
      "****************************\n",
      "Round 15:\n",
      "(115563, 8)\n",
      "(115563, 1)\n",
      "(49528, 8)\n",
      "(49528, 1)\n",
      "MLPRegressor(activation='relu', alpha=0.0015, batch_size='auto', beta_1=0.9,\n",
      "       beta_2=0.999, early_stopping=False, epsilon=1e-08,\n",
      "       hidden_layer_sizes=(15,), learning_rate='constant',\n",
      "       learning_rate_init=0.001, max_iter=200, momentum=0.9,\n",
      "       nesterovs_momentum=True, power_t=0.5, random_state=None,\n",
      "       shuffle=True, solver='adam', tol=0.0001, validation_fraction=0.1,\n",
      "       verbose=False, warm_start=False)\n"
     ]
    },
    {
     "name": "stderr",
     "output_type": "stream",
     "text": [
      "/usr/local/lib/python3.6/site-packages/sklearn/neural_network/multilayer_perceptron.py:1306: DataConversionWarning: A column-vector y was passed when a 1d array was expected. Please change the shape of y to (n_samples, ), for example using ravel().\n",
      "  y = column_or_1d(y, warn=True)\n",
      "/usr/local/lib/python3.6/site-packages/sklearn/neural_network/multilayer_perceptron.py:1306: DataConversionWarning: A column-vector y was passed when a 1d array was expected. Please change the shape of y to (n_samples, ), for example using ravel().\n",
      "  y = column_or_1d(y, warn=True)\n",
      "/usr/local/lib/python3.6/site-packages/sklearn/neural_network/multilayer_perceptron.py:1306: DataConversionWarning: A column-vector y was passed when a 1d array was expected. Please change the shape of y to (n_samples, ), for example using ravel().\n",
      "  y = column_or_1d(y, warn=True)\n"
     ]
    },
    {
     "name": "stdout",
     "output_type": "stream",
     "text": [
      "[0.94534540176391602, 0.0062674681345621748, -493331.52252263529, -496195.58706118679, array([ 444.42234004])]\n",
      "****************************\n",
      "Round 16:\n",
      "(115563, 8)\n",
      "(115563, 1)\n",
      "(49528, 8)\n",
      "(49528, 1)\n",
      "MLPRegressor(activation='relu', alpha=0.0016, batch_size='auto', beta_1=0.9,\n",
      "       beta_2=0.999, early_stopping=False, epsilon=1e-08,\n",
      "       hidden_layer_sizes=(16,), learning_rate='constant',\n",
      "       learning_rate_init=0.001, max_iter=200, momentum=0.9,\n",
      "       nesterovs_momentum=True, power_t=0.5, random_state=None,\n",
      "       shuffle=True, solver='adam', tol=0.0001, validation_fraction=0.1,\n",
      "       verbose=False, warm_start=False)\n"
     ]
    },
    {
     "name": "stderr",
     "output_type": "stream",
     "text": [
      "/usr/local/lib/python3.6/site-packages/sklearn/neural_network/multilayer_perceptron.py:1306: DataConversionWarning: A column-vector y was passed when a 1d array was expected. Please change the shape of y to (n_samples, ), for example using ravel().\n",
      "  y = column_or_1d(y, warn=True)\n",
      "/usr/local/lib/python3.6/site-packages/sklearn/neural_network/multilayer_perceptron.py:1306: DataConversionWarning: A column-vector y was passed when a 1d array was expected. Please change the shape of y to (n_samples, ), for example using ravel().\n",
      "  y = column_or_1d(y, warn=True)\n",
      "/usr/local/lib/python3.6/site-packages/sklearn/neural_network/multilayer_perceptron.py:1306: DataConversionWarning: A column-vector y was passed when a 1d array was expected. Please change the shape of y to (n_samples, ), for example using ravel().\n",
      "  y = column_or_1d(y, warn=True)\n"
     ]
    },
    {
     "name": "stdout",
     "output_type": "stream",
     "text": [
      "[1.4693806171417236, 0.0057140191396077471, -529696.63495890866, -525258.38275808597, array([ 482.65627095])]\n",
      "****************************\n",
      "Round 17:\n",
      "(115563, 8)\n",
      "(115563, 1)\n",
      "(49528, 8)\n",
      "(49528, 1)\n",
      "MLPRegressor(activation='relu', alpha=0.0017000000000000001,\n",
      "       batch_size='auto', beta_1=0.9, beta_2=0.999, early_stopping=False,\n",
      "       epsilon=1e-08, hidden_layer_sizes=(17,), learning_rate='constant',\n",
      "       learning_rate_init=0.001, max_iter=200, momentum=0.9,\n",
      "       nesterovs_momentum=True, power_t=0.5, random_state=None,\n",
      "       shuffle=True, solver='adam', tol=0.0001, validation_fraction=0.1,\n",
      "       verbose=False, warm_start=False)\n"
     ]
    },
    {
     "name": "stderr",
     "output_type": "stream",
     "text": [
      "/usr/local/lib/python3.6/site-packages/sklearn/neural_network/multilayer_perceptron.py:1306: DataConversionWarning: A column-vector y was passed when a 1d array was expected. Please change the shape of y to (n_samples, ), for example using ravel().\n",
      "  y = column_or_1d(y, warn=True)\n",
      "/usr/local/lib/python3.6/site-packages/sklearn/neural_network/multilayer_perceptron.py:1306: DataConversionWarning: A column-vector y was passed when a 1d array was expected. Please change the shape of y to (n_samples, ), for example using ravel().\n",
      "  y = column_or_1d(y, warn=True)\n",
      "/usr/local/lib/python3.6/site-packages/sklearn/neural_network/multilayer_perceptron.py:1306: DataConversionWarning: A column-vector y was passed when a 1d array was expected. Please change the shape of y to (n_samples, ), for example using ravel().\n",
      "  y = column_or_1d(y, warn=True)\n"
     ]
    },
    {
     "name": "stdout",
     "output_type": "stream",
     "text": [
      "[1.246354341506958, 0.0067644119262695312, -558012.06977725436, -566695.23053957673, array([ 540.93932577])]\n",
      "****************************\n",
      "Round 18:\n",
      "(115563, 8)\n",
      "(115563, 1)\n",
      "(49528, 8)\n",
      "(49528, 1)\n",
      "MLPRegressor(activation='relu', alpha=0.0018000000000000002,\n",
      "       batch_size='auto', beta_1=0.9, beta_2=0.999, early_stopping=False,\n",
      "       epsilon=1e-08, hidden_layer_sizes=(18,), learning_rate='constant',\n",
      "       learning_rate_init=0.001, max_iter=200, momentum=0.9,\n",
      "       nesterovs_momentum=True, power_t=0.5, random_state=None,\n",
      "       shuffle=True, solver='adam', tol=0.0001, validation_fraction=0.1,\n",
      "       verbose=False, warm_start=False)\n"
     ]
    },
    {
     "name": "stderr",
     "output_type": "stream",
     "text": [
      "/usr/local/lib/python3.6/site-packages/sklearn/neural_network/multilayer_perceptron.py:1306: DataConversionWarning: A column-vector y was passed when a 1d array was expected. Please change the shape of y to (n_samples, ), for example using ravel().\n",
      "  y = column_or_1d(y, warn=True)\n",
      "/usr/local/lib/python3.6/site-packages/sklearn/neural_network/multilayer_perceptron.py:1306: DataConversionWarning: A column-vector y was passed when a 1d array was expected. Please change the shape of y to (n_samples, ), for example using ravel().\n",
      "  y = column_or_1d(y, warn=True)\n",
      "/usr/local/lib/python3.6/site-packages/sklearn/neural_network/multilayer_perceptron.py:1306: DataConversionWarning: A column-vector y was passed when a 1d array was expected. Please change the shape of y to (n_samples, ), for example using ravel().\n",
      "  y = column_or_1d(y, warn=True)\n"
     ]
    },
    {
     "name": "stdout",
     "output_type": "stream",
     "text": [
      "[1.2807386716206868, 0.0072159767150878906, -488034.66821434564, -487150.90201616526, array([ 440.80032233])]\n",
      "****************************\n",
      "Round 19:\n",
      "(115563, 8)\n",
      "(115563, 1)\n",
      "(49528, 8)\n",
      "(49528, 1)\n",
      "MLPRegressor(activation='relu', alpha=0.0019, batch_size='auto', beta_1=0.9,\n",
      "       beta_2=0.999, early_stopping=False, epsilon=1e-08,\n",
      "       hidden_layer_sizes=(19,), learning_rate='constant',\n",
      "       learning_rate_init=0.001, max_iter=200, momentum=0.9,\n",
      "       nesterovs_momentum=True, power_t=0.5, random_state=None,\n",
      "       shuffle=True, solver='adam', tol=0.0001, validation_fraction=0.1,\n",
      "       verbose=False, warm_start=False)\n"
     ]
    },
    {
     "name": "stderr",
     "output_type": "stream",
     "text": [
      "/usr/local/lib/python3.6/site-packages/sklearn/neural_network/multilayer_perceptron.py:1306: DataConversionWarning: A column-vector y was passed when a 1d array was expected. Please change the shape of y to (n_samples, ), for example using ravel().\n",
      "  y = column_or_1d(y, warn=True)\n",
      "/usr/local/lib/python3.6/site-packages/sklearn/neural_network/multilayer_perceptron.py:1306: DataConversionWarning: A column-vector y was passed when a 1d array was expected. Please change the shape of y to (n_samples, ), for example using ravel().\n",
      "  y = column_or_1d(y, warn=True)\n",
      "/usr/local/lib/python3.6/site-packages/sklearn/neural_network/multilayer_perceptron.py:1306: DataConversionWarning: A column-vector y was passed when a 1d array was expected. Please change the shape of y to (n_samples, ), for example using ravel().\n",
      "  y = column_or_1d(y, warn=True)\n"
     ]
    },
    {
     "name": "stdout",
     "output_type": "stream",
     "text": [
      "[1.0550776322682698, 0.0070854822794596357, -532156.24743647699, -539308.18601353653, array([ 457.69851692])]\n",
      "****************************\n",
      "Round 20:\n",
      "(115563, 8)\n",
      "(115563, 1)\n",
      "(49528, 8)\n",
      "(49528, 1)\n",
      "MLPRegressor(activation='relu', alpha=0.002, batch_size='auto', beta_1=0.9,\n",
      "       beta_2=0.999, early_stopping=False, epsilon=1e-08,\n",
      "       hidden_layer_sizes=(20,), learning_rate='constant',\n",
      "       learning_rate_init=0.001, max_iter=200, momentum=0.9,\n",
      "       nesterovs_momentum=True, power_t=0.5, random_state=None,\n",
      "       shuffle=True, solver='adam', tol=0.0001, validation_fraction=0.1,\n",
      "       verbose=False, warm_start=False)\n"
     ]
    },
    {
     "name": "stderr",
     "output_type": "stream",
     "text": [
      "/usr/local/lib/python3.6/site-packages/sklearn/neural_network/multilayer_perceptron.py:1306: DataConversionWarning: A column-vector y was passed when a 1d array was expected. Please change the shape of y to (n_samples, ), for example using ravel().\n",
      "  y = column_or_1d(y, warn=True)\n",
      "/usr/local/lib/python3.6/site-packages/sklearn/neural_network/multilayer_perceptron.py:1306: DataConversionWarning: A column-vector y was passed when a 1d array was expected. Please change the shape of y to (n_samples, ), for example using ravel().\n",
      "  y = column_or_1d(y, warn=True)\n",
      "/usr/local/lib/python3.6/site-packages/sklearn/neural_network/multilayer_perceptron.py:1306: DataConversionWarning: A column-vector y was passed when a 1d array was expected. Please change the shape of y to (n_samples, ), for example using ravel().\n",
      "  y = column_or_1d(y, warn=True)\n"
     ]
    },
    {
     "name": "stdout",
     "output_type": "stream",
     "text": [
      "[1.025025447209676, 0.0071791807810465498, -510243.89799000701, -524569.99655893783, array([ 443.54919608])]\n",
      "****************************\n",
      "Round 21:\n",
      "(115563, 8)\n",
      "(115563, 1)\n",
      "(49528, 8)\n",
      "(49528, 1)\n",
      "MLPRegressor(activation='relu', alpha=0.0021000000000000003,\n",
      "       batch_size='auto', beta_1=0.9, beta_2=0.999, early_stopping=False,\n",
      "       epsilon=1e-08, hidden_layer_sizes=(21,), learning_rate='constant',\n",
      "       learning_rate_init=0.001, max_iter=200, momentum=0.9,\n",
      "       nesterovs_momentum=True, power_t=0.5, random_state=None,\n",
      "       shuffle=True, solver='adam', tol=0.0001, validation_fraction=0.1,\n",
      "       verbose=False, warm_start=False)\n"
     ]
    },
    {
     "name": "stderr",
     "output_type": "stream",
     "text": [
      "/usr/local/lib/python3.6/site-packages/sklearn/neural_network/multilayer_perceptron.py:1306: DataConversionWarning: A column-vector y was passed when a 1d array was expected. Please change the shape of y to (n_samples, ), for example using ravel().\n",
      "  y = column_or_1d(y, warn=True)\n",
      "/usr/local/lib/python3.6/site-packages/sklearn/neural_network/multilayer_perceptron.py:1306: DataConversionWarning: A column-vector y was passed when a 1d array was expected. Please change the shape of y to (n_samples, ), for example using ravel().\n",
      "  y = column_or_1d(y, warn=True)\n",
      "/usr/local/lib/python3.6/site-packages/sklearn/neural_network/multilayer_perceptron.py:1306: DataConversionWarning: A column-vector y was passed when a 1d array was expected. Please change the shape of y to (n_samples, ), for example using ravel().\n",
      "  y = column_or_1d(y, warn=True)\n"
     ]
    },
    {
     "name": "stdout",
     "output_type": "stream",
     "text": [
      "[1.6458564599355061, 0.0077292919158935547, -561555.16432905151, -555202.82017683296, array([ 473.14529553])]\n",
      "****************************\n",
      "Round 22:\n",
      "(115563, 8)\n",
      "(115563, 1)\n",
      "(49528, 8)\n",
      "(49528, 1)\n",
      "MLPRegressor(activation='relu', alpha=0.0022, batch_size='auto', beta_1=0.9,\n",
      "       beta_2=0.999, early_stopping=False, epsilon=1e-08,\n",
      "       hidden_layer_sizes=(22,), learning_rate='constant',\n",
      "       learning_rate_init=0.001, max_iter=200, momentum=0.9,\n",
      "       nesterovs_momentum=True, power_t=0.5, random_state=None,\n",
      "       shuffle=True, solver='adam', tol=0.0001, validation_fraction=0.1,\n",
      "       verbose=False, warm_start=False)\n"
     ]
    },
    {
     "name": "stderr",
     "output_type": "stream",
     "text": [
      "/usr/local/lib/python3.6/site-packages/sklearn/neural_network/multilayer_perceptron.py:1306: DataConversionWarning: A column-vector y was passed when a 1d array was expected. Please change the shape of y to (n_samples, ), for example using ravel().\n",
      "  y = column_or_1d(y, warn=True)\n",
      "/usr/local/lib/python3.6/site-packages/sklearn/neural_network/multilayer_perceptron.py:1306: DataConversionWarning: A column-vector y was passed when a 1d array was expected. Please change the shape of y to (n_samples, ), for example using ravel().\n",
      "  y = column_or_1d(y, warn=True)\n",
      "/usr/local/lib/python3.6/site-packages/sklearn/neural_network/multilayer_perceptron.py:1306: DataConversionWarning: A column-vector y was passed when a 1d array was expected. Please change the shape of y to (n_samples, ), for example using ravel().\n",
      "  y = column_or_1d(y, warn=True)\n"
     ]
    },
    {
     "name": "stdout",
     "output_type": "stream",
     "text": [
      "[1.039774735768636, 0.0078105926513671875, -564947.23645428719, -559814.42542042246, array([ 546.08608953])]\n",
      "****************************\n",
      "Round 23:\n",
      "(115563, 8)\n",
      "(115563, 1)\n",
      "(49528, 8)\n",
      "(49528, 1)\n",
      "MLPRegressor(activation='relu', alpha=0.0023, batch_size='auto', beta_1=0.9,\n",
      "       beta_2=0.999, early_stopping=False, epsilon=1e-08,\n",
      "       hidden_layer_sizes=(23,), learning_rate='constant',\n",
      "       learning_rate_init=0.001, max_iter=200, momentum=0.9,\n",
      "       nesterovs_momentum=True, power_t=0.5, random_state=None,\n",
      "       shuffle=True, solver='adam', tol=0.0001, validation_fraction=0.1,\n",
      "       verbose=False, warm_start=False)\n"
     ]
    },
    {
     "name": "stderr",
     "output_type": "stream",
     "text": [
      "/usr/local/lib/python3.6/site-packages/sklearn/neural_network/multilayer_perceptron.py:1306: DataConversionWarning: A column-vector y was passed when a 1d array was expected. Please change the shape of y to (n_samples, ), for example using ravel().\n",
      "  y = column_or_1d(y, warn=True)\n",
      "/usr/local/lib/python3.6/site-packages/sklearn/neural_network/multilayer_perceptron.py:1306: DataConversionWarning: A column-vector y was passed when a 1d array was expected. Please change the shape of y to (n_samples, ), for example using ravel().\n",
      "  y = column_or_1d(y, warn=True)\n",
      "/usr/local/lib/python3.6/site-packages/sklearn/neural_network/multilayer_perceptron.py:1306: DataConversionWarning: A column-vector y was passed when a 1d array was expected. Please change the shape of y to (n_samples, ), for example using ravel().\n",
      "  y = column_or_1d(y, warn=True)\n"
     ]
    },
    {
     "name": "stdout",
     "output_type": "stream",
     "text": [
      "[0.85658605893452966, 0.0078847408294677734, -584266.59816994879, -558450.25986301608, array([ 468.06392419])]\n",
      "****************************\n",
      "Round 24:\n",
      "(115563, 8)\n",
      "(115563, 1)\n",
      "(49528, 8)\n",
      "(49528, 1)\n",
      "MLPRegressor(activation='relu', alpha=0.0024000000000000002,\n",
      "       batch_size='auto', beta_1=0.9, beta_2=0.999, early_stopping=False,\n",
      "       epsilon=1e-08, hidden_layer_sizes=(24,), learning_rate='constant',\n",
      "       learning_rate_init=0.001, max_iter=200, momentum=0.9,\n",
      "       nesterovs_momentum=True, power_t=0.5, random_state=None,\n",
      "       shuffle=True, solver='adam', tol=0.0001, validation_fraction=0.1,\n",
      "       verbose=False, warm_start=False)\n"
     ]
    },
    {
     "name": "stderr",
     "output_type": "stream",
     "text": [
      "/usr/local/lib/python3.6/site-packages/sklearn/neural_network/multilayer_perceptron.py:1306: DataConversionWarning: A column-vector y was passed when a 1d array was expected. Please change the shape of y to (n_samples, ), for example using ravel().\n",
      "  y = column_or_1d(y, warn=True)\n",
      "/usr/local/lib/python3.6/site-packages/sklearn/neural_network/multilayer_perceptron.py:1306: DataConversionWarning: A column-vector y was passed when a 1d array was expected. Please change the shape of y to (n_samples, ), for example using ravel().\n",
      "  y = column_or_1d(y, warn=True)\n",
      "/usr/local/lib/python3.6/site-packages/sklearn/neural_network/multilayer_perceptron.py:1306: DataConversionWarning: A column-vector y was passed when a 1d array was expected. Please change the shape of y to (n_samples, ), for example using ravel().\n",
      "  y = column_or_1d(y, warn=True)\n"
     ]
    },
    {
     "name": "stdout",
     "output_type": "stream",
     "text": [
      "[1.3821214040120442, 0.0090466340382893886, -489042.06974077347, -485421.31489148922, array([ 437.33946471])]\n",
      "****************************\n",
      "Round 25:\n",
      "(115563, 8)\n",
      "(115563, 1)\n",
      "(49528, 8)\n",
      "(49528, 1)\n",
      "MLPRegressor(activation='relu', alpha=0.0025, batch_size='auto', beta_1=0.9,\n",
      "       beta_2=0.999, early_stopping=False, epsilon=1e-08,\n",
      "       hidden_layer_sizes=(25,), learning_rate='constant',\n",
      "       learning_rate_init=0.001, max_iter=200, momentum=0.9,\n",
      "       nesterovs_momentum=True, power_t=0.5, random_state=None,\n",
      "       shuffle=True, solver='adam', tol=0.0001, validation_fraction=0.1,\n",
      "       verbose=False, warm_start=False)\n"
     ]
    },
    {
     "name": "stderr",
     "output_type": "stream",
     "text": [
      "/usr/local/lib/python3.6/site-packages/sklearn/neural_network/multilayer_perceptron.py:1306: DataConversionWarning: A column-vector y was passed when a 1d array was expected. Please change the shape of y to (n_samples, ), for example using ravel().\n",
      "  y = column_or_1d(y, warn=True)\n",
      "/usr/local/lib/python3.6/site-packages/sklearn/neural_network/multilayer_perceptron.py:1306: DataConversionWarning: A column-vector y was passed when a 1d array was expected. Please change the shape of y to (n_samples, ), for example using ravel().\n",
      "  y = column_or_1d(y, warn=True)\n",
      "/usr/local/lib/python3.6/site-packages/sklearn/neural_network/multilayer_perceptron.py:1306: DataConversionWarning: A column-vector y was passed when a 1d array was expected. Please change the shape of y to (n_samples, ), for example using ravel().\n",
      "  y = column_or_1d(y, warn=True)\n"
     ]
    },
    {
     "name": "stdout",
     "output_type": "stream",
     "text": [
      "[1.2120430469512939, 0.0092886288960774745, -508381.45602905774, -514350.3472242172, array([ 488.32465967])]\n",
      "****************************\n",
      "Round 1:\n",
      "(115563, 11)\n",
      "(115563, 1)\n",
      "(49528, 11)\n",
      "(49528, 1)\n"
     ]
    },
    {
     "name": "stderr",
     "output_type": "stream",
     "text": [
      "/usr/local/lib/python3.6/site-packages/sklearn/neural_network/multilayer_perceptron.py:564: ConvergenceWarning: Stochastic Optimizer: Maximum iterations (200) reached and the optimization hasn't converged yet.\n",
      "  % self.max_iter, ConvergenceWarning)\n",
      "/usr/local/lib/python3.6/site-packages/sklearn/neural_network/multilayer_perceptron.py:1306: DataConversionWarning: A column-vector y was passed when a 1d array was expected. Please change the shape of y to (n_samples, ), for example using ravel().\n",
      "  y = column_or_1d(y, warn=True)\n"
     ]
    },
    {
     "name": "stdout",
     "output_type": "stream",
     "text": [
      "MLPRegressor(activation='relu', alpha=0.0001, batch_size='auto', beta_1=0.9,\n",
      "       beta_2=0.999, early_stopping=False, epsilon=1e-08,\n",
      "       hidden_layer_sizes=(1,), learning_rate='constant',\n",
      "       learning_rate_init=0.001, max_iter=200, momentum=0.9,\n",
      "       nesterovs_momentum=True, power_t=0.5, random_state=None,\n",
      "       shuffle=True, solver='adam', tol=0.0001, validation_fraction=0.1,\n",
      "       verbose=False, warm_start=False)\n"
     ]
    },
    {
     "name": "stderr",
     "output_type": "stream",
     "text": [
      "/usr/local/lib/python3.6/site-packages/sklearn/neural_network/multilayer_perceptron.py:564: ConvergenceWarning: Stochastic Optimizer: Maximum iterations (200) reached and the optimization hasn't converged yet.\n",
      "  % self.max_iter, ConvergenceWarning)\n",
      "/usr/local/lib/python3.6/site-packages/sklearn/neural_network/multilayer_perceptron.py:1306: DataConversionWarning: A column-vector y was passed when a 1d array was expected. Please change the shape of y to (n_samples, ), for example using ravel().\n",
      "  y = column_or_1d(y, warn=True)\n",
      "/usr/local/lib/python3.6/site-packages/sklearn/neural_network/multilayer_perceptron.py:1306: DataConversionWarning: A column-vector y was passed when a 1d array was expected. Please change the shape of y to (n_samples, ), for example using ravel().\n",
      "  y = column_or_1d(y, warn=True)\n"
     ]
    },
    {
     "name": "stdout",
     "output_type": "stream",
     "text": [
      "[3.0242331027984619, 0.0014781951904296875, -53121783.278413244, -53344870.556552775, array([ 9955.67432645])]\n",
      "****************************\n",
      "Round 2:\n",
      "(115563, 11)\n",
      "(115563, 1)\n",
      "(49528, 11)\n",
      "(49528, 1)\n"
     ]
    },
    {
     "name": "stderr",
     "output_type": "stream",
     "text": [
      "/usr/local/lib/python3.6/site-packages/sklearn/neural_network/multilayer_perceptron.py:564: ConvergenceWarning: Stochastic Optimizer: Maximum iterations (200) reached and the optimization hasn't converged yet.\n",
      "  % self.max_iter, ConvergenceWarning)\n",
      "/usr/local/lib/python3.6/site-packages/sklearn/neural_network/multilayer_perceptron.py:1306: DataConversionWarning: A column-vector y was passed when a 1d array was expected. Please change the shape of y to (n_samples, ), for example using ravel().\n",
      "  y = column_or_1d(y, warn=True)\n"
     ]
    },
    {
     "name": "stdout",
     "output_type": "stream",
     "text": [
      "MLPRegressor(activation='relu', alpha=0.0002, batch_size='auto', beta_1=0.9,\n",
      "       beta_2=0.999, early_stopping=False, epsilon=1e-08,\n",
      "       hidden_layer_sizes=(2,), learning_rate='constant',\n",
      "       learning_rate_init=0.001, max_iter=200, momentum=0.9,\n",
      "       nesterovs_momentum=True, power_t=0.5, random_state=None,\n",
      "       shuffle=True, solver='adam', tol=0.0001, validation_fraction=0.1,\n",
      "       verbose=False, warm_start=False)\n"
     ]
    },
    {
     "name": "stderr",
     "output_type": "stream",
     "text": [
      "/usr/local/lib/python3.6/site-packages/sklearn/neural_network/multilayer_perceptron.py:564: ConvergenceWarning: Stochastic Optimizer: Maximum iterations (200) reached and the optimization hasn't converged yet.\n",
      "  % self.max_iter, ConvergenceWarning)\n",
      "/usr/local/lib/python3.6/site-packages/sklearn/neural_network/multilayer_perceptron.py:1306: DataConversionWarning: A column-vector y was passed when a 1d array was expected. Please change the shape of y to (n_samples, ), for example using ravel().\n",
      "  y = column_or_1d(y, warn=True)\n",
      "/usr/local/lib/python3.6/site-packages/sklearn/neural_network/multilayer_perceptron.py:564: ConvergenceWarning: Stochastic Optimizer: Maximum iterations (200) reached and the optimization hasn't converged yet.\n",
      "  % self.max_iter, ConvergenceWarning)\n",
      "/usr/local/lib/python3.6/site-packages/sklearn/neural_network/multilayer_perceptron.py:1306: DataConversionWarning: A column-vector y was passed when a 1d array was expected. Please change the shape of y to (n_samples, ), for example using ravel().\n",
      "  y = column_or_1d(y, warn=True)\n"
     ]
    },
    {
     "name": "stdout",
     "output_type": "stream",
     "text": [
      "[6.643821318944295, 0.0046323935190836591, -179428529.46330652, -167316359.76014078, array([ 9937.73443703])]\n",
      "****************************\n",
      "Round 3:\n",
      "(115563, 11)\n",
      "(115563, 1)\n",
      "(49528, 11)\n",
      "(49528, 1)\n",
      "MLPRegressor(activation='relu', alpha=0.00030000000000000003,\n",
      "       batch_size='auto', beta_1=0.9, beta_2=0.999, early_stopping=False,\n",
      "       epsilon=1e-08, hidden_layer_sizes=(3,), learning_rate='constant',\n",
      "       learning_rate_init=0.001, max_iter=200, momentum=0.9,\n",
      "       nesterovs_momentum=True, power_t=0.5, random_state=None,\n",
      "       shuffle=True, solver='adam', tol=0.0001, validation_fraction=0.1,\n",
      "       verbose=False, warm_start=False)\n"
     ]
    },
    {
     "name": "stderr",
     "output_type": "stream",
     "text": [
      "/usr/local/lib/python3.6/site-packages/sklearn/neural_network/multilayer_perceptron.py:1306: DataConversionWarning: A column-vector y was passed when a 1d array was expected. Please change the shape of y to (n_samples, ), for example using ravel().\n",
      "  y = column_or_1d(y, warn=True)\n",
      "/usr/local/lib/python3.6/site-packages/sklearn/neural_network/multilayer_perceptron.py:1306: DataConversionWarning: A column-vector y was passed when a 1d array was expected. Please change the shape of y to (n_samples, ), for example using ravel().\n",
      "  y = column_or_1d(y, warn=True)\n",
      "/usr/local/lib/python3.6/site-packages/sklearn/neural_network/multilayer_perceptron.py:1306: DataConversionWarning: A column-vector y was passed when a 1d array was expected. Please change the shape of y to (n_samples, ), for example using ravel().\n",
      "  y = column_or_1d(y, warn=True)\n"
     ]
    },
    {
     "name": "stdout",
     "output_type": "stream",
     "text": [
      "[1.303802490234375, 0.0063169797261555987, -41549629.87532974, -41489222.708139628, array([ 427.25014575])]\n",
      "****************************\n",
      "Round 4:\n",
      "(115563, 11)\n",
      "(115563, 1)\n",
      "(49528, 11)\n",
      "(49528, 1)\n"
     ]
    },
    {
     "name": "stderr",
     "output_type": "stream",
     "text": [
      "/usr/local/lib/python3.6/site-packages/sklearn/neural_network/multilayer_perceptron.py:564: ConvergenceWarning: Stochastic Optimizer: Maximum iterations (200) reached and the optimization hasn't converged yet.\n",
      "  % self.max_iter, ConvergenceWarning)\n",
      "/usr/local/lib/python3.6/site-packages/sklearn/neural_network/multilayer_perceptron.py:1306: DataConversionWarning: A column-vector y was passed when a 1d array was expected. Please change the shape of y to (n_samples, ), for example using ravel().\n",
      "  y = column_or_1d(y, warn=True)\n"
     ]
    },
    {
     "name": "stdout",
     "output_type": "stream",
     "text": [
      "MLPRegressor(activation='relu', alpha=0.0004, batch_size='auto', beta_1=0.9,\n",
      "       beta_2=0.999, early_stopping=False, epsilon=1e-08,\n",
      "       hidden_layer_sizes=(4,), learning_rate='constant',\n",
      "       learning_rate_init=0.001, max_iter=200, momentum=0.9,\n",
      "       nesterovs_momentum=True, power_t=0.5, random_state=None,\n",
      "       shuffle=True, solver='adam', tol=0.0001, validation_fraction=0.1,\n",
      "       verbose=False, warm_start=False)\n"
     ]
    },
    {
     "name": "stderr",
     "output_type": "stream",
     "text": [
      "/usr/local/lib/python3.6/site-packages/sklearn/neural_network/multilayer_perceptron.py:1306: DataConversionWarning: A column-vector y was passed when a 1d array was expected. Please change the shape of y to (n_samples, ), for example using ravel().\n",
      "  y = column_or_1d(y, warn=True)\n",
      "/usr/local/lib/python3.6/site-packages/sklearn/neural_network/multilayer_perceptron.py:1306: DataConversionWarning: A column-vector y was passed when a 1d array was expected. Please change the shape of y to (n_samples, ), for example using ravel().\n",
      "  y = column_or_1d(y, warn=True)\n"
     ]
    },
    {
     "name": "stdout",
     "output_type": "stream",
     "text": [
      "[1.0188066164652507, 0.0044007301330566406, -1064351646.0040549, -1007756673.6081094, array([ 9970.71617813])]\n",
      "****************************\n",
      "Round 5:\n",
      "(115563, 11)\n",
      "(115563, 1)\n",
      "(49528, 11)\n",
      "(49528, 1)\n",
      "MLPRegressor(activation='relu', alpha=0.0005, batch_size='auto', beta_1=0.9,\n",
      "       beta_2=0.999, early_stopping=False, epsilon=1e-08,\n",
      "       hidden_layer_sizes=(5,), learning_rate='constant',\n",
      "       learning_rate_init=0.001, max_iter=200, momentum=0.9,\n",
      "       nesterovs_momentum=True, power_t=0.5, random_state=None,\n",
      "       shuffle=True, solver='adam', tol=0.0001, validation_fraction=0.1,\n",
      "       verbose=False, warm_start=False)\n"
     ]
    },
    {
     "name": "stderr",
     "output_type": "stream",
     "text": [
      "/usr/local/lib/python3.6/site-packages/sklearn/neural_network/multilayer_perceptron.py:1306: DataConversionWarning: A column-vector y was passed when a 1d array was expected. Please change the shape of y to (n_samples, ), for example using ravel().\n",
      "  y = column_or_1d(y, warn=True)\n",
      "/usr/local/lib/python3.6/site-packages/sklearn/neural_network/multilayer_perceptron.py:1306: DataConversionWarning: A column-vector y was passed when a 1d array was expected. Please change the shape of y to (n_samples, ), for example using ravel().\n",
      "  y = column_or_1d(y, warn=True)\n",
      "/usr/local/lib/python3.6/site-packages/sklearn/neural_network/multilayer_perceptron.py:1306: DataConversionWarning: A column-vector y was passed when a 1d array was expected. Please change the shape of y to (n_samples, ), for example using ravel().\n",
      "  y = column_or_1d(y, warn=True)\n"
     ]
    },
    {
     "name": "stdout",
     "output_type": "stream",
     "text": [
      "[0.38291724522908527, 0.0062496662139892578, -78740161.924992338, -65731725.593702905, array([ 9798.63092236])]\n",
      "****************************\n",
      "Round 6:\n",
      "(115563, 11)\n",
      "(115563, 1)\n",
      "(49528, 11)\n",
      "(49528, 1)\n",
      "MLPRegressor(activation='relu', alpha=0.0006000000000000001,\n",
      "       batch_size='auto', beta_1=0.9, beta_2=0.999, early_stopping=False,\n",
      "       epsilon=1e-08, hidden_layer_sizes=(6,), learning_rate='constant',\n",
      "       learning_rate_init=0.001, max_iter=200, momentum=0.9,\n",
      "       nesterovs_momentum=True, power_t=0.5, random_state=None,\n",
      "       shuffle=True, solver='adam', tol=0.0001, validation_fraction=0.1,\n",
      "       verbose=False, warm_start=False)\n"
     ]
    },
    {
     "name": "stderr",
     "output_type": "stream",
     "text": [
      "/usr/local/lib/python3.6/site-packages/sklearn/neural_network/multilayer_perceptron.py:1306: DataConversionWarning: A column-vector y was passed when a 1d array was expected. Please change the shape of y to (n_samples, ), for example using ravel().\n",
      "  y = column_or_1d(y, warn=True)\n",
      "/usr/local/lib/python3.6/site-packages/sklearn/neural_network/multilayer_perceptron.py:1306: DataConversionWarning: A column-vector y was passed when a 1d array was expected. Please change the shape of y to (n_samples, ), for example using ravel().\n",
      "  y = column_or_1d(y, warn=True)\n",
      "/usr/local/lib/python3.6/site-packages/sklearn/neural_network/multilayer_perceptron.py:1306: DataConversionWarning: A column-vector y was passed when a 1d array was expected. Please change the shape of y to (n_samples, ), for example using ravel().\n",
      "  y = column_or_1d(y, warn=True)\n"
     ]
    },
    {
     "name": "stdout",
     "output_type": "stream",
     "text": [
      "[0.43810685475667316, 0.0058482487996419268, -1262631595.0003555, -1026992380.7077569, array([ 1503.70948324])]\n",
      "****************************\n",
      "Round 7:\n",
      "(115563, 11)\n",
      "(115563, 1)\n",
      "(49528, 11)\n",
      "(49528, 1)\n",
      "MLPRegressor(activation='relu', alpha=0.0007, batch_size='auto', beta_1=0.9,\n",
      "       beta_2=0.999, early_stopping=False, epsilon=1e-08,\n",
      "       hidden_layer_sizes=(7,), learning_rate='constant',\n",
      "       learning_rate_init=0.001, max_iter=200, momentum=0.9,\n",
      "       nesterovs_momentum=True, power_t=0.5, random_state=None,\n",
      "       shuffle=True, solver='adam', tol=0.0001, validation_fraction=0.1,\n",
      "       verbose=False, warm_start=False)\n"
     ]
    },
    {
     "name": "stderr",
     "output_type": "stream",
     "text": [
      "/usr/local/lib/python3.6/site-packages/sklearn/neural_network/multilayer_perceptron.py:1306: DataConversionWarning: A column-vector y was passed when a 1d array was expected. Please change the shape of y to (n_samples, ), for example using ravel().\n",
      "  y = column_or_1d(y, warn=True)\n",
      "/usr/local/lib/python3.6/site-packages/sklearn/neural_network/multilayer_perceptron.py:1306: DataConversionWarning: A column-vector y was passed when a 1d array was expected. Please change the shape of y to (n_samples, ), for example using ravel().\n",
      "  y = column_or_1d(y, warn=True)\n",
      "/usr/local/lib/python3.6/site-packages/sklearn/neural_network/multilayer_perceptron.py:1306: DataConversionWarning: A column-vector y was passed when a 1d array was expected. Please change the shape of y to (n_samples, ), for example using ravel().\n",
      "  y = column_or_1d(y, warn=True)\n"
     ]
    },
    {
     "name": "stdout",
     "output_type": "stream",
     "text": [
      "[0.89151899019877112, 0.0050293604532877607, -576936691.85056102, -1167876381.3139598, array([ 8126.08112772])]\n",
      "****************************\n",
      "Round 8:\n",
      "(115563, 11)\n",
      "(115563, 1)\n",
      "(49528, 11)\n",
      "(49528, 1)\n",
      "MLPRegressor(activation='relu', alpha=0.0008, batch_size='auto', beta_1=0.9,\n",
      "       beta_2=0.999, early_stopping=False, epsilon=1e-08,\n",
      "       hidden_layer_sizes=(8,), learning_rate='constant',\n",
      "       learning_rate_init=0.001, max_iter=200, momentum=0.9,\n",
      "       nesterovs_momentum=True, power_t=0.5, random_state=None,\n",
      "       shuffle=True, solver='adam', tol=0.0001, validation_fraction=0.1,\n",
      "       verbose=False, warm_start=False)\n"
     ]
    },
    {
     "name": "stderr",
     "output_type": "stream",
     "text": [
      "/usr/local/lib/python3.6/site-packages/sklearn/neural_network/multilayer_perceptron.py:1306: DataConversionWarning: A column-vector y was passed when a 1d array was expected. Please change the shape of y to (n_samples, ), for example using ravel().\n",
      "  y = column_or_1d(y, warn=True)\n",
      "/usr/local/lib/python3.6/site-packages/sklearn/neural_network/multilayer_perceptron.py:1306: DataConversionWarning: A column-vector y was passed when a 1d array was expected. Please change the shape of y to (n_samples, ), for example using ravel().\n",
      "  y = column_or_1d(y, warn=True)\n",
      "/usr/local/lib/python3.6/site-packages/sklearn/neural_network/multilayer_perceptron.py:1306: DataConversionWarning: A column-vector y was passed when a 1d array was expected. Please change the shape of y to (n_samples, ), for example using ravel().\n",
      "  y = column_or_1d(y, warn=True)\n"
     ]
    },
    {
     "name": "stdout",
     "output_type": "stream",
     "text": [
      "[0.50723274548848474, 0.010873317718505859, -1636314559.5597038, -1423272969.6626127, array([ 7965.33105641])]\n",
      "****************************\n",
      "Round 9:\n",
      "(115563, 11)\n",
      "(115563, 1)\n",
      "(49528, 11)\n",
      "(49528, 1)\n",
      "MLPRegressor(activation='relu', alpha=0.0009000000000000001,\n",
      "       batch_size='auto', beta_1=0.9, beta_2=0.999, early_stopping=False,\n",
      "       epsilon=1e-08, hidden_layer_sizes=(9,), learning_rate='constant',\n",
      "       learning_rate_init=0.001, max_iter=200, momentum=0.9,\n",
      "       nesterovs_momentum=True, power_t=0.5, random_state=None,\n",
      "       shuffle=True, solver='adam', tol=0.0001, validation_fraction=0.1,\n",
      "       verbose=False, warm_start=False)\n"
     ]
    },
    {
     "name": "stderr",
     "output_type": "stream",
     "text": [
      "/usr/local/lib/python3.6/site-packages/sklearn/neural_network/multilayer_perceptron.py:1306: DataConversionWarning: A column-vector y was passed when a 1d array was expected. Please change the shape of y to (n_samples, ), for example using ravel().\n",
      "  y = column_or_1d(y, warn=True)\n",
      "/usr/local/lib/python3.6/site-packages/sklearn/neural_network/multilayer_perceptron.py:1306: DataConversionWarning: A column-vector y was passed when a 1d array was expected. Please change the shape of y to (n_samples, ), for example using ravel().\n",
      "  y = column_or_1d(y, warn=True)\n",
      "/usr/local/lib/python3.6/site-packages/sklearn/neural_network/multilayer_perceptron.py:1306: DataConversionWarning: A column-vector y was passed when a 1d array was expected. Please change the shape of y to (n_samples, ), for example using ravel().\n",
      "  y = column_or_1d(y, warn=True)\n"
     ]
    },
    {
     "name": "stdout",
     "output_type": "stream",
     "text": [
      "[0.39423068364461261, 0.006009022394816081, -1399989984.6392784, -1325656570.9027317, array([ 2643.36357135])]\n",
      "****************************\n",
      "Round 10:\n",
      "(115563, 11)\n",
      "(115563, 1)\n",
      "(49528, 11)\n",
      "(49528, 1)\n",
      "MLPRegressor(activation='relu', alpha=0.001, batch_size='auto', beta_1=0.9,\n",
      "       beta_2=0.999, early_stopping=False, epsilon=1e-08,\n",
      "       hidden_layer_sizes=(10,), learning_rate='constant',\n",
      "       learning_rate_init=0.001, max_iter=200, momentum=0.9,\n",
      "       nesterovs_momentum=True, power_t=0.5, random_state=None,\n",
      "       shuffle=True, solver='adam', tol=0.0001, validation_fraction=0.1,\n",
      "       verbose=False, warm_start=False)\n"
     ]
    },
    {
     "name": "stderr",
     "output_type": "stream",
     "text": [
      "/usr/local/lib/python3.6/site-packages/sklearn/neural_network/multilayer_perceptron.py:1306: DataConversionWarning: A column-vector y was passed when a 1d array was expected. Please change the shape of y to (n_samples, ), for example using ravel().\n",
      "  y = column_or_1d(y, warn=True)\n",
      "/usr/local/lib/python3.6/site-packages/sklearn/neural_network/multilayer_perceptron.py:1306: DataConversionWarning: A column-vector y was passed when a 1d array was expected. Please change the shape of y to (n_samples, ), for example using ravel().\n",
      "  y = column_or_1d(y, warn=True)\n",
      "/usr/local/lib/python3.6/site-packages/sklearn/neural_network/multilayer_perceptron.py:1306: DataConversionWarning: A column-vector y was passed when a 1d array was expected. Please change the shape of y to (n_samples, ), for example using ravel().\n",
      "  y = column_or_1d(y, warn=True)\n"
     ]
    },
    {
     "name": "stdout",
     "output_type": "stream",
     "text": [
      "[0.4988856315612793, 0.0067487557729085284, -1564122266.7819357, -1454537697.4319699, array([ 5721.62309486])]\n",
      "****************************\n",
      "Round 11:\n",
      "(115563, 11)\n",
      "(115563, 1)\n",
      "(49528, 11)\n",
      "(49528, 1)\n",
      "MLPRegressor(activation='relu', alpha=0.0011, batch_size='auto', beta_1=0.9,\n",
      "       beta_2=0.999, early_stopping=False, epsilon=1e-08,\n",
      "       hidden_layer_sizes=(11,), learning_rate='constant',\n",
      "       learning_rate_init=0.001, max_iter=200, momentum=0.9,\n",
      "       nesterovs_momentum=True, power_t=0.5, random_state=None,\n",
      "       shuffle=True, solver='adam', tol=0.0001, validation_fraction=0.1,\n",
      "       verbose=False, warm_start=False)\n"
     ]
    },
    {
     "name": "stderr",
     "output_type": "stream",
     "text": [
      "/usr/local/lib/python3.6/site-packages/sklearn/neural_network/multilayer_perceptron.py:1306: DataConversionWarning: A column-vector y was passed when a 1d array was expected. Please change the shape of y to (n_samples, ), for example using ravel().\n",
      "  y = column_or_1d(y, warn=True)\n",
      "/usr/local/lib/python3.6/site-packages/sklearn/neural_network/multilayer_perceptron.py:1306: DataConversionWarning: A column-vector y was passed when a 1d array was expected. Please change the shape of y to (n_samples, ), for example using ravel().\n",
      "  y = column_or_1d(y, warn=True)\n",
      "/usr/local/lib/python3.6/site-packages/sklearn/neural_network/multilayer_perceptron.py:1306: DataConversionWarning: A column-vector y was passed when a 1d array was expected. Please change the shape of y to (n_samples, ), for example using ravel().\n",
      "  y = column_or_1d(y, warn=True)\n"
     ]
    },
    {
     "name": "stdout",
     "output_type": "stream",
     "text": [
      "[0.40641077359517414, 0.0071485837300618487, -1536462618985.616, -1530636655911.1443, array([ 10149.28183875])]\n",
      "****************************\n",
      "Round 12:\n",
      "(115563, 11)\n",
      "(115563, 1)\n",
      "(49528, 11)\n",
      "(49528, 1)\n",
      "MLPRegressor(activation='relu', alpha=0.0012000000000000001,\n",
      "       batch_size='auto', beta_1=0.9, beta_2=0.999, early_stopping=False,\n",
      "       epsilon=1e-08, hidden_layer_sizes=(12,), learning_rate='constant',\n",
      "       learning_rate_init=0.001, max_iter=200, momentum=0.9,\n",
      "       nesterovs_momentum=True, power_t=0.5, random_state=None,\n",
      "       shuffle=True, solver='adam', tol=0.0001, validation_fraction=0.1,\n",
      "       verbose=False, warm_start=False)\n"
     ]
    },
    {
     "name": "stderr",
     "output_type": "stream",
     "text": [
      "/usr/local/lib/python3.6/site-packages/sklearn/neural_network/multilayer_perceptron.py:1306: DataConversionWarning: A column-vector y was passed when a 1d array was expected. Please change the shape of y to (n_samples, ), for example using ravel().\n",
      "  y = column_or_1d(y, warn=True)\n",
      "/usr/local/lib/python3.6/site-packages/sklearn/neural_network/multilayer_perceptron.py:1306: DataConversionWarning: A column-vector y was passed when a 1d array was expected. Please change the shape of y to (n_samples, ), for example using ravel().\n",
      "  y = column_or_1d(y, warn=True)\n",
      "/usr/local/lib/python3.6/site-packages/sklearn/neural_network/multilayer_perceptron.py:1306: DataConversionWarning: A column-vector y was passed when a 1d array was expected. Please change the shape of y to (n_samples, ), for example using ravel().\n",
      "  y = column_or_1d(y, warn=True)\n"
     ]
    },
    {
     "name": "stdout",
     "output_type": "stream",
     "text": [
      "[0.39361532529195148, 0.0058337052663167315, -316657739.71165758, -229562311.34996727, array([ 3178.99698621])]\n",
      "****************************\n",
      "Round 13:\n",
      "(115563, 11)\n",
      "(115563, 1)\n",
      "(49528, 11)\n",
      "(49528, 1)\n",
      "MLPRegressor(activation='relu', alpha=0.0013000000000000002,\n",
      "       batch_size='auto', beta_1=0.9, beta_2=0.999, early_stopping=False,\n",
      "       epsilon=1e-08, hidden_layer_sizes=(13,), learning_rate='constant',\n",
      "       learning_rate_init=0.001, max_iter=200, momentum=0.9,\n",
      "       nesterovs_momentum=True, power_t=0.5, random_state=None,\n",
      "       shuffle=True, solver='adam', tol=0.0001, validation_fraction=0.1,\n",
      "       verbose=False, warm_start=False)\n"
     ]
    },
    {
     "name": "stderr",
     "output_type": "stream",
     "text": [
      "/usr/local/lib/python3.6/site-packages/sklearn/neural_network/multilayer_perceptron.py:1306: DataConversionWarning: A column-vector y was passed when a 1d array was expected. Please change the shape of y to (n_samples, ), for example using ravel().\n",
      "  y = column_or_1d(y, warn=True)\n",
      "/usr/local/lib/python3.6/site-packages/sklearn/neural_network/multilayer_perceptron.py:1306: DataConversionWarning: A column-vector y was passed when a 1d array was expected. Please change the shape of y to (n_samples, ), for example using ravel().\n",
      "  y = column_or_1d(y, warn=True)\n",
      "/usr/local/lib/python3.6/site-packages/sklearn/neural_network/multilayer_perceptron.py:1306: DataConversionWarning: A column-vector y was passed when a 1d array was expected. Please change the shape of y to (n_samples, ), for example using ravel().\n",
      "  y = column_or_1d(y, warn=True)\n"
     ]
    },
    {
     "name": "stdout",
     "output_type": "stream",
     "text": [
      "[0.38758365313212079, 0.0069806575775146484, -12061046252.13032, -12280102183.645948, array([ 11996.62878226])]\n",
      "****************************\n",
      "Round 14:\n",
      "(115563, 11)\n",
      "(115563, 1)\n",
      "(49528, 11)\n",
      "(49528, 1)\n",
      "MLPRegressor(activation='relu', alpha=0.0014, batch_size='auto', beta_1=0.9,\n",
      "       beta_2=0.999, early_stopping=False, epsilon=1e-08,\n",
      "       hidden_layer_sizes=(14,), learning_rate='constant',\n",
      "       learning_rate_init=0.001, max_iter=200, momentum=0.9,\n",
      "       nesterovs_momentum=True, power_t=0.5, random_state=None,\n",
      "       shuffle=True, solver='adam', tol=0.0001, validation_fraction=0.1,\n",
      "       verbose=False, warm_start=False)\n"
     ]
    },
    {
     "name": "stderr",
     "output_type": "stream",
     "text": [
      "/usr/local/lib/python3.6/site-packages/sklearn/neural_network/multilayer_perceptron.py:1306: DataConversionWarning: A column-vector y was passed when a 1d array was expected. Please change the shape of y to (n_samples, ), for example using ravel().\n",
      "  y = column_or_1d(y, warn=True)\n",
      "/usr/local/lib/python3.6/site-packages/sklearn/neural_network/multilayer_perceptron.py:1306: DataConversionWarning: A column-vector y was passed when a 1d array was expected. Please change the shape of y to (n_samples, ), for example using ravel().\n",
      "  y = column_or_1d(y, warn=True)\n",
      "/usr/local/lib/python3.6/site-packages/sklearn/neural_network/multilayer_perceptron.py:1306: DataConversionWarning: A column-vector y was passed when a 1d array was expected. Please change the shape of y to (n_samples, ), for example using ravel().\n",
      "  y = column_or_1d(y, warn=True)\n"
     ]
    },
    {
     "name": "stdout",
     "output_type": "stream",
     "text": [
      "[0.47355635960896808, 0.006459156672159831, -785881383.02574289, -1136930536.4279532, array([ 76466.12879691])]\n",
      "****************************\n",
      "Round 15:\n",
      "(115563, 11)\n",
      "(115563, 1)\n",
      "(49528, 11)\n",
      "(49528, 1)\n",
      "MLPRegressor(activation='relu', alpha=0.0015, batch_size='auto', beta_1=0.9,\n",
      "       beta_2=0.999, early_stopping=False, epsilon=1e-08,\n",
      "       hidden_layer_sizes=(15,), learning_rate='constant',\n",
      "       learning_rate_init=0.001, max_iter=200, momentum=0.9,\n",
      "       nesterovs_momentum=True, power_t=0.5, random_state=None,\n",
      "       shuffle=True, solver='adam', tol=0.0001, validation_fraction=0.1,\n",
      "       verbose=False, warm_start=False)\n"
     ]
    },
    {
     "name": "stderr",
     "output_type": "stream",
     "text": [
      "/usr/local/lib/python3.6/site-packages/sklearn/neural_network/multilayer_perceptron.py:1306: DataConversionWarning: A column-vector y was passed when a 1d array was expected. Please change the shape of y to (n_samples, ), for example using ravel().\n",
      "  y = column_or_1d(y, warn=True)\n",
      "/usr/local/lib/python3.6/site-packages/sklearn/neural_network/multilayer_perceptron.py:1306: DataConversionWarning: A column-vector y was passed when a 1d array was expected. Please change the shape of y to (n_samples, ), for example using ravel().\n",
      "  y = column_or_1d(y, warn=True)\n",
      "/usr/local/lib/python3.6/site-packages/sklearn/neural_network/multilayer_perceptron.py:1306: DataConversionWarning: A column-vector y was passed when a 1d array was expected. Please change the shape of y to (n_samples, ), for example using ravel().\n",
      "  y = column_or_1d(y, warn=True)\n"
     ]
    },
    {
     "name": "stdout",
     "output_type": "stream",
     "text": [
      "[0.47504440943400067, 0.0059711933135986328, -740043138.15280151, -941416396.91763496, array([ 4919.66023169])]\n",
      "****************************\n",
      "Round 16:\n",
      "(115563, 11)\n",
      "(115563, 1)\n",
      "(49528, 11)\n",
      "(49528, 1)\n",
      "MLPRegressor(activation='relu', alpha=0.0016, batch_size='auto', beta_1=0.9,\n",
      "       beta_2=0.999, early_stopping=False, epsilon=1e-08,\n",
      "       hidden_layer_sizes=(16,), learning_rate='constant',\n",
      "       learning_rate_init=0.001, max_iter=200, momentum=0.9,\n",
      "       nesterovs_momentum=True, power_t=0.5, random_state=None,\n",
      "       shuffle=True, solver='adam', tol=0.0001, validation_fraction=0.1,\n",
      "       verbose=False, warm_start=False)\n"
     ]
    },
    {
     "name": "stderr",
     "output_type": "stream",
     "text": [
      "/usr/local/lib/python3.6/site-packages/sklearn/neural_network/multilayer_perceptron.py:1306: DataConversionWarning: A column-vector y was passed when a 1d array was expected. Please change the shape of y to (n_samples, ), for example using ravel().\n",
      "  y = column_or_1d(y, warn=True)\n",
      "/usr/local/lib/python3.6/site-packages/sklearn/neural_network/multilayer_perceptron.py:1306: DataConversionWarning: A column-vector y was passed when a 1d array was expected. Please change the shape of y to (n_samples, ), for example using ravel().\n",
      "  y = column_or_1d(y, warn=True)\n",
      "/usr/local/lib/python3.6/site-packages/sklearn/neural_network/multilayer_perceptron.py:1306: DataConversionWarning: A column-vector y was passed when a 1d array was expected. Please change the shape of y to (n_samples, ), for example using ravel().\n",
      "  y = column_or_1d(y, warn=True)\n"
     ]
    },
    {
     "name": "stdout",
     "output_type": "stream",
     "text": [
      "[0.54642415046691895, 0.0076959133148193359, -1724612105.3738024, -1779992539.3472779, array([ 6139.56687892])]\n",
      "****************************\n",
      "Round 17:\n",
      "(115563, 11)\n",
      "(115563, 1)\n",
      "(49528, 11)\n",
      "(49528, 1)\n",
      "MLPRegressor(activation='relu', alpha=0.0017000000000000001,\n",
      "       batch_size='auto', beta_1=0.9, beta_2=0.999, early_stopping=False,\n",
      "       epsilon=1e-08, hidden_layer_sizes=(17,), learning_rate='constant',\n",
      "       learning_rate_init=0.001, max_iter=200, momentum=0.9,\n",
      "       nesterovs_momentum=True, power_t=0.5, random_state=None,\n",
      "       shuffle=True, solver='adam', tol=0.0001, validation_fraction=0.1,\n",
      "       verbose=False, warm_start=False)\n"
     ]
    },
    {
     "name": "stderr",
     "output_type": "stream",
     "text": [
      "/usr/local/lib/python3.6/site-packages/sklearn/neural_network/multilayer_perceptron.py:1306: DataConversionWarning: A column-vector y was passed when a 1d array was expected. Please change the shape of y to (n_samples, ), for example using ravel().\n",
      "  y = column_or_1d(y, warn=True)\n",
      "/usr/local/lib/python3.6/site-packages/sklearn/neural_network/multilayer_perceptron.py:1306: DataConversionWarning: A column-vector y was passed when a 1d array was expected. Please change the shape of y to (n_samples, ), for example using ravel().\n",
      "  y = column_or_1d(y, warn=True)\n",
      "/usr/local/lib/python3.6/site-packages/sklearn/neural_network/multilayer_perceptron.py:1306: DataConversionWarning: A column-vector y was passed when a 1d array was expected. Please change the shape of y to (n_samples, ), for example using ravel().\n",
      "  y = column_or_1d(y, warn=True)\n"
     ]
    },
    {
     "name": "stdout",
     "output_type": "stream",
     "text": [
      "[0.52860673268636071, 0.0067298412322998047, -818639274.82659066, -797057468.88069725, array([  1.16056477e+08])]\n",
      "****************************\n",
      "Round 18:\n",
      "(115563, 11)\n",
      "(115563, 1)\n",
      "(49528, 11)\n",
      "(49528, 1)\n",
      "MLPRegressor(activation='relu', alpha=0.0018000000000000002,\n",
      "       batch_size='auto', beta_1=0.9, beta_2=0.999, early_stopping=False,\n",
      "       epsilon=1e-08, hidden_layer_sizes=(18,), learning_rate='constant',\n",
      "       learning_rate_init=0.001, max_iter=200, momentum=0.9,\n",
      "       nesterovs_momentum=True, power_t=0.5, random_state=None,\n",
      "       shuffle=True, solver='adam', tol=0.0001, validation_fraction=0.1,\n",
      "       verbose=False, warm_start=False)\n"
     ]
    },
    {
     "name": "stderr",
     "output_type": "stream",
     "text": [
      "/usr/local/lib/python3.6/site-packages/sklearn/neural_network/multilayer_perceptron.py:1306: DataConversionWarning: A column-vector y was passed when a 1d array was expected. Please change the shape of y to (n_samples, ), for example using ravel().\n",
      "  y = column_or_1d(y, warn=True)\n",
      "/usr/local/lib/python3.6/site-packages/sklearn/neural_network/multilayer_perceptron.py:1306: DataConversionWarning: A column-vector y was passed when a 1d array was expected. Please change the shape of y to (n_samples, ), for example using ravel().\n",
      "  y = column_or_1d(y, warn=True)\n",
      "/usr/local/lib/python3.6/site-packages/sklearn/neural_network/multilayer_perceptron.py:1306: DataConversionWarning: A column-vector y was passed when a 1d array was expected. Please change the shape of y to (n_samples, ), for example using ravel().\n",
      "  y = column_or_1d(y, warn=True)\n"
     ]
    },
    {
     "name": "stdout",
     "output_type": "stream",
     "text": [
      "[0.58849875132242835, 0.011383295059204102, -29425516395.455639, -29306657780.364323, array([ 2056.99147365])]\n",
      "****************************\n",
      "Round 19:\n",
      "(115563, 11)\n",
      "(115563, 1)\n",
      "(49528, 11)\n",
      "(49528, 1)\n",
      "MLPRegressor(activation='relu', alpha=0.0019, batch_size='auto', beta_1=0.9,\n",
      "       beta_2=0.999, early_stopping=False, epsilon=1e-08,\n",
      "       hidden_layer_sizes=(19,), learning_rate='constant',\n",
      "       learning_rate_init=0.001, max_iter=200, momentum=0.9,\n",
      "       nesterovs_momentum=True, power_t=0.5, random_state=None,\n",
      "       shuffle=True, solver='adam', tol=0.0001, validation_fraction=0.1,\n",
      "       verbose=False, warm_start=False)\n"
     ]
    },
    {
     "name": "stderr",
     "output_type": "stream",
     "text": [
      "/usr/local/lib/python3.6/site-packages/sklearn/neural_network/multilayer_perceptron.py:1306: DataConversionWarning: A column-vector y was passed when a 1d array was expected. Please change the shape of y to (n_samples, ), for example using ravel().\n",
      "  y = column_or_1d(y, warn=True)\n",
      "/usr/local/lib/python3.6/site-packages/sklearn/neural_network/multilayer_perceptron.py:1306: DataConversionWarning: A column-vector y was passed when a 1d array was expected. Please change the shape of y to (n_samples, ), for example using ravel().\n",
      "  y = column_or_1d(y, warn=True)\n",
      "/usr/local/lib/python3.6/site-packages/sklearn/neural_network/multilayer_perceptron.py:1306: DataConversionWarning: A column-vector y was passed when a 1d array was expected. Please change the shape of y to (n_samples, ), for example using ravel().\n",
      "  y = column_or_1d(y, warn=True)\n"
     ]
    },
    {
     "name": "stdout",
     "output_type": "stream",
     "text": [
      "[0.77065809567769372, 0.0098016262054443359, -88596723363816.641, -88593801213646.594, array([ 13061.51548676])]\n",
      "****************************\n",
      "Round 20:\n",
      "(115563, 11)\n",
      "(115563, 1)\n",
      "(49528, 11)\n",
      "(49528, 1)\n",
      "MLPRegressor(activation='relu', alpha=0.002, batch_size='auto', beta_1=0.9,\n",
      "       beta_2=0.999, early_stopping=False, epsilon=1e-08,\n",
      "       hidden_layer_sizes=(20,), learning_rate='constant',\n",
      "       learning_rate_init=0.001, max_iter=200, momentum=0.9,\n",
      "       nesterovs_momentum=True, power_t=0.5, random_state=None,\n",
      "       shuffle=True, solver='adam', tol=0.0001, validation_fraction=0.1,\n",
      "       verbose=False, warm_start=False)\n"
     ]
    },
    {
     "name": "stderr",
     "output_type": "stream",
     "text": [
      "/usr/local/lib/python3.6/site-packages/sklearn/neural_network/multilayer_perceptron.py:1306: DataConversionWarning: A column-vector y was passed when a 1d array was expected. Please change the shape of y to (n_samples, ), for example using ravel().\n",
      "  y = column_or_1d(y, warn=True)\n",
      "/usr/local/lib/python3.6/site-packages/sklearn/neural_network/multilayer_perceptron.py:1306: DataConversionWarning: A column-vector y was passed when a 1d array was expected. Please change the shape of y to (n_samples, ), for example using ravel().\n",
      "  y = column_or_1d(y, warn=True)\n",
      "/usr/local/lib/python3.6/site-packages/sklearn/neural_network/multilayer_perceptron.py:1306: DataConversionWarning: A column-vector y was passed when a 1d array was expected. Please change the shape of y to (n_samples, ), for example using ravel().\n",
      "  y = column_or_1d(y, warn=True)\n"
     ]
    },
    {
     "name": "stdout",
     "output_type": "stream",
     "text": [
      "[0.48914003372192383, 0.01102431615193685, -3622741368.2634597, -2830663291.9588752, array([ 2787.8995713])]\n",
      "****************************\n",
      "Round 21:\n",
      "(115563, 11)\n",
      "(115563, 1)\n",
      "(49528, 11)\n",
      "(49528, 1)\n",
      "MLPRegressor(activation='relu', alpha=0.0021000000000000003,\n",
      "       batch_size='auto', beta_1=0.9, beta_2=0.999, early_stopping=False,\n",
      "       epsilon=1e-08, hidden_layer_sizes=(21,), learning_rate='constant',\n",
      "       learning_rate_init=0.001, max_iter=200, momentum=0.9,\n",
      "       nesterovs_momentum=True, power_t=0.5, random_state=None,\n",
      "       shuffle=True, solver='adam', tol=0.0001, validation_fraction=0.1,\n",
      "       verbose=False, warm_start=False)\n"
     ]
    },
    {
     "name": "stderr",
     "output_type": "stream",
     "text": [
      "/usr/local/lib/python3.6/site-packages/sklearn/neural_network/multilayer_perceptron.py:1306: DataConversionWarning: A column-vector y was passed when a 1d array was expected. Please change the shape of y to (n_samples, ), for example using ravel().\n",
      "  y = column_or_1d(y, warn=True)\n",
      "/usr/local/lib/python3.6/site-packages/sklearn/neural_network/multilayer_perceptron.py:1306: DataConversionWarning: A column-vector y was passed when a 1d array was expected. Please change the shape of y to (n_samples, ), for example using ravel().\n",
      "  y = column_or_1d(y, warn=True)\n",
      "/usr/local/lib/python3.6/site-packages/sklearn/neural_network/multilayer_perceptron.py:1306: DataConversionWarning: A column-vector y was passed when a 1d array was expected. Please change the shape of y to (n_samples, ), for example using ravel().\n",
      "  y = column_or_1d(y, warn=True)\n"
     ]
    },
    {
     "name": "stdout",
     "output_type": "stream",
     "text": [
      "[0.49940037727355957, 0.0079459349314371739, -1909430552.0224466, -1819128372.3211544, array([ 100722.81809715])]\n",
      "****************************\n",
      "Round 22:\n",
      "(115563, 11)\n",
      "(115563, 1)\n",
      "(49528, 11)\n",
      "(49528, 1)\n",
      "MLPRegressor(activation='relu', alpha=0.0022, batch_size='auto', beta_1=0.9,\n",
      "       beta_2=0.999, early_stopping=False, epsilon=1e-08,\n",
      "       hidden_layer_sizes=(22,), learning_rate='constant',\n",
      "       learning_rate_init=0.001, max_iter=200, momentum=0.9,\n",
      "       nesterovs_momentum=True, power_t=0.5, random_state=None,\n",
      "       shuffle=True, solver='adam', tol=0.0001, validation_fraction=0.1,\n",
      "       verbose=False, warm_start=False)\n"
     ]
    },
    {
     "name": "stderr",
     "output_type": "stream",
     "text": [
      "/usr/local/lib/python3.6/site-packages/sklearn/neural_network/multilayer_perceptron.py:1306: DataConversionWarning: A column-vector y was passed when a 1d array was expected. Please change the shape of y to (n_samples, ), for example using ravel().\n",
      "  y = column_or_1d(y, warn=True)\n",
      "/usr/local/lib/python3.6/site-packages/sklearn/neural_network/multilayer_perceptron.py:1306: DataConversionWarning: A column-vector y was passed when a 1d array was expected. Please change the shape of y to (n_samples, ), for example using ravel().\n",
      "  y = column_or_1d(y, warn=True)\n",
      "/usr/local/lib/python3.6/site-packages/sklearn/neural_network/multilayer_perceptron.py:1306: DataConversionWarning: A column-vector y was passed when a 1d array was expected. Please change the shape of y to (n_samples, ), for example using ravel().\n",
      "  y = column_or_1d(y, warn=True)\n"
     ]
    },
    {
     "name": "stdout",
     "output_type": "stream",
     "text": [
      "[0.51115457216898597, 0.0085593859354654942, -1064557575680724.6, -1064636199592585.4, array([ 689.25873509])]\n",
      "****************************\n",
      "Round 23:\n",
      "(115563, 11)\n",
      "(115563, 1)\n",
      "(49528, 11)\n",
      "(49528, 1)\n",
      "MLPRegressor(activation='relu', alpha=0.0023, batch_size='auto', beta_1=0.9,\n",
      "       beta_2=0.999, early_stopping=False, epsilon=1e-08,\n",
      "       hidden_layer_sizes=(23,), learning_rate='constant',\n",
      "       learning_rate_init=0.001, max_iter=200, momentum=0.9,\n",
      "       nesterovs_momentum=True, power_t=0.5, random_state=None,\n",
      "       shuffle=True, solver='adam', tol=0.0001, validation_fraction=0.1,\n",
      "       verbose=False, warm_start=False)\n"
     ]
    },
    {
     "name": "stderr",
     "output_type": "stream",
     "text": [
      "/usr/local/lib/python3.6/site-packages/sklearn/neural_network/multilayer_perceptron.py:1306: DataConversionWarning: A column-vector y was passed when a 1d array was expected. Please change the shape of y to (n_samples, ), for example using ravel().\n",
      "  y = column_or_1d(y, warn=True)\n",
      "/usr/local/lib/python3.6/site-packages/sklearn/neural_network/multilayer_perceptron.py:1306: DataConversionWarning: A column-vector y was passed when a 1d array was expected. Please change the shape of y to (n_samples, ), for example using ravel().\n",
      "  y = column_or_1d(y, warn=True)\n",
      "/usr/local/lib/python3.6/site-packages/sklearn/neural_network/multilayer_perceptron.py:1306: DataConversionWarning: A column-vector y was passed when a 1d array was expected. Please change the shape of y to (n_samples, ), for example using ravel().\n",
      "  y = column_or_1d(y, warn=True)\n"
     ]
    },
    {
     "name": "stdout",
     "output_type": "stream",
     "text": [
      "[0.74488409360249841, 0.0093982219696044922, -5858505409823.5029, -5858259820496.8604, array([ 2810.961922])]\n",
      "****************************\n",
      "Round 24:\n",
      "(115563, 11)\n",
      "(115563, 1)\n",
      "(49528, 11)\n",
      "(49528, 1)\n",
      "MLPRegressor(activation='relu', alpha=0.0024000000000000002,\n",
      "       batch_size='auto', beta_1=0.9, beta_2=0.999, early_stopping=False,\n",
      "       epsilon=1e-08, hidden_layer_sizes=(24,), learning_rate='constant',\n",
      "       learning_rate_init=0.001, max_iter=200, momentum=0.9,\n",
      "       nesterovs_momentum=True, power_t=0.5, random_state=None,\n",
      "       shuffle=True, solver='adam', tol=0.0001, validation_fraction=0.1,\n",
      "       verbose=False, warm_start=False)\n"
     ]
    },
    {
     "name": "stderr",
     "output_type": "stream",
     "text": [
      "/usr/local/lib/python3.6/site-packages/sklearn/neural_network/multilayer_perceptron.py:1306: DataConversionWarning: A column-vector y was passed when a 1d array was expected. Please change the shape of y to (n_samples, ), for example using ravel().\n",
      "  y = column_or_1d(y, warn=True)\n",
      "/usr/local/lib/python3.6/site-packages/sklearn/neural_network/multilayer_perceptron.py:1306: DataConversionWarning: A column-vector y was passed when a 1d array was expected. Please change the shape of y to (n_samples, ), for example using ravel().\n",
      "  y = column_or_1d(y, warn=True)\n",
      "/usr/local/lib/python3.6/site-packages/sklearn/neural_network/multilayer_perceptron.py:1306: DataConversionWarning: A column-vector y was passed when a 1d array was expected. Please change the shape of y to (n_samples, ), for example using ravel().\n",
      "  y = column_or_1d(y, warn=True)\n"
     ]
    },
    {
     "name": "stdout",
     "output_type": "stream",
     "text": [
      "[0.62687961260477698, 0.0092079639434814453, -8002870130025316.0, -8002594488726249.0, array([ 1049.81499375])]\n",
      "****************************\n",
      "Round 25:\n",
      "(115563, 11)\n",
      "(115563, 1)\n",
      "(49528, 11)\n",
      "(49528, 1)\n",
      "MLPRegressor(activation='relu', alpha=0.0025, batch_size='auto', beta_1=0.9,\n",
      "       beta_2=0.999, early_stopping=False, epsilon=1e-08,\n",
      "       hidden_layer_sizes=(25,), learning_rate='constant',\n",
      "       learning_rate_init=0.001, max_iter=200, momentum=0.9,\n",
      "       nesterovs_momentum=True, power_t=0.5, random_state=None,\n",
      "       shuffle=True, solver='adam', tol=0.0001, validation_fraction=0.1,\n",
      "       verbose=False, warm_start=False)\n"
     ]
    },
    {
     "name": "stderr",
     "output_type": "stream",
     "text": [
      "/usr/local/lib/python3.6/site-packages/sklearn/neural_network/multilayer_perceptron.py:1306: DataConversionWarning: A column-vector y was passed when a 1d array was expected. Please change the shape of y to (n_samples, ), for example using ravel().\n",
      "  y = column_or_1d(y, warn=True)\n",
      "/usr/local/lib/python3.6/site-packages/sklearn/neural_network/multilayer_perceptron.py:1306: DataConversionWarning: A column-vector y was passed when a 1d array was expected. Please change the shape of y to (n_samples, ), for example using ravel().\n",
      "  y = column_or_1d(y, warn=True)\n",
      "/usr/local/lib/python3.6/site-packages/sklearn/neural_network/multilayer_perceptron.py:1306: DataConversionWarning: A column-vector y was passed when a 1d array was expected. Please change the shape of y to (n_samples, ), for example using ravel().\n",
      "  y = column_or_1d(y, warn=True)\n"
     ]
    },
    {
     "name": "stdout",
     "output_type": "stream",
     "text": [
      "[0.76705662409464515, 0.010050058364868164, -708974134.27471972, -581323382.5343132, array([ 1484.19148411])]\n",
      "****************************\n",
      "    fit_time  score_time    test_score   train_score             MAPE\n",
      "0   6.609851    0.002614 -6.738272e+07 -6.735993e+07  [440.311808607]\n",
      "1   4.483903    0.003399 -5.374334e+05 -5.359294e+05  [437.633896313]\n",
      "2   3.769062    0.006112 -5.099338e+05 -5.386428e+05  [9938.34831224]\n",
      "3   1.405283    0.004980 -6.419321e+05 -6.608302e+05  [433.120779376]\n",
      "4   1.488671    0.003702 -4.931725e+05 -4.910861e+05  [439.042728376]\n",
      "5   2.065184    0.004410 -5.227231e+05 -5.236136e+05  [458.552584609]\n",
      "6   2.387449    0.004944 -5.375414e+05 -5.205732e+05  [466.482036893]\n",
      "7   1.757929    0.006643 -5.344385e+05 -5.029201e+05  [481.961038953]\n",
      "8   1.429771    0.004859 -4.752820e+05 -4.762374e+05  [486.055782026]\n",
      "9   1.971351    0.004834 -5.201325e+05 -5.436153e+05  [479.920170938]\n",
      "10  1.236755    0.004602 -5.641210e+05 -5.577552e+05  [440.869172694]\n",
      "11  2.465166    0.004845 -5.465890e+05 -5.369589e+05  [482.253719088]\n",
      "12  1.053769    0.005956 -5.982931e+05 -6.205610e+05  [437.984825052]\n",
      "13  0.578028    0.005893 -6.226106e+05 -5.772614e+05  [450.159783395]\n",
      "14  0.945345    0.006267 -4.933315e+05 -4.961956e+05  [444.422340044]\n",
      "15  1.469381    0.005714 -5.296966e+05 -5.252584e+05  [482.656270945]\n",
      "16  1.246354    0.006764 -5.580121e+05 -5.666952e+05  [540.939325775]\n",
      "17  1.280739    0.007216 -4.880347e+05 -4.871509e+05  [440.800322334]\n",
      "18  1.055078    0.007085 -5.321562e+05 -5.393082e+05  [457.698516917]\n",
      "19  1.025025    0.007179 -5.102439e+05 -5.245700e+05  [443.549196082]\n",
      "20  1.645856    0.007729 -5.615552e+05 -5.552028e+05  [473.145295525]\n",
      "21  1.039775    0.007811 -5.649472e+05 -5.598144e+05  [546.086089534]\n",
      "22  0.856586    0.007885 -5.842666e+05 -5.584503e+05  [468.063924187]\n",
      "23  1.382121    0.009047 -4.890421e+05 -4.854213e+05  [437.339464711]\n",
      "24  1.212043    0.009289 -5.083815e+05 -5.143503e+05  [488.324659674]\n",
      "0   3.024233    0.001478 -5.312178e+07 -5.334487e+07  [9955.67432645]\n",
      "1   6.643821    0.004632 -1.794285e+08 -1.673164e+08  [9937.73443703]\n",
      "2   1.303802    0.006317 -4.154963e+07 -4.148922e+07  [427.250145752]\n",
      "3   1.018807    0.004401 -1.064352e+09 -1.007757e+09  [9970.71617813]\n",
      "4   0.382917    0.006250 -7.874016e+07 -6.573173e+07  [9798.63092236]\n",
      "5   0.438107    0.005848 -1.262632e+09 -1.026992e+09  [1503.70948324]\n",
      "6   0.891519    0.005029 -5.769367e+08 -1.167876e+09  [8126.08112772]\n",
      "7   0.507233    0.010873 -1.636315e+09 -1.423273e+09  [7965.33105641]\n",
      "8   0.394231    0.006009 -1.399990e+09 -1.325657e+09  [2643.36357135]\n",
      "9   0.498886    0.006749 -1.564122e+09 -1.454538e+09  [5721.62309486]\n",
      "10  0.406411    0.007149 -1.536463e+12 -1.530637e+12  [10149.2818387]\n",
      "11  0.393615    0.005834 -3.166577e+08 -2.295623e+08  [3178.99698621]\n",
      "12  0.387584    0.006981 -1.206105e+10 -1.228010e+10  [11996.6287823]\n",
      "13  0.473556    0.006459 -7.858814e+08 -1.136931e+09  [76466.1287969]\n",
      "14  0.475044    0.005971 -7.400431e+08 -9.414164e+08  [4919.66023169]\n",
      "15  0.546424    0.007696 -1.724612e+09 -1.779993e+09  [6139.56687892]\n",
      "16  0.528607    0.006730 -8.186393e+08 -7.970575e+08  [116056476.913]\n",
      "17  0.588499    0.011383 -2.942552e+10 -2.930666e+10  [2056.99147365]\n",
      "18  0.770658    0.009802 -8.859672e+13 -8.859380e+13  [13061.5154868]\n",
      "19  0.489140    0.011024 -3.622741e+09 -2.830663e+09   [2787.8995713]\n",
      "20  0.499400    0.007946 -1.909431e+09 -1.819128e+09  [100722.818097]\n",
      "21  0.511155    0.008559 -1.064558e+15 -1.064636e+15  [689.258735095]\n",
      "22  0.744884    0.009398 -5.858505e+12 -5.858260e+12    [2810.961922]\n",
      "23  0.626880    0.009208 -8.002870e+15 -8.002594e+15  [1049.81499375]\n",
      "24  0.767057    0.010050 -7.089741e+08 -5.813234e+08  [1484.19148411]\n"
     ]
    }
   ],
   "source": [
    "# Random Forest with MSE\n",
    "ts_list = [ts_i,ts_u]\n",
    "model_list = []\n",
    "frames = []\n",
    "for m in ts_list:\n",
    "    for i in range(5):\n",
    "        for j in range(5):\n",
    "            print(\"Round %d:\" % (i*5+j+1))\n",
    "            \n",
    "            # Training set\n",
    "            ts = m\n",
    "            y = ts[['Zestimate']]\n",
    "            X = ts.drop('Zestimate',axis=1)\n",
    "            \n",
    "            # Split data with 0.75\n",
    "            X_train, X_test, y_train, y_test = train_test_split(X, y, train_size=0.7)\n",
    "            print (X_train.shape)\n",
    "            print (y_train.shape)\n",
    "            print (X_test.shape)\n",
    "            print (y_test.shape)\n",
    "            \n",
    "            nn = MLPRegressor(hidden_layer_sizes=(i*5+j+1,), alpha=0.0001*(i*5+j+1))\n",
    "            nn.fit(X_train, y_train)\n",
    "            model_list.append(nn)\n",
    "            metric = metric_nn(X_train, np.array(y_train), X_test, np.array(y_test), nn, 'neg_mean_squared_error')\n",
    "            print(metric)\n",
    "            result = pd.DataFrame.from_items([(i*5+j,metric)],\\\n",
    "                                             orient='index',\\\n",
    "                                             columns=['fit_time','score_time','test_score','train_score','MAPE'])\n",
    "            frames.append(result)\n",
    "            print(\"****************************\")\n",
    "m = pd.concat(frames)\n",
    "print(m)"
   ]
  },
  {
   "cell_type": "code",
   "execution_count": 18,
   "metadata": {},
   "outputs": [
    {
     "data": {
      "text/html": [
       "<div>\n",
       "<style>\n",
       "    .dataframe thead tr:only-child th {\n",
       "        text-align: right;\n",
       "    }\n",
       "\n",
       "    .dataframe thead th {\n",
       "        text-align: left;\n",
       "    }\n",
       "\n",
       "    .dataframe tbody tr th {\n",
       "        vertical-align: top;\n",
       "    }\n",
       "</style>\n",
       "<table border=\"1\" class=\"dataframe\">\n",
       "  <thead>\n",
       "    <tr style=\"text-align: right;\">\n",
       "      <th></th>\n",
       "      <th>fit_time</th>\n",
       "      <th>score_time</th>\n",
       "      <th>test_score</th>\n",
       "      <th>train_score</th>\n",
       "      <th>MAPE</th>\n",
       "    </tr>\n",
       "  </thead>\n",
       "  <tbody>\n",
       "    <tr>\n",
       "      <th>2</th>\n",
       "      <td>1.303802</td>\n",
       "      <td>0.006317</td>\n",
       "      <td>-4.154963e+07</td>\n",
       "      <td>-4.148922e+07</td>\n",
       "      <td>[427.250145752]</td>\n",
       "    </tr>\n",
       "    <tr>\n",
       "      <th>3</th>\n",
       "      <td>1.405283</td>\n",
       "      <td>0.004980</td>\n",
       "      <td>-6.419321e+05</td>\n",
       "      <td>-6.608302e+05</td>\n",
       "      <td>[433.120779376]</td>\n",
       "    </tr>\n",
       "    <tr>\n",
       "      <th>23</th>\n",
       "      <td>1.382121</td>\n",
       "      <td>0.009047</td>\n",
       "      <td>-4.890421e+05</td>\n",
       "      <td>-4.854213e+05</td>\n",
       "      <td>[437.339464711]</td>\n",
       "    </tr>\n",
       "    <tr>\n",
       "      <th>1</th>\n",
       "      <td>4.483903</td>\n",
       "      <td>0.003399</td>\n",
       "      <td>-5.374334e+05</td>\n",
       "      <td>-5.359294e+05</td>\n",
       "      <td>[437.633896313]</td>\n",
       "    </tr>\n",
       "    <tr>\n",
       "      <th>12</th>\n",
       "      <td>1.053769</td>\n",
       "      <td>0.005956</td>\n",
       "      <td>-5.982931e+05</td>\n",
       "      <td>-6.205610e+05</td>\n",
       "      <td>[437.984825052]</td>\n",
       "    </tr>\n",
       "    <tr>\n",
       "      <th>4</th>\n",
       "      <td>1.488671</td>\n",
       "      <td>0.003702</td>\n",
       "      <td>-4.931725e+05</td>\n",
       "      <td>-4.910861e+05</td>\n",
       "      <td>[439.042728376]</td>\n",
       "    </tr>\n",
       "    <tr>\n",
       "      <th>0</th>\n",
       "      <td>6.609851</td>\n",
       "      <td>0.002614</td>\n",
       "      <td>-6.738272e+07</td>\n",
       "      <td>-6.735993e+07</td>\n",
       "      <td>[440.311808607]</td>\n",
       "    </tr>\n",
       "    <tr>\n",
       "      <th>17</th>\n",
       "      <td>1.280739</td>\n",
       "      <td>0.007216</td>\n",
       "      <td>-4.880347e+05</td>\n",
       "      <td>-4.871509e+05</td>\n",
       "      <td>[440.800322334]</td>\n",
       "    </tr>\n",
       "    <tr>\n",
       "      <th>10</th>\n",
       "      <td>1.236755</td>\n",
       "      <td>0.004602</td>\n",
       "      <td>-5.641210e+05</td>\n",
       "      <td>-5.577552e+05</td>\n",
       "      <td>[440.869172694]</td>\n",
       "    </tr>\n",
       "    <tr>\n",
       "      <th>19</th>\n",
       "      <td>1.025025</td>\n",
       "      <td>0.007179</td>\n",
       "      <td>-5.102439e+05</td>\n",
       "      <td>-5.245700e+05</td>\n",
       "      <td>[443.549196082]</td>\n",
       "    </tr>\n",
       "    <tr>\n",
       "      <th>14</th>\n",
       "      <td>0.945345</td>\n",
       "      <td>0.006267</td>\n",
       "      <td>-4.933315e+05</td>\n",
       "      <td>-4.961956e+05</td>\n",
       "      <td>[444.422340044]</td>\n",
       "    </tr>\n",
       "    <tr>\n",
       "      <th>13</th>\n",
       "      <td>0.578028</td>\n",
       "      <td>0.005893</td>\n",
       "      <td>-6.226106e+05</td>\n",
       "      <td>-5.772614e+05</td>\n",
       "      <td>[450.159783395]</td>\n",
       "    </tr>\n",
       "    <tr>\n",
       "      <th>18</th>\n",
       "      <td>1.055078</td>\n",
       "      <td>0.007085</td>\n",
       "      <td>-5.321562e+05</td>\n",
       "      <td>-5.393082e+05</td>\n",
       "      <td>[457.698516917]</td>\n",
       "    </tr>\n",
       "    <tr>\n",
       "      <th>5</th>\n",
       "      <td>2.065184</td>\n",
       "      <td>0.004410</td>\n",
       "      <td>-5.227231e+05</td>\n",
       "      <td>-5.236136e+05</td>\n",
       "      <td>[458.552584609]</td>\n",
       "    </tr>\n",
       "    <tr>\n",
       "      <th>6</th>\n",
       "      <td>2.387449</td>\n",
       "      <td>0.004944</td>\n",
       "      <td>-5.375414e+05</td>\n",
       "      <td>-5.205732e+05</td>\n",
       "      <td>[466.482036893]</td>\n",
       "    </tr>\n",
       "    <tr>\n",
       "      <th>22</th>\n",
       "      <td>0.856586</td>\n",
       "      <td>0.007885</td>\n",
       "      <td>-5.842666e+05</td>\n",
       "      <td>-5.584503e+05</td>\n",
       "      <td>[468.063924187]</td>\n",
       "    </tr>\n",
       "    <tr>\n",
       "      <th>20</th>\n",
       "      <td>1.645856</td>\n",
       "      <td>0.007729</td>\n",
       "      <td>-5.615552e+05</td>\n",
       "      <td>-5.552028e+05</td>\n",
       "      <td>[473.145295525]</td>\n",
       "    </tr>\n",
       "    <tr>\n",
       "      <th>9</th>\n",
       "      <td>1.971351</td>\n",
       "      <td>0.004834</td>\n",
       "      <td>-5.201325e+05</td>\n",
       "      <td>-5.436153e+05</td>\n",
       "      <td>[479.920170938]</td>\n",
       "    </tr>\n",
       "    <tr>\n",
       "      <th>7</th>\n",
       "      <td>1.757929</td>\n",
       "      <td>0.006643</td>\n",
       "      <td>-5.344385e+05</td>\n",
       "      <td>-5.029201e+05</td>\n",
       "      <td>[481.961038953]</td>\n",
       "    </tr>\n",
       "    <tr>\n",
       "      <th>11</th>\n",
       "      <td>2.465166</td>\n",
       "      <td>0.004845</td>\n",
       "      <td>-5.465890e+05</td>\n",
       "      <td>-5.369589e+05</td>\n",
       "      <td>[482.253719088]</td>\n",
       "    </tr>\n",
       "    <tr>\n",
       "      <th>15</th>\n",
       "      <td>1.469381</td>\n",
       "      <td>0.005714</td>\n",
       "      <td>-5.296966e+05</td>\n",
       "      <td>-5.252584e+05</td>\n",
       "      <td>[482.656270945]</td>\n",
       "    </tr>\n",
       "    <tr>\n",
       "      <th>8</th>\n",
       "      <td>1.429771</td>\n",
       "      <td>0.004859</td>\n",
       "      <td>-4.752820e+05</td>\n",
       "      <td>-4.762374e+05</td>\n",
       "      <td>[486.055782026]</td>\n",
       "    </tr>\n",
       "    <tr>\n",
       "      <th>24</th>\n",
       "      <td>1.212043</td>\n",
       "      <td>0.009289</td>\n",
       "      <td>-5.083815e+05</td>\n",
       "      <td>-5.143503e+05</td>\n",
       "      <td>[488.324659674]</td>\n",
       "    </tr>\n",
       "    <tr>\n",
       "      <th>16</th>\n",
       "      <td>1.246354</td>\n",
       "      <td>0.006764</td>\n",
       "      <td>-5.580121e+05</td>\n",
       "      <td>-5.666952e+05</td>\n",
       "      <td>[540.939325775]</td>\n",
       "    </tr>\n",
       "    <tr>\n",
       "      <th>21</th>\n",
       "      <td>1.039775</td>\n",
       "      <td>0.007811</td>\n",
       "      <td>-5.649472e+05</td>\n",
       "      <td>-5.598144e+05</td>\n",
       "      <td>[546.086089534]</td>\n",
       "    </tr>\n",
       "    <tr>\n",
       "      <th>21</th>\n",
       "      <td>0.511155</td>\n",
       "      <td>0.008559</td>\n",
       "      <td>-1.064558e+15</td>\n",
       "      <td>-1.064636e+15</td>\n",
       "      <td>[689.258735095]</td>\n",
       "    </tr>\n",
       "    <tr>\n",
       "      <th>23</th>\n",
       "      <td>0.626880</td>\n",
       "      <td>0.009208</td>\n",
       "      <td>-8.002870e+15</td>\n",
       "      <td>-8.002594e+15</td>\n",
       "      <td>[1049.81499375]</td>\n",
       "    </tr>\n",
       "    <tr>\n",
       "      <th>24</th>\n",
       "      <td>0.767057</td>\n",
       "      <td>0.010050</td>\n",
       "      <td>-7.089741e+08</td>\n",
       "      <td>-5.813234e+08</td>\n",
       "      <td>[1484.19148411]</td>\n",
       "    </tr>\n",
       "    <tr>\n",
       "      <th>5</th>\n",
       "      <td>0.438107</td>\n",
       "      <td>0.005848</td>\n",
       "      <td>-1.262632e+09</td>\n",
       "      <td>-1.026992e+09</td>\n",
       "      <td>[1503.70948324]</td>\n",
       "    </tr>\n",
       "    <tr>\n",
       "      <th>17</th>\n",
       "      <td>0.588499</td>\n",
       "      <td>0.011383</td>\n",
       "      <td>-2.942552e+10</td>\n",
       "      <td>-2.930666e+10</td>\n",
       "      <td>[2056.99147365]</td>\n",
       "    </tr>\n",
       "    <tr>\n",
       "      <th>8</th>\n",
       "      <td>0.394231</td>\n",
       "      <td>0.006009</td>\n",
       "      <td>-1.399990e+09</td>\n",
       "      <td>-1.325657e+09</td>\n",
       "      <td>[2643.36357135]</td>\n",
       "    </tr>\n",
       "    <tr>\n",
       "      <th>19</th>\n",
       "      <td>0.489140</td>\n",
       "      <td>0.011024</td>\n",
       "      <td>-3.622741e+09</td>\n",
       "      <td>-2.830663e+09</td>\n",
       "      <td>[2787.8995713]</td>\n",
       "    </tr>\n",
       "    <tr>\n",
       "      <th>22</th>\n",
       "      <td>0.744884</td>\n",
       "      <td>0.009398</td>\n",
       "      <td>-5.858505e+12</td>\n",
       "      <td>-5.858260e+12</td>\n",
       "      <td>[2810.961922]</td>\n",
       "    </tr>\n",
       "    <tr>\n",
       "      <th>11</th>\n",
       "      <td>0.393615</td>\n",
       "      <td>0.005834</td>\n",
       "      <td>-3.166577e+08</td>\n",
       "      <td>-2.295623e+08</td>\n",
       "      <td>[3178.99698621]</td>\n",
       "    </tr>\n",
       "    <tr>\n",
       "      <th>14</th>\n",
       "      <td>0.475044</td>\n",
       "      <td>0.005971</td>\n",
       "      <td>-7.400431e+08</td>\n",
       "      <td>-9.414164e+08</td>\n",
       "      <td>[4919.66023169]</td>\n",
       "    </tr>\n",
       "    <tr>\n",
       "      <th>9</th>\n",
       "      <td>0.498886</td>\n",
       "      <td>0.006749</td>\n",
       "      <td>-1.564122e+09</td>\n",
       "      <td>-1.454538e+09</td>\n",
       "      <td>[5721.62309486]</td>\n",
       "    </tr>\n",
       "    <tr>\n",
       "      <th>15</th>\n",
       "      <td>0.546424</td>\n",
       "      <td>0.007696</td>\n",
       "      <td>-1.724612e+09</td>\n",
       "      <td>-1.779993e+09</td>\n",
       "      <td>[6139.56687892]</td>\n",
       "    </tr>\n",
       "    <tr>\n",
       "      <th>7</th>\n",
       "      <td>0.507233</td>\n",
       "      <td>0.010873</td>\n",
       "      <td>-1.636315e+09</td>\n",
       "      <td>-1.423273e+09</td>\n",
       "      <td>[7965.33105641]</td>\n",
       "    </tr>\n",
       "    <tr>\n",
       "      <th>6</th>\n",
       "      <td>0.891519</td>\n",
       "      <td>0.005029</td>\n",
       "      <td>-5.769367e+08</td>\n",
       "      <td>-1.167876e+09</td>\n",
       "      <td>[8126.08112772]</td>\n",
       "    </tr>\n",
       "    <tr>\n",
       "      <th>4</th>\n",
       "      <td>0.382917</td>\n",
       "      <td>0.006250</td>\n",
       "      <td>-7.874016e+07</td>\n",
       "      <td>-6.573173e+07</td>\n",
       "      <td>[9798.63092236]</td>\n",
       "    </tr>\n",
       "    <tr>\n",
       "      <th>1</th>\n",
       "      <td>6.643821</td>\n",
       "      <td>0.004632</td>\n",
       "      <td>-1.794285e+08</td>\n",
       "      <td>-1.673164e+08</td>\n",
       "      <td>[9937.73443703]</td>\n",
       "    </tr>\n",
       "    <tr>\n",
       "      <th>2</th>\n",
       "      <td>3.769062</td>\n",
       "      <td>0.006112</td>\n",
       "      <td>-5.099338e+05</td>\n",
       "      <td>-5.386428e+05</td>\n",
       "      <td>[9938.34831224]</td>\n",
       "    </tr>\n",
       "    <tr>\n",
       "      <th>0</th>\n",
       "      <td>3.024233</td>\n",
       "      <td>0.001478</td>\n",
       "      <td>-5.312178e+07</td>\n",
       "      <td>-5.334487e+07</td>\n",
       "      <td>[9955.67432645]</td>\n",
       "    </tr>\n",
       "    <tr>\n",
       "      <th>3</th>\n",
       "      <td>1.018807</td>\n",
       "      <td>0.004401</td>\n",
       "      <td>-1.064352e+09</td>\n",
       "      <td>-1.007757e+09</td>\n",
       "      <td>[9970.71617813]</td>\n",
       "    </tr>\n",
       "    <tr>\n",
       "      <th>10</th>\n",
       "      <td>0.406411</td>\n",
       "      <td>0.007149</td>\n",
       "      <td>-1.536463e+12</td>\n",
       "      <td>-1.530637e+12</td>\n",
       "      <td>[10149.2818387]</td>\n",
       "    </tr>\n",
       "    <tr>\n",
       "      <th>12</th>\n",
       "      <td>0.387584</td>\n",
       "      <td>0.006981</td>\n",
       "      <td>-1.206105e+10</td>\n",
       "      <td>-1.228010e+10</td>\n",
       "      <td>[11996.6287823]</td>\n",
       "    </tr>\n",
       "    <tr>\n",
       "      <th>18</th>\n",
       "      <td>0.770658</td>\n",
       "      <td>0.009802</td>\n",
       "      <td>-8.859672e+13</td>\n",
       "      <td>-8.859380e+13</td>\n",
       "      <td>[13061.5154868]</td>\n",
       "    </tr>\n",
       "    <tr>\n",
       "      <th>13</th>\n",
       "      <td>0.473556</td>\n",
       "      <td>0.006459</td>\n",
       "      <td>-7.858814e+08</td>\n",
       "      <td>-1.136931e+09</td>\n",
       "      <td>[76466.1287969]</td>\n",
       "    </tr>\n",
       "    <tr>\n",
       "      <th>20</th>\n",
       "      <td>0.499400</td>\n",
       "      <td>0.007946</td>\n",
       "      <td>-1.909431e+09</td>\n",
       "      <td>-1.819128e+09</td>\n",
       "      <td>[100722.818097]</td>\n",
       "    </tr>\n",
       "    <tr>\n",
       "      <th>16</th>\n",
       "      <td>0.528607</td>\n",
       "      <td>0.006730</td>\n",
       "      <td>-8.186393e+08</td>\n",
       "      <td>-7.970575e+08</td>\n",
       "      <td>[116056476.913]</td>\n",
       "    </tr>\n",
       "  </tbody>\n",
       "</table>\n",
       "</div>"
      ],
      "text/plain": [
       "    fit_time  score_time    test_score   train_score             MAPE\n",
       "2   1.303802    0.006317 -4.154963e+07 -4.148922e+07  [427.250145752]\n",
       "3   1.405283    0.004980 -6.419321e+05 -6.608302e+05  [433.120779376]\n",
       "23  1.382121    0.009047 -4.890421e+05 -4.854213e+05  [437.339464711]\n",
       "1   4.483903    0.003399 -5.374334e+05 -5.359294e+05  [437.633896313]\n",
       "12  1.053769    0.005956 -5.982931e+05 -6.205610e+05  [437.984825052]\n",
       "4   1.488671    0.003702 -4.931725e+05 -4.910861e+05  [439.042728376]\n",
       "0   6.609851    0.002614 -6.738272e+07 -6.735993e+07  [440.311808607]\n",
       "17  1.280739    0.007216 -4.880347e+05 -4.871509e+05  [440.800322334]\n",
       "10  1.236755    0.004602 -5.641210e+05 -5.577552e+05  [440.869172694]\n",
       "19  1.025025    0.007179 -5.102439e+05 -5.245700e+05  [443.549196082]\n",
       "14  0.945345    0.006267 -4.933315e+05 -4.961956e+05  [444.422340044]\n",
       "13  0.578028    0.005893 -6.226106e+05 -5.772614e+05  [450.159783395]\n",
       "18  1.055078    0.007085 -5.321562e+05 -5.393082e+05  [457.698516917]\n",
       "5   2.065184    0.004410 -5.227231e+05 -5.236136e+05  [458.552584609]\n",
       "6   2.387449    0.004944 -5.375414e+05 -5.205732e+05  [466.482036893]\n",
       "22  0.856586    0.007885 -5.842666e+05 -5.584503e+05  [468.063924187]\n",
       "20  1.645856    0.007729 -5.615552e+05 -5.552028e+05  [473.145295525]\n",
       "9   1.971351    0.004834 -5.201325e+05 -5.436153e+05  [479.920170938]\n",
       "7   1.757929    0.006643 -5.344385e+05 -5.029201e+05  [481.961038953]\n",
       "11  2.465166    0.004845 -5.465890e+05 -5.369589e+05  [482.253719088]\n",
       "15  1.469381    0.005714 -5.296966e+05 -5.252584e+05  [482.656270945]\n",
       "8   1.429771    0.004859 -4.752820e+05 -4.762374e+05  [486.055782026]\n",
       "24  1.212043    0.009289 -5.083815e+05 -5.143503e+05  [488.324659674]\n",
       "16  1.246354    0.006764 -5.580121e+05 -5.666952e+05  [540.939325775]\n",
       "21  1.039775    0.007811 -5.649472e+05 -5.598144e+05  [546.086089534]\n",
       "21  0.511155    0.008559 -1.064558e+15 -1.064636e+15  [689.258735095]\n",
       "23  0.626880    0.009208 -8.002870e+15 -8.002594e+15  [1049.81499375]\n",
       "24  0.767057    0.010050 -7.089741e+08 -5.813234e+08  [1484.19148411]\n",
       "5   0.438107    0.005848 -1.262632e+09 -1.026992e+09  [1503.70948324]\n",
       "17  0.588499    0.011383 -2.942552e+10 -2.930666e+10  [2056.99147365]\n",
       "8   0.394231    0.006009 -1.399990e+09 -1.325657e+09  [2643.36357135]\n",
       "19  0.489140    0.011024 -3.622741e+09 -2.830663e+09   [2787.8995713]\n",
       "22  0.744884    0.009398 -5.858505e+12 -5.858260e+12    [2810.961922]\n",
       "11  0.393615    0.005834 -3.166577e+08 -2.295623e+08  [3178.99698621]\n",
       "14  0.475044    0.005971 -7.400431e+08 -9.414164e+08  [4919.66023169]\n",
       "9   0.498886    0.006749 -1.564122e+09 -1.454538e+09  [5721.62309486]\n",
       "15  0.546424    0.007696 -1.724612e+09 -1.779993e+09  [6139.56687892]\n",
       "7   0.507233    0.010873 -1.636315e+09 -1.423273e+09  [7965.33105641]\n",
       "6   0.891519    0.005029 -5.769367e+08 -1.167876e+09  [8126.08112772]\n",
       "4   0.382917    0.006250 -7.874016e+07 -6.573173e+07  [9798.63092236]\n",
       "1   6.643821    0.004632 -1.794285e+08 -1.673164e+08  [9937.73443703]\n",
       "2   3.769062    0.006112 -5.099338e+05 -5.386428e+05  [9938.34831224]\n",
       "0   3.024233    0.001478 -5.312178e+07 -5.334487e+07  [9955.67432645]\n",
       "3   1.018807    0.004401 -1.064352e+09 -1.007757e+09  [9970.71617813]\n",
       "10  0.406411    0.007149 -1.536463e+12 -1.530637e+12  [10149.2818387]\n",
       "12  0.387584    0.006981 -1.206105e+10 -1.228010e+10  [11996.6287823]\n",
       "18  0.770658    0.009802 -8.859672e+13 -8.859380e+13  [13061.5154868]\n",
       "13  0.473556    0.006459 -7.858814e+08 -1.136931e+09  [76466.1287969]\n",
       "20  0.499400    0.007946 -1.909431e+09 -1.819128e+09  [100722.818097]\n",
       "16  0.528607    0.006730 -8.186393e+08 -7.970575e+08  [116056476.913]"
      ]
     },
     "execution_count": 18,
     "metadata": {},
     "output_type": "execute_result"
    }
   ],
   "source": [
    "m.sort_values(by='MAPE')"
   ]
  },
  {
   "cell_type": "code",
   "execution_count": null,
   "metadata": {},
   "outputs": [],
   "source": []
  }
 ],
 "metadata": {
  "kernelspec": {
   "display_name": "Python 3",
   "language": "python",
   "name": "python3"
  },
  "language_info": {
   "codemirror_mode": {
    "name": "ipython",
    "version": 3
   },
   "file_extension": ".py",
   "mimetype": "text/x-python",
   "name": "python",
   "nbconvert_exporter": "python",
   "pygments_lexer": "ipython3",
   "version": "3.6.0"
  }
 },
 "nbformat": 4,
 "nbformat_minor": 2
}
