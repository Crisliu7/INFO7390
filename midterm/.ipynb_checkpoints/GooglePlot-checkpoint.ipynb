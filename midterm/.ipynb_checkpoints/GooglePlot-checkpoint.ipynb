{
 "cells": [
  {
   "cell_type": "code",
   "execution_count": 3,
   "metadata": {},
   "outputs": [],
   "source": [
    "import math\n",
    "import numpy as np\n",
    "import pandas as pd\n",
    "import matplotlib\n",
    "import matplotlib.pyplot as p\n",
    "from matplotlib import pyplot as plt\n",
    "from sklearn.neighbors import KDTree\n",
    "from scipy.stats.stats import pearsonr\n",
    "from scipy.stats import rankdata"
   ]
  },
  {
   "cell_type": "code",
   "execution_count": 4,
   "metadata": {},
   "outputs": [],
   "source": [
    "def get_pde(train,bw):\n",
    "    x = train['longitude'].values\n",
    "    y = train['latitude'].values\n",
    "    xy = np.vstack([x,y])\n",
    "    X = np.transpose(xy)\n",
    "    tree = KDTree(X,leaf_size = 20 )     \n",
    "    parcelDensity = tree.kernel_density(X, h=bw,kernel='gaussian',rtol=0.00001)\n",
    "    return parcelDensity"
   ]
  },
  {
   "cell_type": "code",
   "execution_count": 39,
   "metadata": {},
   "outputs": [],
   "source": [
    "lon = [-119.475416,-119.475265,-119.448392, -119.447944,\\\n",
    "       -119.447865, -119.447353, -119.44701, -119.446093, \\\n",
    "       -119.446994, -119.445901]\n",
    "lat = [34.374072,34.373735,34.365693,\\\n",
    "       34.365241999999995, 34.365292 , \\\n",
    "       34.365981, 34.364364,34.364076000000004,\\\n",
    "       34.363913000000004,34.363299]"
   ]
  },
  {
   "cell_type": "code",
   "execution_count": 19,
   "metadata": {},
   "outputs": [],
   "source": [
    "ts = pd.read_csv(\"./Data/features_inter.csv\")\n",
    "lon = ts['longitude']\n",
    "lat = ts['latitude']"
   ]
  },
  {
   "cell_type": "code",
   "execution_count": null,
   "metadata": {
    "scrolled": false
   },
   "outputs": [],
   "source": [
    "# tree = KDTree(lon,leaf_size = 20 )     \n",
    "# parcelDensity = tree.kernel_density(lon, h=bw,kernel='gaussian',rtol=0.00001)\n",
    "plt.figure(figsize=(14,14))\n",
    "plt.axis(\"off\")\n",
    "plt.title(\"Gaussian Parcel Density Estimate\")\n",
    "# plt.axis([-121, -117.5, 30, 35.5])\n",
    "plt.scatter(lon, lat, c='r',marker='o',cmap='inferno', s=30, alpha=0.5,edgecolor='')\n",
    "# plt.scatter(-119, 34.5, c='k',marker='x',cmap='inferno', s=30, alpha=0.5,edgecolor='')\n",
    "plt.show()"
   ]
  },
  {
   "cell_type": "code",
   "execution_count": null,
   "metadata": {},
   "outputs": [],
   "source": [
    "# train['longitude'].values -118\n",
    "# train['latitude'].values 35"
   ]
  }
 ],
 "metadata": {
  "kernelspec": {
   "display_name": "Python 3",
   "language": "python",
   "name": "python3"
  },
  "language_info": {
   "codemirror_mode": {
    "name": "ipython",
    "version": 3
   },
   "file_extension": ".py",
   "mimetype": "text/x-python",
   "name": "python",
   "nbconvert_exporter": "python",
   "pygments_lexer": "ipython3",
   "version": "3.6.0"
  }
 },
 "nbformat": 4,
 "nbformat_minor": 2
}
