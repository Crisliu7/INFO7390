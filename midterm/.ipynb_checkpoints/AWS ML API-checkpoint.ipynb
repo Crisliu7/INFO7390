{
 "cells": [
  {
   "cell_type": "code",
   "execution_count": null,
   "metadata": {},
   "outputs": [],
   "source": [
    "# Request Syntax\n",
    "{\n",
    "   \"MLModelId\": \"string\",\n",
    "   \"PredictEndpoint\": \"string\",\n",
    "   \"Record\": { \n",
    "      \"string\" : \"string\" \n",
    "   }\n",
    "}"
   ]
  },
  {
   "cell_type": "code",
   "execution_count": null,
   "metadata": {},
   "outputs": [],
   "source": [
    "# Request Parameters\n",
    "\n",
    "# For information about the parameters that are common to all actions, see Common Parameters.\n",
    "\n",
    "# The request accepts the following data in JSON format.\n",
    "\n",
    "# MLModelId\n",
    "# A unique identifier of the MLModel.\n",
    "\n",
    "# Type: String\n",
    "\n",
    "# Length Constraints: Minimum length of 1. Maximum length of 64.\n",
    "\n",
    "# Pattern: [a-zA-Z0-9_.-]+\n",
    "\n",
    "# Required: Yes\n",
    "\n",
    "# PredictEndpoint\n",
    "# Type: String\n",
    "\n",
    "# Required: Yes\n",
    "\n",
    "# Record\n",
    "# A map of variable name-value pairs that represent an observation.\n",
    "\n",
    "# Type: String to string map\n",
    "\n",
    "# Required: Yes"
   ]
  },
  {
   "cell_type": "code",
   "execution_count": 1,
   "metadata": {},
   "outputs": [
    {
     "ename": "SyntaxError",
     "evalue": "invalid syntax (<ipython-input-1-6b15aa0194cb>, line 2)",
     "output_type": "error",
     "traceback": [
      "\u001b[0;36m  File \u001b[0;32m\"<ipython-input-1-6b15aa0194cb>\"\u001b[0;36m, line \u001b[0;32m2\u001b[0m\n\u001b[0;31m    Host: <hostname from the GetMLModel response EndpointUrl object>\u001b[0m\n\u001b[0m          ^\u001b[0m\n\u001b[0;31mSyntaxError\u001b[0m\u001b[0;31m:\u001b[0m invalid syntax\n"
     ]
    }
   ],
   "source": [
    "POST / HTTP/1.1\n",
    "Host: <hostname from the GetMLModel response EndpointUrl object>\n",
    "x-amz-Date: <Date>\n",
    "Authorization: AWS4-HMAC-SHA256 Credential=<Credential>, SignedHeaders=contenttype;date;host;user-agent;x-amz-date;x-amz-target;x-amzn-requestid,Signature=<Signature>\n",
    "User-Agent: <UserAgentString>\n",
    "Content-Type: application/x-amz-json-1.1\n",
    "Content-Length: <PayloadSizeBytes>\n",
    "Connection: Keep-Alive\n",
    "X-Amz-Target: AmazonML_20141212.Predict\n",
    "{\"MLModelId\" : \"exampleMLModelId\",\n",
    " \"Record\" : {\n",
    "   \"ExampleData\" : \"exampleValue\"\n",
    " },\n",
    " \"PredictEndpoint\" : \"<realtime endpoint from Amazon Machine Learning for exampleMLModelId>\"\n",
    "}"
   ]
  }
 ],
 "metadata": {
  "kernelspec": {
   "display_name": "Python 3",
   "language": "python",
   "name": "python3"
  },
  "language_info": {
   "codemirror_mode": {
    "name": "ipython",
    "version": 3
   },
   "file_extension": ".py",
   "mimetype": "text/x-python",
   "name": "python",
   "nbconvert_exporter": "python",
   "pygments_lexer": "ipython3",
   "version": "3.6.0"
  }
 },
 "nbformat": 4,
 "nbformat_minor": 2
}
