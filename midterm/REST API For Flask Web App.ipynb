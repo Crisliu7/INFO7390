{
 "cells": [
  {
   "cell_type": "code",
   "execution_count": 2,
   "metadata": {},
   "outputs": [
    {
     "name": "stderr",
     "output_type": "stream",
     "text": [
      "/usr/local/lib/python3.6/site-packages/sklearn/cross_validation.py:41: DeprecationWarning: This module was deprecated in version 0.18 in favor of the model_selection module into which all the refactored classes and functions are moved. Also note that the interface of the new CV iterators are different from that of this module. This module will be removed in 0.20.\n",
      "  \"This module will be removed in 0.20.\", DeprecationWarning)\n"
     ]
    }
   ],
   "source": [
    "import pickle\n",
    "import requests\n",
    "import json\n",
    "import math\n",
    "import numpy as np\n",
    "import pandas as pd\n",
    "import matplotlib\n",
    "import matplotlib.pyplot as plt\n",
    "from sklearn import metrics\n",
    "from sklearn.model_selection import cross_validate\n",
    "from sklearn.cross_validation import train_test_split\n",
    "from sklearn.ensemble import RandomForestRegressor\n",
    "pd.set_option('display.max_columns', None)"
   ]
  },
  {
   "cell_type": "code",
   "execution_count": 12,
   "metadata": {},
   "outputs": [
    {
     "name": "stdout",
     "output_type": "stream",
     "text": [
      "(123818, 8)\n",
      "(123818, 1)\n",
      "(41273, 8)\n",
      "(41273, 1)\n"
     ]
    }
   ],
   "source": [
    "ts = pd.read_csv('./Data/features_inter.csv')\n",
    "X = ts.drop(['parcelid','logerror','Zestimate'], axis=1)\n",
    "y = ts[['Zestimate']]\n",
    "# Split data with 0.75\n",
    "X_train, X_test, y_train, y_test = train_test_split(X, y, random_state=1)\n",
    "print (X_train.shape)\n",
    "print (y_train.shape)\n",
    "print (X_test.shape)\n",
    "print (y_test.shape)"
   ]
  },
  {
   "cell_type": "code",
   "execution_count": 13,
   "metadata": {},
   "outputs": [
    {
     "name": "stderr",
     "output_type": "stream",
     "text": [
      "/Users/CJL-RMBP/Library/Python/3.6/lib/python/site-packages/ipykernel_launcher.py:2: DataConversionWarning: A column-vector y was passed when a 1d array was expected. Please change the shape of y to (n_samples,), for example using ravel().\n",
      "  \n"
     ]
    },
    {
     "data": {
      "text/plain": [
       "RandomForestRegressor(bootstrap=True, criterion='mse', max_depth=5,\n",
       "           max_features='auto', max_leaf_nodes=None,\n",
       "           min_impurity_decrease=0.0, min_impurity_split=None,\n",
       "           min_samples_leaf=1, min_samples_split=2,\n",
       "           min_weight_fraction_leaf=0.0, n_estimators=5, n_jobs=1,\n",
       "           oob_score=False, random_state=10, verbose=0, warm_start=False)"
      ]
     },
     "execution_count": 13,
     "metadata": {},
     "output_type": "execute_result"
    }
   ],
   "source": [
    "rf_best = RandomForestRegressor(n_estimators=5, criterion='mse', max_depth=5, random_state=10)\n",
    "rf_best.fit(X_train, y_train)"
   ]
  },
  {
   "cell_type": "code",
   "execution_count": 14,
   "metadata": {},
   "outputs": [
    {
     "data": {
      "text/plain": [
       "RandomForestRegressor(bootstrap=True, criterion='mse', max_depth=5,\n",
       "           max_features='auto', max_leaf_nodes=None,\n",
       "           min_impurity_decrease=0.0, min_impurity_split=None,\n",
       "           min_samples_leaf=1, min_samples_split=2,\n",
       "           min_weight_fraction_leaf=0.0, n_estimators=5, n_jobs=1,\n",
       "           oob_score=False, random_state=10, verbose=0, warm_start=False)"
      ]
     },
     "execution_count": 14,
     "metadata": {},
     "output_type": "execute_result"
    }
   ],
   "source": [
    "pickle.dump(rf_best, open('random_forest.pkl','wb'))\n",
    "my_rf = pickle.load(open('random_forest.pkl','rb'))\n",
    "my_rf"
   ]
  },
  {
   "cell_type": "code",
   "execution_count": 15,
   "metadata": {},
   "outputs": [
    {
     "data": {
      "text/html": [
       "<div>\n",
       "<style>\n",
       "    .dataframe thead tr:only-child th {\n",
       "        text-align: right;\n",
       "    }\n",
       "\n",
       "    .dataframe thead th {\n",
       "        text-align: left;\n",
       "    }\n",
       "\n",
       "    .dataframe tbody tr th {\n",
       "        vertical-align: top;\n",
       "    }\n",
       "</style>\n",
       "<table border=\"1\" class=\"dataframe\">\n",
       "  <thead>\n",
       "    <tr style=\"text-align: right;\">\n",
       "      <th></th>\n",
       "      <th>finishedsquarefeet12</th>\n",
       "      <th>lotsizesquarefeet</th>\n",
       "      <th>taxamount</th>\n",
       "      <th>longitude</th>\n",
       "      <th>latitude</th>\n",
       "      <th>regionidzip</th>\n",
       "      <th>yearbuilt</th>\n",
       "      <th>month</th>\n",
       "    </tr>\n",
       "  </thead>\n",
       "  <tbody>\n",
       "    <tr>\n",
       "      <th>0</th>\n",
       "      <td>1684.0</td>\n",
       "      <td>7528.0</td>\n",
       "      <td>6735.880000</td>\n",
       "      <td>-118.488536</td>\n",
       "      <td>34.280990</td>\n",
       "      <td>96370.0</td>\n",
       "      <td>1959.0</td>\n",
       "      <td>1</td>\n",
       "    </tr>\n",
       "    <tr>\n",
       "      <th>1</th>\n",
       "      <td>2263.0</td>\n",
       "      <td>3643.0</td>\n",
       "      <td>10153.020000</td>\n",
       "      <td>-117.677556</td>\n",
       "      <td>33.668120</td>\n",
       "      <td>96962.0</td>\n",
       "      <td>2014.0</td>\n",
       "      <td>1</td>\n",
       "    </tr>\n",
       "    <tr>\n",
       "      <th>2</th>\n",
       "      <td>2217.0</td>\n",
       "      <td>11423.0</td>\n",
       "      <td>5984.582647</td>\n",
       "      <td>-118.175032</td>\n",
       "      <td>34.136312</td>\n",
       "      <td>96293.0</td>\n",
       "      <td>1940.0</td>\n",
       "      <td>1</td>\n",
       "    </tr>\n",
       "    <tr>\n",
       "      <th>3</th>\n",
       "      <td>839.0</td>\n",
       "      <td>70859.0</td>\n",
       "      <td>3048.740000</td>\n",
       "      <td>-118.309000</td>\n",
       "      <td>33.755800</td>\n",
       "      <td>96222.0</td>\n",
       "      <td>1987.0</td>\n",
       "      <td>1</td>\n",
       "    </tr>\n",
       "    <tr>\n",
       "      <th>4</th>\n",
       "      <td>2283.0</td>\n",
       "      <td>6000.0</td>\n",
       "      <td>5488.960000</td>\n",
       "      <td>-117.700234</td>\n",
       "      <td>33.485643</td>\n",
       "      <td>96961.0</td>\n",
       "      <td>1981.0</td>\n",
       "      <td>1</td>\n",
       "    </tr>\n",
       "  </tbody>\n",
       "</table>\n",
       "</div>"
      ],
      "text/plain": [
       "   finishedsquarefeet12  lotsizesquarefeet     taxamount   longitude  \\\n",
       "0                1684.0             7528.0   6735.880000 -118.488536   \n",
       "1                2263.0             3643.0  10153.020000 -117.677556   \n",
       "2                2217.0            11423.0   5984.582647 -118.175032   \n",
       "3                 839.0            70859.0   3048.740000 -118.309000   \n",
       "4                2283.0             6000.0   5488.960000 -117.700234   \n",
       "\n",
       "    latitude  regionidzip  yearbuilt  month  \n",
       "0  34.280990      96370.0     1959.0      1  \n",
       "1  33.668120      96962.0     2014.0      1  \n",
       "2  34.136312      96293.0     1940.0      1  \n",
       "3  33.755800      96222.0     1987.0      1  \n",
       "4  33.485643      96961.0     1981.0      1  "
      ]
     },
     "execution_count": 15,
     "metadata": {},
     "output_type": "execute_result"
    }
   ],
   "source": [
    "X.head()"
   ]
  },
  {
   "cell_type": "code",
   "execution_count": 16,
   "metadata": {
    "scrolled": false
   },
   "outputs": [
    {
     "name": "stdout",
     "output_type": "stream",
     "text": [
      "{'results': [9057.474399972309]}\n"
     ]
    }
   ],
   "source": [
    "url = 'http://localhost:5000/api'\n",
    "data = json.dumps({'taxamount':5817,'longitude':-113.0,'latitude':33.0,\\\n",
    "                   'finishedsquarefeet12':5927,\\\n",
    "                   'lotsizesquarefeet':16028,'regionidzip':96293,\\\n",
    "                   'month':8,'yearbuilt':2013})\n",
    "\n",
    "r = requests.post(url, data)\n",
    "print(r.json())"
   ]
  },
  {
   "cell_type": "code",
   "execution_count": null,
   "metadata": {},
   "outputs": [],
   "source": [
    "\n"
   ]
  },
  {
   "cell_type": "code",
   "execution_count": null,
   "metadata": {},
   "outputs": [],
   "source": []
  },
  {
   "cell_type": "code",
   "execution_count": null,
   "metadata": {},
   "outputs": [],
   "source": []
  }
 ],
 "metadata": {
  "kernelspec": {
   "display_name": "Python 3",
   "language": "python",
   "name": "python3"
  },
  "language_info": {
   "codemirror_mode": {
    "name": "ipython",
    "version": 3
   },
   "file_extension": ".py",
   "mimetype": "text/x-python",
   "name": "python",
   "nbconvert_exporter": "python",
   "pygments_lexer": "ipython3",
   "version": "3.6.0"
  }
 },
 "nbformat": 4,
 "nbformat_minor": 2
}
